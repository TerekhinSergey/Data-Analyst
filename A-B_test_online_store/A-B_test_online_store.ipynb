{
 "cells": [
  {
   "cell_type": "markdown",
   "metadata": {},
   "source": [
    "# Тестирование гипотез по увеличению выручки интернет-магазина\n",
    "\n",
    "Мы занимаемся анализом в крупном интернет-магазине. Вместе с отделом маркетинга мы подготовили список гипотез для увеличения выручки. Наша задача — разобраться в причинах и помочь компании выйти в плюс.\n",
    "\n",
    "\n",
    "# Цель проекта.\n",
    "\n",
    "Приоритизировать гипотезы по увеличению выручки, запустить A/B-тест и проанализировать полученные результаты.\n",
    "\n",
    "\n",
    "# Задачи проекта.\n",
    "Во время исследования необходимо решить следующие задачи:\n",
    "\n",
    "1. Изучить исходные данные и провести их предобработку.\n",
    "2. Произвести приоритизацию гипотез.\n",
    "3. Построить и проанализировать графики кумулятивных выручки, среднего чека, конверсии по группам.\n",
    "4. Построить и проанализировать графики относительного изменения кумулятивных среднего чека и конверсии группы B к группе A.\n",
    "5. Определить аномальные количество и стоимость заказов пользователей.\n",
    "6. Посчитать статистическую значимость различий в среднем чеке и конверсии между группами по \"сырым\" и \"очищенным\" данным.\n",
    "7. Оценить результаты проведенного A/B-теста.\n",
    "\n",
    "\n",
    "# Описание данных.  \n",
    "\n",
    "<div style=\"border:solid black 1px; padding: 20px\">   \n",
    " \n",
    "Имеется несколько датафреймов со следующими данными:\n",
    "    \n",
    "Структура *hypothesis.csv*  \n",
    "    \n",
    "•\t`Hypothesis` — краткое описание гипотезы;  \n",
    "•\t`Reach` — охват пользователей по 10-балльной шкале;  \n",
    "•\t`Impact` — влияние на пользователей по 10-балльной шкале;  \n",
    "•\t`Confidence` — уверенность в гипотезе по 10-балльной шкале;  \n",
    "•\t`Efforts` — затраты ресурсов на проверку гипотезы по 10-балльной шкале. Чем больше значение Efforts, тем дороже проверка гипотезы.  \n",
    "    \n",
    "Структура *orders.csv*  \n",
    "    \n",
    "•\t`transactionId` — идентификатор заказа;  \n",
    "•\t`visitorId` — идентификатор пользователя, совершившего заказ;  \n",
    "•\t`date` — дата, когда был совершён заказ;  \n",
    "•\t`revenue` — выручка заказа;  \n",
    "•\t`group` — группа A/B-теста, в которую попал заказ.  \n",
    "    \n",
    "Структура *visitors.csv*  \n",
    "    \n",
    "•\t`date` — дата;  \n",
    "•\t`group` — группа A/B-теста;  \n",
    "•\t`visitors` — количество пользователей в указанную дату в указанной группе A/B-теста      "
   ]
  },
  {
   "cell_type": "markdown",
   "metadata": {},
   "source": [
    "## Импортируем библиотеки и изучим данные."
   ]
  },
  {
   "cell_type": "code",
   "execution_count": 1,
   "metadata": {},
   "outputs": [],
   "source": [
    "import pandas as pd\n",
    "import scipy.stats as stats\n",
    "import datetime as dt\n",
    "from matplotlib import pyplot as plt\n",
    "from pandas.plotting import register_matplotlib_converters\n",
    "register_matplotlib_converters()\n",
    "pd.set_option(\"display.precision\", 2)\n",
    "pd.options.display.max_colwidth = 150"
   ]
  },
  {
   "cell_type": "code",
   "execution_count": 2,
   "metadata": {},
   "outputs": [],
   "source": [
    "path = 'C:\\\\Users\\\\User\\\\Documents\\\\Python Scripts\\\\Проект 8\\\\'\n",
    "try:\n",
    "    hypothesis, orders, visitors = (\n",
    "    pd.read_csv('https://code.s3.yandex.net/datasets/hypothesis.csv'),  # гипотезы\n",
    "    pd.read_csv('https://code.s3.yandex.net/datasets/orders.csv'),  # покупки\n",
    "    pd.read_csv('https://code.s3.yandex.net/datasets/visitors.csv')  # посетители\n",
    "    )\n",
    "except:\n",
    "    hypothesis, orders, visitors = (\n",
    "    pd.read_csv(path + 'hypothesis.csv'), # гипотезы \n",
    "    pd.read_csv(path + 'orders.csv'),     # покупки\n",
    "    pd.read_csv(path + 'visitors.csv')    # посетители\n",
    "    )"
   ]
  },
  {
   "cell_type": "code",
   "execution_count": 3,
   "metadata": {},
   "outputs": [],
   "source": [
    "NORM = '\\033[0m'  # все атрибуты по умолчанию\n",
    "BOLD = '\\033[1m'  # жирный шрифт (интенсивный цвет)\n",
    "\n",
    "#Напишем функцию для вывода основной информации о ДФ.\n",
    "df_list = [hypothesis, orders, visitors]\n",
    "[hypothesis.name, orders.name, visitors.name] = (\n",
    "    ['Информация о гипотезах', 'Информация о покупках', 'Информация о посещениях'])\n",
    "def full_info(df_list):\n",
    "    for df in df_list:\n",
    "        print(BOLD+df.name)\n",
    "        if len(df.index) > 10:\n",
    "            print(BOLD+'\\n Случайная выборка 10 строк датафрейма:')\n",
    "            display (df.sample(n=10, random_state=10))\n",
    "        else:\n",
    "            print(BOLD+'\\n Первые 10 строк датафрейма:')\n",
    "            display (df.head(10))\n",
    "        print(BOLD+'\\n Типы данных и общая информация: \\n'+NORM)\n",
    "        display(df.info())\n",
    "        print(BOLD+' Наличие дубликатов: '+NORM, df.duplicated().sum())\n",
    "        print(BOLD+'\\n Наличие пропусков: \\n'+NORM)\n",
    "        display(df.isna().sum())\n",
    "        print(BOLD+'\\n Статистики количественных переменных :')\n",
    "        display(df.describe())\n",
    "    return"
   ]
  },
  {
   "cell_type": "code",
   "execution_count": 4,
   "metadata": {},
   "outputs": [
    {
     "name": "stdout",
     "output_type": "stream",
     "text": [
      "\u001b[1mИнформация о гипотезах\n",
      "\u001b[1m\n",
      " Первые 10 строк датафрейма:\n"
     ]
    },
    {
     "data": {
      "text/html": [
       "<div>\n",
       "<style scoped>\n",
       "    .dataframe tbody tr th:only-of-type {\n",
       "        vertical-align: middle;\n",
       "    }\n",
       "\n",
       "    .dataframe tbody tr th {\n",
       "        vertical-align: top;\n",
       "    }\n",
       "\n",
       "    .dataframe thead th {\n",
       "        text-align: right;\n",
       "    }\n",
       "</style>\n",
       "<table border=\"1\" class=\"dataframe\">\n",
       "  <thead>\n",
       "    <tr style=\"text-align: right;\">\n",
       "      <th></th>\n",
       "      <th>Hypothesis</th>\n",
       "      <th>Reach</th>\n",
       "      <th>Impact</th>\n",
       "      <th>Confidence</th>\n",
       "      <th>Efforts</th>\n",
       "    </tr>\n",
       "  </thead>\n",
       "  <tbody>\n",
       "    <tr>\n",
       "      <th>0</th>\n",
       "      <td>Добавить два новых канала привлечения трафика, что позволит привлекать на 30% больше пользователей</td>\n",
       "      <td>3</td>\n",
       "      <td>10</td>\n",
       "      <td>8</td>\n",
       "      <td>6</td>\n",
       "    </tr>\n",
       "    <tr>\n",
       "      <th>1</th>\n",
       "      <td>Запустить собственную службу доставки, что сократит срок доставки заказов</td>\n",
       "      <td>2</td>\n",
       "      <td>5</td>\n",
       "      <td>4</td>\n",
       "      <td>10</td>\n",
       "    </tr>\n",
       "    <tr>\n",
       "      <th>2</th>\n",
       "      <td>Добавить блоки рекомендаций товаров на сайт интернет магазина, чтобы повысить конверсию и средний чек заказа</td>\n",
       "      <td>8</td>\n",
       "      <td>3</td>\n",
       "      <td>7</td>\n",
       "      <td>3</td>\n",
       "    </tr>\n",
       "    <tr>\n",
       "      <th>3</th>\n",
       "      <td>Изменить структура категорий, что увеличит конверсию, т.к. пользователи быстрее найдут нужный товар</td>\n",
       "      <td>8</td>\n",
       "      <td>3</td>\n",
       "      <td>3</td>\n",
       "      <td>8</td>\n",
       "    </tr>\n",
       "    <tr>\n",
       "      <th>4</th>\n",
       "      <td>Изменить цвет фона главной страницы, чтобы увеличить вовлеченность пользователей</td>\n",
       "      <td>3</td>\n",
       "      <td>1</td>\n",
       "      <td>1</td>\n",
       "      <td>1</td>\n",
       "    </tr>\n",
       "    <tr>\n",
       "      <th>5</th>\n",
       "      <td>Добавить страницу отзывов клиентов о магазине, что позволит увеличить количество заказов</td>\n",
       "      <td>3</td>\n",
       "      <td>2</td>\n",
       "      <td>2</td>\n",
       "      <td>3</td>\n",
       "    </tr>\n",
       "    <tr>\n",
       "      <th>6</th>\n",
       "      <td>Показать на главной странице баннеры с актуальными акциями и распродажами, чтобы увеличить конверсию</td>\n",
       "      <td>5</td>\n",
       "      <td>3</td>\n",
       "      <td>8</td>\n",
       "      <td>3</td>\n",
       "    </tr>\n",
       "    <tr>\n",
       "      <th>7</th>\n",
       "      <td>Добавить форму подписки на все основные страницы, чтобы собрать базу клиентов для email-рассылок</td>\n",
       "      <td>10</td>\n",
       "      <td>7</td>\n",
       "      <td>8</td>\n",
       "      <td>5</td>\n",
       "    </tr>\n",
       "    <tr>\n",
       "      <th>8</th>\n",
       "      <td>Запустить акцию, дающую скидку на товар в день рождения</td>\n",
       "      <td>1</td>\n",
       "      <td>9</td>\n",
       "      <td>9</td>\n",
       "      <td>5</td>\n",
       "    </tr>\n",
       "  </tbody>\n",
       "</table>\n",
       "</div>"
      ],
      "text/plain": [
       "                                                                                                     Hypothesis  \\\n",
       "0            Добавить два новых канала привлечения трафика, что позволит привлекать на 30% больше пользователей   \n",
       "1                                     Запустить собственную службу доставки, что сократит срок доставки заказов   \n",
       "2  Добавить блоки рекомендаций товаров на сайт интернет магазина, чтобы повысить конверсию и средний чек заказа   \n",
       "3           Изменить структура категорий, что увеличит конверсию, т.к. пользователи быстрее найдут нужный товар   \n",
       "4                              Изменить цвет фона главной страницы, чтобы увеличить вовлеченность пользователей   \n",
       "5                      Добавить страницу отзывов клиентов о магазине, что позволит увеличить количество заказов   \n",
       "6          Показать на главной странице баннеры с актуальными акциями и распродажами, чтобы увеличить конверсию   \n",
       "7              Добавить форму подписки на все основные страницы, чтобы собрать базу клиентов для email-рассылок   \n",
       "8                                                       Запустить акцию, дающую скидку на товар в день рождения   \n",
       "\n",
       "   Reach  Impact  Confidence  Efforts  \n",
       "0      3      10           8        6  \n",
       "1      2       5           4       10  \n",
       "2      8       3           7        3  \n",
       "3      8       3           3        8  \n",
       "4      3       1           1        1  \n",
       "5      3       2           2        3  \n",
       "6      5       3           8        3  \n",
       "7     10       7           8        5  \n",
       "8      1       9           9        5  "
      ]
     },
     "metadata": {},
     "output_type": "display_data"
    },
    {
     "name": "stdout",
     "output_type": "stream",
     "text": [
      "\u001b[1m\n",
      " Типы данных и общая информация: \n",
      "\u001b[0m\n",
      "<class 'pandas.core.frame.DataFrame'>\n",
      "RangeIndex: 9 entries, 0 to 8\n",
      "Data columns (total 5 columns):\n",
      " #   Column      Non-Null Count  Dtype \n",
      "---  ------      --------------  ----- \n",
      " 0   Hypothesis  9 non-null      object\n",
      " 1   Reach       9 non-null      int64 \n",
      " 2   Impact      9 non-null      int64 \n",
      " 3   Confidence  9 non-null      int64 \n",
      " 4   Efforts     9 non-null      int64 \n",
      "dtypes: int64(4), object(1)\n",
      "memory usage: 488.0+ bytes\n"
     ]
    },
    {
     "data": {
      "text/plain": [
       "None"
      ]
     },
     "metadata": {},
     "output_type": "display_data"
    },
    {
     "name": "stdout",
     "output_type": "stream",
     "text": [
      "\u001b[1m Наличие дубликатов: \u001b[0m 0\n",
      "\u001b[1m\n",
      " Наличие пропусков: \n",
      "\u001b[0m\n"
     ]
    },
    {
     "data": {
      "text/plain": [
       "Hypothesis    0\n",
       "Reach         0\n",
       "Impact        0\n",
       "Confidence    0\n",
       "Efforts       0\n",
       "dtype: int64"
      ]
     },
     "metadata": {},
     "output_type": "display_data"
    },
    {
     "name": "stdout",
     "output_type": "stream",
     "text": [
      "\u001b[1m\n",
      " Статистики количественных переменных :\n"
     ]
    },
    {
     "data": {
      "text/html": [
       "<div>\n",
       "<style scoped>\n",
       "    .dataframe tbody tr th:only-of-type {\n",
       "        vertical-align: middle;\n",
       "    }\n",
       "\n",
       "    .dataframe tbody tr th {\n",
       "        vertical-align: top;\n",
       "    }\n",
       "\n",
       "    .dataframe thead th {\n",
       "        text-align: right;\n",
       "    }\n",
       "</style>\n",
       "<table border=\"1\" class=\"dataframe\">\n",
       "  <thead>\n",
       "    <tr style=\"text-align: right;\">\n",
       "      <th></th>\n",
       "      <th>Reach</th>\n",
       "      <th>Impact</th>\n",
       "      <th>Confidence</th>\n",
       "      <th>Efforts</th>\n",
       "    </tr>\n",
       "  </thead>\n",
       "  <tbody>\n",
       "    <tr>\n",
       "      <th>count</th>\n",
       "      <td>9.00</td>\n",
       "      <td>9.00</td>\n",
       "      <td>9.00</td>\n",
       "      <td>9.00</td>\n",
       "    </tr>\n",
       "    <tr>\n",
       "      <th>mean</th>\n",
       "      <td>4.78</td>\n",
       "      <td>4.78</td>\n",
       "      <td>5.56</td>\n",
       "      <td>4.89</td>\n",
       "    </tr>\n",
       "    <tr>\n",
       "      <th>std</th>\n",
       "      <td>3.15</td>\n",
       "      <td>3.19</td>\n",
       "      <td>3.05</td>\n",
       "      <td>2.80</td>\n",
       "    </tr>\n",
       "    <tr>\n",
       "      <th>min</th>\n",
       "      <td>1.00</td>\n",
       "      <td>1.00</td>\n",
       "      <td>1.00</td>\n",
       "      <td>1.00</td>\n",
       "    </tr>\n",
       "    <tr>\n",
       "      <th>25%</th>\n",
       "      <td>3.00</td>\n",
       "      <td>3.00</td>\n",
       "      <td>3.00</td>\n",
       "      <td>3.00</td>\n",
       "    </tr>\n",
       "    <tr>\n",
       "      <th>50%</th>\n",
       "      <td>3.00</td>\n",
       "      <td>3.00</td>\n",
       "      <td>7.00</td>\n",
       "      <td>5.00</td>\n",
       "    </tr>\n",
       "    <tr>\n",
       "      <th>75%</th>\n",
       "      <td>8.00</td>\n",
       "      <td>7.00</td>\n",
       "      <td>8.00</td>\n",
       "      <td>6.00</td>\n",
       "    </tr>\n",
       "    <tr>\n",
       "      <th>max</th>\n",
       "      <td>10.00</td>\n",
       "      <td>10.00</td>\n",
       "      <td>9.00</td>\n",
       "      <td>10.00</td>\n",
       "    </tr>\n",
       "  </tbody>\n",
       "</table>\n",
       "</div>"
      ],
      "text/plain": [
       "       Reach  Impact  Confidence  Efforts\n",
       "count   9.00    9.00        9.00     9.00\n",
       "mean    4.78    4.78        5.56     4.89\n",
       "std     3.15    3.19        3.05     2.80\n",
       "min     1.00    1.00        1.00     1.00\n",
       "25%     3.00    3.00        3.00     3.00\n",
       "50%     3.00    3.00        7.00     5.00\n",
       "75%     8.00    7.00        8.00     6.00\n",
       "max    10.00   10.00        9.00    10.00"
      ]
     },
     "metadata": {},
     "output_type": "display_data"
    },
    {
     "name": "stdout",
     "output_type": "stream",
     "text": [
      "\u001b[1mИнформация о покупках\n",
      "\u001b[1m\n",
      " Случайная выборка 10 строк датафрейма:\n"
     ]
    },
    {
     "data": {
      "text/html": [
       "<div>\n",
       "<style scoped>\n",
       "    .dataframe tbody tr th:only-of-type {\n",
       "        vertical-align: middle;\n",
       "    }\n",
       "\n",
       "    .dataframe tbody tr th {\n",
       "        vertical-align: top;\n",
       "    }\n",
       "\n",
       "    .dataframe thead th {\n",
       "        text-align: right;\n",
       "    }\n",
       "</style>\n",
       "<table border=\"1\" class=\"dataframe\">\n",
       "  <thead>\n",
       "    <tr style=\"text-align: right;\">\n",
       "      <th></th>\n",
       "      <th>transactionId</th>\n",
       "      <th>visitorId</th>\n",
       "      <th>date</th>\n",
       "      <th>revenue</th>\n",
       "      <th>group</th>\n",
       "    </tr>\n",
       "  </thead>\n",
       "  <tbody>\n",
       "    <tr>\n",
       "      <th>123</th>\n",
       "      <td>3268937183</td>\n",
       "      <td>3722682546</td>\n",
       "      <td>2019-08-22</td>\n",
       "      <td>1450</td>\n",
       "      <td>A</td>\n",
       "    </tr>\n",
       "    <tr>\n",
       "      <th>1117</th>\n",
       "      <td>3003595335</td>\n",
       "      <td>1810540789</td>\n",
       "      <td>2019-08-13</td>\n",
       "      <td>11565</td>\n",
       "      <td>B</td>\n",
       "    </tr>\n",
       "    <tr>\n",
       "      <th>508</th>\n",
       "      <td>2012347492</td>\n",
       "      <td>2572275626</td>\n",
       "      <td>2019-08-06</td>\n",
       "      <td>5350</td>\n",
       "      <td>B</td>\n",
       "    </tr>\n",
       "    <tr>\n",
       "      <th>491</th>\n",
       "      <td>298049448</td>\n",
       "      <td>3013339133</td>\n",
       "      <td>2019-08-26</td>\n",
       "      <td>2722</td>\n",
       "      <td>B</td>\n",
       "    </tr>\n",
       "    <tr>\n",
       "      <th>807</th>\n",
       "      <td>2740953457</td>\n",
       "      <td>3102053760</td>\n",
       "      <td>2019-08-05</td>\n",
       "      <td>990</td>\n",
       "      <td>A</td>\n",
       "    </tr>\n",
       "    <tr>\n",
       "      <th>507</th>\n",
       "      <td>4067849009</td>\n",
       "      <td>2108163459</td>\n",
       "      <td>2019-08-06</td>\n",
       "      <td>580</td>\n",
       "      <td>A</td>\n",
       "    </tr>\n",
       "    <tr>\n",
       "      <th>482</th>\n",
       "      <td>1715714627</td>\n",
       "      <td>495712671</td>\n",
       "      <td>2019-08-06</td>\n",
       "      <td>1790</td>\n",
       "      <td>A</td>\n",
       "    </tr>\n",
       "    <tr>\n",
       "      <th>67</th>\n",
       "      <td>459227648</td>\n",
       "      <td>2578486380</td>\n",
       "      <td>2019-08-16</td>\n",
       "      <td>2540</td>\n",
       "      <td>B</td>\n",
       "    </tr>\n",
       "    <tr>\n",
       "      <th>378</th>\n",
       "      <td>1964998089</td>\n",
       "      <td>2618159035</td>\n",
       "      <td>2019-08-25</td>\n",
       "      <td>5415</td>\n",
       "      <td>A</td>\n",
       "    </tr>\n",
       "    <tr>\n",
       "      <th>264</th>\n",
       "      <td>3795138501</td>\n",
       "      <td>887812064</td>\n",
       "      <td>2019-08-18</td>\n",
       "      <td>170</td>\n",
       "      <td>A</td>\n",
       "    </tr>\n",
       "  </tbody>\n",
       "</table>\n",
       "</div>"
      ],
      "text/plain": [
       "      transactionId   visitorId        date  revenue group\n",
       "123      3268937183  3722682546  2019-08-22     1450     A\n",
       "1117     3003595335  1810540789  2019-08-13    11565     B\n",
       "508      2012347492  2572275626  2019-08-06     5350     B\n",
       "491       298049448  3013339133  2019-08-26     2722     B\n",
       "807      2740953457  3102053760  2019-08-05      990     A\n",
       "507      4067849009  2108163459  2019-08-06      580     A\n",
       "482      1715714627   495712671  2019-08-06     1790     A\n",
       "67        459227648  2578486380  2019-08-16     2540     B\n",
       "378      1964998089  2618159035  2019-08-25     5415     A\n",
       "264      3795138501   887812064  2019-08-18      170     A"
      ]
     },
     "metadata": {},
     "output_type": "display_data"
    },
    {
     "name": "stdout",
     "output_type": "stream",
     "text": [
      "\u001b[1m\n",
      " Типы данных и общая информация: \n",
      "\u001b[0m\n",
      "<class 'pandas.core.frame.DataFrame'>\n",
      "RangeIndex: 1197 entries, 0 to 1196\n",
      "Data columns (total 5 columns):\n",
      " #   Column         Non-Null Count  Dtype \n",
      "---  ------         --------------  ----- \n",
      " 0   transactionId  1197 non-null   int64 \n",
      " 1   visitorId      1197 non-null   int64 \n",
      " 2   date           1197 non-null   object\n",
      " 3   revenue        1197 non-null   int64 \n",
      " 4   group          1197 non-null   object\n",
      "dtypes: int64(3), object(2)\n",
      "memory usage: 46.9+ KB\n"
     ]
    },
    {
     "data": {
      "text/plain": [
       "None"
      ]
     },
     "metadata": {},
     "output_type": "display_data"
    },
    {
     "name": "stdout",
     "output_type": "stream",
     "text": [
      "\u001b[1m Наличие дубликатов: \u001b[0m 0\n",
      "\u001b[1m\n",
      " Наличие пропусков: \n",
      "\u001b[0m\n"
     ]
    },
    {
     "data": {
      "text/plain": [
       "transactionId    0\n",
       "visitorId        0\n",
       "date             0\n",
       "revenue          0\n",
       "group            0\n",
       "dtype: int64"
      ]
     },
     "metadata": {},
     "output_type": "display_data"
    },
    {
     "name": "stdout",
     "output_type": "stream",
     "text": [
      "\u001b[1m\n",
      " Статистики количественных переменных :\n"
     ]
    },
    {
     "data": {
      "text/html": [
       "<div>\n",
       "<style scoped>\n",
       "    .dataframe tbody tr th:only-of-type {\n",
       "        vertical-align: middle;\n",
       "    }\n",
       "\n",
       "    .dataframe tbody tr th {\n",
       "        vertical-align: top;\n",
       "    }\n",
       "\n",
       "    .dataframe thead th {\n",
       "        text-align: right;\n",
       "    }\n",
       "</style>\n",
       "<table border=\"1\" class=\"dataframe\">\n",
       "  <thead>\n",
       "    <tr style=\"text-align: right;\">\n",
       "      <th></th>\n",
       "      <th>transactionId</th>\n",
       "      <th>visitorId</th>\n",
       "      <th>revenue</th>\n",
       "    </tr>\n",
       "  </thead>\n",
       "  <tbody>\n",
       "    <tr>\n",
       "      <th>count</th>\n",
       "      <td>1.20e+03</td>\n",
       "      <td>1.20e+03</td>\n",
       "      <td>1.20e+03</td>\n",
       "    </tr>\n",
       "    <tr>\n",
       "      <th>mean</th>\n",
       "      <td>2.16e+09</td>\n",
       "      <td>2.17e+09</td>\n",
       "      <td>8.35e+03</td>\n",
       "    </tr>\n",
       "    <tr>\n",
       "      <th>std</th>\n",
       "      <td>1.23e+09</td>\n",
       "      <td>1.24e+09</td>\n",
       "      <td>3.92e+04</td>\n",
       "    </tr>\n",
       "    <tr>\n",
       "      <th>min</th>\n",
       "      <td>1.06e+06</td>\n",
       "      <td>5.11e+06</td>\n",
       "      <td>5.00e+01</td>\n",
       "    </tr>\n",
       "    <tr>\n",
       "      <th>25%</th>\n",
       "      <td>1.17e+09</td>\n",
       "      <td>1.11e+09</td>\n",
       "      <td>1.22e+03</td>\n",
       "    </tr>\n",
       "    <tr>\n",
       "      <th>50%</th>\n",
       "      <td>2.15e+09</td>\n",
       "      <td>2.22e+09</td>\n",
       "      <td>2.98e+03</td>\n",
       "    </tr>\n",
       "    <tr>\n",
       "      <th>75%</th>\n",
       "      <td>3.24e+09</td>\n",
       "      <td>3.18e+09</td>\n",
       "      <td>8.29e+03</td>\n",
       "    </tr>\n",
       "    <tr>\n",
       "      <th>max</th>\n",
       "      <td>4.29e+09</td>\n",
       "      <td>4.28e+09</td>\n",
       "      <td>1.29e+06</td>\n",
       "    </tr>\n",
       "  </tbody>\n",
       "</table>\n",
       "</div>"
      ],
      "text/plain": [
       "       transactionId  visitorId   revenue\n",
       "count       1.20e+03   1.20e+03  1.20e+03\n",
       "mean        2.16e+09   2.17e+09  8.35e+03\n",
       "std         1.23e+09   1.24e+09  3.92e+04\n",
       "min         1.06e+06   5.11e+06  5.00e+01\n",
       "25%         1.17e+09   1.11e+09  1.22e+03\n",
       "50%         2.15e+09   2.22e+09  2.98e+03\n",
       "75%         3.24e+09   3.18e+09  8.29e+03\n",
       "max         4.29e+09   4.28e+09  1.29e+06"
      ]
     },
     "metadata": {},
     "output_type": "display_data"
    },
    {
     "name": "stdout",
     "output_type": "stream",
     "text": [
      "\u001b[1mИнформация о посещениях\n",
      "\u001b[1m\n",
      " Случайная выборка 10 строк датафрейма:\n"
     ]
    },
    {
     "data": {
      "text/html": [
       "<div>\n",
       "<style scoped>\n",
       "    .dataframe tbody tr th:only-of-type {\n",
       "        vertical-align: middle;\n",
       "    }\n",
       "\n",
       "    .dataframe tbody tr th {\n",
       "        vertical-align: top;\n",
       "    }\n",
       "\n",
       "    .dataframe thead th {\n",
       "        text-align: right;\n",
       "    }\n",
       "</style>\n",
       "<table border=\"1\" class=\"dataframe\">\n",
       "  <thead>\n",
       "    <tr style=\"text-align: right;\">\n",
       "      <th></th>\n",
       "      <th>date</th>\n",
       "      <th>group</th>\n",
       "      <th>visitors</th>\n",
       "    </tr>\n",
       "  </thead>\n",
       "  <tbody>\n",
       "    <tr>\n",
       "      <th>20</th>\n",
       "      <td>2019-08-21</td>\n",
       "      <td>A</td>\n",
       "      <td>646</td>\n",
       "    </tr>\n",
       "    <tr>\n",
       "      <th>2</th>\n",
       "      <td>2019-08-03</td>\n",
       "      <td>A</td>\n",
       "      <td>507</td>\n",
       "    </tr>\n",
       "    <tr>\n",
       "      <th>31</th>\n",
       "      <td>2019-08-01</td>\n",
       "      <td>B</td>\n",
       "      <td>713</td>\n",
       "    </tr>\n",
       "    <tr>\n",
       "      <th>3</th>\n",
       "      <td>2019-08-04</td>\n",
       "      <td>A</td>\n",
       "      <td>717</td>\n",
       "    </tr>\n",
       "    <tr>\n",
       "      <th>6</th>\n",
       "      <td>2019-08-07</td>\n",
       "      <td>A</td>\n",
       "      <td>644</td>\n",
       "    </tr>\n",
       "    <tr>\n",
       "      <th>35</th>\n",
       "      <td>2019-08-05</td>\n",
       "      <td>B</td>\n",
       "      <td>707</td>\n",
       "    </tr>\n",
       "    <tr>\n",
       "      <th>19</th>\n",
       "      <td>2019-08-20</td>\n",
       "      <td>A</td>\n",
       "      <td>575</td>\n",
       "    </tr>\n",
       "    <tr>\n",
       "      <th>41</th>\n",
       "      <td>2019-08-11</td>\n",
       "      <td>B</td>\n",
       "      <td>721</td>\n",
       "    </tr>\n",
       "    <tr>\n",
       "      <th>53</th>\n",
       "      <td>2019-08-23</td>\n",
       "      <td>B</td>\n",
       "      <td>546</td>\n",
       "    </tr>\n",
       "    <tr>\n",
       "      <th>26</th>\n",
       "      <td>2019-08-27</td>\n",
       "      <td>A</td>\n",
       "      <td>711</td>\n",
       "    </tr>\n",
       "  </tbody>\n",
       "</table>\n",
       "</div>"
      ],
      "text/plain": [
       "          date group  visitors\n",
       "20  2019-08-21     A       646\n",
       "2   2019-08-03     A       507\n",
       "31  2019-08-01     B       713\n",
       "3   2019-08-04     A       717\n",
       "6   2019-08-07     A       644\n",
       "35  2019-08-05     B       707\n",
       "19  2019-08-20     A       575\n",
       "41  2019-08-11     B       721\n",
       "53  2019-08-23     B       546\n",
       "26  2019-08-27     A       711"
      ]
     },
     "metadata": {},
     "output_type": "display_data"
    },
    {
     "name": "stdout",
     "output_type": "stream",
     "text": [
      "\u001b[1m\n",
      " Типы данных и общая информация: \n",
      "\u001b[0m\n",
      "<class 'pandas.core.frame.DataFrame'>\n",
      "RangeIndex: 62 entries, 0 to 61\n",
      "Data columns (total 3 columns):\n",
      " #   Column    Non-Null Count  Dtype \n",
      "---  ------    --------------  ----- \n",
      " 0   date      62 non-null     object\n",
      " 1   group     62 non-null     object\n",
      " 2   visitors  62 non-null     int64 \n",
      "dtypes: int64(1), object(2)\n",
      "memory usage: 1.6+ KB\n"
     ]
    },
    {
     "data": {
      "text/plain": [
       "None"
      ]
     },
     "metadata": {},
     "output_type": "display_data"
    },
    {
     "name": "stdout",
     "output_type": "stream",
     "text": [
      "\u001b[1m Наличие дубликатов: \u001b[0m 0\n",
      "\u001b[1m\n",
      " Наличие пропусков: \n",
      "\u001b[0m\n"
     ]
    },
    {
     "data": {
      "text/plain": [
       "date        0\n",
       "group       0\n",
       "visitors    0\n",
       "dtype: int64"
      ]
     },
     "metadata": {},
     "output_type": "display_data"
    },
    {
     "name": "stdout",
     "output_type": "stream",
     "text": [
      "\u001b[1m\n",
      " Статистики количественных переменных :\n"
     ]
    },
    {
     "data": {
      "text/html": [
       "<div>\n",
       "<style scoped>\n",
       "    .dataframe tbody tr th:only-of-type {\n",
       "        vertical-align: middle;\n",
       "    }\n",
       "\n",
       "    .dataframe tbody tr th {\n",
       "        vertical-align: top;\n",
       "    }\n",
       "\n",
       "    .dataframe thead th {\n",
       "        text-align: right;\n",
       "    }\n",
       "</style>\n",
       "<table border=\"1\" class=\"dataframe\">\n",
       "  <thead>\n",
       "    <tr style=\"text-align: right;\">\n",
       "      <th></th>\n",
       "      <th>visitors</th>\n",
       "    </tr>\n",
       "  </thead>\n",
       "  <tbody>\n",
       "    <tr>\n",
       "      <th>count</th>\n",
       "      <td>62.00</td>\n",
       "    </tr>\n",
       "    <tr>\n",
       "      <th>mean</th>\n",
       "      <td>607.29</td>\n",
       "    </tr>\n",
       "    <tr>\n",
       "      <th>std</th>\n",
       "      <td>114.40</td>\n",
       "    </tr>\n",
       "    <tr>\n",
       "      <th>min</th>\n",
       "      <td>361.00</td>\n",
       "    </tr>\n",
       "    <tr>\n",
       "      <th>25%</th>\n",
       "      <td>534.00</td>\n",
       "    </tr>\n",
       "    <tr>\n",
       "      <th>50%</th>\n",
       "      <td>624.50</td>\n",
       "    </tr>\n",
       "    <tr>\n",
       "      <th>75%</th>\n",
       "      <td>710.50</td>\n",
       "    </tr>\n",
       "    <tr>\n",
       "      <th>max</th>\n",
       "      <td>770.00</td>\n",
       "    </tr>\n",
       "  </tbody>\n",
       "</table>\n",
       "</div>"
      ],
      "text/plain": [
       "       visitors\n",
       "count     62.00\n",
       "mean     607.29\n",
       "std      114.40\n",
       "min      361.00\n",
       "25%      534.00\n",
       "50%      624.50\n",
       "75%      710.50\n",
       "max      770.00"
      ]
     },
     "metadata": {},
     "output_type": "display_data"
    }
   ],
   "source": [
    "full_info(df_list)"
   ]
  },
  {
   "cell_type": "markdown",
   "metadata": {},
   "source": [
    "Аномальных значений и пропусков в данных не наблюдается. Для дальнейшего удобства и поддержания стиля только поменяем названия столбцов во всех ДФ, а так же приведем даты из строковых во временные."
   ]
  },
  {
   "cell_type": "code",
   "execution_count": 5,
   "metadata": {},
   "outputs": [],
   "source": [
    "hypothesis.columns = hypothesis.columns.str.lower()\n",
    "orders = orders.rename(columns = {'visitorId': 'visitor_id', 'transactionId': 'transaction_id'}) \n",
    "\n",
    "#Преобразование данных о времени\n",
    "\n",
    "visitors['date'] = visitors['date'].map(\n",
    "    lambda x: dt.datetime.strptime(x, '%Y-%m-%d')\n",
    ")\n",
    "\n",
    "orders['date'] = orders['date'].map(\n",
    "    lambda x: dt.datetime.strptime(x, '%Y-%m-%d')\n",
    ")"
   ]
  },
  {
   "cell_type": "markdown",
   "metadata": {},
   "source": [
    "Дополнительно проверим, корректно ли у нас проводился A/B-тест. Для этого он должен проходить по следующим параметрам:\n",
    "- количество пользователей, попавших в различные группы, должно отличаться не более, чем на 0.5%;\n",
    "- каждый посетитель, попавший в одну из групп теста, остаётся в этой группе до конца теста. "
   ]
  },
  {
   "cell_type": "code",
   "execution_count": 6,
   "metadata": {
    "scrolled": true
   },
   "outputs": [
    {
     "data": {
      "text/html": [
       "<div>\n",
       "<style scoped>\n",
       "    .dataframe tbody tr th:only-of-type {\n",
       "        vertical-align: middle;\n",
       "    }\n",
       "\n",
       "    .dataframe tbody tr th {\n",
       "        vertical-align: top;\n",
       "    }\n",
       "\n",
       "    .dataframe thead th {\n",
       "        text-align: right;\n",
       "    }\n",
       "</style>\n",
       "<table border=\"1\" class=\"dataframe\">\n",
       "  <thead>\n",
       "    <tr style=\"text-align: right;\">\n",
       "      <th></th>\n",
       "      <th>date</th>\n",
       "      <th>revenue</th>\n",
       "      <th>transaction_id</th>\n",
       "      <th>visitor_id</th>\n",
       "    </tr>\n",
       "    <tr>\n",
       "      <th>group</th>\n",
       "      <th></th>\n",
       "      <th></th>\n",
       "      <th></th>\n",
       "      <th></th>\n",
       "    </tr>\n",
       "  </thead>\n",
       "  <tbody>\n",
       "    <tr>\n",
       "      <th>A</th>\n",
       "      <td>31</td>\n",
       "      <td>419</td>\n",
       "      <td>557</td>\n",
       "      <td>503</td>\n",
       "    </tr>\n",
       "    <tr>\n",
       "      <th>B</th>\n",
       "      <td>31</td>\n",
       "      <td>450</td>\n",
       "      <td>640</td>\n",
       "      <td>586</td>\n",
       "    </tr>\n",
       "  </tbody>\n",
       "</table>\n",
       "</div>"
      ],
      "text/plain": [
       "       date  revenue  transaction_id  visitor_id\n",
       "group                                           \n",
       "A        31      419             557         503\n",
       "B        31      450             640         586"
      ]
     },
     "execution_count": 6,
     "metadata": {},
     "output_type": "execute_result"
    }
   ],
   "source": [
    "orders.pivot_table(index = 'group', aggfunc = 'nunique')"
   ]
  },
  {
   "cell_type": "code",
   "execution_count": 7,
   "metadata": {},
   "outputs": [
    {
     "name": "stdout",
     "output_type": "stream",
     "text": [
      "Количество пользователей, находящихся в обеих группах: 58\n"
     ]
    }
   ],
   "source": [
    "print('Количество пользователей, находящихся в обеих группах:', \n",
    "      len(list(set(orders.query('group== \"A\"').visitor_id) & set(orders.query('group== \"B\"').visitor_id))))\n",
    "#orders.pivot_table(index = \"group\", aggfunc = \"nunique\")[\"visitor_id\"].sum() - orders[\"visitor_id\"].nunique()\n",
    "#len(orders.groupby('visitor_id').agg({'group' : 'nunique'}).query('group > 1'))"
   ]
  },
  {
   "cell_type": "markdown",
   "metadata": {},
   "source": [
    "Очевидно, что тест проведен некорректно. Имеются пользователи, попавшие в обе группы теста, их количество составляет 58 человек. К тому же, если бы фильтрация работала корректно и они попали в определенные группы, разница между ними могла бы быть в пределах 0.5%, сейчас же она составляет порядка 15%. \n",
    "При этом, удалить их не представляется возможным, т.к. мы не сможем равноценно очистить датафрейм с посетителями. Поэтому продолжим анализ теста с учетом этого недочета. "
   ]
  },
  {
   "cell_type": "markdown",
   "metadata": {},
   "source": [
    "### Вывод"
   ]
  },
  {
   "cell_type": "markdown",
   "metadata": {},
   "source": [
    "<div style=\"border:solid green 2px; padding: 20px\">\n",
    "Данные изучены и предобработаны для дальнейшего исследования в части названий столбцов и типов данных дат. \n",
    "Обнаружена некорректное разделение пользователей на группы при проведении A/B-теста, что может ставить под сомнение последующий анализ и выводы, но достоверная очистка данных от них невозможна."
   ]
  },
  {
   "cell_type": "markdown",
   "metadata": {},
   "source": [
    "## Приоритизация гипотез"
   ]
  },
  {
   "cell_type": "markdown",
   "metadata": {},
   "source": [
    "Для определения наиболее полезных гипотез воспользуемся методами **RICE** (*Reach* - охват, *Impact* - влияние, *Confidence* - уверенность, *Efforts* - усилия) и **ICE** - одни из самых популярных способов приоритизации задач.  \n",
    "Данные показатели вычисляются по следующим формулам:"
   ]
  },
  {
   "cell_type": "markdown",
   "metadata": {},
   "source": [
    "$$ICE = \\frac{Impact * Confidence}{Efforts}$$\n",
    "$$RICE = \\frac{Rearch * Impact * Confidence}{Efforts}$$"
   ]
  },
  {
   "cell_type": "code",
   "execution_count": 8,
   "metadata": {},
   "outputs": [
    {
     "data": {
      "text/html": [
       "<style type=\"text/css\">\n",
       "#T_29629_ td.col5 {\n",
       "  font-family: \"Times New Roman\", Times, serif;\n",
       "  color: #e83e8c;\n",
       "  font-size: 1.3em;\n",
       "}\n",
       "</style>\n",
       "<table id=\"T_29629_\">\n",
       "  <thead>\n",
       "    <tr>\n",
       "      <th class=\"blank level0\" >&nbsp;</th>\n",
       "      <th class=\"col_heading level0 col0\" >hypothesis</th>\n",
       "      <th class=\"col_heading level0 col1\" >reach</th>\n",
       "      <th class=\"col_heading level0 col2\" >impact</th>\n",
       "      <th class=\"col_heading level0 col3\" >confidence</th>\n",
       "      <th class=\"col_heading level0 col4\" >efforts</th>\n",
       "      <th class=\"col_heading level0 col5\" >ICE</th>\n",
       "    </tr>\n",
       "  </thead>\n",
       "  <tbody>\n",
       "    <tr>\n",
       "      <th id=\"T_29629_level0_row0\" class=\"row_heading level0 row0\" >8</th>\n",
       "      <td id=\"T_29629_row0_col0\" class=\"data row0 col0\" >Запустить акцию, дающую скидку на товар в день рождения</td>\n",
       "      <td id=\"T_29629_row0_col1\" class=\"data row0 col1\" >1</td>\n",
       "      <td id=\"T_29629_row0_col2\" class=\"data row0 col2\" >9</td>\n",
       "      <td id=\"T_29629_row0_col3\" class=\"data row0 col3\" >9</td>\n",
       "      <td id=\"T_29629_row0_col4\" class=\"data row0 col4\" >5</td>\n",
       "      <td id=\"T_29629_row0_col5\" class=\"data row0 col5\" >16.20</td>\n",
       "    </tr>\n",
       "    <tr>\n",
       "      <th id=\"T_29629_level0_row1\" class=\"row_heading level0 row1\" >0</th>\n",
       "      <td id=\"T_29629_row1_col0\" class=\"data row1 col0\" >Добавить два новых канала привлечения трафика, что позволит привлекать на 30% больше пользователей</td>\n",
       "      <td id=\"T_29629_row1_col1\" class=\"data row1 col1\" >3</td>\n",
       "      <td id=\"T_29629_row1_col2\" class=\"data row1 col2\" >10</td>\n",
       "      <td id=\"T_29629_row1_col3\" class=\"data row1 col3\" >8</td>\n",
       "      <td id=\"T_29629_row1_col4\" class=\"data row1 col4\" >6</td>\n",
       "      <td id=\"T_29629_row1_col5\" class=\"data row1 col5\" >13.33</td>\n",
       "    </tr>\n",
       "    <tr>\n",
       "      <th id=\"T_29629_level0_row2\" class=\"row_heading level0 row2\" >7</th>\n",
       "      <td id=\"T_29629_row2_col0\" class=\"data row2 col0\" >Добавить форму подписки на все основные страницы, чтобы собрать базу клиентов для email-рассылок</td>\n",
       "      <td id=\"T_29629_row2_col1\" class=\"data row2 col1\" >10</td>\n",
       "      <td id=\"T_29629_row2_col2\" class=\"data row2 col2\" >7</td>\n",
       "      <td id=\"T_29629_row2_col3\" class=\"data row2 col3\" >8</td>\n",
       "      <td id=\"T_29629_row2_col4\" class=\"data row2 col4\" >5</td>\n",
       "      <td id=\"T_29629_row2_col5\" class=\"data row2 col5\" >11.20</td>\n",
       "    </tr>\n",
       "    <tr>\n",
       "      <th id=\"T_29629_level0_row3\" class=\"row_heading level0 row3\" >6</th>\n",
       "      <td id=\"T_29629_row3_col0\" class=\"data row3 col0\" >Показать на главной странице баннеры с актуальными акциями и распродажами, чтобы увеличить конверсию</td>\n",
       "      <td id=\"T_29629_row3_col1\" class=\"data row3 col1\" >5</td>\n",
       "      <td id=\"T_29629_row3_col2\" class=\"data row3 col2\" >3</td>\n",
       "      <td id=\"T_29629_row3_col3\" class=\"data row3 col3\" >8</td>\n",
       "      <td id=\"T_29629_row3_col4\" class=\"data row3 col4\" >3</td>\n",
       "      <td id=\"T_29629_row3_col5\" class=\"data row3 col5\" >8.00</td>\n",
       "    </tr>\n",
       "    <tr>\n",
       "      <th id=\"T_29629_level0_row4\" class=\"row_heading level0 row4\" >2</th>\n",
       "      <td id=\"T_29629_row4_col0\" class=\"data row4 col0\" >Добавить блоки рекомендаций товаров на сайт интернет магазина, чтобы повысить конверсию и средний чек заказа</td>\n",
       "      <td id=\"T_29629_row4_col1\" class=\"data row4 col1\" >8</td>\n",
       "      <td id=\"T_29629_row4_col2\" class=\"data row4 col2\" >3</td>\n",
       "      <td id=\"T_29629_row4_col3\" class=\"data row4 col3\" >7</td>\n",
       "      <td id=\"T_29629_row4_col4\" class=\"data row4 col4\" >3</td>\n",
       "      <td id=\"T_29629_row4_col5\" class=\"data row4 col5\" >7.00</td>\n",
       "    </tr>\n",
       "    <tr>\n",
       "      <th id=\"T_29629_level0_row5\" class=\"row_heading level0 row5\" >1</th>\n",
       "      <td id=\"T_29629_row5_col0\" class=\"data row5 col0\" >Запустить собственную службу доставки, что сократит срок доставки заказов</td>\n",
       "      <td id=\"T_29629_row5_col1\" class=\"data row5 col1\" >2</td>\n",
       "      <td id=\"T_29629_row5_col2\" class=\"data row5 col2\" >5</td>\n",
       "      <td id=\"T_29629_row5_col3\" class=\"data row5 col3\" >4</td>\n",
       "      <td id=\"T_29629_row5_col4\" class=\"data row5 col4\" >10</td>\n",
       "      <td id=\"T_29629_row5_col5\" class=\"data row5 col5\" >2.00</td>\n",
       "    </tr>\n",
       "    <tr>\n",
       "      <th id=\"T_29629_level0_row6\" class=\"row_heading level0 row6\" >5</th>\n",
       "      <td id=\"T_29629_row6_col0\" class=\"data row6 col0\" >Добавить страницу отзывов клиентов о магазине, что позволит увеличить количество заказов</td>\n",
       "      <td id=\"T_29629_row6_col1\" class=\"data row6 col1\" >3</td>\n",
       "      <td id=\"T_29629_row6_col2\" class=\"data row6 col2\" >2</td>\n",
       "      <td id=\"T_29629_row6_col3\" class=\"data row6 col3\" >2</td>\n",
       "      <td id=\"T_29629_row6_col4\" class=\"data row6 col4\" >3</td>\n",
       "      <td id=\"T_29629_row6_col5\" class=\"data row6 col5\" >1.33</td>\n",
       "    </tr>\n",
       "    <tr>\n",
       "      <th id=\"T_29629_level0_row7\" class=\"row_heading level0 row7\" >3</th>\n",
       "      <td id=\"T_29629_row7_col0\" class=\"data row7 col0\" >Изменить структура категорий, что увеличит конверсию, т.к. пользователи быстрее найдут нужный товар</td>\n",
       "      <td id=\"T_29629_row7_col1\" class=\"data row7 col1\" >8</td>\n",
       "      <td id=\"T_29629_row7_col2\" class=\"data row7 col2\" >3</td>\n",
       "      <td id=\"T_29629_row7_col3\" class=\"data row7 col3\" >3</td>\n",
       "      <td id=\"T_29629_row7_col4\" class=\"data row7 col4\" >8</td>\n",
       "      <td id=\"T_29629_row7_col5\" class=\"data row7 col5\" >1.12</td>\n",
       "    </tr>\n",
       "    <tr>\n",
       "      <th id=\"T_29629_level0_row8\" class=\"row_heading level0 row8\" >4</th>\n",
       "      <td id=\"T_29629_row8_col0\" class=\"data row8 col0\" >Изменить цвет фона главной страницы, чтобы увеличить вовлеченность пользователей</td>\n",
       "      <td id=\"T_29629_row8_col1\" class=\"data row8 col1\" >3</td>\n",
       "      <td id=\"T_29629_row8_col2\" class=\"data row8 col2\" >1</td>\n",
       "      <td id=\"T_29629_row8_col3\" class=\"data row8 col3\" >1</td>\n",
       "      <td id=\"T_29629_row8_col4\" class=\"data row8 col4\" >1</td>\n",
       "      <td id=\"T_29629_row8_col5\" class=\"data row8 col5\" >1.00</td>\n",
       "    </tr>\n",
       "  </tbody>\n",
       "</table>\n"
      ],
      "text/plain": [
       "<pandas.io.formats.style.Styler at 0x21d62475f10>"
      ]
     },
     "execution_count": 8,
     "metadata": {},
     "output_type": "execute_result"
    }
   ],
   "source": [
    "#Посмотрим на наиболее полезные гипотезы по методу ICE.\n",
    "hypothesis['ICE'] = (hypothesis['impact'] * hypothesis['confidence'])/ hypothesis['efforts']\n",
    "props = 'font-family: \"Times New Roman\", Times, serif; color: #e83e8c; font-size:1.3em;'\n",
    "(hypothesis.sort_values(by='ICE', ascending=False)\n",
    "           .style.set_table_styles([{'selector': 'td.col5', 'props': props}]))"
   ]
  },
  {
   "cell_type": "code",
   "execution_count": 9,
   "metadata": {
    "scrolled": false
   },
   "outputs": [
    {
     "data": {
      "text/html": [
       "<style type=\"text/css\">\n",
       "#T_5820e_ td.col6 {\n",
       "  font-family: \"Times New Roman\", Times, serif;\n",
       "  color: #e83e8c;\n",
       "  font-size: 1.3em;\n",
       "}\n",
       "</style>\n",
       "<table id=\"T_5820e_\">\n",
       "  <thead>\n",
       "    <tr>\n",
       "      <th class=\"blank level0\" >&nbsp;</th>\n",
       "      <th class=\"col_heading level0 col0\" >hypothesis</th>\n",
       "      <th class=\"col_heading level0 col1\" >reach</th>\n",
       "      <th class=\"col_heading level0 col2\" >impact</th>\n",
       "      <th class=\"col_heading level0 col3\" >confidence</th>\n",
       "      <th class=\"col_heading level0 col4\" >efforts</th>\n",
       "      <th class=\"col_heading level0 col5\" >ICE</th>\n",
       "      <th class=\"col_heading level0 col6\" >RICE</th>\n",
       "    </tr>\n",
       "  </thead>\n",
       "  <tbody>\n",
       "    <tr>\n",
       "      <th id=\"T_5820e_level0_row0\" class=\"row_heading level0 row0\" >7</th>\n",
       "      <td id=\"T_5820e_row0_col0\" class=\"data row0 col0\" >Добавить форму подписки на все основные страницы, чтобы собрать базу клиентов для email-рассылок</td>\n",
       "      <td id=\"T_5820e_row0_col1\" class=\"data row0 col1\" >10</td>\n",
       "      <td id=\"T_5820e_row0_col2\" class=\"data row0 col2\" >7</td>\n",
       "      <td id=\"T_5820e_row0_col3\" class=\"data row0 col3\" >8</td>\n",
       "      <td id=\"T_5820e_row0_col4\" class=\"data row0 col4\" >5</td>\n",
       "      <td id=\"T_5820e_row0_col5\" class=\"data row0 col5\" >11.20</td>\n",
       "      <td id=\"T_5820e_row0_col6\" class=\"data row0 col6\" >112.00</td>\n",
       "    </tr>\n",
       "    <tr>\n",
       "      <th id=\"T_5820e_level0_row1\" class=\"row_heading level0 row1\" >2</th>\n",
       "      <td id=\"T_5820e_row1_col0\" class=\"data row1 col0\" >Добавить блоки рекомендаций товаров на сайт интернет магазина, чтобы повысить конверсию и средний чек заказа</td>\n",
       "      <td id=\"T_5820e_row1_col1\" class=\"data row1 col1\" >8</td>\n",
       "      <td id=\"T_5820e_row1_col2\" class=\"data row1 col2\" >3</td>\n",
       "      <td id=\"T_5820e_row1_col3\" class=\"data row1 col3\" >7</td>\n",
       "      <td id=\"T_5820e_row1_col4\" class=\"data row1 col4\" >3</td>\n",
       "      <td id=\"T_5820e_row1_col5\" class=\"data row1 col5\" >7.00</td>\n",
       "      <td id=\"T_5820e_row1_col6\" class=\"data row1 col6\" >56.00</td>\n",
       "    </tr>\n",
       "    <tr>\n",
       "      <th id=\"T_5820e_level0_row2\" class=\"row_heading level0 row2\" >0</th>\n",
       "      <td id=\"T_5820e_row2_col0\" class=\"data row2 col0\" >Добавить два новых канала привлечения трафика, что позволит привлекать на 30% больше пользователей</td>\n",
       "      <td id=\"T_5820e_row2_col1\" class=\"data row2 col1\" >3</td>\n",
       "      <td id=\"T_5820e_row2_col2\" class=\"data row2 col2\" >10</td>\n",
       "      <td id=\"T_5820e_row2_col3\" class=\"data row2 col3\" >8</td>\n",
       "      <td id=\"T_5820e_row2_col4\" class=\"data row2 col4\" >6</td>\n",
       "      <td id=\"T_5820e_row2_col5\" class=\"data row2 col5\" >13.33</td>\n",
       "      <td id=\"T_5820e_row2_col6\" class=\"data row2 col6\" >40.00</td>\n",
       "    </tr>\n",
       "    <tr>\n",
       "      <th id=\"T_5820e_level0_row3\" class=\"row_heading level0 row3\" >6</th>\n",
       "      <td id=\"T_5820e_row3_col0\" class=\"data row3 col0\" >Показать на главной странице баннеры с актуальными акциями и распродажами, чтобы увеличить конверсию</td>\n",
       "      <td id=\"T_5820e_row3_col1\" class=\"data row3 col1\" >5</td>\n",
       "      <td id=\"T_5820e_row3_col2\" class=\"data row3 col2\" >3</td>\n",
       "      <td id=\"T_5820e_row3_col3\" class=\"data row3 col3\" >8</td>\n",
       "      <td id=\"T_5820e_row3_col4\" class=\"data row3 col4\" >3</td>\n",
       "      <td id=\"T_5820e_row3_col5\" class=\"data row3 col5\" >8.00</td>\n",
       "      <td id=\"T_5820e_row3_col6\" class=\"data row3 col6\" >40.00</td>\n",
       "    </tr>\n",
       "    <tr>\n",
       "      <th id=\"T_5820e_level0_row4\" class=\"row_heading level0 row4\" >8</th>\n",
       "      <td id=\"T_5820e_row4_col0\" class=\"data row4 col0\" >Запустить акцию, дающую скидку на товар в день рождения</td>\n",
       "      <td id=\"T_5820e_row4_col1\" class=\"data row4 col1\" >1</td>\n",
       "      <td id=\"T_5820e_row4_col2\" class=\"data row4 col2\" >9</td>\n",
       "      <td id=\"T_5820e_row4_col3\" class=\"data row4 col3\" >9</td>\n",
       "      <td id=\"T_5820e_row4_col4\" class=\"data row4 col4\" >5</td>\n",
       "      <td id=\"T_5820e_row4_col5\" class=\"data row4 col5\" >16.20</td>\n",
       "      <td id=\"T_5820e_row4_col6\" class=\"data row4 col6\" >16.20</td>\n",
       "    </tr>\n",
       "    <tr>\n",
       "      <th id=\"T_5820e_level0_row5\" class=\"row_heading level0 row5\" >3</th>\n",
       "      <td id=\"T_5820e_row5_col0\" class=\"data row5 col0\" >Изменить структура категорий, что увеличит конверсию, т.к. пользователи быстрее найдут нужный товар</td>\n",
       "      <td id=\"T_5820e_row5_col1\" class=\"data row5 col1\" >8</td>\n",
       "      <td id=\"T_5820e_row5_col2\" class=\"data row5 col2\" >3</td>\n",
       "      <td id=\"T_5820e_row5_col3\" class=\"data row5 col3\" >3</td>\n",
       "      <td id=\"T_5820e_row5_col4\" class=\"data row5 col4\" >8</td>\n",
       "      <td id=\"T_5820e_row5_col5\" class=\"data row5 col5\" >1.12</td>\n",
       "      <td id=\"T_5820e_row5_col6\" class=\"data row5 col6\" >9.00</td>\n",
       "    </tr>\n",
       "    <tr>\n",
       "      <th id=\"T_5820e_level0_row6\" class=\"row_heading level0 row6\" >1</th>\n",
       "      <td id=\"T_5820e_row6_col0\" class=\"data row6 col0\" >Запустить собственную службу доставки, что сократит срок доставки заказов</td>\n",
       "      <td id=\"T_5820e_row6_col1\" class=\"data row6 col1\" >2</td>\n",
       "      <td id=\"T_5820e_row6_col2\" class=\"data row6 col2\" >5</td>\n",
       "      <td id=\"T_5820e_row6_col3\" class=\"data row6 col3\" >4</td>\n",
       "      <td id=\"T_5820e_row6_col4\" class=\"data row6 col4\" >10</td>\n",
       "      <td id=\"T_5820e_row6_col5\" class=\"data row6 col5\" >2.00</td>\n",
       "      <td id=\"T_5820e_row6_col6\" class=\"data row6 col6\" >4.00</td>\n",
       "    </tr>\n",
       "    <tr>\n",
       "      <th id=\"T_5820e_level0_row7\" class=\"row_heading level0 row7\" >5</th>\n",
       "      <td id=\"T_5820e_row7_col0\" class=\"data row7 col0\" >Добавить страницу отзывов клиентов о магазине, что позволит увеличить количество заказов</td>\n",
       "      <td id=\"T_5820e_row7_col1\" class=\"data row7 col1\" >3</td>\n",
       "      <td id=\"T_5820e_row7_col2\" class=\"data row7 col2\" >2</td>\n",
       "      <td id=\"T_5820e_row7_col3\" class=\"data row7 col3\" >2</td>\n",
       "      <td id=\"T_5820e_row7_col4\" class=\"data row7 col4\" >3</td>\n",
       "      <td id=\"T_5820e_row7_col5\" class=\"data row7 col5\" >1.33</td>\n",
       "      <td id=\"T_5820e_row7_col6\" class=\"data row7 col6\" >4.00</td>\n",
       "    </tr>\n",
       "    <tr>\n",
       "      <th id=\"T_5820e_level0_row8\" class=\"row_heading level0 row8\" >4</th>\n",
       "      <td id=\"T_5820e_row8_col0\" class=\"data row8 col0\" >Изменить цвет фона главной страницы, чтобы увеличить вовлеченность пользователей</td>\n",
       "      <td id=\"T_5820e_row8_col1\" class=\"data row8 col1\" >3</td>\n",
       "      <td id=\"T_5820e_row8_col2\" class=\"data row8 col2\" >1</td>\n",
       "      <td id=\"T_5820e_row8_col3\" class=\"data row8 col3\" >1</td>\n",
       "      <td id=\"T_5820e_row8_col4\" class=\"data row8 col4\" >1</td>\n",
       "      <td id=\"T_5820e_row8_col5\" class=\"data row8 col5\" >1.00</td>\n",
       "      <td id=\"T_5820e_row8_col6\" class=\"data row8 col6\" >3.00</td>\n",
       "    </tr>\n",
       "  </tbody>\n",
       "</table>\n"
      ],
      "text/plain": [
       "<pandas.io.formats.style.Styler at 0x21d62475040>"
      ]
     },
     "execution_count": 9,
     "metadata": {},
     "output_type": "execute_result"
    }
   ],
   "source": [
    "#Посмотрим на наиболее полезные гипотезы c добавлением параметра охвата по методу RICE.\n",
    "hypothesis['RICE'] = ((hypothesis['reach'] * hypothesis['impact'] * hypothesis['confidence'])/ hypothesis['efforts'])\n",
    "(hypothesis.sort_values(by='RICE', ascending=False)\n",
    "           .style.set_table_styles([{'selector': 'td.col6', 'props': props}]))"
   ]
  },
  {
   "cell_type": "markdown",
   "metadata": {},
   "source": [
    "### Вывод"
   ]
  },
  {
   "cell_type": "markdown",
   "metadata": {},
   "source": [
    "<div style=\"border:solid green 2px; padding: 20px\">\n",
    "При использовании метода ICE наиболее полезными гипотезами оказались следующие (в порядке убывания приоритета):\n",
    "    \n",
    "- №8 - скидка в день рождения\n",
    "- №0 - два новых канала привлечения пользователей\n",
    "- №7 - подписка на сервис для осществления рассылок\n",
    "\n",
    "При использовании метода RICE с добавлением параметра охвата наиболее полезными гипотезами оказались следующие:\n",
    "- №7 - подписка на сервис для осществления рассылок\n",
    "- №2 - рекомендации товаров для повышения конверсии и среднего чека\n",
    "- №0 - два новых канала привлечения пользователей\n",
    "- №6 - баннеры с акциями для увеличения конверсии\n",
    "\n",
    "Разница в результатах связана с добавлением параметра охвата пользователей, задействованных в реализации гипотезы.\n",
    "**С большим отрывом наибольший приоритет получила гипотеза №7 в связи с тем, что рассылка будет затрагивать абсолютно всех пользователей, зарегистрированных на сайтах.**  \n",
    "Меньший приоритет получила гипотеза с акцией в день рождения, потому что данный метод будет работать лишь раз в году, а к тому же, возможно, не все пользователи указывали дату своего рождения. Гипотеза с дополнительными каналами привлечения так же охватыват меньшее количество пользователей сайта. "
   ]
  },
  {
   "cell_type": "markdown",
   "metadata": {},
   "source": [
    "## Анализ кумулятивных выручки, среднего чека, конверсии по группам A/B-теста"
   ]
  },
  {
   "cell_type": "markdown",
   "metadata": {},
   "source": [
    "Очевидно, что тест проведен некорректно. Имеются пользователи, попавшие в обе группы теста, их количество составляет 58 человек. К тому же, если бы фильтрация работала корректно и они попали в определенные группы, разница между ними могла бы быть в пределах 0.5%, сейчас же она составляет порядка 15%. \n",
    "При этом, удалить их не представляется возможным, т.к. мы не сможем равноценно очистить датафрейм с посетителями. Поэтому продолжим анализ теста с учетом этого недочета. "
   ]
  },
  {
   "cell_type": "code",
   "execution_count": 10,
   "metadata": {},
   "outputs": [],
   "source": [
    "#Создаем ДФ с уникальными парами значений 'date' и 'group', таблицы orders.\n",
    "dates_groups = orders[['date', 'group']].drop_duplicates()\n",
    "\n",
    "#Создаем на основе него ДФ с кумулятивными количеством заказов, пользователей и выручкой на каждую дату в каждой группе.\n",
    "\n",
    "orders_aggregated = dates_groups.apply(\n",
    "    lambda x: orders[\n",
    "        np.logical_and(\n",
    "            orders['date'] <= x['date'], orders['group'] == x['group']\n",
    "        )\n",
    "    ].agg(\n",
    "        {\n",
    "            'date': 'max',\n",
    "            'group': 'max',\n",
    "            'transaction_id': 'nunique',\n",
    "            'visitor_id': 'nunique',\n",
    "            'revenue': 'sum',\n",
    "        }\n",
    "    ),\n",
    "    axis=1,\n",
    ").sort_values(by=['date', 'group'])\n",
    "\n",
    "#Создаем на основе него второй ДФ с кумулятивным количеством посетителей на каждую дату в каждой группе.\n",
    "\n",
    "visitors_aggregated = dates_groups.apply(\n",
    "    lambda x: visitors[\n",
    "        np.logical_and(\n",
    "            visitors['date'] <= x['date'], visitors['group'] == x['group']\n",
    "        )\n",
    "    ].agg({'date': 'max', 'group': 'max', 'visitors': 'sum'}),\n",
    "    axis=1,\n",
    ").sort_values(by=['date', 'group'])\n",
    "\n",
    "#Объединяем данные ДФ в один\n",
    "\n",
    "cumulative_data = orders_aggregated.merge(\n",
    "    visitors_aggregated, left_on=['date', 'group'], right_on=['date', 'group']\n",
    ")\n",
    "\n",
    "#Переименовываем столбцы\n",
    "\n",
    "cumulative_data.columns = [\n",
    "    'date',\n",
    "    'group',\n",
    "    'orders',\n",
    "    'buyers',\n",
    "    'revenue',\n",
    "    'visitors',\n",
    "]"
   ]
  },
  {
   "cell_type": "markdown",
   "metadata": {},
   "source": [
    "Получили ДФ с кумулятивными количеством заказов, пользователей, посетителей и выручкой на каждую дату в каждой группе. По ним уже можно строить графики и видеть первоначальные результаты проведенного теста. Сделаем это."
   ]
  },
  {
   "cell_type": "code",
   "execution_count": 11,
   "metadata": {},
   "outputs": [],
   "source": [
    "#Напишем функцию для построения графиков\n",
    "def graph(x1, y1, label1, x2, y2, label2, title, xlabel, ylabel):\n",
    "    plt.figure(figsize=(10, 5))\n",
    "    #Строим график выручки группы А\n",
    "    plt.plot(x1, y1, label=label1)\n",
    "\n",
    "    #Строим график выручки группы B\n",
    "    plt.plot(x2, y2, label=label2)\n",
    "\n",
    "    plt.title(title, fontsize=15)\n",
    "    plt.legend(loc='upper left', fontsize='x-large')\n",
    "    plt.xlabel(xlabel, fontsize=15)\n",
    "    plt.ylabel(ylabel, fontsize=15)\n",
    "    plt.yticks(size = 15);"
   ]
  },
  {
   "cell_type": "code",
   "execution_count": 12,
   "metadata": {},
   "outputs": [
    {
     "data": {
      "image/png": "[encoded data removed]",
      "text/plain": [
       "<Figure size 720x360 with 1 Axes>"
      ]
     },
     "metadata": {
      "needs_background": "light"
     },
     "output_type": "display_data"
    }
   ],
   "source": [
    "#Датафрейм с кумулятивным количеством заказов и кумулятивной выручкой по дням в группе А\n",
    "cumulative_revenue_a = cumulative_data[cumulative_data['group']=='A'][['date','revenue', 'orders']]\n",
    "\n",
    "#Датафрейм с кумулятивным количеством заказов и кумулятивной выручкой по дням в группе B\n",
    "cumulative_revenue_b = cumulative_data[cumulative_data['group']=='B'][['date','revenue', 'orders']]\n",
    "\n",
    "graph(\n",
    "    cumulative_revenue_a['date'], cumulative_revenue_a['revenue'], 'A',\n",
    "    cumulative_revenue_b['date'], cumulative_revenue_b['revenue'], 'B',\n",
    "    'Кумулятивная выручка в группах', 'Дата', 'Выручка, млн рублей')\n",
    "plt.annotate('скачок', xy=('2019-08-18', 2800000), xytext=('2019-08-10', 3500000),\n",
    "            arrowprops=dict(facecolor='g'))\n",
    "plt.annotate('отрыв', xy=('2019-08-05', 800000), xytext=('2019-08-05', 2000000),\n",
    "            arrowprops=dict(facecolor='g'))\n",
    "plt.annotate('начало равномерного роста', xy=('2019-08-19', 4100000), xytext=('2019-08-05', 4500000),\n",
    "            arrowprops=dict(facecolor='g'))\n",
    "plt.show(); "
   ]
  },
  {
   "cell_type": "markdown",
   "metadata": {},
   "source": [
    "На обоих группах кумулятивная выручка постепенно растет, это уже хорошо. При этом, можно обратить внимание, что со временем выручка в группе B значительно превосходит выручку в группе А. Но, возможно, это произошло из-за аномальных покупок в конце второй декады месяца, где виден резкий скачок выручки в группе B. Посмотрим на графики кумулятивного среднего чека."
   ]
  },
  {
   "cell_type": "code",
   "execution_count": 13,
   "metadata": {},
   "outputs": [
    {
     "data": {
      "image/png": "[encoded data removed]",
      "text/plain": [
       "<Figure size 720x360 with 1 Axes>"
      ]
     },
     "metadata": {
      "needs_background": "light"
     },
     "output_type": "display_data"
    }
   ],
   "source": [
    "graph(\n",
    "    cumulative_revenue_a['date'], cumulative_revenue_a['revenue']/cumulative_revenue_a['orders'], 'A',\n",
    "    cumulative_revenue_b['date'], cumulative_revenue_b['revenue']/cumulative_revenue_b['orders'], 'B',\n",
    "    'Кумулятивный средний чек в группах', 'Дата', 'Средний чек, рублей')\n",
    "plt.annotate('скачок', xy=('2019-08-18', 7000), xytext=('2019-08-10',8000),\n",
    "            arrowprops=dict(facecolor='g'))\n",
    "plt.yticks(size = 12)\n",
    "plt.show();"
   ]
  },
  {
   "cell_type": "markdown",
   "metadata": {},
   "source": [
    "Со средним чеком ситуация аналогичная. В конце второй декады имеется резкий рост среднего чека в 1.5 раза в группе B. При этом, к концу месяца график идет на снижение, в то время как в группе A он имеет тенденцию к увеличению. Посмотрим на графики кумулятивной конверсии."
   ]
  },
  {
   "cell_type": "code",
   "execution_count": 14,
   "metadata": {},
   "outputs": [
    {
     "data": {
      "image/png": "[encoded data removed]",
      "text/plain": [
       "<Figure size 720x360 with 1 Axes>"
      ]
     },
     "metadata": {
      "needs_background": "light"
     },
     "output_type": "display_data"
    }
   ],
   "source": [
    "#Считаем кумулятивную конверсию\n",
    "cumulative_data['conversion'] = cumulative_data['orders']/cumulative_data['visitors']\n",
    "\n",
    "#Отделяем данные по группе A\n",
    "cumulative_data_a = cumulative_data[cumulative_data['group']=='A']\n",
    "\n",
    "#Отделяем данные по группе B\n",
    "cumulative_data_b = cumulative_data[cumulative_data['group']=='B']\n",
    "\n",
    "graph(\n",
    "    cumulative_data_a['date'], cumulative_data_a['conversion'], 'A',\n",
    "    cumulative_data_b['date'], cumulative_data_b['conversion'], 'B',\n",
    "    'Кумулятивная конверсия в группах', 'Дата', 'Конверсия, доля')\n",
    "\n",
    "#Задаем масштаб осей\n",
    "plt.axis([dt.datetime(2019, 8, 1), dt.datetime(2019, 8, 31), 0, 0.05])\n",
    "plt.annotate('момент превышения конверсии B над А', xy=('2019-08-06', 0.031),\n",
    "             xytext=('2019-08-13', 0.02), arrowprops=dict(facecolor='g'))\n",
    "plt.yticks(size = 13)\n",
    "plt.show();"
   ]
  },
  {
   "cell_type": "markdown",
   "metadata": {},
   "source": [
    "Можем увидеть, что в первой декаде месяца конверсия группы B становится лучше и, стабилизировавшись на определенном уровне, так и остается выше, чем конверсия в группе А."
   ]
  },
  {
   "cell_type": "markdown",
   "metadata": {},
   "source": [
    "### Вывод"
   ]
  },
  {
   "cell_type": "markdown",
   "metadata": {},
   "source": [
    "<div style=\"border:solid green 2px; padding: 20px\">\n",
    "Мы проанализировали имеющиеся данные и получили следующие предварительные результаты:  \n",
    "    \n",
    "- **кумулятивная выручка** растет и стабильно **выше в группе B**\n",
    "- **кумулятивный средний чек выше в группе B**, но имеет тренд к снижению\n",
    "- **кумулятивная конверсия** стабильна и **выше в группе B**\n",
    "- **в группе В имеются явные аномальные значения**, значительно влияющие на результат, от которых необходимо очистить данные"
   ]
  },
  {
   "cell_type": "markdown",
   "metadata": {},
   "source": [
    "## Анализ относительного изменения кумулятивных среднего чека и конверсии"
   ]
  },
  {
   "cell_type": "code",
   "execution_count": 15,
   "metadata": {},
   "outputs": [
    {
     "data": {
      "image/png": "[encoded data removed]",
      "text/plain": [
       "<Figure size 720x360 with 1 Axes>"
      ]
     },
     "metadata": {
      "needs_background": "light"
     },
     "output_type": "display_data"
    }
   ],
   "source": [
    "#Собираем данные в одном датафрейме\n",
    "merged_сumulative_revenue = (cumulative_revenue_a\n",
    "                             .merge(cumulative_revenue_b, left_on='date', \n",
    "                                    right_on='date', how='left', suffixes=['_a', '_b'])\n",
    "                            )\n",
    "\n",
    "#Строим отношение средних чеков\n",
    "plt.figure(figsize=(10, 5))\n",
    "plt.plot(merged_сumulative_revenue['date'], \n",
    "         (merged_сumulative_revenue['revenue_b']/merged_сumulative_revenue['orders_b'])\n",
    "         /(merged_сumulative_revenue['revenue_a']/merged_сumulative_revenue['orders_a'])-1)\n",
    "\n",
    "#Добавляем ось X\n",
    "plt.axhline(y=0, color='black', linestyle='--') \n",
    "plt.title(f\"Относительное изменение кумулятивного среднего чека\", fontsize=15);\n",
    "plt.xlabel('Дата', fontsize=15);\n",
    "plt.ylabel(\"Отношение, доля\", fontsize=15)\n",
    "plt.annotate('скачок', xy=('2019-08-18', 0.05), xytext=('2019-08-13', 0.2),\n",
    "            arrowprops=dict(facecolor='g'));"
   ]
  },
  {
   "cell_type": "markdown",
   "metadata": {},
   "source": [
    "По графику видно значительное превышение кумулятивного среднего чека группы А над группой В. При этом снова виден резкий скачок в конце второй декады, вызванный, вероятно, аномальными заказами. Посмотрим на график относительного изменения кумулятивной конверсии."
   ]
  },
  {
   "cell_type": "code",
   "execution_count": 16,
   "metadata": {},
   "outputs": [
    {
     "data": {
      "image/png": "[encoded data removed]",
      "text/plain": [
       "<Figure size 720x360 with 1 Axes>"
      ]
     },
     "metadata": {
      "needs_background": "light"
     },
     "output_type": "display_data"
    }
   ],
   "source": [
    "#Объединим наши ДФ, разделенные по группам\n",
    "merged_сumulative_сonversions = (cumulative_data_a[['date','conversion']]\n",
    "                                 .merge(cumulative_data_b[['date','conversion']],\n",
    "                                        left_on='date', right_on='date',\n",
    "                                        how='left', suffixes=['_a', '_b']))\n",
    "\n",
    "#Построим график\n",
    "plt.figure(figsize=(10, 5))\n",
    "plt.plot(merged_сumulative_сonversions['date'], \n",
    "         merged_сumulative_сonversions['conversion_b']/merged_сumulative_сonversions['conversion_a']-1)\n",
    "plt.title(f\"Относительный прирост конверсии группы B относительно группы A\", fontsize=15);\n",
    "plt.xlabel('Дата', fontsize=15);\n",
    "plt.ylabel(\"Отношение, доля\", fontsize=15);\n",
    "\n",
    "#Добавим линии на оси Y, равные нулю и разнице в конверсиях в конце теста.\n",
    "plt.axhline(y=0, color='black', linestyle='--')\n",
    "plt.axhline(y=0.14, color='grey', linestyle='--');"
   ]
  },
  {
   "cell_type": "markdown",
   "metadata": {},
   "source": [
    "По графику видно, что в первой декаде конверсия в группе В стала выше, чем в группе А, и к концу теста почти стабилизируется на уровне 15% лучше, чем конверсия в группе А."
   ]
  },
  {
   "cell_type": "markdown",
   "metadata": {},
   "source": [
    "### Вывод"
   ]
  },
  {
   "cell_type": "markdown",
   "metadata": {},
   "source": [
    "<div style=\"border:solid green 2px; padding: 20px\">\n",
    "Получили следующие предварительные результаты: \n",
    "    \n",
    "- **значительное превышение кумулятивного среднего чека группы А над группой В** с резким аномальным скачком в конце второй декады\n",
    "- в первой декаде **конверсия в группе В стала выше, чем в группе А**, и к концу теста почти стабилизируется **на уровне 15%** лучше, чем конверсия в группе А"
   ]
  },
  {
   "cell_type": "markdown",
   "metadata": {},
   "source": [
    "## Определение аномальных количества и стоимости заказов пользователей"
   ]
  },
  {
   "cell_type": "markdown",
   "metadata": {},
   "source": [
    "Для начала определим визуально аномальные значения по количеству и стоимости заказов"
   ]
  },
  {
   "cell_type": "code",
   "execution_count": 17,
   "metadata": {},
   "outputs": [
    {
     "data": {
      "image/png": "[encoded data removed]",
      "text/plain": [
       "<Figure size 720x360 with 1 Axes>"
      ]
     },
     "metadata": {
      "needs_background": "light"
     },
     "output_type": "display_data"
    }
   ],
   "source": [
    "#Найдем число заказов по пользователям\n",
    "orders_by_users = (\n",
    "                    orders.groupby('visitor_id', as_index=False)\n",
    "                          .agg({'transaction_id': 'nunique'})\n",
    ")\n",
    "orders_by_users.columns = ['visitor_id', 'orders']\n",
    "\n",
    "#Серия из чисел от 0 до количества наблюдений в orders_by_users\n",
    "x_values = pd.Series(range(0, len(orders_by_users)))\n",
    "plt.figure(figsize=(10, 5))\n",
    "plt.scatter(x_values, orders_by_users['orders'])\n",
    "plt.title(f\"Количество заказов на пользователя\", fontsize=15);\n",
    "plt.xlabel('Наблюдение', fontsize=15);\n",
    "plt.ylabel(\"Количество заказов, шт\", fontsize=15)\n",
    "plt.yticks(size = 15);"
   ]
  },
  {
   "cell_type": "markdown",
   "metadata": {},
   "source": [
    "Визуально можно оценить, что основная часть пользователей делает один заказ, и лишь некоторые два. Большее количество заказов - единичные случае. Посмотрим на процентили."
   ]
  },
  {
   "cell_type": "code",
   "execution_count": 18,
   "metadata": {},
   "outputs": [
    {
     "name": "stdout",
     "output_type": "stream",
     "text": [
      "[1. 2. 4.]\n"
     ]
    }
   ],
   "source": [
    "print(np.percentile(orders_by_users['orders'], [90, 95, 99]))"
   ]
  },
  {
   "cell_type": "markdown",
   "metadata": {},
   "source": [
    "Можно сделать вывод, что лишь 5% пользователей делает более 2 заказов и лишь 1% более 4. \n",
    "Проведем аналогичные замеры со стоимостью заказов"
   ]
  },
  {
   "cell_type": "code",
   "execution_count": 19,
   "metadata": {},
   "outputs": [
    {
     "data": {
      "image/png": "[encoded data removed]",
      "text/plain": [
       "<Figure size 720x360 with 1 Axes>"
      ]
     },
     "metadata": {
      "needs_background": "light"
     },
     "output_type": "display_data"
    }
   ],
   "source": [
    "#Cерия из чисел от 0 до количества наблюдений в orders_by_users\n",
    "x_values = pd.Series(range(0, len(orders)))\n",
    "plt.figure(figsize=(10, 5))\n",
    "plt.scatter(x_values, orders['revenue'])\n",
    "plt.title(f\"Распределение заказов\", fontsize=15);\n",
    "plt.xlabel('Наблюдение', fontsize=15);\n",
    "plt.ylabel(\"Величина заказа, млн рублей\", fontsize=15)\n",
    "plt.yticks(size = 15);"
   ]
  },
  {
   "cell_type": "markdown",
   "metadata": {},
   "source": [
    "Визуально достаточно сложно определить \"нормальные\" заказы, потому что имеется единственный аномальный заказ на 1.2 млн рублей. Основная масса сосредоточена до 100 тыс. рублей. Посмотрим на процентили."
   ]
  },
  {
   "cell_type": "code",
   "execution_count": 20,
   "metadata": {},
   "outputs": [
    {
     "name": "stdout",
     "output_type": "stream",
     "text": [
      "[18168.  28000.  58233.2]\n"
     ]
    }
   ],
   "source": [
    "print(np.percentile(orders['revenue'], [90, 95, 99]))"
   ]
  },
  {
   "cell_type": "markdown",
   "metadata": {},
   "source": [
    "Можно сделать вывод, что лишь 5% пользователей делает заказы на сумму более 28 тыс. рублей и лишь 1% на сумму более 58 тыс. рублей. "
   ]
  },
  {
   "cell_type": "markdown",
   "metadata": {},
   "source": [
    "### Вывод"
   ]
  },
  {
   "cell_type": "markdown",
   "metadata": {},
   "source": [
    "<div style=\"border:solid green 2px; padding: 20px\">\n",
    "    \n",
    "После проведенного анализа получилось, что лишь **5% пользователей делают более 2 заказов и лишь 5% заказов на сумму более 28 тыс. рублей**. Таким образом, логичным является их отсечение для более корректного анализа результатов A/B-теста."
   ]
  },
  {
   "cell_type": "markdown",
   "metadata": {},
   "source": [
    "## Расчет статистической значимости различий в среднем чеке и конверсии между группами по \"сырым\" и \"очищенным\" данным"
   ]
  },
  {
   "cell_type": "markdown",
   "metadata": {},
   "source": [
    "### Подготовка данных для расчетов"
   ]
  },
  {
   "cell_type": "markdown",
   "metadata": {},
   "source": [
    "Для расчетов сначала подготовим общий ДФ с \"сырыми\" данными, рассчитав ежедневное количество заказов, посетителей, выручку и их куммулятивные значения на каждую группу "
   ]
  },
  {
   "cell_type": "code",
   "execution_count": 21,
   "metadata": {},
   "outputs": [
    {
     "data": {
      "text/html": [
       "<div>\n",
       "<style scoped>\n",
       "    .dataframe tbody tr th:only-of-type {\n",
       "        vertical-align: middle;\n",
       "    }\n",
       "\n",
       "    .dataframe tbody tr th {\n",
       "        vertical-align: top;\n",
       "    }\n",
       "\n",
       "    .dataframe thead th {\n",
       "        text-align: right;\n",
       "    }\n",
       "</style>\n",
       "<table border=\"1\" class=\"dataframe\">\n",
       "  <thead>\n",
       "    <tr style=\"text-align: right;\">\n",
       "      <th></th>\n",
       "      <th>date</th>\n",
       "      <th>orders_per_date_a</th>\n",
       "      <th>revenue_per_date_a</th>\n",
       "      <th>orders_per_date_b</th>\n",
       "      <th>revenue_per_date_b</th>\n",
       "      <th>orders_cummulative_a</th>\n",
       "      <th>revenue_cummulative_a</th>\n",
       "      <th>orders_cummulative_b</th>\n",
       "      <th>revenue_cummulative_b</th>\n",
       "      <th>visitors_per_date_a</th>\n",
       "      <th>visitors_per_date_b</th>\n",
       "      <th>visitors_cummulative_a</th>\n",
       "      <th>visitors_cummulative_b</th>\n",
       "    </tr>\n",
       "  </thead>\n",
       "  <tbody>\n",
       "    <tr>\n",
       "      <th>0</th>\n",
       "      <td>2019-08-01</td>\n",
       "      <td>24</td>\n",
       "      <td>148579</td>\n",
       "      <td>21</td>\n",
       "      <td>101217</td>\n",
       "      <td>24</td>\n",
       "      <td>148579</td>\n",
       "      <td>21</td>\n",
       "      <td>101217</td>\n",
       "      <td>719</td>\n",
       "      <td>713</td>\n",
       "      <td>719</td>\n",
       "      <td>713</td>\n",
       "    </tr>\n",
       "    <tr>\n",
       "      <th>1</th>\n",
       "      <td>2019-08-02</td>\n",
       "      <td>20</td>\n",
       "      <td>93822</td>\n",
       "      <td>24</td>\n",
       "      <td>165531</td>\n",
       "      <td>44</td>\n",
       "      <td>242401</td>\n",
       "      <td>45</td>\n",
       "      <td>266748</td>\n",
       "      <td>619</td>\n",
       "      <td>581</td>\n",
       "      <td>1338</td>\n",
       "      <td>1294</td>\n",
       "    </tr>\n",
       "    <tr>\n",
       "      <th>2</th>\n",
       "      <td>2019-08-03</td>\n",
       "      <td>24</td>\n",
       "      <td>112473</td>\n",
       "      <td>16</td>\n",
       "      <td>114248</td>\n",
       "      <td>68</td>\n",
       "      <td>354874</td>\n",
       "      <td>61</td>\n",
       "      <td>380996</td>\n",
       "      <td>507</td>\n",
       "      <td>509</td>\n",
       "      <td>1845</td>\n",
       "      <td>1803</td>\n",
       "    </tr>\n",
       "    <tr>\n",
       "      <th>3</th>\n",
       "      <td>2019-08-04</td>\n",
       "      <td>16</td>\n",
       "      <td>70825</td>\n",
       "      <td>17</td>\n",
       "      <td>108571</td>\n",
       "      <td>84</td>\n",
       "      <td>425699</td>\n",
       "      <td>78</td>\n",
       "      <td>489567</td>\n",
       "      <td>717</td>\n",
       "      <td>770</td>\n",
       "      <td>2562</td>\n",
       "      <td>2573</td>\n",
       "    </tr>\n",
       "    <tr>\n",
       "      <th>4</th>\n",
       "      <td>2019-08-05</td>\n",
       "      <td>25</td>\n",
       "      <td>124218</td>\n",
       "      <td>23</td>\n",
       "      <td>92428</td>\n",
       "      <td>109</td>\n",
       "      <td>549917</td>\n",
       "      <td>101</td>\n",
       "      <td>581995</td>\n",
       "      <td>756</td>\n",
       "      <td>707</td>\n",
       "      <td>3318</td>\n",
       "      <td>3280</td>\n",
       "    </tr>\n",
       "  </tbody>\n",
       "</table>\n",
       "</div>"
      ],
      "text/plain": [
       "        date  orders_per_date_a  revenue_per_date_a  orders_per_date_b  \\\n",
       "0 2019-08-01                 24              148579                 21   \n",
       "1 2019-08-02                 20               93822                 24   \n",
       "2 2019-08-03                 24              112473                 16   \n",
       "3 2019-08-04                 16               70825                 17   \n",
       "4 2019-08-05                 25              124218                 23   \n",
       "\n",
       "   revenue_per_date_b  orders_cummulative_a  revenue_cummulative_a  \\\n",
       "0              101217                    24                 148579   \n",
       "1              165531                    44                 242401   \n",
       "2              114248                    68                 354874   \n",
       "3              108571                    84                 425699   \n",
       "4               92428                   109                 549917   \n",
       "\n",
       "   orders_cummulative_b  revenue_cummulative_b  visitors_per_date_a  \\\n",
       "0                    21                 101217                  719   \n",
       "1                    45                 266748                  619   \n",
       "2                    61                 380996                  507   \n",
       "3                    78                 489567                  717   \n",
       "4                   101                 581995                  756   \n",
       "\n",
       "   visitors_per_date_b  visitors_cummulative_a  visitors_cummulative_b  \n",
       "0                  713                     719                     713  \n",
       "1                  581                    1338                    1294  \n",
       "2                  509                    1845                    1803  \n",
       "3                  770                    2562                    2573  \n",
       "4                  707                    3318                    3280  "
      ]
     },
     "execution_count": 21,
     "metadata": {},
     "output_type": "execute_result"
    }
   ],
   "source": [
    "#Cчитаем количество посетителей и их куммулятивное значение по каждой группе.\n",
    "\n",
    "visitors_a_daily = visitors[visitors['group'] == 'A'][['date', 'visitors']]\n",
    "visitors_a_daily.columns = ['date', 'visitors_per_date_a']\n",
    "\n",
    "visitors_a_cummulative = visitors_a_daily.apply(\n",
    "    lambda x: visitors_a_daily[visitors_a_daily['date'] <= x['date']].agg(\n",
    "        {'date': 'max', 'visitors_per_date_a': 'sum'}\n",
    "    ),\n",
    "    axis=1,\n",
    ")\n",
    "visitors_a_cummulative.columns = ['date', 'visitors_cummulative_a']\n",
    "\n",
    "visitors_b_daily = visitors[visitors['group'] == 'B'][['date', 'visitors']]\n",
    "visitors_b_daily.columns = ['date', 'visitors_per_date_b']\n",
    "\n",
    "visitors_b_cummulative = visitors_b_daily.apply(\n",
    "    lambda x: visitors_b_daily[visitors_b_daily['date'] <= x['date']].agg(\n",
    "        {'date': 'max', 'visitors_per_date_b': 'sum'}\n",
    "    ),\n",
    "    axis=1,\n",
    ")\n",
    "visitors_b_cummulative.columns = ['date', 'visitors_cummulative_b']\n",
    "\n",
    "#Cчитаем количество заказов и их куммулятивное значение по каждой группе.\n",
    "\n",
    "orders_a_daily = (\n",
    "    orders[orders['group'] == 'A'][['date', 'transaction_id', 'visitor_id', 'revenue']]\n",
    "    .groupby('date', as_index=False)\n",
    "    .agg({'transaction_id': pd.Series.nunique, 'revenue': 'sum'})\n",
    ")\n",
    "orders_a_daily.columns = ['date', 'orders_per_date_a', 'revenue_per_date_a']\n",
    "\n",
    "orders_a_cummulative = orders_a_daily.apply(\n",
    "    lambda x: orders_a_daily[orders_a_daily['date'] <= x['date']].agg(\n",
    "        {'date': 'max', 'orders_per_date_a': 'sum', 'revenue_per_date_a': 'sum'}\n",
    "    ),\n",
    "    axis=1,\n",
    ").sort_values(by=['date'])\n",
    "orders_a_cummulative.columns = [\n",
    "    'date',\n",
    "    'orders_cummulative_a',\n",
    "    'revenue_cummulative_a',\n",
    "]\n",
    "\n",
    "orders_b_daily = (\n",
    "    orders[orders['group'] == 'B'][['date', 'transaction_id', 'visitor_id', 'revenue']]\n",
    "    .groupby('date', as_index=False)\n",
    "    .agg({'transaction_id': pd.Series.nunique, 'revenue': 'sum'})\n",
    ")\n",
    "orders_b_daily.columns = ['date', 'orders_per_date_b', 'revenue_per_date_b']\n",
    "\n",
    "orders_b_cummulative = orders_b_daily.apply(\n",
    "    lambda x: orders_b_daily[orders_b_daily['date'] <= x['date']].agg(\n",
    "        {'date': 'max', 'orders_per_date_b': 'sum', 'revenue_per_date_b': 'sum'}\n",
    "    ),\n",
    "    axis=1,\n",
    ").sort_values(by=['date'])\n",
    "orders_b_cummulative.columns = [\n",
    "    'date',\n",
    "    'orders_cummulative_b',\n",
    "    'revenue_cummulative_b',\n",
    "]\n",
    "\n",
    "#Объединяем все полученные ДФ в один\n",
    "data = (\n",
    "    orders_a_daily.merge(\n",
    "        orders_b_daily, left_on='date', right_on='date', how='left'\n",
    "    )\n",
    "    .merge(orders_a_cummulative, left_on='date', right_on='date', how='left')\n",
    "    .merge(orders_b_cummulative, left_on='date', right_on='date', how='left')\n",
    "    .merge(visitors_a_daily, left_on='date', right_on='date', how='left')\n",
    "    .merge(visitors_b_daily, left_on='date', right_on='date', how='left')\n",
    "    .merge(visitors_a_cummulative, left_on='date', right_on='date', how='left')\n",
    "    .merge(visitors_b_cummulative, left_on='date', right_on='date', how='left')\n",
    ")\n",
    "\n",
    "data.head(5)"
   ]
  },
  {
   "cell_type": "markdown",
   "metadata": {},
   "source": [
    "### Выбор метода определения статистической значимости различий конверсии и среднего чека"
   ]
  },
  {
   "cell_type": "markdown",
   "metadata": {},
   "source": [
    "Для выбора метода определения статистической значимости этих показателей проведем проверку распределений на нормальность. Для этого воспользуемся критерием Шапиро-Уилка."
   ]
  },
  {
   "cell_type": "code",
   "execution_count": 22,
   "metadata": {},
   "outputs": [],
   "source": [
    "#Напишем для этого функцию, определяющую p-value и проверяющую гипотезу о нормальном распределении.\n",
    "def norm_test(df):\n",
    "    alpha = .05 # критический уровень статистической значимости\n",
    "    results = stats.shapiro(df)\n",
    "    p_value = results[1] # второе значение в массиве результатов (с индексом 1) - p-value\n",
    "    print('p-значение: ', p_value)\n",
    "    if (p_value < alpha):\n",
    "        print(\"Отвергаем нулевую гипотезу: распределение не нормально\")\n",
    "    else:\n",
    "        print(\"Не получилось отвергнуть нулевую гипотезу, всё нормально\")"
   ]
  },
  {
   "cell_type": "code",
   "execution_count": 23,
   "metadata": {},
   "outputs": [
    {
     "name": "stdout",
     "output_type": "stream",
     "text": [
      "p-значение:  0.0\n",
      "Отвергаем нулевую гипотезу: распределение не нормально\n",
      "__________________________________________________\n",
      "p-значение:  0.0\n",
      "Отвергаем нулевую гипотезу: распределение не нормально\n",
      "__________________________________________________\n",
      "p-значение:  2.7017914807604703e-33\n",
      "Отвергаем нулевую гипотезу: распределение не нормально\n",
      "__________________________________________________\n",
      "p-значение:  0.0\n",
      "Отвергаем нулевую гипотезу: распределение не нормально\n",
      "__________________________________________________\n"
     ]
    }
   ],
   "source": [
    "#ДФ для проверки - количество заказов и выручка на пользователя по сырым и отфильтрованным данным соответственно.\n",
    "orders_filtred = orders.groupby('visitor_id')['revenue'].sum()[orders.groupby('visitor_id')['revenue'].sum() < 28000]\n",
    "orders_filtred2 = orders_by_users['orders'][orders_by_users['orders'] < 3]\n",
    "dfs = [orders_by_users['orders'], orders.groupby('visitor_id')['revenue'].sum(),\n",
    "       orders_filtred, orders_filtred2]\n",
    "for df in dfs:\n",
    "    norm_test(df)\n",
    "    print('_'*50)"
   ]
  },
  {
   "cell_type": "markdown",
   "metadata": {},
   "source": [
    "Очевидно, что все наши данные распределены ненормально, значит мы можем использовать *непараметрический тест Уилкоксона-Манна-Уитни.*"
   ]
  },
  {
   "cell_type": "markdown",
   "metadata": {},
   "source": [
    "### Расчет статистической значимости различия конверсии и среднего чека по \"сырым\" данным"
   ]
  },
  {
   "cell_type": "markdown",
   "metadata": {},
   "source": [
    "Теперь можно приступить к расчету статистической значимости различия конверсии по результатам теста.  \n",
    "Для этого сформируем нулевую и альтернативную гипотезу.  \n",
    "**Нулевая H0:** вероятность того, что конверсия в группе А превышает конверсию в группе В, равна 50%  \n",
    "**Альтернативная H1:** вероятность того, что конверсия в группе А превышает конверсию в группе В, не равна 50%"
   ]
  },
  {
   "cell_type": "code",
   "execution_count": 24,
   "metadata": {},
   "outputs": [],
   "source": [
    "#Создадим ДФ, где для пользователей, совершивших хотя бы 1 заказ, будет указано число заказов.\n",
    "\n",
    "orders_by_users_a = (\n",
    "    orders[orders['group'] == 'A']\n",
    "    .groupby('visitor_id', as_index=False)\n",
    "    .agg({'transaction_id': pd.Series.nunique})\n",
    ")\n",
    "orders_by_users_a.columns = ['visitor_id', 'orders']\n",
    "\n",
    "orders_by_users_b = (\n",
    "    orders[orders['group'] == 'B']\n",
    "    .groupby('visitor_id', as_index=False)\n",
    "    .agg({'transaction_id': pd.Series.nunique})\n",
    ")\n",
    "orders_by_users_b.columns = ['visitor_id', 'orders'] \n",
    "\n",
    "#Создадим переменные, в которых пользователям с заказами будет соответствовать число заказов пользователя,\n",
    "#а пользователям без заказов — нули.\n",
    "sample_a = pd.concat([orders_by_users_a['orders'],\n",
    "                       pd.Series(0, index=np.arange(data['visitors_per_date_a'].sum()\n",
    "                                                    - len(orders_by_users_a['orders'])),\n",
    "                                 name='orders')],axis=0)\n",
    "           \n",
    "sample_b = pd.concat([orders_by_users_b['orders'],\n",
    "                      pd.Series(0, index=np.arange(data['visitors_per_date_b'].sum()\n",
    "                                                   - len(orders_by_users_b['orders'])),\n",
    "                                name='orders')],axis=0)"
   ]
  },
  {
   "cell_type": "code",
   "execution_count": 25,
   "metadata": {},
   "outputs": [
    {
     "name": "stdout",
     "output_type": "stream",
     "text": [
      "P-value составляет: 0.01679\n",
      "Отвергаем нулевую гипотезу\n",
      "Относительный прирост конверсии составляет: 0.138\n"
     ]
    }
   ],
   "source": [
    "#Посчитаем статистическую значимость различия конверсии с помощью теста Манна-Уитни. \n",
    "#Выведем p-value для сравнения конверсии между группами.\n",
    "\n",
    "alpha = .05 # критический уровень статистической значимости\n",
    "\n",
    "p_val1 = stats.mannwhitneyu(sample_a, sample_b)[1]\n",
    "\n",
    "print(f'P-value составляет: {\"{0:.5f}\".format(p_val1)}')\n",
    "\n",
    "if p_val1 < alpha:\n",
    "    print(\"Отвергаем нулевую гипотезу\")\n",
    "else:\n",
    "    print(\"Не получилось отвергнуть нулевую гипотезу\") \n",
    "\n",
    "#Вычислим и выведем относительное различие в конверсии между группами\n",
    "print('Относительный прирост конверсии составляет:',\n",
    "      \"{0:.3f}\".format(sample_b.mean() / sample_a.mean() - 1))"
   ]
  },
  {
   "cell_type": "markdown",
   "metadata": {},
   "source": [
    "P-value значительно меньше 0.05, значит мы отвергаем нулевую гипотезу - по \"сырым\" данным между конверсиями двух групп есть статистически значимое различие.\n",
    "Относительный прирост конверсии в группе В относительно группы А составляет 13.8%. "
   ]
  },
  {
   "cell_type": "markdown",
   "metadata": {},
   "source": [
    "Сравним средние чеки по \"сырым\" данным. Для этого сформируем нулевую и альтернативную гипотезу.  \n",
    "**Нулевая H0:** вероятность того, что средний чек в группе А превышает средний чек в группе В, равна 50%  \n",
    "**Альтернативная H1:** вероятность того, что средний чек в группе А превышает средний чек в группе В, не равна 50% "
   ]
  },
  {
   "cell_type": "code",
   "execution_count": 26,
   "metadata": {},
   "outputs": [
    {
     "name": "stdout",
     "output_type": "stream",
     "text": [
      "P-value составляет: 0.729\n",
      "Отвергаем нулевую гипотезу\n",
      "Относительный прирост среднего чека составляет: 0.259\n"
     ]
    }
   ],
   "source": [
    "#Посчитаем статистическую значимость различия среднего чека с помощью теста Манна-Уитни. \n",
    "#Выведем p-value для сравнения среднего чека между группами.\n",
    "p_val2 = stats.mannwhitneyu(orders[orders[\"group\"]==\"A\"][\"revenue\"],\n",
    "                           orders[orders[\"group\"]==\"B\"][\"revenue\"])[1]\n",
    "print(\"P-value составляет:\",\n",
    "    '{0:.3f}'.format(p_val2))\n",
    "if p_val1 < alpha:\n",
    "    print(\"Отвергаем нулевую гипотезу\")\n",
    "else:\n",
    "    print(\"Не получилось отвергнуть нулевую гипотезу\") \n",
    "    \n",
    "#Вычислим и выведем относительное различие в среднем чеке между группами\n",
    "print(\"Относительный прирост среднего чека составляет:\",\n",
    "    \"{0:.3f}\".format(orders[orders[\"group\"]==\"B\"][\"revenue\"].mean() /\n",
    "                     orders[orders[\"group\"]==\"A\"][\"revenue\"].mean()-1))      "
   ]
  },
  {
   "cell_type": "markdown",
   "metadata": {},
   "source": [
    "Несмотря на то, что относительный прирост размера среднего чека в группе В относительно группы А составляет аж 25.9%, p-value значительно выше 0.05, что означает, что отвергнуть нулевую гипотезу не получилось - по \"сырым\" данным между средним чеком двух групп нет статистически значимого различия.  \n",
    "Проведем расчеты по \"очищенным\" данным, проверяя те же гипотезы."
   ]
  },
  {
   "cell_type": "markdown",
   "metadata": {},
   "source": [
    "### Расчет статистической значимости различия конверсии и среднего чека по \"очищенным\" данным"
   ]
  },
  {
   "cell_type": "markdown",
   "metadata": {},
   "source": [
    "Для начала отфильтруем наш ДФ от аномальных значений"
   ]
  },
  {
   "cell_type": "code",
   "execution_count": 27,
   "metadata": {
    "scrolled": true
   },
   "outputs": [
    {
     "data": {
      "text/plain": [
       "1099     148427295\n",
       "18       199603092\n",
       "928      204675465\n",
       "23       237748145\n",
       "37       249864742\n",
       "           ...    \n",
       "723     4009017467\n",
       "627     4120364173\n",
       "743     4133034833\n",
       "499     4256040402\n",
       "662     4266935830\n",
       "Name: visitor_id, Length: 74, dtype: int64"
      ]
     },
     "execution_count": 27,
     "metadata": {},
     "output_type": "execute_result"
    }
   ],
   "source": [
    "users_with_many_orders = pd.concat(\n",
    "    [\n",
    "        orders_by_users_a[orders_by_users_a['orders'] > 2]['visitor_id'],\n",
    "        orders_by_users_b[orders_by_users_b['orders'] > 2]['visitor_id'],\n",
    "    ],\n",
    "    axis=0,\n",
    ")\n",
    "users_with_expensive_orders = orders[orders['revenue'] > 28000]['visitor_id']\n",
    "abnormal_users = (\n",
    "    pd.concat([users_with_many_orders, users_with_expensive_orders], axis=0)\n",
    "    .drop_duplicates()\n",
    "    .sort_values()\n",
    ")\n",
    "abnormal_users"
   ]
  },
  {
   "cell_type": "code",
   "execution_count": 28,
   "metadata": {},
   "outputs": [],
   "source": [
    "#Создадим переменные, в которых пользователям с заказами будет соответствовать число заказов пользователя,\n",
    "#а пользователям без заказов — нули, исключая аномальные значения\n",
    "sample_a_filtered = pd.concat(\n",
    "    [\n",
    "        orders_by_users_a[\n",
    "            np.logical_not(orders_by_users_a['visitor_id'].isin(abnormal_users))\n",
    "        ]['orders'],\n",
    "        pd.Series(\n",
    "            0,\n",
    "            index=np.arange(\n",
    "                data['visitors_per_date_a'].sum() - len(orders_by_users_a['orders'])\n",
    "            ),\n",
    "            name='orders',\n",
    "        ),\n",
    "    ],\n",
    "    axis=0,\n",
    ")\n",
    "\n",
    "sample_b_filtered = pd.concat(\n",
    "    [\n",
    "        orders_by_users_b[\n",
    "            np.logical_not(orders_by_users_b['visitor_id'].isin(abnormal_users))\n",
    "        ]['orders'],\n",
    "        pd.Series(\n",
    "            0,\n",
    "            index=np.arange(\n",
    "                data['visitors_per_date_b'].sum() - len(orders_by_users_b['orders'])\n",
    "            ),\n",
    "            name='orders',\n",
    "        ),\n",
    "    ],\n",
    "    axis=0,\n",
    ") "
   ]
  },
  {
   "cell_type": "code",
   "execution_count": 29,
   "metadata": {},
   "outputs": [
    {
     "name": "stdout",
     "output_type": "stream",
     "text": [
      "P-value составляет: 0.01304\n",
      "Отвергаем нулевую гипотезу\n",
      "Относительный прирост конверсии составляет: 0.173\n"
     ]
    }
   ],
   "source": [
    "#Посчитаем статистическую значимость различия конверсии с помощью теста Манна-Уитни. \n",
    "#Выведем p-value для сравнения конверсии между группами.\n",
    "p_val3 = stats.mannwhitneyu(sample_a_filtered, sample_b_filtered)[1] \n",
    "\n",
    "print(f'P-value составляет: {\"{0:.5f}\".format(p_val3)}')\n",
    "\n",
    "if p_val3 < alpha:\n",
    "    print(\"Отвергаем нулевую гипотезу\")\n",
    "else:\n",
    "    print(\"Не получилось отвергнуть нулевую гипотезу\") \n",
    "#вычислим и выведем относительное различие в конверсии между группами\n",
    "print('Относительный прирост конверсии составляет:', \n",
    "      \"{0:.3f}\".format(sample_b_filtered.mean()/sample_a_filtered.mean()-1))"
   ]
  },
  {
   "cell_type": "markdown",
   "metadata": {},
   "source": [
    "P-value все так же значительно меньше 0.05, значит мы снова отвергаем нулевую гипотезу - по \"очищенным\" данным между конверсиями двух групп тоже есть статистически значимое различие.  \n",
    "Относительный прирост конверсии в группе В относительно группы А стал еще больше и составляет 17.3%.  \n",
    "Сравним средние чеки по \"очищенным\" данным."
   ]
  },
  {
   "cell_type": "code",
   "execution_count": 30,
   "metadata": {},
   "outputs": [],
   "source": [
    "sample_a_filtered = orders[\n",
    "                np.logical_and(\n",
    "                    orders['group'] == 'A',\n",
    "                    np.logical_not(orders['visitor_id'].isin(abnormal_users)),\n",
    "                )\n",
    "            ]['revenue']\n",
    "\n",
    "sample_b_filtered = orders[\n",
    "                np.logical_and(\n",
    "                    orders['group'] == 'B',\n",
    "                    np.logical_not(orders['visitor_id'].isin(abnormal_users)),\n",
    "                )\n",
    "            ]['revenue']"
   ]
  },
  {
   "cell_type": "code",
   "execution_count": 31,
   "metadata": {},
   "outputs": [
    {
     "name": "stdout",
     "output_type": "stream",
     "text": [
      "P-value составляет: 0.738\n",
      "Относительный прирост среднего чека составляет: -0.020\n"
     ]
    }
   ],
   "source": [
    "#Посчитаем статистическую значимость различия среднего чека с помощью теста Манна-Уитни. \n",
    "#Выведем p-value для сравнения среднего чека между группами.\n",
    "print(\"P-value составляет:\",\n",
    "    '{0:.3f}'.format(\n",
    "        stats.mannwhitneyu(sample_a_filtered, sample_b_filtered)[1]))\n",
    "\n",
    "#Вычислим и выведем относительное различие в среднем чеке между группами\n",
    "print(\"Относительный прирост среднего чека составляет:\",\n",
    "    \"{0:.3f}\".format(sample_b_filtered.mean() / sample_a_filtered.mean() - 1))      "
   ]
  },
  {
   "cell_type": "markdown",
   "metadata": {},
   "source": [
    "P-value все так же значительно выше 0.05, что означает, что отвергнуть нулевую гипотезу снова не получилось -  по \"очищенным\" данным между средним чеком двух групп тоже нет статистически значимого различия, и \"отрицательный рост\" размера среднего чека в группе В относительно группы А в 2% не имеет значения. "
   ]
  },
  {
   "cell_type": "markdown",
   "metadata": {},
   "source": [
    "### Вывод"
   ]
  },
  {
   "cell_type": "markdown",
   "metadata": {},
   "source": [
    "<div style=\"border:solid green 2px; padding: 20px\">\n",
    "\n",
    "Расчет статистически значимого различия конверсии и среднего чека между двумя группами по \"сырым\" и \"очищенным\" различается.\n",
    "        \n",
    "- относительный прирост конверсии в группе В относительно группы А статистически значим и составляет 13.8%, нулевая гипотеза отвергнута    \n",
    "- относительный прирост размера среднего чека в группе В относительно группы А составляет аж 25.9%, но статистически не значим, не получилось отвергнуть нулевую гипотезу \n",
    "    \n",
    "При этом, **по \"очищенным\" данным**:  \n",
    "    \n",
    "- **относительный прирост конверсии** в группе В относительно группы А **статистически значим и составляет 17.3%**, нулевая гипотеза отвергнута    \n",
    "- **относительный прирост размера среднего чека** в группе В относительно группы А составляет аж -2%, но **статистически не значим**, не получилось отвергнуть нулевую гипотезу"
   ]
  },
  {
   "cell_type": "markdown",
   "metadata": {},
   "source": [
    "## Вывод"
   ]
  },
  {
   "cell_type": "markdown",
   "metadata": {},
   "source": [
    "<div style=\"border:solid green 2px; padding: 20px\">\n",
    "\n",
    "В ходе предобработки и анализа данных было обнаружено некорректное разделение пользователей на группы при проведении A/B-теста, что может ставить под сомнение последующий анализ и выводы, но достоверная очистка данных от них невозможна.\n",
    "    \n",
    "Для приоритизации гипотез были использованы методы ICE и RICE. \n",
    "При использовании метода ICE наиболее полезными гипотезами оказались следующие (в порядке убывания приоритета):\n",
    "    \n",
    "- №8 - скидка в день рождения\n",
    "- №0 - два новых канала привлечения пользователей\n",
    "- №7 - подписка на сервис для осществления рассылок\n",
    "\n",
    "При использовании метода RICE с добавлением параметра охвата наиболее полезными гипотезами оказались следующие:\n",
    "- №7 - подписка на сервис для осществления рассылок\n",
    "- №2 - рекомендации товаров для повышения конверсии и среднего чека\n",
    "- №0 - два новых канала привлечения пользователей\n",
    "- №6 - баннеры с акциями для увеличения конверсии\n",
    "\n",
    "Разница в результатах связана с добавлением параметра охвата пользователей, задействованных в реализации гипотезы.\n",
    "**С большим отрывом наибольший приоритет получила гипотеза №7 в связи с тем, что рассылка будет затрагивать абсолютно всех пользователей, зарегистрированных на сайтах.**  \n",
    "Меньший приоритет получила гипотеза с акцией в день рождения, потому что данный метод будет работать лишь раз в году, а к тому же, возможно, не все пользователи указывали дату своего рождения. Гипотеза с дополнительными каналами привлечения так же охватыват меньшее количество пользователей сайта.     \n",
    "    \n",
    "Далее был проведен анализ имеющихся данных и были получены следующие предварительные результаты:  \n",
    "    \n",
    "- **кумулятивная выручка** растет и стабильно **выше в группе B**\n",
    "- **кумулятивный средний чек выше в группе B**, но имеет тренд к снижению\n",
    "- **кумулятивная конверсия** стабильна и **выше в группе B**\n",
    "- **в группе В имеются явные аномальные значения**, значительно влияющие на результат, от которых необходимо очистить данные\n",
    "- **значительное превышение кумулятивного среднего чека группы А над группой В** с резким аномальным скачком в конце второй декады\n",
    "- в первой декаде **конверсия в группе В стала выше, чем в группе А**, и к концу теста почти стабилизируется **на уровне 15%** лучше, чем конверсия в группе А\n",
    "    \n",
    "Для последующей очистки данных аномалий было выяснено, что лишь **5% пользователей делают более 2 заказов и лишь 5% заказов на сумму более 28 тыс. рублей**, что и стало границами для удаления аномальных значений.\n",
    "    \n",
    "Наконец, было выяснено, что расчет статистически значимого различия конверсии и среднего чека между двумя группами по \"сырым\" и \"очищенным\" различается.\n",
    "        \n",
    "- относительный прирост конверсии в группе В относительно группы А статистически значим и составляет 13.8%, нулевая гипотеза отвергнута    \n",
    "- относительный прирост размера среднего чека в группе В относительно группы А составляет аж 25.9%, но статистически не значим, не получилось отвергнуть нулевую гипотезу \n",
    "    \n",
    "При этом, **по \"очищенным\" данным**:  \n",
    "    \n",
    "- **относительный прирост конверсии** в группе В относительно группы А **статистически значим и составляет 17.3%**, нулевая гипотеза отвергнута    \n",
    "- **относительный прирост размера среднего чека** в группе В относительно группы А составляет аж -2%, но **статистически не значим**, не получилось отвергнуть нулевую гипотезу\n",
    "    \n",
    "**Таким образом, проведя этот анализ, можно заключить, что A/B-тест прошел успешно и может быть завершен.   \n",
    "Следует принять второй вариант теста, т.к. несмотря на то, что статистически значимого изменения среднего чека не наблюдается, при нем у пользователей значительно выросла конверсия - на 17.3% и это изменение статистически значимо.  \n",
    "Это, как следствие, означает увеличение выручки, ведущей вероятнее всего к увеличению прибыли нашего интернет-магазина** "
   ]
  },
  {
   "cell_type": "markdown",
   "metadata": {},
   "source": [
    "## Чек-лист готовности проекта"
   ]
  },
  {
   "cell_type": "markdown",
   "metadata": {},
   "source": [
    "- [x]  проведена приоритизация гипотез\n",
    "- [x]  построен график кумулятивной выручки по группам. \n",
    "- [x]  построен график кумулятивного среднего чека по группам. \n",
    "- [x]  построен график относительного изменения кумулятивного среднего чека группы B к группе A. \n",
    "- [x]  построен график кумулятивной конверсии по группам. \n",
    "- [x]  построен график относительного изменения кумулятивной конверсии группы B к группе A. \n",
    "- [x]  построен точечный график количества заказов по пользователям. \n",
    "- [x]  посчитаны 95-й и 99-й перцентили количества заказов на пользователя. Выбрана граница для определения аномальных пользователей.\n",
    "- [x]  построен точечный график стоимостей заказов. \n",
    "- [x]  посчитаны 95-й и 99-й перцентили стоимости заказов. Выбрана границу для определения аномальных заказов.\n",
    "- [x]  посчитана статистическую значимость различий в конверсии между группами по «сырым» данным. \n",
    "- [x]  посчитана статистическую значимость различий в среднем чеке заказа между группами по «сырым» данным. \n",
    "- [x]  посчитана статистическую значимость различий в конверсии между группами по «очищенным» данным. \n",
    "- [x]  посчитана статистическую значимость различий в среднем чеке заказа между группами по «очищенным» данным. \n",
    "- [x]  принято и объяснено решение по результатам теста. \n",
    "- [x]  есть общий вывод"
   ]
  }
 ],
 "metadata": {
  "ExecuteTimeLog": [
   {
    "duration": 1400,
    "start_time": "2022-04-02T10:21:35.324Z"
   },
   {
    "duration": 93,
    "start_time": "2022-04-02T10:21:36.727Z"
   },
   {
    "duration": 18,
    "start_time": "2022-04-02T10:21:36.822Z"
   },
   {
    "duration": 15,
    "start_time": "2022-04-02T10:21:36.842Z"
   },
   {
    "duration": 12,
    "start_time": "2022-04-02T10:21:36.859Z"
   },
   {
    "duration": 17,
    "start_time": "2022-04-02T10:21:36.902Z"
   },
   {
    "duration": 13,
    "start_time": "2022-04-02T10:21:36.922Z"
   },
   {
    "duration": 327,
    "start_time": "2022-04-02T10:21:36.937Z"
   },
   {
    "duration": 298,
    "start_time": "2022-04-02T10:21:37.266Z"
   },
   {
    "duration": 195,
    "start_time": "2022-04-02T10:21:37.567Z"
   },
   {
    "duration": 196,
    "start_time": "2022-04-02T10:21:37.764Z"
   },
   {
    "duration": 332,
    "start_time": "2022-04-02T10:21:37.962Z"
   },
   {
    "duration": 304,
    "start_time": "2022-04-02T10:21:38.300Z"
   },
   {
    "duration": 145,
    "start_time": "2022-04-02T10:21:38.606Z"
   },
   {
    "duration": 6,
    "start_time": "2022-04-02T10:21:38.754Z"
   },
   {
    "duration": 176,
    "start_time": "2022-04-02T10:21:38.762Z"
   },
   {
    "duration": 6,
    "start_time": "2022-04-02T10:21:38.941Z"
   },
   {
    "duration": 252,
    "start_time": "2022-04-02T10:21:38.949Z"
   },
   {
    "duration": 169,
    "start_time": "2022-04-02T10:21:39.203Z"
   },
   {
    "duration": 28,
    "start_time": "2022-04-02T10:21:39.374Z"
   },
   {
    "duration": 11,
    "start_time": "2022-04-02T10:21:39.404Z"
   },
   {
    "duration": 42,
    "start_time": "2022-04-02T10:21:39.417Z"
   },
   {
    "duration": 15,
    "start_time": "2022-04-02T10:21:39.461Z"
   }
  ],
  "kernelspec": {
   "display_name": "Python 3 (ipykernel)",
   "language": "python",
   "name": "python3"
  },
  "language_info": {
   "codemirror_mode": {
    "name": "ipython",
    "version": 3
   },
   "file_extension": ".py",
   "mimetype": "text/x-python",
   "name": "python",
   "nbconvert_exporter": "python",
   "pygments_lexer": "ipython3",
   "version": "3.9.7"
  },
  "toc": {
   "base_numbering": 1,
   "nav_menu": {},
   "number_sections": true,
   "sideBar": true,
   "skip_h1_title": true,
   "title_cell": "Содержание",
   "title_sidebar": "Содержание",
   "toc_cell": false,
   "toc_position": {
    "height": "calc(100% - 180px)",
    "left": "10px",
    "top": "150px",
    "width": "557px"
   },
   "toc_section_display": true,
   "toc_window_display": true
  }
 },
 "nbformat": 4,
 "nbformat_minor": 2
}
