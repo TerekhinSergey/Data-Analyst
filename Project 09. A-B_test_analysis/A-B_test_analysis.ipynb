{
 "cells": [
  {
   "cell_type": "markdown",
   "id": "082c9488",
   "metadata": {},
   "source": [
    "## Событийная аналитика A/B-эксперимента\n",
    "\n",
    "В нашем приложении пользователей разбили на 2 группы: контрольная группа со старой рекомендательной системой и одна экспериментальная — с новой. Необходимо выяснить, какая рекомендательная система лучше.\n",
    "\n",
    "\n",
    "## Цель проекта.\n",
    "\n",
    "Изучить воронку продаж и оценить корректность проведения теста, а также исследовать результаты A/B-эксперимента по внедрению рекомендательной системы. \n",
    "\n",
    "\n",
    "## Задачи проекта.\n",
    "\n",
    "Во время исследования необходимо решить следующие задачи:\n",
    "\n",
    "1. Изучить исходные данные и провести их предобработку.\n",
    "2. Оценить корректность проведения теста.\n",
    "3. Провести исследовательский анализ данных (EDA).\n",
    "4. Оценить эффективность проведенного A/B-эксперимента.\n",
    "\n",
    "\n",
    "## Техническое задание.\n",
    "\n",
    "Название теста: recommender_system_test;  \n",
    "группы: А — контрольная, B — новая платёжная воронка;  \n",
    "дата запуска: 2020-12-07;  \n",
    "дата остановки набора новых пользователей: 2020-12-21;  \n",
    "дата остановки: 2021-01-04;  \n",
    "аудитория: 15% новых пользователей из региона EU;  \n",
    "назначение теста: тестирование изменений, связанных с внедрением улучшенной рекомендательной системы;  \n",
    "ожидаемое количество участников теста: 6000.  \n",
    "ожидаемый эффект: за 14 дней с момента регистрации пользователи покажут улучшение каждой метрики не менее, чем на 10%:  \n",
    "• конверсии в просмотр карточек товаров — событие product_page,  \n",
    "• просмотры корзины — product_cart,  \n",
    "• покупки — purchase.  \n",
    "\n",
    "\n",
    "## Описание данных.  \n",
    "\n",
    "<div style=\"border:solid black 1px; padding: 20px\">   \n",
    "\n",
    "Имеются датафреймы со следующими данными:\n",
    "\n",
    "*ab_project_marketing_events.csv* — календарь маркетинговых событий на 2020 год.\n",
    "\n",
    "Структура файла:  \n",
    "    \n",
    "•\t`name` — название маркетингового события;  \n",
    "•\t`regions` — регионы, в которых будет проводиться рекламная кампания;  \n",
    "•\t`start_dt` — дата начала кампании;  \n",
    "•\t`finish_dt` — дата завершения кампании.  \n",
    "\n",
    "*final_ab_new_users.csv* — пользователи, зарегистрировавшиеся с 7 по 21 декабря\n",
    "2020 года.\n",
    "    \n",
    "Структура файла: \n",
    "    \n",
    "•\t`user_id` — идентификатор пользователя;  \n",
    "•\t`first_date` — дата регистрации;  \n",
    "•\t`region` — регион пользователя;  \n",
    "•\t`device` — устройство, с которого происходила регистрация.  \n",
    "\n",
    "*final_ab_events.csv* — действия новых пользователей в период с 7 декабря 2020 по 4 января 2021 года.\n",
    "    \n",
    "Структура файла:  \n",
    "    \n",
    "•\t`user_id` — идентификатор пользователя;  \n",
    "•\t`event_dt` — дата и время покупки;  \n",
    "•\t`event_name` — тип события;  \n",
    "•\t`details` — дополнительные данные о событии. Например, для покупок,  \n",
    "•\t`purchase`— в этом поле хранится стоимость покупки в долларах.\n",
    "\n",
    "*final_ab_participants.csv* — таблица участников тестов.\n",
    "    \n",
    "Структура файла:  \n",
    "    \n",
    "•\t`user_id` — идентификатор пользователя;  \n",
    "•\t`ab_test` — название теста;  \n",
    "•\t`group` — группа пользователя.  "
   ]
  },
  {
   "cell_type": "markdown",
   "id": "4f166821",
   "metadata": {},
   "source": [
    "# Импортируем библиотеки и изучим данные."
   ]
  },
  {
   "cell_type": "code",
   "execution_count": 1,
   "id": "8493c3ed",
   "metadata": {},
   "outputs": [],
   "source": [
    "import pandas as pd\n",
    "pd.set_option(\"display.precision\", 2)\n",
    "pd.options.mode.chained_assignment = None  # default='warn'\n",
    "import plotly.express as px\n",
    "from plotly import graph_objects as go\n",
    "import plotly.io as pio\n",
    "png_renderer = pio.renderers[\"svg\"]\n",
    "png_renderer.width = 950\n",
    "png_renderer.height = 600\n",
    "pio.renderers.default = \"svg\"\n",
    "from scipy import stats as st\n",
    "import numpy as np\n",
    "import math as mth"
   ]
  },
  {
   "cell_type": "code",
   "execution_count": 2,
   "id": "67620b86",
   "metadata": {},
   "outputs": [],
   "source": [
    "path = 'C:\\\\Users\\\\Sergey\\\\Documents\\\\Python Scripts\\\\Диплом\\\\AB-тест\\\\'\n",
    "try:\n",
    "    calendar, users, actions, members = (\n",
    "    pd.read_csv(path + 'final_ab_marketing_events.csv'), # календарь событий \n",
    "    pd.read_csv(path + 'final_ab_new_users.csv'),          # пользователи\n",
    "    pd.read_csv(path + 'final_ab_events.csv'),             # действия пользователей\n",
    "    pd.read_csv(path + 'final_ab_participants.csv')        # участники теста\n",
    "    )\n",
    "except:\n",
    "    print('Loading Error')"
   ]
  },
  {
   "cell_type": "code",
   "execution_count": 3,
   "id": "b7453985",
   "metadata": {},
   "outputs": [],
   "source": [
    "NORM = '\\033[0m'  # все атрибуты по умолчанию\n",
    "BOLD = '\\033[1m'  # жирный шрифт (интенсивный цвет)\n",
    "df_list = [calendar, users, actions, members]\n",
    "\n",
    "#Напишем функцию для вывода основной информации о ДФ.\n",
    "def full_info(df_list):\n",
    "    for df in df_list:\n",
    "        if len(df.index) > 10:\n",
    "            print(BOLD+'\\n Случайная выборка 10 строк датафрейма:')\n",
    "            display (df.sample(n=10, random_state=10))\n",
    "        else:\n",
    "            print(BOLD+'\\n Первые 10 строк датафрейма:')\n",
    "            display (df.head(10))\n",
    "        print(BOLD+'\\n Типы данных и общая информация: \\n'+NORM)\n",
    "        display(df.info())\n",
    "        print(BOLD+' Наличие дубликатов: '+NORM, df.duplicated().sum())\n",
    "        print(BOLD+'\\n Наличие пропусков: \\n'+NORM)\n",
    "        display(df.isna().sum())\n",
    "        print(BOLD+'\\n Статистики количественных переменных :')\n",
    "        display(df.describe())\n",
    "        print('*'*50)\n",
    "    return"
   ]
  },
  {
   "cell_type": "code",
   "execution_count": 4,
   "id": "0ed1f5b1",
   "metadata": {},
   "outputs": [
    {
     "name": "stdout",
     "output_type": "stream",
     "text": [
      "\u001b[1m\n",
      " Случайная выборка 10 строк датафрейма:\n"
     ]
    },
    {
     "data": {
      "text/html": [
       "<div>\n",
       "<style scoped>\n",
       "    .dataframe tbody tr th:only-of-type {\n",
       "        vertical-align: middle;\n",
       "    }\n",
       "\n",
       "    .dataframe tbody tr th {\n",
       "        vertical-align: top;\n",
       "    }\n",
       "\n",
       "    .dataframe thead th {\n",
       "        text-align: right;\n",
       "    }\n",
       "</style>\n",
       "<table border=\"1\" class=\"dataframe\">\n",
       "  <thead>\n",
       "    <tr style=\"text-align: right;\">\n",
       "      <th></th>\n",
       "      <th>name</th>\n",
       "      <th>regions</th>\n",
       "      <th>start_dt</th>\n",
       "      <th>finish_dt</th>\n",
       "    </tr>\n",
       "  </thead>\n",
       "  <tbody>\n",
       "    <tr>\n",
       "      <th>3</th>\n",
       "      <td>Easter Promo</td>\n",
       "      <td>EU, CIS, APAC, N.America</td>\n",
       "      <td>2020-04-12</td>\n",
       "      <td>2020-04-19</td>\n",
       "    </tr>\n",
       "    <tr>\n",
       "      <th>7</th>\n",
       "      <td>Labor day (May 1st) Ads Campaign</td>\n",
       "      <td>EU, CIS, APAC</td>\n",
       "      <td>2020-05-01</td>\n",
       "      <td>2020-05-03</td>\n",
       "    </tr>\n",
       "    <tr>\n",
       "      <th>12</th>\n",
       "      <td>Single's Day Gift Promo</td>\n",
       "      <td>APAC</td>\n",
       "      <td>2020-11-11</td>\n",
       "      <td>2020-11-12</td>\n",
       "    </tr>\n",
       "    <tr>\n",
       "      <th>6</th>\n",
       "      <td>Chinese New Year Promo</td>\n",
       "      <td>APAC</td>\n",
       "      <td>2020-01-25</td>\n",
       "      <td>2020-02-07</td>\n",
       "    </tr>\n",
       "    <tr>\n",
       "      <th>8</th>\n",
       "      <td>International Women's Day Promo</td>\n",
       "      <td>EU, CIS, APAC</td>\n",
       "      <td>2020-03-08</td>\n",
       "      <td>2020-03-10</td>\n",
       "    </tr>\n",
       "    <tr>\n",
       "      <th>2</th>\n",
       "      <td>St. Patric's Day Promo</td>\n",
       "      <td>EU, N.America</td>\n",
       "      <td>2020-03-17</td>\n",
       "      <td>2020-03-19</td>\n",
       "    </tr>\n",
       "    <tr>\n",
       "      <th>10</th>\n",
       "      <td>CIS New Year Gift Lottery</td>\n",
       "      <td>CIS</td>\n",
       "      <td>2020-12-30</td>\n",
       "      <td>2021-01-07</td>\n",
       "    </tr>\n",
       "    <tr>\n",
       "      <th>5</th>\n",
       "      <td>Black Friday Ads Campaign</td>\n",
       "      <td>EU, CIS, APAC, N.America</td>\n",
       "      <td>2020-11-26</td>\n",
       "      <td>2020-12-01</td>\n",
       "    </tr>\n",
       "    <tr>\n",
       "      <th>11</th>\n",
       "      <td>Dragon Boat Festival Giveaway</td>\n",
       "      <td>APAC</td>\n",
       "      <td>2020-06-25</td>\n",
       "      <td>2020-07-01</td>\n",
       "    </tr>\n",
       "    <tr>\n",
       "      <th>13</th>\n",
       "      <td>Chinese Moon Festival</td>\n",
       "      <td>APAC</td>\n",
       "      <td>2020-10-01</td>\n",
       "      <td>2020-10-07</td>\n",
       "    </tr>\n",
       "  </tbody>\n",
       "</table>\n",
       "</div>"
      ],
      "text/plain": [
       "                                name                   regions    start_dt  \\\n",
       "3                       Easter Promo  EU, CIS, APAC, N.America  2020-04-12   \n",
       "7   Labor day (May 1st) Ads Campaign             EU, CIS, APAC  2020-05-01   \n",
       "12           Single's Day Gift Promo                      APAC  2020-11-11   \n",
       "6             Chinese New Year Promo                      APAC  2020-01-25   \n",
       "8    International Women's Day Promo             EU, CIS, APAC  2020-03-08   \n",
       "2             St. Patric's Day Promo             EU, N.America  2020-03-17   \n",
       "10         CIS New Year Gift Lottery                       CIS  2020-12-30   \n",
       "5          Black Friday Ads Campaign  EU, CIS, APAC, N.America  2020-11-26   \n",
       "11     Dragon Boat Festival Giveaway                      APAC  2020-06-25   \n",
       "13             Chinese Moon Festival                      APAC  2020-10-01   \n",
       "\n",
       "     finish_dt  \n",
       "3   2020-04-19  \n",
       "7   2020-05-03  \n",
       "12  2020-11-12  \n",
       "6   2020-02-07  \n",
       "8   2020-03-10  \n",
       "2   2020-03-19  \n",
       "10  2021-01-07  \n",
       "5   2020-12-01  \n",
       "11  2020-07-01  \n",
       "13  2020-10-07  "
      ]
     },
     "metadata": {},
     "output_type": "display_data"
    },
    {
     "name": "stdout",
     "output_type": "stream",
     "text": [
      "\u001b[1m\n",
      " Типы данных и общая информация: \n",
      "\u001b[0m\n",
      "<class 'pandas.core.frame.DataFrame'>\n",
      "RangeIndex: 14 entries, 0 to 13\n",
      "Data columns (total 4 columns):\n",
      " #   Column     Non-Null Count  Dtype \n",
      "---  ------     --------------  ----- \n",
      " 0   name       14 non-null     object\n",
      " 1   regions    14 non-null     object\n",
      " 2   start_dt   14 non-null     object\n",
      " 3   finish_dt  14 non-null     object\n",
      "dtypes: object(4)\n",
      "memory usage: 576.0+ bytes\n"
     ]
    },
    {
     "data": {
      "text/plain": [
       "None"
      ]
     },
     "metadata": {},
     "output_type": "display_data"
    },
    {
     "name": "stdout",
     "output_type": "stream",
     "text": [
      "\u001b[1m Наличие дубликатов: \u001b[0m 0\n",
      "\u001b[1m\n",
      " Наличие пропусков: \n",
      "\u001b[0m\n"
     ]
    },
    {
     "data": {
      "text/plain": [
       "name         0\n",
       "regions      0\n",
       "start_dt     0\n",
       "finish_dt    0\n",
       "dtype: int64"
      ]
     },
     "metadata": {},
     "output_type": "display_data"
    },
    {
     "name": "stdout",
     "output_type": "stream",
     "text": [
      "\u001b[1m\n",
      " Статистики количественных переменных :\n"
     ]
    },
    {
     "data": {
      "text/html": [
       "<div>\n",
       "<style scoped>\n",
       "    .dataframe tbody tr th:only-of-type {\n",
       "        vertical-align: middle;\n",
       "    }\n",
       "\n",
       "    .dataframe tbody tr th {\n",
       "        vertical-align: top;\n",
       "    }\n",
       "\n",
       "    .dataframe thead th {\n",
       "        text-align: right;\n",
       "    }\n",
       "</style>\n",
       "<table border=\"1\" class=\"dataframe\">\n",
       "  <thead>\n",
       "    <tr style=\"text-align: right;\">\n",
       "      <th></th>\n",
       "      <th>name</th>\n",
       "      <th>regions</th>\n",
       "      <th>start_dt</th>\n",
       "      <th>finish_dt</th>\n",
       "    </tr>\n",
       "  </thead>\n",
       "  <tbody>\n",
       "    <tr>\n",
       "      <th>count</th>\n",
       "      <td>14</td>\n",
       "      <td>14</td>\n",
       "      <td>14</td>\n",
       "      <td>14</td>\n",
       "    </tr>\n",
       "    <tr>\n",
       "      <th>unique</th>\n",
       "      <td>14</td>\n",
       "      <td>6</td>\n",
       "      <td>14</td>\n",
       "      <td>14</td>\n",
       "    </tr>\n",
       "    <tr>\n",
       "      <th>top</th>\n",
       "      <td>Christmas&amp;New Year Promo</td>\n",
       "      <td>APAC</td>\n",
       "      <td>2020-12-25</td>\n",
       "      <td>2021-01-03</td>\n",
       "    </tr>\n",
       "    <tr>\n",
       "      <th>freq</th>\n",
       "      <td>1</td>\n",
       "      <td>4</td>\n",
       "      <td>1</td>\n",
       "      <td>1</td>\n",
       "    </tr>\n",
       "  </tbody>\n",
       "</table>\n",
       "</div>"
      ],
      "text/plain": [
       "                            name regions    start_dt   finish_dt\n",
       "count                         14      14          14          14\n",
       "unique                        14       6          14          14\n",
       "top     Christmas&New Year Promo    APAC  2020-12-25  2021-01-03\n",
       "freq                           1       4           1           1"
      ]
     },
     "metadata": {},
     "output_type": "display_data"
    },
    {
     "name": "stdout",
     "output_type": "stream",
     "text": [
      "**************************************************\n",
      "\u001b[1m\n",
      " Случайная выборка 10 строк датафрейма:\n"
     ]
    },
    {
     "data": {
      "text/html": [
       "<div>\n",
       "<style scoped>\n",
       "    .dataframe tbody tr th:only-of-type {\n",
       "        vertical-align: middle;\n",
       "    }\n",
       "\n",
       "    .dataframe tbody tr th {\n",
       "        vertical-align: top;\n",
       "    }\n",
       "\n",
       "    .dataframe thead th {\n",
       "        text-align: right;\n",
       "    }\n",
       "</style>\n",
       "<table border=\"1\" class=\"dataframe\">\n",
       "  <thead>\n",
       "    <tr style=\"text-align: right;\">\n",
       "      <th></th>\n",
       "      <th>user_id</th>\n",
       "      <th>first_date</th>\n",
       "      <th>region</th>\n",
       "      <th>device</th>\n",
       "    </tr>\n",
       "  </thead>\n",
       "  <tbody>\n",
       "    <tr>\n",
       "      <th>13739</th>\n",
       "      <td>8385EBA5F20CA915</td>\n",
       "      <td>2020-12-21</td>\n",
       "      <td>APAC</td>\n",
       "      <td>Mac</td>\n",
       "    </tr>\n",
       "    <tr>\n",
       "      <th>24008</th>\n",
       "      <td>30EF274147DFDE46</td>\n",
       "      <td>2020-12-22</td>\n",
       "      <td>EU</td>\n",
       "      <td>iPhone</td>\n",
       "    </tr>\n",
       "    <tr>\n",
       "      <th>60364</th>\n",
       "      <td>18F0ED3A92505168</td>\n",
       "      <td>2020-12-20</td>\n",
       "      <td>CIS</td>\n",
       "      <td>PC</td>\n",
       "    </tr>\n",
       "    <tr>\n",
       "      <th>40982</th>\n",
       "      <td>40A06E4DB1C23AB4</td>\n",
       "      <td>2020-12-11</td>\n",
       "      <td>CIS</td>\n",
       "      <td>Mac</td>\n",
       "    </tr>\n",
       "    <tr>\n",
       "      <th>6237</th>\n",
       "      <td>791D7C47A66650F2</td>\n",
       "      <td>2020-12-14</td>\n",
       "      <td>APAC</td>\n",
       "      <td>PC</td>\n",
       "    </tr>\n",
       "    <tr>\n",
       "      <th>8319</th>\n",
       "      <td>DF0131F98856817C</td>\n",
       "      <td>2020-12-14</td>\n",
       "      <td>EU</td>\n",
       "      <td>Android</td>\n",
       "    </tr>\n",
       "    <tr>\n",
       "      <th>32914</th>\n",
       "      <td>58B6DD816A387B42</td>\n",
       "      <td>2020-12-23</td>\n",
       "      <td>N.America</td>\n",
       "      <td>Mac</td>\n",
       "    </tr>\n",
       "    <tr>\n",
       "      <th>49640</th>\n",
       "      <td>41CC36D51D192DC8</td>\n",
       "      <td>2020-12-19</td>\n",
       "      <td>EU</td>\n",
       "      <td>PC</td>\n",
       "    </tr>\n",
       "    <tr>\n",
       "      <th>35685</th>\n",
       "      <td>0F7B4F098201E2E7</td>\n",
       "      <td>2020-12-10</td>\n",
       "      <td>EU</td>\n",
       "      <td>Android</td>\n",
       "    </tr>\n",
       "    <tr>\n",
       "      <th>56821</th>\n",
       "      <td>B8013B27063F6A8B</td>\n",
       "      <td>2020-12-13</td>\n",
       "      <td>EU</td>\n",
       "      <td>Android</td>\n",
       "    </tr>\n",
       "  </tbody>\n",
       "</table>\n",
       "</div>"
      ],
      "text/plain": [
       "                user_id  first_date     region   device\n",
       "13739  8385EBA5F20CA915  2020-12-21       APAC      Mac\n",
       "24008  30EF274147DFDE46  2020-12-22         EU   iPhone\n",
       "60364  18F0ED3A92505168  2020-12-20        CIS       PC\n",
       "40982  40A06E4DB1C23AB4  2020-12-11        CIS      Mac\n",
       "6237   791D7C47A66650F2  2020-12-14       APAC       PC\n",
       "8319   DF0131F98856817C  2020-12-14         EU  Android\n",
       "32914  58B6DD816A387B42  2020-12-23  N.America      Mac\n",
       "49640  41CC36D51D192DC8  2020-12-19         EU       PC\n",
       "35685  0F7B4F098201E2E7  2020-12-10         EU  Android\n",
       "56821  B8013B27063F6A8B  2020-12-13         EU  Android"
      ]
     },
     "metadata": {},
     "output_type": "display_data"
    },
    {
     "name": "stdout",
     "output_type": "stream",
     "text": [
      "\u001b[1m\n",
      " Типы данных и общая информация: \n",
      "\u001b[0m\n",
      "<class 'pandas.core.frame.DataFrame'>\n",
      "RangeIndex: 61733 entries, 0 to 61732\n",
      "Data columns (total 4 columns):\n",
      " #   Column      Non-Null Count  Dtype \n",
      "---  ------      --------------  ----- \n",
      " 0   user_id     61733 non-null  object\n",
      " 1   first_date  61733 non-null  object\n",
      " 2   region      61733 non-null  object\n",
      " 3   device      61733 non-null  object\n",
      "dtypes: object(4)\n",
      "memory usage: 1.9+ MB\n"
     ]
    },
    {
     "data": {
      "text/plain": [
       "None"
      ]
     },
     "metadata": {},
     "output_type": "display_data"
    },
    {
     "name": "stdout",
     "output_type": "stream",
     "text": [
      "\u001b[1m Наличие дубликатов: \u001b[0m 0\n",
      "\u001b[1m\n",
      " Наличие пропусков: \n",
      "\u001b[0m\n"
     ]
    },
    {
     "data": {
      "text/plain": [
       "user_id       0\n",
       "first_date    0\n",
       "region        0\n",
       "device        0\n",
       "dtype: int64"
      ]
     },
     "metadata": {},
     "output_type": "display_data"
    },
    {
     "name": "stdout",
     "output_type": "stream",
     "text": [
      "\u001b[1m\n",
      " Статистики количественных переменных :\n"
     ]
    },
    {
     "data": {
      "text/html": [
       "<div>\n",
       "<style scoped>\n",
       "    .dataframe tbody tr th:only-of-type {\n",
       "        vertical-align: middle;\n",
       "    }\n",
       "\n",
       "    .dataframe tbody tr th {\n",
       "        vertical-align: top;\n",
       "    }\n",
       "\n",
       "    .dataframe thead th {\n",
       "        text-align: right;\n",
       "    }\n",
       "</style>\n",
       "<table border=\"1\" class=\"dataframe\">\n",
       "  <thead>\n",
       "    <tr style=\"text-align: right;\">\n",
       "      <th></th>\n",
       "      <th>user_id</th>\n",
       "      <th>first_date</th>\n",
       "      <th>region</th>\n",
       "      <th>device</th>\n",
       "    </tr>\n",
       "  </thead>\n",
       "  <tbody>\n",
       "    <tr>\n",
       "      <th>count</th>\n",
       "      <td>61733</td>\n",
       "      <td>61733</td>\n",
       "      <td>61733</td>\n",
       "      <td>61733</td>\n",
       "    </tr>\n",
       "    <tr>\n",
       "      <th>unique</th>\n",
       "      <td>61733</td>\n",
       "      <td>17</td>\n",
       "      <td>4</td>\n",
       "      <td>4</td>\n",
       "    </tr>\n",
       "    <tr>\n",
       "      <th>top</th>\n",
       "      <td>D72A72121175D8BE</td>\n",
       "      <td>2020-12-21</td>\n",
       "      <td>EU</td>\n",
       "      <td>Android</td>\n",
       "    </tr>\n",
       "    <tr>\n",
       "      <th>freq</th>\n",
       "      <td>1</td>\n",
       "      <td>6290</td>\n",
       "      <td>46270</td>\n",
       "      <td>27520</td>\n",
       "    </tr>\n",
       "  </tbody>\n",
       "</table>\n",
       "</div>"
      ],
      "text/plain": [
       "                 user_id  first_date region   device\n",
       "count              61733       61733  61733    61733\n",
       "unique             61733          17      4        4\n",
       "top     D72A72121175D8BE  2020-12-21     EU  Android\n",
       "freq                   1        6290  46270    27520"
      ]
     },
     "metadata": {},
     "output_type": "display_data"
    },
    {
     "name": "stdout",
     "output_type": "stream",
     "text": [
      "**************************************************\n",
      "\u001b[1m\n",
      " Случайная выборка 10 строк датафрейма:\n"
     ]
    },
    {
     "data": {
      "text/html": [
       "<div>\n",
       "<style scoped>\n",
       "    .dataframe tbody tr th:only-of-type {\n",
       "        vertical-align: middle;\n",
       "    }\n",
       "\n",
       "    .dataframe tbody tr th {\n",
       "        vertical-align: top;\n",
       "    }\n",
       "\n",
       "    .dataframe thead th {\n",
       "        text-align: right;\n",
       "    }\n",
       "</style>\n",
       "<table border=\"1\" class=\"dataframe\">\n",
       "  <thead>\n",
       "    <tr style=\"text-align: right;\">\n",
       "      <th></th>\n",
       "      <th>user_id</th>\n",
       "      <th>event_dt</th>\n",
       "      <th>event_name</th>\n",
       "      <th>details</th>\n",
       "    </tr>\n",
       "  </thead>\n",
       "  <tbody>\n",
       "    <tr>\n",
       "      <th>58979</th>\n",
       "      <td>7F6B8AFA28452E10</td>\n",
       "      <td>2020-12-27 16:13:20</td>\n",
       "      <td>purchase</td>\n",
       "      <td>4.99</td>\n",
       "    </tr>\n",
       "    <tr>\n",
       "      <th>267124</th>\n",
       "      <td>DC851421924CC7AD</td>\n",
       "      <td>2020-12-10 06:05:51</td>\n",
       "      <td>login</td>\n",
       "      <td>NaN</td>\n",
       "    </tr>\n",
       "    <tr>\n",
       "      <th>407904</th>\n",
       "      <td>7FE00741802E64B8</td>\n",
       "      <td>2020-12-24 05:35:51</td>\n",
       "      <td>login</td>\n",
       "      <td>NaN</td>\n",
       "    </tr>\n",
       "    <tr>\n",
       "      <th>30159</th>\n",
       "      <td>BA8EACB5B7E61076</td>\n",
       "      <td>2020-12-18 18:43:25</td>\n",
       "      <td>purchase</td>\n",
       "      <td>99.99</td>\n",
       "    </tr>\n",
       "    <tr>\n",
       "      <th>410922</th>\n",
       "      <td>D7CFD6BCF119F5FF</td>\n",
       "      <td>2020-12-24 22:17:13</td>\n",
       "      <td>login</td>\n",
       "      <td>NaN</td>\n",
       "    </tr>\n",
       "    <tr>\n",
       "      <th>393133</th>\n",
       "      <td>E9114BF50373408E</td>\n",
       "      <td>2020-12-23 02:10:33</td>\n",
       "      <td>login</td>\n",
       "      <td>NaN</td>\n",
       "    </tr>\n",
       "    <tr>\n",
       "      <th>323463</th>\n",
       "      <td>F1A6F16D2C002E7B</td>\n",
       "      <td>2020-12-16 23:40:52</td>\n",
       "      <td>login</td>\n",
       "      <td>NaN</td>\n",
       "    </tr>\n",
       "    <tr>\n",
       "      <th>92351</th>\n",
       "      <td>1D527289BDFB7B46</td>\n",
       "      <td>2020-12-18 09:38:55</td>\n",
       "      <td>product_cart</td>\n",
       "      <td>NaN</td>\n",
       "    </tr>\n",
       "    <tr>\n",
       "      <th>233736</th>\n",
       "      <td>F7BF6A91291DCD41</td>\n",
       "      <td>2020-12-25 07:31:50</td>\n",
       "      <td>product_page</td>\n",
       "      <td>NaN</td>\n",
       "    </tr>\n",
       "    <tr>\n",
       "      <th>84159</th>\n",
       "      <td>DA6D8FD11077466A</td>\n",
       "      <td>2020-12-15 19:07:02</td>\n",
       "      <td>product_cart</td>\n",
       "      <td>NaN</td>\n",
       "    </tr>\n",
       "  </tbody>\n",
       "</table>\n",
       "</div>"
      ],
      "text/plain": [
       "                 user_id             event_dt    event_name  details\n",
       "58979   7F6B8AFA28452E10  2020-12-27 16:13:20      purchase     4.99\n",
       "267124  DC851421924CC7AD  2020-12-10 06:05:51         login      NaN\n",
       "407904  7FE00741802E64B8  2020-12-24 05:35:51         login      NaN\n",
       "30159   BA8EACB5B7E61076  2020-12-18 18:43:25      purchase    99.99\n",
       "410922  D7CFD6BCF119F5FF  2020-12-24 22:17:13         login      NaN\n",
       "393133  E9114BF50373408E  2020-12-23 02:10:33         login      NaN\n",
       "323463  F1A6F16D2C002E7B  2020-12-16 23:40:52         login      NaN\n",
       "92351   1D527289BDFB7B46  2020-12-18 09:38:55  product_cart      NaN\n",
       "233736  F7BF6A91291DCD41  2020-12-25 07:31:50  product_page      NaN\n",
       "84159   DA6D8FD11077466A  2020-12-15 19:07:02  product_cart      NaN"
      ]
     },
     "metadata": {},
     "output_type": "display_data"
    },
    {
     "name": "stdout",
     "output_type": "stream",
     "text": [
      "\u001b[1m\n",
      " Типы данных и общая информация: \n",
      "\u001b[0m\n",
      "<class 'pandas.core.frame.DataFrame'>\n",
      "RangeIndex: 440317 entries, 0 to 440316\n",
      "Data columns (total 4 columns):\n",
      " #   Column      Non-Null Count   Dtype  \n",
      "---  ------      --------------   -----  \n",
      " 0   user_id     440317 non-null  object \n",
      " 1   event_dt    440317 non-null  object \n",
      " 2   event_name  440317 non-null  object \n",
      " 3   details     62740 non-null   float64\n",
      "dtypes: float64(1), object(3)\n",
      "memory usage: 13.4+ MB\n"
     ]
    },
    {
     "data": {
      "text/plain": [
       "None"
      ]
     },
     "metadata": {},
     "output_type": "display_data"
    },
    {
     "name": "stdout",
     "output_type": "stream",
     "text": [
      "\u001b[1m Наличие дубликатов: \u001b[0m 0\n",
      "\u001b[1m\n",
      " Наличие пропусков: \n",
      "\u001b[0m\n"
     ]
    },
    {
     "data": {
      "text/plain": [
       "user_id            0\n",
       "event_dt           0\n",
       "event_name         0\n",
       "details       377577\n",
       "dtype: int64"
      ]
     },
     "metadata": {},
     "output_type": "display_data"
    },
    {
     "name": "stdout",
     "output_type": "stream",
     "text": [
      "\u001b[1m\n",
      " Статистики количественных переменных :\n"
     ]
    },
    {
     "data": {
      "text/html": [
       "<div>\n",
       "<style scoped>\n",
       "    .dataframe tbody tr th:only-of-type {\n",
       "        vertical-align: middle;\n",
       "    }\n",
       "\n",
       "    .dataframe tbody tr th {\n",
       "        vertical-align: top;\n",
       "    }\n",
       "\n",
       "    .dataframe thead th {\n",
       "        text-align: right;\n",
       "    }\n",
       "</style>\n",
       "<table border=\"1\" class=\"dataframe\">\n",
       "  <thead>\n",
       "    <tr style=\"text-align: right;\">\n",
       "      <th></th>\n",
       "      <th>details</th>\n",
       "    </tr>\n",
       "  </thead>\n",
       "  <tbody>\n",
       "    <tr>\n",
       "      <th>count</th>\n",
       "      <td>62740.00</td>\n",
       "    </tr>\n",
       "    <tr>\n",
       "      <th>mean</th>\n",
       "      <td>23.88</td>\n",
       "    </tr>\n",
       "    <tr>\n",
       "      <th>std</th>\n",
       "      <td>72.18</td>\n",
       "    </tr>\n",
       "    <tr>\n",
       "      <th>min</th>\n",
       "      <td>4.99</td>\n",
       "    </tr>\n",
       "    <tr>\n",
       "      <th>25%</th>\n",
       "      <td>4.99</td>\n",
       "    </tr>\n",
       "    <tr>\n",
       "      <th>50%</th>\n",
       "      <td>4.99</td>\n",
       "    </tr>\n",
       "    <tr>\n",
       "      <th>75%</th>\n",
       "      <td>9.99</td>\n",
       "    </tr>\n",
       "    <tr>\n",
       "      <th>max</th>\n",
       "      <td>499.99</td>\n",
       "    </tr>\n",
       "  </tbody>\n",
       "</table>\n",
       "</div>"
      ],
      "text/plain": [
       "        details\n",
       "count  62740.00\n",
       "mean      23.88\n",
       "std       72.18\n",
       "min        4.99\n",
       "25%        4.99\n",
       "50%        4.99\n",
       "75%        9.99\n",
       "max      499.99"
      ]
     },
     "metadata": {},
     "output_type": "display_data"
    },
    {
     "name": "stdout",
     "output_type": "stream",
     "text": [
      "**************************************************\n",
      "\u001b[1m\n",
      " Случайная выборка 10 строк датафрейма:\n"
     ]
    },
    {
     "data": {
      "text/html": [
       "<div>\n",
       "<style scoped>\n",
       "    .dataframe tbody tr th:only-of-type {\n",
       "        vertical-align: middle;\n",
       "    }\n",
       "\n",
       "    .dataframe tbody tr th {\n",
       "        vertical-align: top;\n",
       "    }\n",
       "\n",
       "    .dataframe thead th {\n",
       "        text-align: right;\n",
       "    }\n",
       "</style>\n",
       "<table border=\"1\" class=\"dataframe\">\n",
       "  <thead>\n",
       "    <tr style=\"text-align: right;\">\n",
       "      <th></th>\n",
       "      <th>user_id</th>\n",
       "      <th>group</th>\n",
       "      <th>ab_test</th>\n",
       "    </tr>\n",
       "  </thead>\n",
       "  <tbody>\n",
       "    <tr>\n",
       "      <th>4714</th>\n",
       "      <td>982ECA66C1761BC6</td>\n",
       "      <td>A</td>\n",
       "      <td>recommender_system_test</td>\n",
       "    </tr>\n",
       "    <tr>\n",
       "      <th>16889</th>\n",
       "      <td>F645C46B8CE342C2</td>\n",
       "      <td>B</td>\n",
       "      <td>interface_eu_test</td>\n",
       "    </tr>\n",
       "    <tr>\n",
       "      <th>2962</th>\n",
       "      <td>FDC4F5414D325E59</td>\n",
       "      <td>A</td>\n",
       "      <td>recommender_system_test</td>\n",
       "    </tr>\n",
       "    <tr>\n",
       "      <th>14748</th>\n",
       "      <td>46A7B6A9C1C4E46B</td>\n",
       "      <td>A</td>\n",
       "      <td>interface_eu_test</td>\n",
       "    </tr>\n",
       "    <tr>\n",
       "      <th>17649</th>\n",
       "      <td>E0E4E8A28919B292</td>\n",
       "      <td>A</td>\n",
       "      <td>interface_eu_test</td>\n",
       "    </tr>\n",
       "    <tr>\n",
       "      <th>5274</th>\n",
       "      <td>1B977F772D622D53</td>\n",
       "      <td>A</td>\n",
       "      <td>recommender_system_test</td>\n",
       "    </tr>\n",
       "    <tr>\n",
       "      <th>14814</th>\n",
       "      <td>7E0D60AF41DECEC6</td>\n",
       "      <td>A</td>\n",
       "      <td>interface_eu_test</td>\n",
       "    </tr>\n",
       "    <tr>\n",
       "      <th>8277</th>\n",
       "      <td>432A7E6C10FE6B18</td>\n",
       "      <td>B</td>\n",
       "      <td>interface_eu_test</td>\n",
       "    </tr>\n",
       "    <tr>\n",
       "      <th>4715</th>\n",
       "      <td>D17646F57096613B</td>\n",
       "      <td>A</td>\n",
       "      <td>recommender_system_test</td>\n",
       "    </tr>\n",
       "    <tr>\n",
       "      <th>10724</th>\n",
       "      <td>739656E0D7B50B30</td>\n",
       "      <td>A</td>\n",
       "      <td>interface_eu_test</td>\n",
       "    </tr>\n",
       "  </tbody>\n",
       "</table>\n",
       "</div>"
      ],
      "text/plain": [
       "                user_id group                  ab_test\n",
       "4714   982ECA66C1761BC6     A  recommender_system_test\n",
       "16889  F645C46B8CE342C2     B        interface_eu_test\n",
       "2962   FDC4F5414D325E59     A  recommender_system_test\n",
       "14748  46A7B6A9C1C4E46B     A        interface_eu_test\n",
       "17649  E0E4E8A28919B292     A        interface_eu_test\n",
       "5274   1B977F772D622D53     A  recommender_system_test\n",
       "14814  7E0D60AF41DECEC6     A        interface_eu_test\n",
       "8277   432A7E6C10FE6B18     B        interface_eu_test\n",
       "4715   D17646F57096613B     A  recommender_system_test\n",
       "10724  739656E0D7B50B30     A        interface_eu_test"
      ]
     },
     "metadata": {},
     "output_type": "display_data"
    },
    {
     "name": "stdout",
     "output_type": "stream",
     "text": [
      "\u001b[1m\n",
      " Типы данных и общая информация: \n",
      "\u001b[0m\n",
      "<class 'pandas.core.frame.DataFrame'>\n",
      "RangeIndex: 18268 entries, 0 to 18267\n",
      "Data columns (total 3 columns):\n",
      " #   Column   Non-Null Count  Dtype \n",
      "---  ------   --------------  ----- \n",
      " 0   user_id  18268 non-null  object\n",
      " 1   group    18268 non-null  object\n",
      " 2   ab_test  18268 non-null  object\n",
      "dtypes: object(3)\n",
      "memory usage: 428.3+ KB\n"
     ]
    },
    {
     "data": {
      "text/plain": [
       "None"
      ]
     },
     "metadata": {},
     "output_type": "display_data"
    },
    {
     "name": "stdout",
     "output_type": "stream",
     "text": [
      "\u001b[1m Наличие дубликатов: \u001b[0m 0\n",
      "\u001b[1m\n",
      " Наличие пропусков: \n",
      "\u001b[0m\n"
     ]
    },
    {
     "data": {
      "text/plain": [
       "user_id    0\n",
       "group      0\n",
       "ab_test    0\n",
       "dtype: int64"
      ]
     },
     "metadata": {},
     "output_type": "display_data"
    },
    {
     "name": "stdout",
     "output_type": "stream",
     "text": [
      "\u001b[1m\n",
      " Статистики количественных переменных :\n"
     ]
    },
    {
     "data": {
      "text/html": [
       "<div>\n",
       "<style scoped>\n",
       "    .dataframe tbody tr th:only-of-type {\n",
       "        vertical-align: middle;\n",
       "    }\n",
       "\n",
       "    .dataframe tbody tr th {\n",
       "        vertical-align: top;\n",
       "    }\n",
       "\n",
       "    .dataframe thead th {\n",
       "        text-align: right;\n",
       "    }\n",
       "</style>\n",
       "<table border=\"1\" class=\"dataframe\">\n",
       "  <thead>\n",
       "    <tr style=\"text-align: right;\">\n",
       "      <th></th>\n",
       "      <th>user_id</th>\n",
       "      <th>group</th>\n",
       "      <th>ab_test</th>\n",
       "    </tr>\n",
       "  </thead>\n",
       "  <tbody>\n",
       "    <tr>\n",
       "      <th>count</th>\n",
       "      <td>18268</td>\n",
       "      <td>18268</td>\n",
       "      <td>18268</td>\n",
       "    </tr>\n",
       "    <tr>\n",
       "      <th>unique</th>\n",
       "      <td>16666</td>\n",
       "      <td>2</td>\n",
       "      <td>2</td>\n",
       "    </tr>\n",
       "    <tr>\n",
       "      <th>top</th>\n",
       "      <td>0FDFDA0B2DEC2D91</td>\n",
       "      <td>A</td>\n",
       "      <td>interface_eu_test</td>\n",
       "    </tr>\n",
       "    <tr>\n",
       "      <th>freq</th>\n",
       "      <td>2</td>\n",
       "      <td>9655</td>\n",
       "      <td>11567</td>\n",
       "    </tr>\n",
       "  </tbody>\n",
       "</table>\n",
       "</div>"
      ],
      "text/plain": [
       "                 user_id  group            ab_test\n",
       "count              18268  18268              18268\n",
       "unique             16666      2                  2\n",
       "top     0FDFDA0B2DEC2D91      A  interface_eu_test\n",
       "freq                   2   9655              11567"
      ]
     },
     "metadata": {},
     "output_type": "display_data"
    },
    {
     "name": "stdout",
     "output_type": "stream",
     "text": [
      "**************************************************\n"
     ]
    }
   ],
   "source": [
    "full_info(df_list)"
   ]
  },
  {
   "cell_type": "markdown",
   "id": "d8c37bc1",
   "metadata": {},
   "source": [
    "Можно увидеть, что все ДФ находятся в идеальном состоянии - без дубликатов, пропусков и аномальных значений, с соответствующими типами данных. Для корректной работы требуется только привести все столбцы с датами к необходимому типу."
   ]
  },
  {
   "cell_type": "code",
   "execution_count": 5,
   "id": "d80b0ea5",
   "metadata": {},
   "outputs": [],
   "source": [
    "calendar['start_dt'] = pd.to_datetime(calendar['start_dt'])\n",
    "calendar['finish_dt'] = pd.to_datetime(calendar['finish_dt'])\n",
    "users['first_date'] = pd.to_datetime(users['first_date'])\n",
    "actions['event_dt'] = pd.to_datetime(actions['event_dt'])"
   ]
  },
  {
   "cell_type": "markdown",
   "id": "1ef10ecc",
   "metadata": {},
   "source": [
    "## Вывод"
   ]
  },
  {
   "cell_type": "markdown",
   "id": "7074336f",
   "metadata": {},
   "source": [
    "<div style=\"border:solid green 2px; padding: 20px\">\n",
    "Данные изучены и готовы для дальнейшего исследования, т.к. ДФ в идеальном состоянии - дубликаты, аномальные значения не наблюдаются, типы данных верные. Для удобства только заменены типы данных дат на соответствующие. Пропуски есть только в ДФ с событиями в комментариях, но их природа объясняется наличием суммы покупки только на соответствующем этапе."
   ]
  },
  {
   "cell_type": "markdown",
   "id": "9e57f3e5",
   "metadata": {},
   "source": [
    "# Оценка корректности проведения теста."
   ]
  },
  {
   "cell_type": "markdown",
   "id": "02d4e1db",
   "metadata": {},
   "source": [
    "## Соответствие данных требованиям технического задания."
   ]
  },
  {
   "cell_type": "markdown",
   "id": "294fd781",
   "metadata": {},
   "source": [
    "Для первоначального анализа проверим соответствие данных требованиям ТЗ, а именно:\n",
    "\n",
    "- Дата запуска: 2020-12-07;  \n",
    "- Дата остановки набора новых пользователей: 2020-12-21;  \n",
    "- Дата остановки: 2021-01-04;  \n",
    "- Аудитория: 15% новых пользователей из региона EU;  \n",
    "- Ожидаемое количество участников теста: 6000.\n",
    "Для ответа на эти вопросы нам необходимо сначала объединить две таблицы - с регистрацией новых пользователей и с участниками A/B-теста."
   ]
  },
  {
   "cell_type": "code",
   "execution_count": 6,
   "id": "84c9ec57",
   "metadata": {},
   "outputs": [
    {
     "data": {
      "text/html": [
       "<div>\n",
       "<style scoped>\n",
       "    .dataframe tbody tr th:only-of-type {\n",
       "        vertical-align: middle;\n",
       "    }\n",
       "\n",
       "    .dataframe tbody tr th {\n",
       "        vertical-align: top;\n",
       "    }\n",
       "\n",
       "    .dataframe thead th {\n",
       "        text-align: right;\n",
       "    }\n",
       "</style>\n",
       "<table border=\"1\" class=\"dataframe\">\n",
       "  <thead>\n",
       "    <tr style=\"text-align: right;\">\n",
       "      <th></th>\n",
       "      <th>user_id</th>\n",
       "      <th>first_date</th>\n",
       "      <th>region</th>\n",
       "      <th>device</th>\n",
       "      <th>group</th>\n",
       "      <th>ab_test</th>\n",
       "    </tr>\n",
       "  </thead>\n",
       "  <tbody>\n",
       "    <tr>\n",
       "      <th>0</th>\n",
       "      <td>D72A72121175D8BE</td>\n",
       "      <td>2020-12-07</td>\n",
       "      <td>EU</td>\n",
       "      <td>PC</td>\n",
       "      <td>A</td>\n",
       "      <td>recommender_system_test</td>\n",
       "    </tr>\n",
       "    <tr>\n",
       "      <th>1</th>\n",
       "      <td>F1C668619DFE6E65</td>\n",
       "      <td>2020-12-07</td>\n",
       "      <td>N.America</td>\n",
       "      <td>Android</td>\n",
       "      <td>NaN</td>\n",
       "      <td>NaN</td>\n",
       "    </tr>\n",
       "    <tr>\n",
       "      <th>2</th>\n",
       "      <td>2E1BF1D4C37EA01F</td>\n",
       "      <td>2020-12-07</td>\n",
       "      <td>EU</td>\n",
       "      <td>PC</td>\n",
       "      <td>A</td>\n",
       "      <td>interface_eu_test</td>\n",
       "    </tr>\n",
       "    <tr>\n",
       "      <th>3</th>\n",
       "      <td>50734A22C0C63768</td>\n",
       "      <td>2020-12-07</td>\n",
       "      <td>EU</td>\n",
       "      <td>iPhone</td>\n",
       "      <td>B</td>\n",
       "      <td>interface_eu_test</td>\n",
       "    </tr>\n",
       "    <tr>\n",
       "      <th>4</th>\n",
       "      <td>E1BDDCE0DAFA2679</td>\n",
       "      <td>2020-12-07</td>\n",
       "      <td>N.America</td>\n",
       "      <td>iPhone</td>\n",
       "      <td>NaN</td>\n",
       "      <td>NaN</td>\n",
       "    </tr>\n",
       "    <tr>\n",
       "      <th>...</th>\n",
       "      <td>...</td>\n",
       "      <td>...</td>\n",
       "      <td>...</td>\n",
       "      <td>...</td>\n",
       "      <td>...</td>\n",
       "      <td>...</td>\n",
       "    </tr>\n",
       "    <tr>\n",
       "      <th>63330</th>\n",
       "      <td>1DB53B933257165D</td>\n",
       "      <td>2020-12-20</td>\n",
       "      <td>EU</td>\n",
       "      <td>Android</td>\n",
       "      <td>NaN</td>\n",
       "      <td>NaN</td>\n",
       "    </tr>\n",
       "    <tr>\n",
       "      <th>63331</th>\n",
       "      <td>538643EB4527ED03</td>\n",
       "      <td>2020-12-20</td>\n",
       "      <td>EU</td>\n",
       "      <td>Mac</td>\n",
       "      <td>NaN</td>\n",
       "      <td>NaN</td>\n",
       "    </tr>\n",
       "    <tr>\n",
       "      <th>63332</th>\n",
       "      <td>7ADEE837D5D8CBBD</td>\n",
       "      <td>2020-12-20</td>\n",
       "      <td>EU</td>\n",
       "      <td>PC</td>\n",
       "      <td>NaN</td>\n",
       "      <td>NaN</td>\n",
       "    </tr>\n",
       "    <tr>\n",
       "      <th>63333</th>\n",
       "      <td>1C7D23927835213F</td>\n",
       "      <td>2020-12-20</td>\n",
       "      <td>EU</td>\n",
       "      <td>iPhone</td>\n",
       "      <td>B</td>\n",
       "      <td>interface_eu_test</td>\n",
       "    </tr>\n",
       "    <tr>\n",
       "      <th>63334</th>\n",
       "      <td>8F04273BB2860229</td>\n",
       "      <td>2020-12-20</td>\n",
       "      <td>EU</td>\n",
       "      <td>Android</td>\n",
       "      <td>NaN</td>\n",
       "      <td>NaN</td>\n",
       "    </tr>\n",
       "  </tbody>\n",
       "</table>\n",
       "<p>63335 rows × 6 columns</p>\n",
       "</div>"
      ],
      "text/plain": [
       "                user_id first_date     region   device group  \\\n",
       "0      D72A72121175D8BE 2020-12-07         EU       PC     A   \n",
       "1      F1C668619DFE6E65 2020-12-07  N.America  Android   NaN   \n",
       "2      2E1BF1D4C37EA01F 2020-12-07         EU       PC     A   \n",
       "3      50734A22C0C63768 2020-12-07         EU   iPhone     B   \n",
       "4      E1BDDCE0DAFA2679 2020-12-07  N.America   iPhone   NaN   \n",
       "...                 ...        ...        ...      ...   ...   \n",
       "63330  1DB53B933257165D 2020-12-20         EU  Android   NaN   \n",
       "63331  538643EB4527ED03 2020-12-20         EU      Mac   NaN   \n",
       "63332  7ADEE837D5D8CBBD 2020-12-20         EU       PC   NaN   \n",
       "63333  1C7D23927835213F 2020-12-20         EU   iPhone     B   \n",
       "63334  8F04273BB2860229 2020-12-20         EU  Android   NaN   \n",
       "\n",
       "                       ab_test  \n",
       "0      recommender_system_test  \n",
       "1                          NaN  \n",
       "2            interface_eu_test  \n",
       "3            interface_eu_test  \n",
       "4                          NaN  \n",
       "...                        ...  \n",
       "63330                      NaN  \n",
       "63331                      NaN  \n",
       "63332                      NaN  \n",
       "63333        interface_eu_test  \n",
       "63334                      NaN  \n",
       "\n",
       "[63335 rows x 6 columns]"
      ]
     },
     "execution_count": 6,
     "metadata": {},
     "output_type": "execute_result"
    }
   ],
   "source": [
    "users2 = users.merge(members, how='left', on='user_id')\n",
    "users2"
   ]
  },
  {
   "cell_type": "code",
   "execution_count": 7,
   "id": "345ca81b",
   "metadata": {},
   "outputs": [
    {
     "name": "stdout",
     "output_type": "stream",
     "text": [
      "Новые пользователи привлечены в период с 2020-12-07 по 2020-12-21.\n",
      "Действия совершались в период с 2020-12-07 по 2020-12-30.\n",
      "Аудитория A/B-теста составляет 13.27 %.\n",
      "Фактическое количество участников составляет 6701 пользователей.\n"
     ]
    }
   ],
   "source": [
    "print('Новые пользователи привлечены в период с {} по {}.'.format(\n",
    "    users2.query('group == [\"A\", \"B\"] and ab_test == \"recommender_system_test\"').first_date.min().date(),\n",
    "    users2.query('group == [\"A\", \"B\"] and ab_test == \"recommender_system_test\"').first_date.max().date()))\n",
    "print('Действия совершались в период с {} по {}.'.format(\n",
    "    actions.event_dt.min().date(), actions.event_dt.max().date()))\n",
    "print('Аудитория A/B-теста составляет {} %.'.format(round(\n",
    "    users2.query('group == [\"A\", \"B\"] and ab_test == \"recommender_system_test\"').region.value_counts()[0] /\n",
    "    users2.region.value_counts()[0] * 100, 2)))\n",
    "print('Фактическое количество участников составляет {} пользователей.'.format(\n",
    "    members.ab_test.value_counts()[1]))"
   ]
  },
  {
   "cell_type": "markdown",
   "id": "65c7d4c5",
   "metadata": {},
   "source": [
    "Таким образом, у нас соблюдаются установленные ТЗ сроки набора пользователей в тест, но нарушаются срок проведения теста (заканчивается 2020-12-30 вместо 2021-01-04) и процесс набора юзеров (13,3% новых пользователей из региона EU вместо 15% и 6701 вместо 6000 всего).   "
   ]
  },
  {
   "cell_type": "markdown",
   "id": "3a2452b9",
   "metadata": {},
   "source": [
    "## Проверка отсутствия маркетинговых событий во время проведения теста."
   ]
  },
  {
   "cell_type": "code",
   "execution_count": 8,
   "id": "50af2b2f",
   "metadata": {},
   "outputs": [
    {
     "data": {
      "text/html": [
       "<div>\n",
       "<style scoped>\n",
       "    .dataframe tbody tr th:only-of-type {\n",
       "        vertical-align: middle;\n",
       "    }\n",
       "\n",
       "    .dataframe tbody tr th {\n",
       "        vertical-align: top;\n",
       "    }\n",
       "\n",
       "    .dataframe thead th {\n",
       "        text-align: right;\n",
       "    }\n",
       "</style>\n",
       "<table border=\"1\" class=\"dataframe\">\n",
       "  <thead>\n",
       "    <tr style=\"text-align: right;\">\n",
       "      <th></th>\n",
       "      <th>name</th>\n",
       "      <th>regions</th>\n",
       "      <th>start_dt</th>\n",
       "      <th>finish_dt</th>\n",
       "    </tr>\n",
       "  </thead>\n",
       "  <tbody>\n",
       "    <tr>\n",
       "      <th>6</th>\n",
       "      <td>Chinese New Year Promo</td>\n",
       "      <td>APAC</td>\n",
       "      <td>2020-01-25</td>\n",
       "      <td>2020-02-07</td>\n",
       "    </tr>\n",
       "    <tr>\n",
       "      <th>1</th>\n",
       "      <td>St. Valentine's Day Giveaway</td>\n",
       "      <td>EU, CIS, APAC, N.America</td>\n",
       "      <td>2020-02-14</td>\n",
       "      <td>2020-02-16</td>\n",
       "    </tr>\n",
       "    <tr>\n",
       "      <th>8</th>\n",
       "      <td>International Women's Day Promo</td>\n",
       "      <td>EU, CIS, APAC</td>\n",
       "      <td>2020-03-08</td>\n",
       "      <td>2020-03-10</td>\n",
       "    </tr>\n",
       "    <tr>\n",
       "      <th>2</th>\n",
       "      <td>St. Patric's Day Promo</td>\n",
       "      <td>EU, N.America</td>\n",
       "      <td>2020-03-17</td>\n",
       "      <td>2020-03-19</td>\n",
       "    </tr>\n",
       "    <tr>\n",
       "      <th>3</th>\n",
       "      <td>Easter Promo</td>\n",
       "      <td>EU, CIS, APAC, N.America</td>\n",
       "      <td>2020-04-12</td>\n",
       "      <td>2020-04-19</td>\n",
       "    </tr>\n",
       "    <tr>\n",
       "      <th>7</th>\n",
       "      <td>Labor day (May 1st) Ads Campaign</td>\n",
       "      <td>EU, CIS, APAC</td>\n",
       "      <td>2020-05-01</td>\n",
       "      <td>2020-05-03</td>\n",
       "    </tr>\n",
       "    <tr>\n",
       "      <th>9</th>\n",
       "      <td>Victory Day CIS (May 9th) Event</td>\n",
       "      <td>CIS</td>\n",
       "      <td>2020-05-09</td>\n",
       "      <td>2020-05-11</td>\n",
       "    </tr>\n",
       "    <tr>\n",
       "      <th>11</th>\n",
       "      <td>Dragon Boat Festival Giveaway</td>\n",
       "      <td>APAC</td>\n",
       "      <td>2020-06-25</td>\n",
       "      <td>2020-07-01</td>\n",
       "    </tr>\n",
       "    <tr>\n",
       "      <th>4</th>\n",
       "      <td>4th of July Promo</td>\n",
       "      <td>N.America</td>\n",
       "      <td>2020-07-04</td>\n",
       "      <td>2020-07-11</td>\n",
       "    </tr>\n",
       "    <tr>\n",
       "      <th>13</th>\n",
       "      <td>Chinese Moon Festival</td>\n",
       "      <td>APAC</td>\n",
       "      <td>2020-10-01</td>\n",
       "      <td>2020-10-07</td>\n",
       "    </tr>\n",
       "    <tr>\n",
       "      <th>12</th>\n",
       "      <td>Single's Day Gift Promo</td>\n",
       "      <td>APAC</td>\n",
       "      <td>2020-11-11</td>\n",
       "      <td>2020-11-12</td>\n",
       "    </tr>\n",
       "    <tr>\n",
       "      <th>5</th>\n",
       "      <td>Black Friday Ads Campaign</td>\n",
       "      <td>EU, CIS, APAC, N.America</td>\n",
       "      <td>2020-11-26</td>\n",
       "      <td>2020-12-01</td>\n",
       "    </tr>\n",
       "    <tr>\n",
       "      <th>0</th>\n",
       "      <td>Christmas&amp;New Year Promo</td>\n",
       "      <td>EU, N.America</td>\n",
       "      <td>2020-12-25</td>\n",
       "      <td>2021-01-03</td>\n",
       "    </tr>\n",
       "    <tr>\n",
       "      <th>10</th>\n",
       "      <td>CIS New Year Gift Lottery</td>\n",
       "      <td>CIS</td>\n",
       "      <td>2020-12-30</td>\n",
       "      <td>2021-01-07</td>\n",
       "    </tr>\n",
       "  </tbody>\n",
       "</table>\n",
       "</div>"
      ],
      "text/plain": [
       "                                name                   regions   start_dt  \\\n",
       "6             Chinese New Year Promo                      APAC 2020-01-25   \n",
       "1       St. Valentine's Day Giveaway  EU, CIS, APAC, N.America 2020-02-14   \n",
       "8    International Women's Day Promo             EU, CIS, APAC 2020-03-08   \n",
       "2             St. Patric's Day Promo             EU, N.America 2020-03-17   \n",
       "3                       Easter Promo  EU, CIS, APAC, N.America 2020-04-12   \n",
       "7   Labor day (May 1st) Ads Campaign             EU, CIS, APAC 2020-05-01   \n",
       "9    Victory Day CIS (May 9th) Event                       CIS 2020-05-09   \n",
       "11     Dragon Boat Festival Giveaway                      APAC 2020-06-25   \n",
       "4                  4th of July Promo                 N.America 2020-07-04   \n",
       "13             Chinese Moon Festival                      APAC 2020-10-01   \n",
       "12           Single's Day Gift Promo                      APAC 2020-11-11   \n",
       "5          Black Friday Ads Campaign  EU, CIS, APAC, N.America 2020-11-26   \n",
       "0           Christmas&New Year Promo             EU, N.America 2020-12-25   \n",
       "10         CIS New Year Gift Lottery                       CIS 2020-12-30   \n",
       "\n",
       "    finish_dt  \n",
       "6  2020-02-07  \n",
       "1  2020-02-16  \n",
       "8  2020-03-10  \n",
       "2  2020-03-19  \n",
       "3  2020-04-19  \n",
       "7  2020-05-03  \n",
       "9  2020-05-11  \n",
       "11 2020-07-01  \n",
       "4  2020-07-11  \n",
       "13 2020-10-07  \n",
       "12 2020-11-12  \n",
       "5  2020-12-01  \n",
       "0  2021-01-03  \n",
       "10 2021-01-07  "
      ]
     },
     "execution_count": 8,
     "metadata": {},
     "output_type": "execute_result"
    }
   ],
   "source": [
    "calendar.sort_values(by='start_dt')"
   ]
  },
  {
   "cell_type": "markdown",
   "id": "2504da7c",
   "metadata": {},
   "source": [
    "Можем заметить, что у нас имеется два пересечения с тестом. При этом, событие новогодней лотереи проводилось только в странах СНГ, а значит к нашему тесту отношения не имеет. Но влияние могло оказать событие \"Рождество и НГ промо\", проводимое и в Европе, в том числе. Результаты теста из-за этого, возможно, могут оказаться недостаточно достоверными."
   ]
  },
  {
   "cell_type": "markdown",
   "id": "6a36b634",
   "metadata": {},
   "source": [
    "## Оценка корректности набора аудитории теста. "
   ]
  },
  {
   "cell_type": "markdown",
   "id": "7d9b41b9",
   "metadata": {},
   "source": [
    "Помимо некорректного набора аудитории в количественном выражении необходимо еще оценить в качественном, удостоверившись, что нет пересечений с конкурирующим тестом и нет пользователей, участвующих в двух группах теста одновременно, а также проверив равномерность распределения пользователей по тестовым группам и правильность их формирования."
   ]
  },
  {
   "cell_type": "code",
   "execution_count": 9,
   "id": "00187af3",
   "metadata": {},
   "outputs": [
    {
     "name": "stdout",
     "output_type": "stream",
     "text": [
      "Количество пользователей, находящихся в обоих тестах, составляет 1602.\n",
      "Количество пользователей, находящихся в обоих группах теста, составляет 0.\n",
      "Количество пользователей, находящихся группе A и B нашего теста, составляет 3824 и 2877 соответственно.\n"
     ]
    }
   ],
   "source": [
    "print('Количество пользователей, находящихся в обоих тестах, составляет {}.'\n",
    "      .format(len(list(set(members.query('ab_test==\"recommender_system_test\"').user_id) & \n",
    "                       set(members.query('ab_test==\"interface_eu_test\"').user_id)))))\n",
    "print('Количество пользователей, находящихся в обоих группах теста, составляет {}.'\n",
    "      .format(len(list(set(members.query('ab_test==\"recommender_system_test\" and group==\"A\"').user_id) & \n",
    "                       set(members.query('ab_test==\"recommender_system_test\" and group==\"B\"').user_id)))))\n",
    "print('Количество пользователей, находящихся группе A и B нашего теста, составляет {} и {} соответственно.'\n",
    "      .format(members.query('ab_test==\"recommender_system_test\"').group.value_counts()[0],\n",
    "              members.query('ab_test==\"recommender_system_test\"').group.value_counts()[1]))"
   ]
  },
  {
   "cell_type": "markdown",
   "id": "2e16fa4f",
   "metadata": {},
   "source": [
    "Таким образом, в рамках нашего теста у нас нет пересечений по группам, но разделение по группам выполнено в соотношении 57:43, а также имеется пересечение пользователей между двумя тестами, в том числе в двух экспериментальных группах и в контрольной нашего теста и экспериментальной второго теста, что тоже может вести к недостоверным результатам."
   ]
  },
  {
   "cell_type": "markdown",
   "id": "addcef3a",
   "metadata": {},
   "source": [
    "Т.к. нам достоверно неизвестно, в какой пропорции предусматривалось разбиение на группы в нашем тесте, то избавимся только от пользователей, которые находились в эксперементальных группах обоих тестов, в контрольной нашего теста и экспериментальной второго теста, в группах второго теста, а так же в других регионах. Удалять тех, кто не \"прожил\" полноценные две недели в соответствии с ТЗ пока не будем, т.к., возможно, активность пользователей в последние несколько дней все равно незначительна."
   ]
  },
  {
   "cell_type": "code",
   "execution_count": 10,
   "id": "3c2375ff",
   "metadata": {},
   "outputs": [],
   "source": [
    "a_test1_b_test2 = list(set(members.query('ab_test == \"recommender_system_test\" and group == \"A\"').user_id) & \n",
    "                     set(members.query('ab_test == \"interface_eu_test\" and group == \"B\"').user_id))"
   ]
  },
  {
   "cell_type": "code",
   "execution_count": 11,
   "id": "be2f9688",
   "metadata": {},
   "outputs": [],
   "source": [
    "b_group_users = list(set(members.query('ab_test == \"recommender_system_test\" and group == \"B\"').user_id) & \n",
    "                     set(members.query('ab_test == \"interface_eu_test\" and group == \"B\"').user_id))"
   ]
  },
  {
   "cell_type": "code",
   "execution_count": 12,
   "id": "79e016fc",
   "metadata": {},
   "outputs": [
    {
     "data": {
      "text/html": [
       "<div>\n",
       "<style scoped>\n",
       "    .dataframe tbody tr th:only-of-type {\n",
       "        vertical-align: middle;\n",
       "    }\n",
       "\n",
       "    .dataframe tbody tr th {\n",
       "        vertical-align: top;\n",
       "    }\n",
       "\n",
       "    .dataframe thead th {\n",
       "        text-align: right;\n",
       "    }\n",
       "</style>\n",
       "<table border=\"1\" class=\"dataframe\">\n",
       "  <thead>\n",
       "    <tr style=\"text-align: right;\">\n",
       "      <th></th>\n",
       "      <th>user_id</th>\n",
       "      <th>group</th>\n",
       "      <th>ab_test</th>\n",
       "    </tr>\n",
       "  </thead>\n",
       "  <tbody>\n",
       "    <tr>\n",
       "      <th>0</th>\n",
       "      <td>D1ABA3E2887B6A73</td>\n",
       "      <td>A</td>\n",
       "      <td>recommender_system_test</td>\n",
       "    </tr>\n",
       "    <tr>\n",
       "      <th>1</th>\n",
       "      <td>A7A3664BD6242119</td>\n",
       "      <td>A</td>\n",
       "      <td>recommender_system_test</td>\n",
       "    </tr>\n",
       "    <tr>\n",
       "      <th>2</th>\n",
       "      <td>DABC14FDDFADD29E</td>\n",
       "      <td>A</td>\n",
       "      <td>recommender_system_test</td>\n",
       "    </tr>\n",
       "    <tr>\n",
       "      <th>3</th>\n",
       "      <td>04988C5DF189632E</td>\n",
       "      <td>A</td>\n",
       "      <td>recommender_system_test</td>\n",
       "    </tr>\n",
       "    <tr>\n",
       "      <th>4</th>\n",
       "      <td>482F14783456D21B</td>\n",
       "      <td>B</td>\n",
       "      <td>recommender_system_test</td>\n",
       "    </tr>\n",
       "    <tr>\n",
       "      <th>...</th>\n",
       "      <td>...</td>\n",
       "      <td>...</td>\n",
       "      <td>...</td>\n",
       "    </tr>\n",
       "    <tr>\n",
       "      <th>6696</th>\n",
       "      <td>053FB26D6D49EDDC</td>\n",
       "      <td>A</td>\n",
       "      <td>recommender_system_test</td>\n",
       "    </tr>\n",
       "    <tr>\n",
       "      <th>6697</th>\n",
       "      <td>9D263B8EF15CF188</td>\n",
       "      <td>B</td>\n",
       "      <td>recommender_system_test</td>\n",
       "    </tr>\n",
       "    <tr>\n",
       "      <th>6698</th>\n",
       "      <td>F2FBBA33F37DEC46</td>\n",
       "      <td>A</td>\n",
       "      <td>recommender_system_test</td>\n",
       "    </tr>\n",
       "    <tr>\n",
       "      <th>6699</th>\n",
       "      <td>29C92313A98B1176</td>\n",
       "      <td>B</td>\n",
       "      <td>recommender_system_test</td>\n",
       "    </tr>\n",
       "    <tr>\n",
       "      <th>6700</th>\n",
       "      <td>6715343AFBA285AE</td>\n",
       "      <td>B</td>\n",
       "      <td>recommender_system_test</td>\n",
       "    </tr>\n",
       "  </tbody>\n",
       "</table>\n",
       "<p>5918 rows × 3 columns</p>\n",
       "</div>"
      ],
      "text/plain": [
       "               user_id group                  ab_test\n",
       "0     D1ABA3E2887B6A73     A  recommender_system_test\n",
       "1     A7A3664BD6242119     A  recommender_system_test\n",
       "2     DABC14FDDFADD29E     A  recommender_system_test\n",
       "3     04988C5DF189632E     A  recommender_system_test\n",
       "4     482F14783456D21B     B  recommender_system_test\n",
       "...                ...   ...                      ...\n",
       "6696  053FB26D6D49EDDC     A  recommender_system_test\n",
       "6697  9D263B8EF15CF188     B  recommender_system_test\n",
       "6698  F2FBBA33F37DEC46     A  recommender_system_test\n",
       "6699  29C92313A98B1176     B  recommender_system_test\n",
       "6700  6715343AFBA285AE     B  recommender_system_test\n",
       "\n",
       "[5918 rows x 3 columns]"
      ]
     },
     "execution_count": 12,
     "metadata": {},
     "output_type": "execute_result"
    }
   ],
   "source": [
    "members_clean = members.query('user_id != @b_group_users and user_id != @a_test1_b_test2 and ab_test !=\"interface_eu_test\"')\n",
    "members_clean"
   ]
  },
  {
   "cell_type": "code",
   "execution_count": 13,
   "id": "bdb34b24",
   "metadata": {},
   "outputs": [
    {
     "data": {
      "text/html": [
       "<div>\n",
       "<style scoped>\n",
       "    .dataframe tbody tr th:only-of-type {\n",
       "        vertical-align: middle;\n",
       "    }\n",
       "\n",
       "    .dataframe tbody tr th {\n",
       "        vertical-align: top;\n",
       "    }\n",
       "\n",
       "    .dataframe thead th {\n",
       "        text-align: right;\n",
       "    }\n",
       "</style>\n",
       "<table border=\"1\" class=\"dataframe\">\n",
       "  <thead>\n",
       "    <tr style=\"text-align: right;\">\n",
       "      <th></th>\n",
       "      <th>user_id</th>\n",
       "      <th>first_date</th>\n",
       "      <th>region</th>\n",
       "      <th>device</th>\n",
       "      <th>group</th>\n",
       "      <th>ab_test</th>\n",
       "    </tr>\n",
       "  </thead>\n",
       "  <tbody>\n",
       "    <tr>\n",
       "      <th>0</th>\n",
       "      <td>D72A72121175D8BE</td>\n",
       "      <td>2020-12-07</td>\n",
       "      <td>EU</td>\n",
       "      <td>PC</td>\n",
       "      <td>A</td>\n",
       "      <td>recommender_system_test</td>\n",
       "    </tr>\n",
       "    <tr>\n",
       "      <th>1</th>\n",
       "      <td>DD4352CDCF8C3D57</td>\n",
       "      <td>2020-12-07</td>\n",
       "      <td>EU</td>\n",
       "      <td>Android</td>\n",
       "      <td>B</td>\n",
       "      <td>recommender_system_test</td>\n",
       "    </tr>\n",
       "    <tr>\n",
       "      <th>2</th>\n",
       "      <td>831887FE7F2D6CBA</td>\n",
       "      <td>2020-12-07</td>\n",
       "      <td>EU</td>\n",
       "      <td>Android</td>\n",
       "      <td>A</td>\n",
       "      <td>recommender_system_test</td>\n",
       "    </tr>\n",
       "    <tr>\n",
       "      <th>3</th>\n",
       "      <td>4CB179C7F847320B</td>\n",
       "      <td>2020-12-07</td>\n",
       "      <td>EU</td>\n",
       "      <td>iPhone</td>\n",
       "      <td>B</td>\n",
       "      <td>recommender_system_test</td>\n",
       "    </tr>\n",
       "    <tr>\n",
       "      <th>6</th>\n",
       "      <td>16C69ED14DA9F4A8</td>\n",
       "      <td>2020-12-07</td>\n",
       "      <td>EU</td>\n",
       "      <td>PC</td>\n",
       "      <td>B</td>\n",
       "      <td>recommender_system_test</td>\n",
       "    </tr>\n",
       "    <tr>\n",
       "      <th>...</th>\n",
       "      <td>...</td>\n",
       "      <td>...</td>\n",
       "      <td>...</td>\n",
       "      <td>...</td>\n",
       "      <td>...</td>\n",
       "      <td>...</td>\n",
       "    </tr>\n",
       "    <tr>\n",
       "      <th>5913</th>\n",
       "      <td>3CA972F86411CF13</td>\n",
       "      <td>2020-12-20</td>\n",
       "      <td>EU</td>\n",
       "      <td>PC</td>\n",
       "      <td>A</td>\n",
       "      <td>recommender_system_test</td>\n",
       "    </tr>\n",
       "    <tr>\n",
       "      <th>5914</th>\n",
       "      <td>0F7D49FC184EDCDE</td>\n",
       "      <td>2020-12-20</td>\n",
       "      <td>EU</td>\n",
       "      <td>PC</td>\n",
       "      <td>A</td>\n",
       "      <td>recommender_system_test</td>\n",
       "    </tr>\n",
       "    <tr>\n",
       "      <th>5915</th>\n",
       "      <td>574ACBC674BC385D</td>\n",
       "      <td>2020-12-20</td>\n",
       "      <td>EU</td>\n",
       "      <td>Mac</td>\n",
       "      <td>A</td>\n",
       "      <td>recommender_system_test</td>\n",
       "    </tr>\n",
       "    <tr>\n",
       "      <th>5916</th>\n",
       "      <td>0416B34D35C8C8B8</td>\n",
       "      <td>2020-12-20</td>\n",
       "      <td>EU</td>\n",
       "      <td>Android</td>\n",
       "      <td>A</td>\n",
       "      <td>recommender_system_test</td>\n",
       "    </tr>\n",
       "    <tr>\n",
       "      <th>5917</th>\n",
       "      <td>89CB0BFBC3F35126</td>\n",
       "      <td>2020-12-20</td>\n",
       "      <td>EU</td>\n",
       "      <td>PC</td>\n",
       "      <td>B</td>\n",
       "      <td>recommender_system_test</td>\n",
       "    </tr>\n",
       "  </tbody>\n",
       "</table>\n",
       "<p>5568 rows × 6 columns</p>\n",
       "</div>"
      ],
      "text/plain": [
       "               user_id first_date region   device group  \\\n",
       "0     D72A72121175D8BE 2020-12-07     EU       PC     A   \n",
       "1     DD4352CDCF8C3D57 2020-12-07     EU  Android     B   \n",
       "2     831887FE7F2D6CBA 2020-12-07     EU  Android     A   \n",
       "3     4CB179C7F847320B 2020-12-07     EU   iPhone     B   \n",
       "6     16C69ED14DA9F4A8 2020-12-07     EU       PC     B   \n",
       "...                ...        ...    ...      ...   ...   \n",
       "5913  3CA972F86411CF13 2020-12-20     EU       PC     A   \n",
       "5914  0F7D49FC184EDCDE 2020-12-20     EU       PC     A   \n",
       "5915  574ACBC674BC385D 2020-12-20     EU      Mac     A   \n",
       "5916  0416B34D35C8C8B8 2020-12-20     EU  Android     A   \n",
       "5917  89CB0BFBC3F35126 2020-12-20     EU       PC     B   \n",
       "\n",
       "                      ab_test  \n",
       "0     recommender_system_test  \n",
       "1     recommender_system_test  \n",
       "2     recommender_system_test  \n",
       "3     recommender_system_test  \n",
       "6     recommender_system_test  \n",
       "...                       ...  \n",
       "5913  recommender_system_test  \n",
       "5914  recommender_system_test  \n",
       "5915  recommender_system_test  \n",
       "5916  recommender_system_test  \n",
       "5917  recommender_system_test  \n",
       "\n",
       "[5568 rows x 6 columns]"
      ]
     },
     "execution_count": 13,
     "metadata": {},
     "output_type": "execute_result"
    }
   ],
   "source": [
    "users_clean = users.merge(members_clean, on='user_id')\n",
    "users_clean = users_clean.query('region == \"EU\"')\n",
    "users_clean"
   ]
  },
  {
   "cell_type": "markdown",
   "id": "112c0e5f",
   "metadata": {},
   "source": [
    "После всех фильтраций пользователей у нас получилось почти предполагаемое количество пользователей - 5568 вместо 6000. Можем переходить к анализу событий и конверсии."
   ]
  },
  {
   "cell_type": "markdown",
   "id": "9a251e15",
   "metadata": {},
   "source": [
    "## Вывод"
   ]
  },
  {
   "cell_type": "markdown",
   "id": "763c05d8",
   "metadata": {},
   "source": [
    "<div style=\"border:solid green 2px; padding: 20px\">\n",
    "После предварительного анализа и обработки данных можно сделать следующие выводы:\n",
    "    \n",
    "- у нас **соблюдаются установленные ТЗ сроки набора пользователей в тест, но нарушаются срок проведения теста** (заканчивается 2020-12-30 вместо 2021-01-04) **и процесс набора юзеров** (13,3% новых пользователей из региона EU вместо 15% и 6701 вместо 6000 всего)\n",
    "- у нас **имеется два пересечения маркетинговых событий с тестом**. При этом, событие новогодней лотереи проводилось только в странах СНГ, а значит к нашему тесту отношения не имеет. Но **влияние могло оказать событие \"Рождество и НГ промо\"**, проводимое и в Европе, в том числе\n",
    "- у нас **нет пересечений по группам, но разделение по группам выполнено в соотношении 57:43, а также имеется пересечение пользователей между двумя тестами, в том числе в двух экспериментальных группах и в контрольной нашего теста и экспериментальной второго теста**\n",
    "- **после всех фильтраций пользователей** у нас получилось почти предполагаемое **количество пользователей - 5568 вместо 6000**\n",
    "    \n",
    "**Данные нарушения чистоты эксперимента могут дать впоследствии недостаточно достоверные результаты.**"
   ]
  },
  {
   "cell_type": "markdown",
   "id": "7293c49a",
   "metadata": {},
   "source": [
    "# Исследовательский анализ данных (EDA)."
   ]
  },
  {
   "cell_type": "markdown",
   "id": "7ad6ae73",
   "metadata": {},
   "source": [
    "## Количество событий на пользователя."
   ]
  },
  {
   "cell_type": "markdown",
   "id": "538d3804",
   "metadata": {},
   "source": [
    "Для проведения исследовательского анализа нам необходимо объединить две таблицы - юзеров с событиями, после чего отфильтруем наш ДФ с действиями, т.к. нас интересует активность каждого пользователя только в рамках двух недель, без дальнейших его действий."
   ]
  },
  {
   "cell_type": "code",
   "execution_count": 14,
   "id": "a3abb7dc",
   "metadata": {},
   "outputs": [
    {
     "data": {
      "text/html": [
       "<div>\n",
       "<style scoped>\n",
       "    .dataframe tbody tr th:only-of-type {\n",
       "        vertical-align: middle;\n",
       "    }\n",
       "\n",
       "    .dataframe tbody tr th {\n",
       "        vertical-align: top;\n",
       "    }\n",
       "\n",
       "    .dataframe thead th {\n",
       "        text-align: right;\n",
       "    }\n",
       "</style>\n",
       "<table border=\"1\" class=\"dataframe\">\n",
       "  <thead>\n",
       "    <tr style=\"text-align: right;\">\n",
       "      <th></th>\n",
       "      <th>user_id</th>\n",
       "      <th>event_dt</th>\n",
       "      <th>event_name</th>\n",
       "      <th>details</th>\n",
       "      <th>first_date</th>\n",
       "      <th>region</th>\n",
       "      <th>device</th>\n",
       "      <th>group</th>\n",
       "      <th>ab_test</th>\n",
       "      <th>diff_time</th>\n",
       "      <th>diff_days</th>\n",
       "    </tr>\n",
       "  </thead>\n",
       "  <tbody>\n",
       "    <tr>\n",
       "      <th>0</th>\n",
       "      <td>D72A72121175D8BE</td>\n",
       "      <td>2020-12-07 21:52:10</td>\n",
       "      <td>product_page</td>\n",
       "      <td>NaN</td>\n",
       "      <td>2020-12-07</td>\n",
       "      <td>EU</td>\n",
       "      <td>PC</td>\n",
       "      <td>A</td>\n",
       "      <td>recommender_system_test</td>\n",
       "      <td>0 days 21:52:10</td>\n",
       "      <td>0.0</td>\n",
       "    </tr>\n",
       "    <tr>\n",
       "      <th>1</th>\n",
       "      <td>D72A72121175D8BE</td>\n",
       "      <td>2020-12-07 21:52:07</td>\n",
       "      <td>login</td>\n",
       "      <td>NaN</td>\n",
       "      <td>2020-12-07</td>\n",
       "      <td>EU</td>\n",
       "      <td>PC</td>\n",
       "      <td>A</td>\n",
       "      <td>recommender_system_test</td>\n",
       "      <td>0 days 21:52:07</td>\n",
       "      <td>0.0</td>\n",
       "    </tr>\n",
       "    <tr>\n",
       "      <th>2</th>\n",
       "      <td>DD4352CDCF8C3D57</td>\n",
       "      <td>2020-12-07 15:32:54</td>\n",
       "      <td>product_page</td>\n",
       "      <td>NaN</td>\n",
       "      <td>2020-12-07</td>\n",
       "      <td>EU</td>\n",
       "      <td>Android</td>\n",
       "      <td>B</td>\n",
       "      <td>recommender_system_test</td>\n",
       "      <td>0 days 15:32:54</td>\n",
       "      <td>0.0</td>\n",
       "    </tr>\n",
       "    <tr>\n",
       "      <th>3</th>\n",
       "      <td>DD4352CDCF8C3D57</td>\n",
       "      <td>2020-12-08 08:29:31</td>\n",
       "      <td>product_page</td>\n",
       "      <td>NaN</td>\n",
       "      <td>2020-12-07</td>\n",
       "      <td>EU</td>\n",
       "      <td>Android</td>\n",
       "      <td>B</td>\n",
       "      <td>recommender_system_test</td>\n",
       "      <td>1 days 08:29:31</td>\n",
       "      <td>1.0</td>\n",
       "    </tr>\n",
       "    <tr>\n",
       "      <th>4</th>\n",
       "      <td>DD4352CDCF8C3D57</td>\n",
       "      <td>2020-12-10 18:18:27</td>\n",
       "      <td>product_page</td>\n",
       "      <td>NaN</td>\n",
       "      <td>2020-12-07</td>\n",
       "      <td>EU</td>\n",
       "      <td>Android</td>\n",
       "      <td>B</td>\n",
       "      <td>recommender_system_test</td>\n",
       "      <td>3 days 18:18:27</td>\n",
       "      <td>3.0</td>\n",
       "    </tr>\n",
       "    <tr>\n",
       "      <th>...</th>\n",
       "      <td>...</td>\n",
       "      <td>...</td>\n",
       "      <td>...</td>\n",
       "      <td>...</td>\n",
       "      <td>...</td>\n",
       "      <td>...</td>\n",
       "      <td>...</td>\n",
       "      <td>...</td>\n",
       "      <td>...</td>\n",
       "      <td>...</td>\n",
       "      <td>...</td>\n",
       "    </tr>\n",
       "    <tr>\n",
       "      <th>23077</th>\n",
       "      <td>0416B34D35C8C8B8</td>\n",
       "      <td>2020-12-24 09:12:51</td>\n",
       "      <td>product_page</td>\n",
       "      <td>NaN</td>\n",
       "      <td>2020-12-20</td>\n",
       "      <td>EU</td>\n",
       "      <td>Android</td>\n",
       "      <td>A</td>\n",
       "      <td>recommender_system_test</td>\n",
       "      <td>4 days 09:12:51</td>\n",
       "      <td>4.0</td>\n",
       "    </tr>\n",
       "    <tr>\n",
       "      <th>23078</th>\n",
       "      <td>0416B34D35C8C8B8</td>\n",
       "      <td>2020-12-20 20:58:25</td>\n",
       "      <td>login</td>\n",
       "      <td>NaN</td>\n",
       "      <td>2020-12-20</td>\n",
       "      <td>EU</td>\n",
       "      <td>Android</td>\n",
       "      <td>A</td>\n",
       "      <td>recommender_system_test</td>\n",
       "      <td>0 days 20:58:25</td>\n",
       "      <td>0.0</td>\n",
       "    </tr>\n",
       "    <tr>\n",
       "      <th>23079</th>\n",
       "      <td>0416B34D35C8C8B8</td>\n",
       "      <td>2020-12-21 22:28:29</td>\n",
       "      <td>login</td>\n",
       "      <td>NaN</td>\n",
       "      <td>2020-12-20</td>\n",
       "      <td>EU</td>\n",
       "      <td>Android</td>\n",
       "      <td>A</td>\n",
       "      <td>recommender_system_test</td>\n",
       "      <td>1 days 22:28:29</td>\n",
       "      <td>1.0</td>\n",
       "    </tr>\n",
       "    <tr>\n",
       "      <th>23080</th>\n",
       "      <td>0416B34D35C8C8B8</td>\n",
       "      <td>2020-12-24 09:12:49</td>\n",
       "      <td>login</td>\n",
       "      <td>NaN</td>\n",
       "      <td>2020-12-20</td>\n",
       "      <td>EU</td>\n",
       "      <td>Android</td>\n",
       "      <td>A</td>\n",
       "      <td>recommender_system_test</td>\n",
       "      <td>4 days 09:12:49</td>\n",
       "      <td>4.0</td>\n",
       "    </tr>\n",
       "    <tr>\n",
       "      <th>23081</th>\n",
       "      <td>89CB0BFBC3F35126</td>\n",
       "      <td>NaT</td>\n",
       "      <td>NaN</td>\n",
       "      <td>NaN</td>\n",
       "      <td>2020-12-20</td>\n",
       "      <td>EU</td>\n",
       "      <td>PC</td>\n",
       "      <td>B</td>\n",
       "      <td>recommender_system_test</td>\n",
       "      <td>NaT</td>\n",
       "      <td>NaN</td>\n",
       "    </tr>\n",
       "  </tbody>\n",
       "</table>\n",
       "<p>22552 rows × 11 columns</p>\n",
       "</div>"
      ],
      "text/plain": [
       "                user_id            event_dt    event_name  details first_date  \\\n",
       "0      D72A72121175D8BE 2020-12-07 21:52:10  product_page      NaN 2020-12-07   \n",
       "1      D72A72121175D8BE 2020-12-07 21:52:07         login      NaN 2020-12-07   \n",
       "2      DD4352CDCF8C3D57 2020-12-07 15:32:54  product_page      NaN 2020-12-07   \n",
       "3      DD4352CDCF8C3D57 2020-12-08 08:29:31  product_page      NaN 2020-12-07   \n",
       "4      DD4352CDCF8C3D57 2020-12-10 18:18:27  product_page      NaN 2020-12-07   \n",
       "...                 ...                 ...           ...      ...        ...   \n",
       "23077  0416B34D35C8C8B8 2020-12-24 09:12:51  product_page      NaN 2020-12-20   \n",
       "23078  0416B34D35C8C8B8 2020-12-20 20:58:25         login      NaN 2020-12-20   \n",
       "23079  0416B34D35C8C8B8 2020-12-21 22:28:29         login      NaN 2020-12-20   \n",
       "23080  0416B34D35C8C8B8 2020-12-24 09:12:49         login      NaN 2020-12-20   \n",
       "23081  89CB0BFBC3F35126                 NaT           NaN      NaN 2020-12-20   \n",
       "\n",
       "      region   device group                  ab_test       diff_time  \\\n",
       "0         EU       PC     A  recommender_system_test 0 days 21:52:10   \n",
       "1         EU       PC     A  recommender_system_test 0 days 21:52:07   \n",
       "2         EU  Android     B  recommender_system_test 0 days 15:32:54   \n",
       "3         EU  Android     B  recommender_system_test 1 days 08:29:31   \n",
       "4         EU  Android     B  recommender_system_test 3 days 18:18:27   \n",
       "...      ...      ...   ...                      ...             ...   \n",
       "23077     EU  Android     A  recommender_system_test 4 days 09:12:51   \n",
       "23078     EU  Android     A  recommender_system_test 0 days 20:58:25   \n",
       "23079     EU  Android     A  recommender_system_test 1 days 22:28:29   \n",
       "23080     EU  Android     A  recommender_system_test 4 days 09:12:49   \n",
       "23081     EU       PC     B  recommender_system_test             NaT   \n",
       "\n",
       "       diff_days  \n",
       "0            0.0  \n",
       "1            0.0  \n",
       "2            0.0  \n",
       "3            1.0  \n",
       "4            3.0  \n",
       "...          ...  \n",
       "23077        4.0  \n",
       "23078        0.0  \n",
       "23079        1.0  \n",
       "23080        4.0  \n",
       "23081        NaN  \n",
       "\n",
       "[22552 rows x 11 columns]"
      ]
     },
     "execution_count": 14,
     "metadata": {},
     "output_type": "execute_result"
    }
   ],
   "source": [
    "#Объединяем ДФ и убираем действия после 14 дней, чтобы не убрать юзеров без действий.\n",
    "actions_clean = actions.merge(users_clean, how='right', on='user_id')\n",
    "actions_clean['diff_time'] = actions_clean['event_dt'] - actions_clean['first_date']\n",
    "actions_clean['diff_days'] = actions_clean['diff_time'].dt.days\n",
    "old_actions = actions_clean[actions_clean.diff_days > 14].index.to_list()\n",
    "actions_clean = actions_clean.query('index != @old_actions')\n",
    "actions_clean"
   ]
  },
  {
   "cell_type": "code",
   "execution_count": 15,
   "id": "22e7a84b",
   "metadata": {},
   "outputs": [
    {
     "data": {
      "text/html": [
       "<div>\n",
       "<style scoped>\n",
       "    .dataframe tbody tr th:only-of-type {\n",
       "        vertical-align: middle;\n",
       "    }\n",
       "\n",
       "    .dataframe tbody tr th {\n",
       "        vertical-align: top;\n",
       "    }\n",
       "\n",
       "    .dataframe thead th {\n",
       "        text-align: right;\n",
       "    }\n",
       "</style>\n",
       "<table border=\"1\" class=\"dataframe\">\n",
       "  <thead>\n",
       "    <tr style=\"text-align: right;\">\n",
       "      <th></th>\n",
       "      <th>actions</th>\n",
       "      <th>users</th>\n",
       "      <th>actions_per_user</th>\n",
       "    </tr>\n",
       "    <tr>\n",
       "      <th>group</th>\n",
       "      <th></th>\n",
       "      <th></th>\n",
       "      <th></th>\n",
       "    </tr>\n",
       "  </thead>\n",
       "  <tbody>\n",
       "    <tr>\n",
       "      <th>A</th>\n",
       "      <td>15851.00</td>\n",
       "      <td>3195.00</td>\n",
       "      <td>4.96</td>\n",
       "    </tr>\n",
       "    <tr>\n",
       "      <th>B</th>\n",
       "      <td>4183.00</td>\n",
       "      <td>2373.00</td>\n",
       "      <td>1.76</td>\n",
       "    </tr>\n",
       "    <tr>\n",
       "      <th>ratio</th>\n",
       "      <td>3.79</td>\n",
       "      <td>1.35</td>\n",
       "      <td>2.81</td>\n",
       "    </tr>\n",
       "  </tbody>\n",
       "</table>\n",
       "</div>"
      ],
      "text/plain": [
       "        actions    users  actions_per_user\n",
       "group                                     \n",
       "A      15851.00  3195.00              4.96\n",
       "B       4183.00  2373.00              1.76\n",
       "ratio      3.79     1.35              2.81"
      ]
     },
     "execution_count": 15,
     "metadata": {},
     "output_type": "execute_result"
    }
   ],
   "source": [
    "groups = (actions_clean.pivot_table(index='group', aggfunc={'event_dt': 'count', 'user_id': 'nunique'})\n",
    "                       .rename(columns = {'event_dt': 'actions', 'user_id': 'users'}))\n",
    "groups['actions_per_user'] = groups['actions'] / groups['users']\n",
    "groups.loc['ratio'] = groups.loc['A'] / groups.loc['B']\n",
    "groups"
   ]
  },
  {
   "cell_type": "markdown",
   "id": "647e6d4f",
   "metadata": {},
   "source": [
    "Можем видеть, что распределения в группах крайне неравномерные, а именно в контрольной группе А больше, чем в тестовой группе B:\n",
    "- действий в 3.8 раз (15851 против 4183)\n",
    "- пользователей в 1.4 раза (3195 против 2373)\n",
    "- действий на пользователя в 2.8 раз (4.96 против 1.76)\n",
    "\n",
    "Эти данные нам уже показывают о некорректно проведенном A/B-тесте, а также о потенциально неудовлетворительном эффекте нововведения. Продолжим анализ."
   ]
  },
  {
   "cell_type": "markdown",
   "id": "0e2e8e9d",
   "metadata": {},
   "source": [
    "## Распределение событий по дням."
   ]
  },
  {
   "cell_type": "code",
   "execution_count": 16,
   "id": "bd499271",
   "metadata": {},
   "outputs": [
    {
     "data": {
      "image/svg+xml": [
       "<svg class=\"main-svg\" xmlns=\"http://www.w3.org/2000/svg\" xmlns:xlink=\"http://www.w3.org/1999/xlink\" width=\"950\" height=\"600\" style=\"\" viewBox=\"0 0 950 600\"><rect x=\"0\" y=\"0\" width=\"950\" height=\"600\" style=\"fill: rgb(255, 255, 255); fill-opacity: 1;\"/><defs id=\"defs-cc4369\"><g class=\"clips\"><clipPath id=\"clipcc4369xyplot\" class=\"plotclip\"><rect width=\"787\" height=\"420\"/></clipPath><clipPath class=\"axesclip\" id=\"clipcc4369x\"><rect x=\"80\" y=\"0\" width=\"787\" height=\"600\"/></clipPath><clipPath class=\"axesclip\" id=\"clipcc4369y\"><rect x=\"0\" y=\"100\" width=\"950\" height=\"420\"/></clipPath><clipPath class=\"axesclip\" id=\"clipcc4369xy\"><rect x=\"80\" y=\"100\" width=\"787\" height=\"420\"/></clipPath></g><g class=\"gradients\"/><g class=\"patterns\"/></defs><g class=\"bglayer\"><rect class=\"bg\" x=\"80\" y=\"100\" width=\"787\" height=\"420\" style=\"fill: rgb(229, 236, 246); fill-opacity: 1; stroke-width: 0;\"/></g><g class=\"layer-below\"><g class=\"imagelayer\"/><g class=\"shapelayer\"/></g><g class=\"cartesianlayer\"><g class=\"subplot xy\"><g class=\"layer-subplot\"><g class=\"shapelayer\"/><g class=\"imagelayer\"/></g><g class=\"minor-gridlayer\"><g class=\"x\"/><g class=\"y\"/></g><g class=\"gridlayer\"><g class=\"x\"/><g class=\"y\"><path class=\"ygrid crisp\" transform=\"translate(0,475.96)\" d=\"M80,0h787\" style=\"stroke: rgb(255, 255, 255); stroke-opacity: 1; stroke-width: 1px;\"/><path class=\"ygrid crisp\" transform=\"translate(0,431.92)\" d=\"M80,0h787\" style=\"stroke: rgb(255, 255, 255); stroke-opacity: 1; stroke-width: 1px;\"/><path class=\"ygrid crisp\" transform=\"translate(0,387.88)\" d=\"M80,0h787\" style=\"stroke: rgb(255, 255, 255); stroke-opacity: 1; stroke-width: 1px;\"/><path class=\"ygrid crisp\" transform=\"translate(0,343.84000000000003)\" d=\"M80,0h787\" style=\"stroke: rgb(255, 255, 255); stroke-opacity: 1; stroke-width: 1px;\"/><path class=\"ygrid crisp\" transform=\"translate(0,299.8)\" d=\"M80,0h787\" style=\"stroke: rgb(255, 255, 255); stroke-opacity: 1; stroke-width: 1px;\"/><path class=\"ygrid crisp\" transform=\"translate(0,255.76)\" d=\"M80,0h787\" style=\"stroke: rgb(255, 255, 255); stroke-opacity: 1; stroke-width: 1px;\"/><path class=\"ygrid crisp\" transform=\"translate(0,211.72)\" d=\"M80,0h787\" style=\"stroke: rgb(255, 255, 255); stroke-opacity: 1; stroke-width: 1px;\"/><path class=\"ygrid crisp\" transform=\"translate(0,167.68)\" d=\"M80,0h787\" style=\"stroke: rgb(255, 255, 255); stroke-opacity: 1; stroke-width: 1px;\"/><path class=\"ygrid crisp\" transform=\"translate(0,123.64)\" d=\"M80,0h787\" style=\"stroke: rgb(255, 255, 255); stroke-opacity: 1; stroke-width: 1px;\"/></g></g><g class=\"zerolinelayer\"><path class=\"yzl zl crisp\" transform=\"translate(0,520)\" d=\"M80,0h787\" style=\"stroke: rgb(255, 255, 255); stroke-opacity: 1; stroke-width: 2px;\"/></g><path class=\"xlines-below\"/><path class=\"ylines-below\"/><g class=\"overlines-below\"/><g class=\"xaxislayer-below\"/><g class=\"yaxislayer-below\"/><g class=\"overaxes-below\"/><g class=\"plot\" transform=\"translate(80,100)\" clip-path=\"url(#clipcc4369xyplot)\"><g class=\"barlayer mlayer\"><g class=\"trace bars\" shape-rendering=\"crispEdges\" style=\"opacity: 1;\"><g class=\"points\"><g class=\"point\"><path d=\"M0,420V363.63H8.55V420Z\" style=\"vector-effect: non-scaling-stroke; opacity: 0.5; stroke-width: 0px; fill: rgb(99, 110, 250); fill-opacity: 1;\"/></g><g class=\"point\"><path d=\"M8.55,420V361.87H17.11V420Z\" style=\"vector-effect: non-scaling-stroke; opacity: 0.5; stroke-width: 0px; fill: rgb(99, 110, 250); fill-opacity: 1;\"/></g><g class=\"point\"><path d=\"M17.11,420V368.03H25.66V420Z\" style=\"vector-effect: non-scaling-stroke; opacity: 0.5; stroke-width: 0px; fill: rgb(99, 110, 250); fill-opacity: 1;\"/></g><g class=\"point\"><path d=\"M25.66,420V354.82H34.22V420Z\" style=\"vector-effect: non-scaling-stroke; opacity: 0.5; stroke-width: 0px; fill: rgb(99, 110, 250); fill-opacity: 1;\"/></g><g class=\"point\"><path d=\"M34.22,420V353.94H42.77V420Z\" style=\"vector-effect: non-scaling-stroke; opacity: 0.5; stroke-width: 0px; fill: rgb(99, 110, 250); fill-opacity: 1;\"/></g><g class=\"point\"><path d=\"M42.77,420V350.42H51.33V420Z\" style=\"vector-effect: non-scaling-stroke; opacity: 0.5; stroke-width: 0px; fill: rgb(99, 110, 250); fill-opacity: 1;\"/></g><g class=\"point\"><path d=\"M51.33,420V357.46H59.88V420Z\" style=\"vector-effect: non-scaling-stroke; opacity: 0.5; stroke-width: 0px; fill: rgb(99, 110, 250); fill-opacity: 1;\"/></g><g class=\"point\"><path d=\"M59.88,420V368.91H68.43V420Z\" style=\"vector-effect: non-scaling-stroke; opacity: 0.5; stroke-width: 0px; fill: rgb(99, 110, 250); fill-opacity: 1;\"/></g><g class=\"point\"><path d=\"M68.43,420V326.64H76.99V420Z\" style=\"vector-effect: non-scaling-stroke; opacity: 0.5; stroke-width: 0px; fill: rgb(99, 110, 250); fill-opacity: 1;\"/></g><g class=\"point\"><path d=\"M76.99,420V360.11H85.54V420Z\" style=\"vector-effect: non-scaling-stroke; opacity: 0.5; stroke-width: 0px; fill: rgb(99, 110, 250); fill-opacity: 1;\"/></g><g class=\"point\"><path d=\"M85.54,420V354.82H94.1V420Z\" style=\"vector-effect: non-scaling-stroke; opacity: 0.5; stroke-width: 0px; fill: rgb(99, 110, 250); fill-opacity: 1;\"/></g><g class=\"point\"><path d=\"M94.1,420V346.89H102.65V420Z\" style=\"vector-effect: non-scaling-stroke; opacity: 0.5; stroke-width: 0px; fill: rgb(99, 110, 250); fill-opacity: 1;\"/></g><g class=\"point\"><path d=\"M102.65,420V360.99H111.21V420Z\" style=\"vector-effect: non-scaling-stroke; opacity: 0.5; stroke-width: 0px; fill: rgb(99, 110, 250); fill-opacity: 1;\"/></g><g class=\"point\"><path d=\"M111.21,420V350.42H119.76V420Z\" style=\"vector-effect: non-scaling-stroke; opacity: 0.5; stroke-width: 0px; fill: rgb(99, 110, 250); fill-opacity: 1;\"/></g><g class=\"point\"><path d=\"M119.76,420V360.99H128.32V420Z\" style=\"vector-effect: non-scaling-stroke; opacity: 0.5; stroke-width: 0px; fill: rgb(99, 110, 250); fill-opacity: 1;\"/></g><g class=\"point\"><path d=\"M128.32,420V348.66H136.87V420Z\" style=\"vector-effect: non-scaling-stroke; opacity: 0.5; stroke-width: 0px; fill: rgb(99, 110, 250); fill-opacity: 1;\"/></g><g class=\"point\"><path d=\"M136.87,420V358.34H145.42V420Z\" style=\"vector-effect: non-scaling-stroke; opacity: 0.5; stroke-width: 0px; fill: rgb(99, 110, 250); fill-opacity: 1;\"/></g><g class=\"point\"><path d=\"M145.42,420V341.61H153.98V420Z\" style=\"vector-effect: non-scaling-stroke; opacity: 0.5; stroke-width: 0px; fill: rgb(99, 110, 250); fill-opacity: 1;\"/></g><g class=\"point\"><path d=\"M153.98,420V352.18H162.53V420Z\" style=\"vector-effect: non-scaling-stroke; opacity: 0.5; stroke-width: 0px; fill: rgb(99, 110, 250); fill-opacity: 1;\"/></g><g class=\"point\"><path d=\"M162.53,420V355.7H171.09V420Z\" style=\"vector-effect: non-scaling-stroke; opacity: 0.5; stroke-width: 0px; fill: rgb(99, 110, 250); fill-opacity: 1;\"/></g><g class=\"point\"><path d=\"M171.09,420V362.75H179.64V420Z\" style=\"vector-effect: non-scaling-stroke; opacity: 0.5; stroke-width: 0px; fill: rgb(99, 110, 250); fill-opacity: 1;\"/></g><g class=\"point\"><path d=\"M179.64,420V333.68H188.2V420Z\" style=\"vector-effect: non-scaling-stroke; opacity: 0.5; stroke-width: 0px; fill: rgb(99, 110, 250); fill-opacity: 1;\"/></g><g class=\"point\"><path d=\"M188.2,420V360.99H196.75V420Z\" style=\"vector-effect: non-scaling-stroke; opacity: 0.5; stroke-width: 0px; fill: rgb(99, 110, 250); fill-opacity: 1;\"/></g><g class=\"point\"><path d=\"M196.75,420V341.61H205.3V420Z\" style=\"vector-effect: non-scaling-stroke; opacity: 0.5; stroke-width: 0px; fill: rgb(99, 110, 250); fill-opacity: 1;\"/></g><g class=\"point\"><path d=\"M205.3,420V351.3H213.86V420Z\" style=\"vector-effect: non-scaling-stroke; opacity: 0.5; stroke-width: 0px; fill: rgb(99, 110, 250); fill-opacity: 1;\"/></g><g class=\"point\"><path d=\"M213.86,420V352.18H222.41V420Z\" style=\"vector-effect: non-scaling-stroke; opacity: 0.5; stroke-width: 0px; fill: rgb(99, 110, 250); fill-opacity: 1;\"/></g><g class=\"point\"><path d=\"M222.41,420V368.03H230.97V420Z\" style=\"vector-effect: non-scaling-stroke; opacity: 0.5; stroke-width: 0px; fill: rgb(99, 110, 250); fill-opacity: 1;\"/></g><g class=\"point\"><path d=\"M230.97,420V368.03H239.52V420Z\" style=\"vector-effect: non-scaling-stroke; opacity: 0.5; stroke-width: 0px; fill: rgb(99, 110, 250); fill-opacity: 1;\"/></g><g class=\"point\"><path d=\"M239.52,420V222.7H248.08V420Z\" style=\"vector-effect: non-scaling-stroke; opacity: 0.5; stroke-width: 0px; fill: rgb(99, 110, 250); fill-opacity: 1;\"/></g><g class=\"point\"><path d=\"M248.08,420V221.82H256.63V420Z\" style=\"vector-effect: non-scaling-stroke; opacity: 0.5; stroke-width: 0px; fill: rgb(99, 110, 250); fill-opacity: 1;\"/></g><g class=\"point\"><path d=\"M256.63,420V228.87H265.18V420Z\" style=\"vector-effect: non-scaling-stroke; opacity: 0.5; stroke-width: 0px; fill: rgb(99, 110, 250); fill-opacity: 1;\"/></g><g class=\"point\"><path d=\"M265.18,420V231.51H273.74V420Z\" style=\"vector-effect: non-scaling-stroke; opacity: 0.5; stroke-width: 0px; fill: rgb(99, 110, 250); fill-opacity: 1;\"/></g><g class=\"point\"><path d=\"M273.74,420V226.23H282.29V420Z\" style=\"vector-effect: non-scaling-stroke; opacity: 0.5; stroke-width: 0px; fill: rgb(99, 110, 250); fill-opacity: 1;\"/></g><g class=\"point\"><path d=\"M282.29,420V212.13H290.85V420Z\" style=\"vector-effect: non-scaling-stroke; opacity: 0.5; stroke-width: 0px; fill: rgb(99, 110, 250); fill-opacity: 1;\"/></g><g class=\"point\"><path d=\"M290.85,420V227.11H299.4V420Z\" style=\"vector-effect: non-scaling-stroke; opacity: 0.5; stroke-width: 0px; fill: rgb(99, 110, 250); fill-opacity: 1;\"/></g><g class=\"point\"><path d=\"M299.4,420V208.61H307.96V420Z\" style=\"vector-effect: non-scaling-stroke; opacity: 0.5; stroke-width: 0px; fill: rgb(99, 110, 250); fill-opacity: 1;\"/></g><g class=\"point\"><path d=\"M307.96,420V223.58H316.51V420Z\" style=\"vector-effect: non-scaling-stroke; opacity: 0.5; stroke-width: 0px; fill: rgb(99, 110, 250); fill-opacity: 1;\"/></g><g class=\"point\"><path d=\"M316.51,420V241.2H325.07V420Z\" style=\"vector-effect: non-scaling-stroke; opacity: 0.5; stroke-width: 0px; fill: rgb(99, 110, 250); fill-opacity: 1;\"/></g><g class=\"point\"><path d=\"M325.07,420V237.68H333.62V420Z\" style=\"vector-effect: non-scaling-stroke; opacity: 0.5; stroke-width: 0px; fill: rgb(99, 110, 250); fill-opacity: 1;\"/></g><g class=\"point\"><path d=\"M333.62,420V211.25H342.17V420Z\" style=\"vector-effect: non-scaling-stroke; opacity: 0.5; stroke-width: 0px; fill: rgb(99, 110, 250); fill-opacity: 1;\"/></g><g class=\"point\"><path d=\"M342.17,420V219.18H350.73V420Z\" style=\"vector-effect: non-scaling-stroke; opacity: 0.5; stroke-width: 0px; fill: rgb(99, 110, 250); fill-opacity: 1;\"/></g><g class=\"point\"><path d=\"M350.73,420V173.38H359.28V420Z\" style=\"vector-effect: non-scaling-stroke; opacity: 0.5; stroke-width: 0px; fill: rgb(99, 110, 250); fill-opacity: 1;\"/></g><g class=\"point\"><path d=\"M359.28,420V197.16H367.84V420Z\" style=\"vector-effect: non-scaling-stroke; opacity: 0.5; stroke-width: 0px; fill: rgb(99, 110, 250); fill-opacity: 1;\"/></g><g class=\"point\"><path d=\"M367.84,420V168.97H376.39V420Z\" style=\"vector-effect: non-scaling-stroke; opacity: 0.5; stroke-width: 0px; fill: rgb(99, 110, 250); fill-opacity: 1;\"/></g><g class=\"point\"><path d=\"M376.39,420V170.74H384.95V420Z\" style=\"vector-effect: non-scaling-stroke; opacity: 0.5; stroke-width: 0px; fill: rgb(99, 110, 250); fill-opacity: 1;\"/></g><g class=\"point\"><path d=\"M384.95,420V221.82H393.5V420Z\" style=\"vector-effect: non-scaling-stroke; opacity: 0.5; stroke-width: 0px; fill: rgb(99, 110, 250); fill-opacity: 1;\"/></g><g class=\"point\"><path d=\"M393.5,420V154H402.05V420Z\" style=\"vector-effect: non-scaling-stroke; opacity: 0.5; stroke-width: 0px; fill: rgb(99, 110, 250); fill-opacity: 1;\"/></g><g class=\"point\"><path d=\"M402.05,420V177.78H410.61V420Z\" style=\"vector-effect: non-scaling-stroke; opacity: 0.5; stroke-width: 0px; fill: rgb(99, 110, 250); fill-opacity: 1;\"/></g><g class=\"point\"><path d=\"M410.61,420V124.05H419.16V420Z\" style=\"vector-effect: non-scaling-stroke; opacity: 0.5; stroke-width: 0px; fill: rgb(99, 110, 250); fill-opacity: 1;\"/></g><g class=\"point\"><path d=\"M419.16,420V130.22H427.72V420Z\" style=\"vector-effect: non-scaling-stroke; opacity: 0.5; stroke-width: 0px; fill: rgb(99, 110, 250); fill-opacity: 1;\"/></g><g class=\"point\"><path d=\"M427.72,420V145.19H436.27V420Z\" style=\"vector-effect: non-scaling-stroke; opacity: 0.5; stroke-width: 0px; fill: rgb(99, 110, 250); fill-opacity: 1;\"/></g><g class=\"point\"><path d=\"M436.27,420V168.97H444.83V420Z\" style=\"vector-effect: non-scaling-stroke; opacity: 0.5; stroke-width: 0px; fill: rgb(99, 110, 250); fill-opacity: 1;\"/></g><g class=\"point\"><path d=\"M444.83,420V123.17H453.38V420Z\" style=\"vector-effect: non-scaling-stroke; opacity: 0.5; stroke-width: 0px; fill: rgb(99, 110, 250); fill-opacity: 1;\"/></g><g class=\"point\"><path d=\"M453.38,420V129.34H461.93V420Z\" style=\"vector-effect: non-scaling-stroke; opacity: 0.5; stroke-width: 0px; fill: rgb(99, 110, 250); fill-opacity: 1;\"/></g><g class=\"point\"><path d=\"M461.93,420V166.33H470.49V420Z\" style=\"vector-effect: non-scaling-stroke; opacity: 0.5; stroke-width: 0px; fill: rgb(99, 110, 250); fill-opacity: 1;\"/></g><g class=\"point\"><path d=\"M470.49,420V117.89H479.04V420Z\" style=\"vector-effect: non-scaling-stroke; opacity: 0.5; stroke-width: 0px; fill: rgb(99, 110, 250); fill-opacity: 1;\"/></g><g class=\"point\"><path d=\"M479.04,420V33.33H487.6V420Z\" style=\"vector-effect: non-scaling-stroke; opacity: 0.5; stroke-width: 0px; fill: rgb(99, 110, 250); fill-opacity: 1;\"/></g><g class=\"point\"><path d=\"M487.6,420V78.25H496.15V420Z\" style=\"vector-effect: non-scaling-stroke; opacity: 0.5; stroke-width: 0px; fill: rgb(99, 110, 250); fill-opacity: 1;\"/></g><g class=\"point\"><path d=\"M496.15,420V21H504.71V420Z\" style=\"vector-effect: non-scaling-stroke; opacity: 0.5; stroke-width: 0px; fill: rgb(99, 110, 250); fill-opacity: 1;\"/></g><g class=\"point\"><path d=\"M504.71,420V58.87H513.26V420Z\" style=\"vector-effect: non-scaling-stroke; opacity: 0.5; stroke-width: 0px; fill: rgb(99, 110, 250); fill-opacity: 1;\"/></g><g class=\"point\"><path d=\"M513.26,420V177.78H521.82V420Z\" style=\"vector-effect: non-scaling-stroke; opacity: 0.5; stroke-width: 0px; fill: rgb(99, 110, 250); fill-opacity: 1;\"/></g><g class=\"point\"><path d=\"M521.82,420V204.21H530.37V420Z\" style=\"vector-effect: non-scaling-stroke; opacity: 0.5; stroke-width: 0px; fill: rgb(99, 110, 250); fill-opacity: 1;\"/></g><g class=\"point\"><path d=\"M530.37,420V154H538.92V420Z\" style=\"vector-effect: non-scaling-stroke; opacity: 0.5; stroke-width: 0px; fill: rgb(99, 110, 250); fill-opacity: 1;\"/></g><g class=\"point\"><path d=\"M538.92,420V179.54H547.48V420Z\" style=\"vector-effect: non-scaling-stroke; opacity: 0.5; stroke-width: 0px; fill: rgb(99, 110, 250); fill-opacity: 1;\"/></g><g class=\"point\"><path d=\"M547.48,420V235.03H556.03V420Z\" style=\"vector-effect: non-scaling-stroke; opacity: 0.5; stroke-width: 0px; fill: rgb(99, 110, 250); fill-opacity: 1;\"/></g><g class=\"point\"><path d=\"M556.03,420V249.13H564.59V420Z\" style=\"vector-effect: non-scaling-stroke; opacity: 0.5; stroke-width: 0px; fill: rgb(99, 110, 250); fill-opacity: 1;\"/></g><g class=\"point\"><path d=\"M564.59,420V245.6H573.14V420Z\" style=\"vector-effect: non-scaling-stroke; opacity: 0.5; stroke-width: 0px; fill: rgb(99, 110, 250); fill-opacity: 1;\"/></g><g class=\"point\"><path d=\"M573.14,420V220.06H581.7V420Z\" style=\"vector-effect: non-scaling-stroke; opacity: 0.5; stroke-width: 0px; fill: rgb(99, 110, 250); fill-opacity: 1;\"/></g><g class=\"point\"><path d=\"M581.7,420V279.95H590.25V420Z\" style=\"vector-effect: non-scaling-stroke; opacity: 0.5; stroke-width: 0px; fill: rgb(99, 110, 250); fill-opacity: 1;\"/></g><g class=\"point\"><path d=\"M590.25,420V274.67H598.8V420Z\" style=\"vector-effect: non-scaling-stroke; opacity: 0.5; stroke-width: 0px; fill: rgb(99, 110, 250); fill-opacity: 1;\"/></g><g class=\"point\"><path d=\"M598.8,420V257.93H607.36V420Z\" style=\"vector-effect: non-scaling-stroke; opacity: 0.5; stroke-width: 0px; fill: rgb(99, 110, 250); fill-opacity: 1;\"/></g><g class=\"point\"><path d=\"M607.36,420V243.84H615.91V420Z\" style=\"vector-effect: non-scaling-stroke; opacity: 0.5; stroke-width: 0px; fill: rgb(99, 110, 250); fill-opacity: 1;\"/></g><g class=\"point\"><path d=\"M615.91,420V320.47H624.47V420Z\" style=\"vector-effect: non-scaling-stroke; opacity: 0.5; stroke-width: 0px; fill: rgb(99, 110, 250); fill-opacity: 1;\"/></g><g class=\"point\"><path d=\"M624.47,420V305.5H633.02V420Z\" style=\"vector-effect: non-scaling-stroke; opacity: 0.5; stroke-width: 0px; fill: rgb(99, 110, 250); fill-opacity: 1;\"/></g><g class=\"point\"><path d=\"M633.02,420V266.74H641.58V420Z\" style=\"vector-effect: non-scaling-stroke; opacity: 0.5; stroke-width: 0px; fill: rgb(99, 110, 250); fill-opacity: 1;\"/></g><g class=\"point\"><path d=\"M641.58,420V322.23H650.13V420Z\" style=\"vector-effect: non-scaling-stroke; opacity: 0.5; stroke-width: 0px; fill: rgb(99, 110, 250); fill-opacity: 1;\"/></g><g class=\"point\"><path d=\"M650.13,420V301.09H658.68V420Z\" style=\"vector-effect: non-scaling-stroke; opacity: 0.5; stroke-width: 0px; fill: rgb(99, 110, 250); fill-opacity: 1;\"/></g><g class=\"point\"><path d=\"M658.68,420V337.21H667.24V420Z\" style=\"vector-effect: non-scaling-stroke; opacity: 0.5; stroke-width: 0px; fill: rgb(99, 110, 250); fill-opacity: 1;\"/></g><g class=\"point\"><path d=\"M667.24,420V304.62H675.79V420Z\" style=\"vector-effect: non-scaling-stroke; opacity: 0.5; stroke-width: 0px; fill: rgb(99, 110, 250); fill-opacity: 1;\"/></g><g class=\"point\"><path d=\"M675.79,420V322.23H684.35V420Z\" style=\"vector-effect: non-scaling-stroke; opacity: 0.5; stroke-width: 0px; fill: rgb(99, 110, 250); fill-opacity: 1;\"/></g><g class=\"point\"><path d=\"M684.35,420V310.78H692.9V420Z\" style=\"vector-effect: non-scaling-stroke; opacity: 0.5; stroke-width: 0px; fill: rgb(99, 110, 250); fill-opacity: 1;\"/></g><g class=\"point\"><path d=\"M692.9,420V295.81H701.46V420Z\" style=\"vector-effect: non-scaling-stroke; opacity: 0.5; stroke-width: 0px; fill: rgb(99, 110, 250); fill-opacity: 1;\"/></g><g class=\"point\"><path d=\"M701.46,420V339.85H710.01V420Z\" style=\"vector-effect: non-scaling-stroke; opacity: 0.5; stroke-width: 0px; fill: rgb(99, 110, 250); fill-opacity: 1;\"/></g><g class=\"point\"><path d=\"M710.01,420V336.32H718.57V420Z\" style=\"vector-effect: non-scaling-stroke; opacity: 0.5; stroke-width: 0px; fill: rgb(99, 110, 250); fill-opacity: 1;\"/></g><g class=\"point\"><path d=\"M718.57,420V324.87H727.12V420Z\" style=\"vector-effect: non-scaling-stroke; opacity: 0.5; stroke-width: 0px; fill: rgb(99, 110, 250); fill-opacity: 1;\"/></g><g class=\"point\"><path d=\"M727.12,420V331.92H735.67V420Z\" style=\"vector-effect: non-scaling-stroke; opacity: 0.5; stroke-width: 0px; fill: rgb(99, 110, 250); fill-opacity: 1;\"/></g><g class=\"point\"><path d=\"M735.67,420V333.68H744.23V420Z\" style=\"vector-effect: non-scaling-stroke; opacity: 0.5; stroke-width: 0px; fill: rgb(99, 110, 250); fill-opacity: 1;\"/></g><g class=\"point\"><path d=\"M744.23,420V346.89H752.78V420Z\" style=\"vector-effect: non-scaling-stroke; opacity: 0.5; stroke-width: 0px; fill: rgb(99, 110, 250); fill-opacity: 1;\"/></g><g class=\"point\"><path d=\"M752.78,420V355.7H761.34V420Z\" style=\"vector-effect: non-scaling-stroke; opacity: 0.5; stroke-width: 0px; fill: rgb(99, 110, 250); fill-opacity: 1;\"/></g><g class=\"point\"><path d=\"M761.34,420V355.7H769.89V420Z\" style=\"vector-effect: non-scaling-stroke; opacity: 0.5; stroke-width: 0px; fill: rgb(99, 110, 250); fill-opacity: 1;\"/></g><g class=\"point\"><path d=\"M769.89,420V369.79H778.45V420Z\" style=\"vector-effect: non-scaling-stroke; opacity: 0.5; stroke-width: 0px; fill: rgb(99, 110, 250); fill-opacity: 1;\"/></g><g class=\"point\"><path d=\"M778.45,420V368.03H787V420Z\" style=\"vector-effect: non-scaling-stroke; opacity: 0.5; stroke-width: 0px; fill: rgb(99, 110, 250); fill-opacity: 1;\"/></g></g></g><g class=\"trace bars\" shape-rendering=\"crispEdges\" style=\"opacity: 1;\"><g class=\"points\"><g class=\"point\"><path d=\"M0,420V348.66H8.55V420Z\" style=\"vector-effect: non-scaling-stroke; opacity: 0.5; stroke-width: 0px; fill: rgb(239, 85, 59); fill-opacity: 1;\"/></g><g class=\"point\"><path d=\"M8.55,420V356.58H17.11V420Z\" style=\"vector-effect: non-scaling-stroke; opacity: 0.5; stroke-width: 0px; fill: rgb(239, 85, 59); fill-opacity: 1;\"/></g><g class=\"point\"><path d=\"M17.11,420V349.54H25.66V420Z\" style=\"vector-effect: non-scaling-stroke; opacity: 0.5; stroke-width: 0px; fill: rgb(239, 85, 59); fill-opacity: 1;\"/></g><g class=\"point\"><path d=\"M25.66,420V347.77H34.22V420Z\" style=\"vector-effect: non-scaling-stroke; opacity: 0.5; stroke-width: 0px; fill: rgb(239, 85, 59); fill-opacity: 1;\"/></g><g class=\"point\"><path d=\"M34.22,420V374.2H42.77V420Z\" style=\"vector-effect: non-scaling-stroke; opacity: 0.5; stroke-width: 0px; fill: rgb(239, 85, 59); fill-opacity: 1;\"/></g><g class=\"point\"><path d=\"M42.77,420V355.7H51.33V420Z\" style=\"vector-effect: non-scaling-stroke; opacity: 0.5; stroke-width: 0px; fill: rgb(239, 85, 59); fill-opacity: 1;\"/></g><g class=\"point\"><path d=\"M51.33,420V383.01H59.88V420Z\" style=\"vector-effect: non-scaling-stroke; opacity: 0.5; stroke-width: 0px; fill: rgb(239, 85, 59); fill-opacity: 1;\"/></g><g class=\"point\"><path d=\"M59.88,420V384.77H68.43V420Z\" style=\"vector-effect: non-scaling-stroke; opacity: 0.5; stroke-width: 0px; fill: rgb(239, 85, 59); fill-opacity: 1;\"/></g><g class=\"point\"><path d=\"M68.43,420V351.3H76.99V420Z\" style=\"vector-effect: non-scaling-stroke; opacity: 0.5; stroke-width: 0px; fill: rgb(239, 85, 59); fill-opacity: 1;\"/></g><g class=\"point\"><path d=\"M76.99,420V375.08H85.54V420Z\" style=\"vector-effect: non-scaling-stroke; opacity: 0.5; stroke-width: 0px; fill: rgb(239, 85, 59); fill-opacity: 1;\"/></g><g class=\"point\"><path d=\"M85.54,420V339.85H94.1V420Z\" style=\"vector-effect: non-scaling-stroke; opacity: 0.5; stroke-width: 0px; fill: rgb(239, 85, 59); fill-opacity: 1;\"/></g><g class=\"point\"><path d=\"M94.1,420V359.23H102.65V420Z\" style=\"vector-effect: non-scaling-stroke; opacity: 0.5; stroke-width: 0px; fill: rgb(239, 85, 59); fill-opacity: 1;\"/></g><g class=\"point\"><path d=\"M102.65,420V380.36H111.21V420Z\" style=\"vector-effect: non-scaling-stroke; opacity: 0.5; stroke-width: 0px; fill: rgb(239, 85, 59); fill-opacity: 1;\"/></g><g class=\"point\"><path d=\"M111.21,420V370.68H119.76V420Z\" style=\"vector-effect: non-scaling-stroke; opacity: 0.5; stroke-width: 0px; fill: rgb(239, 85, 59); fill-opacity: 1;\"/></g><g class=\"point\"><path d=\"M119.76,420V374.2H128.32V420Z\" style=\"vector-effect: non-scaling-stroke; opacity: 0.5; stroke-width: 0px; fill: rgb(239, 85, 59); fill-opacity: 1;\"/></g><g class=\"point\"><path d=\"M128.32,420V362.75H136.87V420Z\" style=\"vector-effect: non-scaling-stroke; opacity: 0.5; stroke-width: 0px; fill: rgb(239, 85, 59); fill-opacity: 1;\"/></g><g class=\"point\"><path d=\"M136.87,420V381.25H145.42V420Z\" style=\"vector-effect: non-scaling-stroke; opacity: 0.5; stroke-width: 0px; fill: rgb(239, 85, 59); fill-opacity: 1;\"/></g><g class=\"point\"><path d=\"M145.42,420V397.98H153.98V420Z\" style=\"vector-effect: non-scaling-stroke; opacity: 0.5; stroke-width: 0px; fill: rgb(239, 85, 59); fill-opacity: 1;\"/></g><g class=\"point\"><path d=\"M153.98,420V393.58H162.53V420Z\" style=\"vector-effect: non-scaling-stroke; opacity: 0.5; stroke-width: 0px; fill: rgb(239, 85, 59); fill-opacity: 1;\"/></g><g class=\"point\"><path d=\"M162.53,420V386.53H171.09V420Z\" style=\"vector-effect: non-scaling-stroke; opacity: 0.5; stroke-width: 0px; fill: rgb(239, 85, 59); fill-opacity: 1;\"/></g><g class=\"point\"><path d=\"M171.09,420V363.63H179.64V420Z\" style=\"vector-effect: non-scaling-stroke; opacity: 0.5; stroke-width: 0px; fill: rgb(239, 85, 59); fill-opacity: 1;\"/></g><g class=\"point\"><path d=\"M179.64,420V403.26H188.2V420Z\" style=\"vector-effect: non-scaling-stroke; opacity: 0.5; stroke-width: 0px; fill: rgb(239, 85, 59); fill-opacity: 1;\"/></g><g class=\"point\"><path d=\"M188.2,420V389.17H196.75V420Z\" style=\"vector-effect: non-scaling-stroke; opacity: 0.5; stroke-width: 0px; fill: rgb(239, 85, 59); fill-opacity: 1;\"/></g><g class=\"point\"><path d=\"M196.75,420V375.08H205.3V420Z\" style=\"vector-effect: non-scaling-stroke; opacity: 0.5; stroke-width: 0px; fill: rgb(239, 85, 59); fill-opacity: 1;\"/></g><g class=\"point\"><path d=\"M205.3,420V393.58H213.86V420Z\" style=\"vector-effect: non-scaling-stroke; opacity: 0.5; stroke-width: 0px; fill: rgb(239, 85, 59); fill-opacity: 1;\"/></g><g class=\"point\"><path d=\"M213.86,420V390.05H222.41V420Z\" style=\"vector-effect: non-scaling-stroke; opacity: 0.5; stroke-width: 0px; fill: rgb(239, 85, 59); fill-opacity: 1;\"/></g><g class=\"point\"><path d=\"M222.41,420V403.26H230.97V420Z\" style=\"vector-effect: non-scaling-stroke; opacity: 0.5; stroke-width: 0px; fill: rgb(239, 85, 59); fill-opacity: 1;\"/></g><g class=\"point\"><path d=\"M230.97,420V385.65H239.52V420Z\" style=\"vector-effect: non-scaling-stroke; opacity: 0.5; stroke-width: 0px; fill: rgb(239, 85, 59); fill-opacity: 1;\"/></g><g class=\"point\"><path d=\"M239.52,420V360.99H248.08V420Z\" style=\"vector-effect: non-scaling-stroke; opacity: 0.5; stroke-width: 0px; fill: rgb(239, 85, 59); fill-opacity: 1;\"/></g><g class=\"point\"><path d=\"M248.08,420V380.36H256.63V420Z\" style=\"vector-effect: non-scaling-stroke; opacity: 0.5; stroke-width: 0px; fill: rgb(239, 85, 59); fill-opacity: 1;\"/></g><g class=\"point\"><path d=\"M256.63,420V375.08H265.18V420Z\" style=\"vector-effect: non-scaling-stroke; opacity: 0.5; stroke-width: 0px; fill: rgb(239, 85, 59); fill-opacity: 1;\"/></g><g class=\"point\"><path d=\"M265.18,420V363.63H273.74V420Z\" style=\"vector-effect: non-scaling-stroke; opacity: 0.5; stroke-width: 0px; fill: rgb(239, 85, 59); fill-opacity: 1;\"/></g><g class=\"point\"><path d=\"M273.74,420V383.89H282.29V420Z\" style=\"vector-effect: non-scaling-stroke; opacity: 0.5; stroke-width: 0px; fill: rgb(239, 85, 59); fill-opacity: 1;\"/></g><g class=\"point\"><path d=\"M282.29,420V383.89H290.85V420Z\" style=\"vector-effect: non-scaling-stroke; opacity: 0.5; stroke-width: 0px; fill: rgb(239, 85, 59); fill-opacity: 1;\"/></g><g class=\"point\"><path d=\"M290.85,420V370.68H299.4V420Z\" style=\"vector-effect: non-scaling-stroke; opacity: 0.5; stroke-width: 0px; fill: rgb(239, 85, 59); fill-opacity: 1;\"/></g><g class=\"point\"><path d=\"M299.4,420V376.84H307.96V420Z\" style=\"vector-effect: non-scaling-stroke; opacity: 0.5; stroke-width: 0px; fill: rgb(239, 85, 59); fill-opacity: 1;\"/></g><g class=\"point\"><path d=\"M307.96,420V344.25H316.51V420Z\" style=\"vector-effect: non-scaling-stroke; opacity: 0.5; stroke-width: 0px; fill: rgb(239, 85, 59); fill-opacity: 1;\"/></g><g class=\"point\"><path d=\"M316.51,420V361.87H325.07V420Z\" style=\"vector-effect: non-scaling-stroke; opacity: 0.5; stroke-width: 0px; fill: rgb(239, 85, 59); fill-opacity: 1;\"/></g><g class=\"point\"><path d=\"M325.07,420V337.21H333.62V420Z\" style=\"vector-effect: non-scaling-stroke; opacity: 0.5; stroke-width: 0px; fill: rgb(239, 85, 59); fill-opacity: 1;\"/></g><g class=\"point\"><path d=\"M333.62,420V353.06H342.17V420Z\" style=\"vector-effect: non-scaling-stroke; opacity: 0.5; stroke-width: 0px; fill: rgb(239, 85, 59); fill-opacity: 1;\"/></g><g class=\"point\"><path d=\"M342.17,420V363.63H350.73V420Z\" style=\"vector-effect: non-scaling-stroke; opacity: 0.5; stroke-width: 0px; fill: rgb(239, 85, 59); fill-opacity: 1;\"/></g><g class=\"point\"><path d=\"M350.73,420V374.2H359.28V420Z\" style=\"vector-effect: non-scaling-stroke; opacity: 0.5; stroke-width: 0px; fill: rgb(239, 85, 59); fill-opacity: 1;\"/></g><g class=\"point\"><path d=\"M359.28,420V361.87H367.84V420Z\" style=\"vector-effect: non-scaling-stroke; opacity: 0.5; stroke-width: 0px; fill: rgb(239, 85, 59); fill-opacity: 1;\"/></g><g class=\"point\"><path d=\"M367.84,420V377.72H376.39V420Z\" style=\"vector-effect: non-scaling-stroke; opacity: 0.5; stroke-width: 0px; fill: rgb(239, 85, 59); fill-opacity: 1;\"/></g><g class=\"point\"><path d=\"M376.39,420V381.25H384.95V420Z\" style=\"vector-effect: non-scaling-stroke; opacity: 0.5; stroke-width: 0px; fill: rgb(239, 85, 59); fill-opacity: 1;\"/></g><g class=\"point\"><path d=\"M384.95,420V353.06H393.5V420Z\" style=\"vector-effect: non-scaling-stroke; opacity: 0.5; stroke-width: 0px; fill: rgb(239, 85, 59); fill-opacity: 1;\"/></g><g class=\"point\"><path d=\"M393.5,420V384.77H402.05V420Z\" style=\"vector-effect: non-scaling-stroke; opacity: 0.5; stroke-width: 0px; fill: rgb(239, 85, 59); fill-opacity: 1;\"/></g><g class=\"point\"><path d=\"M402.05,420V363.63H410.61V420Z\" style=\"vector-effect: non-scaling-stroke; opacity: 0.5; stroke-width: 0px; fill: rgb(239, 85, 59); fill-opacity: 1;\"/></g><g class=\"point\"><path d=\"M410.61,420V376.84H419.16V420Z\" style=\"vector-effect: non-scaling-stroke; opacity: 0.5; stroke-width: 0px; fill: rgb(239, 85, 59); fill-opacity: 1;\"/></g><g class=\"point\"><path d=\"M419.16,420V375.96H427.72V420Z\" style=\"vector-effect: non-scaling-stroke; opacity: 0.5; stroke-width: 0px; fill: rgb(239, 85, 59); fill-opacity: 1;\"/></g><g class=\"point\"><path d=\"M427.72,420V370.68H436.27V420Z\" style=\"vector-effect: non-scaling-stroke; opacity: 0.5; stroke-width: 0px; fill: rgb(239, 85, 59); fill-opacity: 1;\"/></g><g class=\"point\"><path d=\"M436.27,420V349.54H444.83V420Z\" style=\"vector-effect: non-scaling-stroke; opacity: 0.5; stroke-width: 0px; fill: rgb(239, 85, 59); fill-opacity: 1;\"/></g><g class=\"point\"><path d=\"M444.83,420V376.84H453.38V420Z\" style=\"vector-effect: non-scaling-stroke; opacity: 0.5; stroke-width: 0px; fill: rgb(239, 85, 59); fill-opacity: 1;\"/></g><g class=\"point\"><path d=\"M453.38,420V349.54H461.93V420Z\" style=\"vector-effect: non-scaling-stroke; opacity: 0.5; stroke-width: 0px; fill: rgb(239, 85, 59); fill-opacity: 1;\"/></g><g class=\"point\"><path d=\"M461.93,420V344.25H470.49V420Z\" style=\"vector-effect: non-scaling-stroke; opacity: 0.5; stroke-width: 0px; fill: rgb(239, 85, 59); fill-opacity: 1;\"/></g><g class=\"point\"><path d=\"M470.49,420V368.91H479.04V420Z\" style=\"vector-effect: non-scaling-stroke; opacity: 0.5; stroke-width: 0px; fill: rgb(239, 85, 59); fill-opacity: 1;\"/></g><g class=\"point\"><path d=\"M479.04,420V347.77H487.6V420Z\" style=\"vector-effect: non-scaling-stroke; opacity: 0.5; stroke-width: 0px; fill: rgb(239, 85, 59); fill-opacity: 1;\"/></g><g class=\"point\"><path d=\"M487.6,420V337.21H496.15V420Z\" style=\"vector-effect: non-scaling-stroke; opacity: 0.5; stroke-width: 0px; fill: rgb(239, 85, 59); fill-opacity: 1;\"/></g><g class=\"point\"><path d=\"M496.15,420V338.97H504.71V420Z\" style=\"vector-effect: non-scaling-stroke; opacity: 0.5; stroke-width: 0px; fill: rgb(239, 85, 59); fill-opacity: 1;\"/></g><g class=\"point\"><path d=\"M504.71,420V340.73H513.26V420Z\" style=\"vector-effect: non-scaling-stroke; opacity: 0.5; stroke-width: 0px; fill: rgb(239, 85, 59); fill-opacity: 1;\"/></g><g class=\"point\"><path d=\"M513.26,420V383.89H521.82V420Z\" style=\"vector-effect: non-scaling-stroke; opacity: 0.5; stroke-width: 0px; fill: rgb(239, 85, 59); fill-opacity: 1;\"/></g><g class=\"point\"><path d=\"M521.82,420V398.86H530.37V420Z\" style=\"vector-effect: non-scaling-stroke; opacity: 0.5; stroke-width: 0px; fill: rgb(239, 85, 59); fill-opacity: 1;\"/></g><g class=\"point\"><path d=\"M530.37,420V398.86H538.92V420Z\" style=\"vector-effect: non-scaling-stroke; opacity: 0.5; stroke-width: 0px; fill: rgb(239, 85, 59); fill-opacity: 1;\"/></g><g class=\"point\"><path d=\"M538.92,420V370.68H547.48V420Z\" style=\"vector-effect: non-scaling-stroke; opacity: 0.5; stroke-width: 0px; fill: rgb(239, 85, 59); fill-opacity: 1;\"/></g><g class=\"point\"><path d=\"M547.48,420V400.62H556.03V420Z\" style=\"vector-effect: non-scaling-stroke; opacity: 0.5; stroke-width: 0px; fill: rgb(239, 85, 59); fill-opacity: 1;\"/></g><g class=\"point\"><path d=\"M556.03,420V392.7H564.59V420Z\" style=\"vector-effect: non-scaling-stroke; opacity: 0.5; stroke-width: 0px; fill: rgb(239, 85, 59); fill-opacity: 1;\"/></g><g class=\"point\"><path d=\"M564.59,420V394.46H573.14V420Z\" style=\"vector-effect: non-scaling-stroke; opacity: 0.5; stroke-width: 0px; fill: rgb(239, 85, 59); fill-opacity: 1;\"/></g><g class=\"point\"><path d=\"M573.14,420V366.27H581.7V420Z\" style=\"vector-effect: non-scaling-stroke; opacity: 0.5; stroke-width: 0px; fill: rgb(239, 85, 59); fill-opacity: 1;\"/></g><g class=\"point\"><path d=\"M581.7,420V389.17H590.25V420Z\" style=\"vector-effect: non-scaling-stroke; opacity: 0.5; stroke-width: 0px; fill: rgb(239, 85, 59); fill-opacity: 1;\"/></g><g class=\"point\"><path d=\"M590.25,420V405.91H598.8V420Z\" style=\"vector-effect: non-scaling-stroke; opacity: 0.5; stroke-width: 0px; fill: rgb(239, 85, 59); fill-opacity: 1;\"/></g><g class=\"point\"><path d=\"M598.8,420V401.5H607.36V420Z\" style=\"vector-effect: non-scaling-stroke; opacity: 0.5; stroke-width: 0px; fill: rgb(239, 85, 59); fill-opacity: 1;\"/></g><g class=\"point\"><path d=\"M607.36,420V392.7H615.91V420Z\" style=\"vector-effect: non-scaling-stroke; opacity: 0.5; stroke-width: 0px; fill: rgb(239, 85, 59); fill-opacity: 1;\"/></g><g class=\"point\"><path d=\"M615.91,420V398.86H624.47V420Z\" style=\"vector-effect: non-scaling-stroke; opacity: 0.5; stroke-width: 0px; fill: rgb(239, 85, 59); fill-opacity: 1;\"/></g><g class=\"point\"><path d=\"M624.47,420V413.83H633.02V420Z\" style=\"vector-effect: non-scaling-stroke; opacity: 0.5; stroke-width: 0px; fill: rgb(239, 85, 59); fill-opacity: 1;\"/></g><g class=\"point\"><path d=\"M633.02,420V403.26H641.58V420Z\" style=\"vector-effect: non-scaling-stroke; opacity: 0.5; stroke-width: 0px; fill: rgb(239, 85, 59); fill-opacity: 1;\"/></g><g class=\"point\"><path d=\"M641.58,420V402.38H650.13V420Z\" style=\"vector-effect: non-scaling-stroke; opacity: 0.5; stroke-width: 0px; fill: rgb(239, 85, 59); fill-opacity: 1;\"/></g><g class=\"point\"><path d=\"M650.13,420V405.91H658.68V420Z\" style=\"vector-effect: non-scaling-stroke; opacity: 0.5; stroke-width: 0px; fill: rgb(239, 85, 59); fill-opacity: 1;\"/></g><g class=\"point\"><path d=\"M658.68,420V419.12H667.24V420Z\" style=\"vector-effect: non-scaling-stroke; opacity: 0.5; stroke-width: 0px; fill: rgb(239, 85, 59); fill-opacity: 1;\"/></g><g class=\"point\"><path d=\"M667.24,420V404.15H675.79V420Z\" style=\"vector-effect: non-scaling-stroke; opacity: 0.5; stroke-width: 0px; fill: rgb(239, 85, 59); fill-opacity: 1;\"/></g><g class=\"point\"><path d=\"M675.79,420V404.15H684.35V420Z\" style=\"vector-effect: non-scaling-stroke; opacity: 0.5; stroke-width: 0px; fill: rgb(239, 85, 59); fill-opacity: 1;\"/></g><g class=\"point\"><path d=\"M684.35,420V410.31H692.9V420Z\" style=\"vector-effect: non-scaling-stroke; opacity: 0.5; stroke-width: 0px; fill: rgb(239, 85, 59); fill-opacity: 1;\"/></g><g class=\"point\"><path d=\"M692.9,420V404.15H701.46V420Z\" style=\"vector-effect: non-scaling-stroke; opacity: 0.5; stroke-width: 0px; fill: rgb(239, 85, 59); fill-opacity: 1;\"/></g><g class=\"point\"><path d=\"M701.46,420V408.55H710.01V420Z\" style=\"vector-effect: non-scaling-stroke; opacity: 0.5; stroke-width: 0px; fill: rgb(239, 85, 59); fill-opacity: 1;\"/></g><g class=\"point\"><path d=\"M710.01,420V402.38H718.57V420Z\" style=\"vector-effect: non-scaling-stroke; opacity: 0.5; stroke-width: 0px; fill: rgb(239, 85, 59); fill-opacity: 1;\"/></g><g class=\"point\"><path d=\"M718.57,420V407.67H727.12V420Z\" style=\"vector-effect: non-scaling-stroke; opacity: 0.5; stroke-width: 0px; fill: rgb(239, 85, 59); fill-opacity: 1;\"/></g><g class=\"point\"><path d=\"M727.12,420V411.19H735.67V420Z\" style=\"vector-effect: non-scaling-stroke; opacity: 0.5; stroke-width: 0px; fill: rgb(239, 85, 59); fill-opacity: 1;\"/></g><g class=\"point\"><path d=\"M735.67,420V408.55H744.23V420Z\" style=\"vector-effect: non-scaling-stroke; opacity: 0.5; stroke-width: 0px; fill: rgb(239, 85, 59); fill-opacity: 1;\"/></g><g class=\"point\"><path d=\"M744.23,420V401.5H752.78V420Z\" style=\"vector-effect: non-scaling-stroke; opacity: 0.5; stroke-width: 0px; fill: rgb(239, 85, 59); fill-opacity: 1;\"/></g><g class=\"point\"><path d=\"M752.78,420V412.07H761.34V420Z\" style=\"vector-effect: non-scaling-stroke; opacity: 0.5; stroke-width: 0px; fill: rgb(239, 85, 59); fill-opacity: 1;\"/></g><g class=\"point\"><path d=\"M761.34,420V412.95H769.89V420Z\" style=\"vector-effect: non-scaling-stroke; opacity: 0.5; stroke-width: 0px; fill: rgb(239, 85, 59); fill-opacity: 1;\"/></g><g class=\"point\"><path d=\"M769.89,420V407.67H778.45V420Z\" style=\"vector-effect: non-scaling-stroke; opacity: 0.5; stroke-width: 0px; fill: rgb(239, 85, 59); fill-opacity: 1;\"/></g><g class=\"point\"><path d=\"M778.45,420V415.6H787V420Z\" style=\"vector-effect: non-scaling-stroke; opacity: 0.5; stroke-width: 0px; fill: rgb(239, 85, 59); fill-opacity: 1;\"/></g></g></g></g></g><g class=\"overplot\"/><path class=\"xlines-above crisp\" d=\"M0,0\" style=\"fill: none;\"/><path class=\"ylines-above crisp\" d=\"M0,0\" style=\"fill: none;\"/><g class=\"overlines-above\"/><g class=\"xaxislayer-above\"><g class=\"xtick\"><text text-anchor=\"middle\" x=\"0\" y=\"533\" transform=\"translate(148.43,0)\" style=\"font-family: 'Open Sans', verdana, arial, sans-serif; font-size: 12px; fill: rgb(42, 63, 95); fill-opacity: 1; white-space: pre; opacity: 1;\"><tspan class=\"line\" dy=\"0em\" x=\"0\" y=\"533\">Dec 9</tspan><tspan class=\"line\" dy=\"1.3em\" x=\"0\" y=\"533\">2020</tspan></text></g><g class=\"xtick\"><text text-anchor=\"middle\" x=\"0\" y=\"533\" style=\"font-family: 'Open Sans', verdana, arial, sans-serif; font-size: 12px; fill: rgb(42, 63, 95); fill-opacity: 1; white-space: pre; opacity: 1;\" transform=\"translate(251.09,0)\">Dec 12</text></g><g class=\"xtick\"><text text-anchor=\"middle\" x=\"0\" y=\"533\" style=\"font-family: 'Open Sans', verdana, arial, sans-serif; font-size: 12px; fill: rgb(42, 63, 95); fill-opacity: 1; white-space: pre; opacity: 1;\" transform=\"translate(353.74,0)\">Dec 15</text></g><g class=\"xtick\"><text text-anchor=\"middle\" x=\"0\" y=\"533\" style=\"font-family: 'Open Sans', verdana, arial, sans-serif; font-size: 12px; fill: rgb(42, 63, 95); fill-opacity: 1; white-space: pre; opacity: 1;\" transform=\"translate(456.39,0)\">Dec 18</text></g><g class=\"xtick\"><text text-anchor=\"middle\" x=\"0\" y=\"533\" style=\"font-family: 'Open Sans', verdana, arial, sans-serif; font-size: 12px; fill: rgb(42, 63, 95); fill-opacity: 1; white-space: pre; opacity: 1;\" transform=\"translate(559.04,0)\">Dec 21</text></g><g class=\"xtick\"><text text-anchor=\"middle\" x=\"0\" y=\"533\" style=\"font-family: 'Open Sans', verdana, arial, sans-serif; font-size: 12px; fill: rgb(42, 63, 95); fill-opacity: 1; white-space: pre; opacity: 1;\" transform=\"translate(661.7,0)\">Dec 24</text></g><g class=\"xtick\"><text text-anchor=\"middle\" x=\"0\" y=\"533\" style=\"font-family: 'Open Sans', verdana, arial, sans-serif; font-size: 12px; fill: rgb(42, 63, 95); fill-opacity: 1; white-space: pre; opacity: 1;\" transform=\"translate(764.35,0)\">Dec 27</text></g><g class=\"xtick\"><text text-anchor=\"middle\" x=\"0\" y=\"533\" style=\"font-family: 'Open Sans', verdana, arial, sans-serif; font-size: 12px; fill: rgb(42, 63, 95); fill-opacity: 1; white-space: pre; opacity: 1;\" transform=\"translate(867,0)\">Dec 30</text></g></g><g class=\"yaxislayer-above\"><g class=\"ytick\"><text text-anchor=\"end\" x=\"79\" y=\"4.199999999999999\" transform=\"translate(0,520)\" style=\"font-family: 'Open Sans', verdana, arial, sans-serif; font-size: 12px; fill: rgb(42, 63, 95); fill-opacity: 1; white-space: pre; opacity: 1;\">0</text></g><g class=\"ytick\"><text text-anchor=\"end\" x=\"79\" y=\"4.199999999999999\" style=\"font-family: 'Open Sans', verdana, arial, sans-serif; font-size: 12px; fill: rgb(42, 63, 95); fill-opacity: 1; white-space: pre; opacity: 1;\" transform=\"translate(0,475.96)\">50</text></g><g class=\"ytick\"><text text-anchor=\"end\" x=\"79\" y=\"4.199999999999999\" style=\"font-family: 'Open Sans', verdana, arial, sans-serif; font-size: 12px; fill: rgb(42, 63, 95); fill-opacity: 1; white-space: pre; opacity: 1;\" transform=\"translate(0,431.92)\">100</text></g><g class=\"ytick\"><text text-anchor=\"end\" x=\"79\" y=\"4.199999999999999\" style=\"font-family: 'Open Sans', verdana, arial, sans-serif; font-size: 12px; fill: rgb(42, 63, 95); fill-opacity: 1; white-space: pre; opacity: 1;\" transform=\"translate(0,387.88)\">150</text></g><g class=\"ytick\"><text text-anchor=\"end\" x=\"79\" y=\"4.199999999999999\" style=\"font-family: 'Open Sans', verdana, arial, sans-serif; font-size: 12px; fill: rgb(42, 63, 95); fill-opacity: 1; white-space: pre; opacity: 1;\" transform=\"translate(0,343.84000000000003)\">200</text></g><g class=\"ytick\"><text text-anchor=\"end\" x=\"79\" y=\"4.199999999999999\" style=\"font-family: 'Open Sans', verdana, arial, sans-serif; font-size: 12px; fill: rgb(42, 63, 95); fill-opacity: 1; white-space: pre; opacity: 1;\" transform=\"translate(0,299.8)\">250</text></g><g class=\"ytick\"><text text-anchor=\"end\" x=\"79\" y=\"4.199999999999999\" style=\"font-family: 'Open Sans', verdana, arial, sans-serif; font-size: 12px; fill: rgb(42, 63, 95); fill-opacity: 1; white-space: pre; opacity: 1;\" transform=\"translate(0,255.76)\">300</text></g><g class=\"ytick\"><text text-anchor=\"end\" x=\"79\" y=\"4.199999999999999\" style=\"font-family: 'Open Sans', verdana, arial, sans-serif; font-size: 12px; fill: rgb(42, 63, 95); fill-opacity: 1; white-space: pre; opacity: 1;\" transform=\"translate(0,211.72)\">350</text></g><g class=\"ytick\"><text text-anchor=\"end\" x=\"79\" y=\"4.199999999999999\" style=\"font-family: 'Open Sans', verdana, arial, sans-serif; font-size: 12px; fill: rgb(42, 63, 95); fill-opacity: 1; white-space: pre; opacity: 1;\" transform=\"translate(0,167.68)\">400</text></g><g class=\"ytick\"><text text-anchor=\"end\" x=\"79\" y=\"4.199999999999999\" style=\"font-family: 'Open Sans', verdana, arial, sans-serif; font-size: 12px; fill: rgb(42, 63, 95); fill-opacity: 1; white-space: pre; opacity: 1;\" transform=\"translate(0,123.64)\">450</text></g></g><g class=\"overaxes-above\"/></g></g><g class=\"polarlayer\"/><g class=\"smithlayer\"/><g class=\"ternarylayer\"/><g class=\"geolayer\"/><g class=\"funnelarealayer\"/><g class=\"pielayer\"/><g class=\"iciclelayer\"/><g class=\"treemaplayer\"/><g class=\"sunburstlayer\"/><g class=\"glimages\"/><defs id=\"topdefs-cc4369\"><g class=\"clips\"/><clipPath id=\"legendcc4369\"><rect width=\"55\" height=\"67\" x=\"0\" y=\"0\"/></clipPath></defs><g class=\"layer-above\"><g class=\"imagelayer\"/><g class=\"shapelayer\"/></g><g class=\"infolayer\"><g class=\"legend\" pointer-events=\"all\" transform=\"translate(882.74,100)\"><rect class=\"bg\" shape-rendering=\"crispEdges\" style=\"stroke: rgb(68, 68, 68); stroke-opacity: 1; fill: rgb(255, 255, 255); fill-opacity: 1; stroke-width: 0px;\" width=\"55\" height=\"67\" x=\"0\" y=\"0\"/><g class=\"scrollbox\" transform=\"\" clip-path=\"url(#legendcc4369)\"><text class=\"legendtitletext\" text-anchor=\"start\" x=\"2\" y=\"18.2\" style=\"font-family: 'Open Sans', verdana, arial, sans-serif; font-size: 14px; fill: rgb(42, 63, 95); fill-opacity: 1; white-space: pre;\">group</text><g class=\"groups\" transform=\"\"><g class=\"traces\" transform=\"translate(0,32.7)\" style=\"opacity: 1;\"><text class=\"legendtext\" text-anchor=\"start\" x=\"40\" y=\"4.680000000000001\" style=\"font-family: 'Open Sans', verdana, arial, sans-serif; font-size: 12px; fill: rgb(42, 63, 95); fill-opacity: 1; white-space: pre;\">A</text><g class=\"layers\" style=\"opacity: 1;\"><g class=\"legendfill\"/><g class=\"legendlines\"/><g class=\"legendsymbols\"><g class=\"legendpoints\"><path class=\"legendundefined\" d=\"M6,6H-6V-6H6Z\" transform=\"translate(20,0)\" style=\"stroke-width: 0px; fill: rgb(99, 110, 250); fill-opacity: 1;\"/></g></g></g><rect class=\"legendtoggle\" x=\"0\" y=\"-9.5\" width=\"50\" height=\"19\" style=\"fill: rgb(0, 0, 0); fill-opacity: 0;\"/></g></g><g class=\"groups\" transform=\"\"><g class=\"traces\" transform=\"translate(0,51.7)\" style=\"opacity: 1;\"><text class=\"legendtext\" text-anchor=\"start\" x=\"40\" y=\"4.680000000000001\" style=\"font-family: 'Open Sans', verdana, arial, sans-serif; font-size: 12px; fill: rgb(42, 63, 95); fill-opacity: 1; white-space: pre;\">B</text><g class=\"layers\" style=\"opacity: 1;\"><g class=\"legendfill\"/><g class=\"legendlines\"/><g class=\"legendsymbols\"><g class=\"legendpoints\"><path class=\"legendundefined\" d=\"M6,6H-6V-6H6Z\" transform=\"translate(20,0)\" style=\"stroke-width: 0px; fill: rgb(239, 85, 59); fill-opacity: 1;\"/></g></g></g><rect class=\"legendtoggle\" x=\"0\" y=\"-9.5\" width=\"50\" height=\"19\" style=\"fill: rgb(0, 0, 0); fill-opacity: 0;\"/></g></g></g><rect class=\"scrollbar\" rx=\"20\" ry=\"3\" width=\"0\" height=\"0\" style=\"fill: rgb(128, 139, 164); fill-opacity: 1;\" x=\"0\" y=\"0\"/></g><g class=\"g-gtitle\"><text class=\"gtitle\" x=\"47.5\" y=\"50\" text-anchor=\"start\" dy=\"0em\" style=\"font-family: 'Open Sans', verdana, arial, sans-serif; font-size: 17px; fill: rgb(42, 63, 95); opacity: 1; font-weight: normal; white-space: pre;\">Активность пользователей по дням</text></g><g class=\"g-xtitle\"><text class=\"xtitle\" x=\"473.5\" y=\"576.409375\" text-anchor=\"middle\" style=\"font-family: 'Open Sans', verdana, arial, sans-serif; font-size: 14px; fill: rgb(42, 63, 95); opacity: 1; font-weight: normal; white-space: pre;\">Дата</text></g><g class=\"g-ytitle\"><text class=\"ytitle\" transform=\"rotate(-90,31.309375000000003,310)\" x=\"31.309375000000003\" y=\"310\" text-anchor=\"middle\" style=\"font-family: 'Open Sans', verdana, arial, sans-serif; font-size: 14px; fill: rgb(42, 63, 95); opacity: 1; font-weight: normal; white-space: pre;\">Количество событий, шт.</text></g></g></svg>"
      ]
     },
     "metadata": {},
     "output_type": "display_data"
    }
   ],
   "source": [
    "fig = px.histogram(actions_clean, x='event_dt', color='group', barmode='overlay', title='Активность пользователей по дням')\n",
    "fig.update_layout(xaxis_title='Дата', yaxis_title='Количество событий, шт.')\n",
    "fig.show()"
   ]
  },
  {
   "cell_type": "code",
   "execution_count": 17,
   "id": "f152482b",
   "metadata": {},
   "outputs": [
    {
     "data": {
      "image/svg+xml": [
       "<svg class=\"main-svg\" xmlns=\"http://www.w3.org/2000/svg\" xmlns:xlink=\"http://www.w3.org/1999/xlink\" width=\"950\" height=\"600\" style=\"\" viewBox=\"0 0 950 600\"><rect x=\"0\" y=\"0\" width=\"950\" height=\"600\" style=\"fill: rgb(255, 255, 255); fill-opacity: 1;\"/><defs id=\"defs-d182c0\"><g class=\"clips\"><clipPath id=\"clipd182c0xyplot\" class=\"plotclip\"><rect width=\"787\" height=\"420\"/></clipPath><clipPath class=\"axesclip\" id=\"clipd182c0x\"><rect x=\"80\" y=\"0\" width=\"787\" height=\"600\"/></clipPath><clipPath class=\"axesclip\" id=\"clipd182c0y\"><rect x=\"0\" y=\"100\" width=\"950\" height=\"420\"/></clipPath><clipPath class=\"axesclip\" id=\"clipd182c0xy\"><rect x=\"80\" y=\"100\" width=\"787\" height=\"420\"/></clipPath></g><g class=\"gradients\"/><g class=\"patterns\"/></defs><g class=\"bglayer\"><rect class=\"bg\" x=\"80\" y=\"100\" width=\"787\" height=\"420\" style=\"fill: rgb(229, 236, 246); fill-opacity: 1; stroke-width: 0;\"/></g><g class=\"layer-below\"><g class=\"imagelayer\"/><g class=\"shapelayer\"/></g><g class=\"cartesianlayer\"><g class=\"subplot xy\"><g class=\"layer-subplot\"><g class=\"shapelayer\"/><g class=\"imagelayer\"/></g><g class=\"minor-gridlayer\"><g class=\"x\"/><g class=\"y\"/></g><g class=\"gridlayer\"><g class=\"x\"/><g class=\"y\"><path class=\"ygrid crisp\" transform=\"translate(0,439.56)\" d=\"M80,0h787\" style=\"stroke: rgb(255, 255, 255); stroke-opacity: 1; stroke-width: 1px;\"/><path class=\"ygrid crisp\" transform=\"translate(0,359.11)\" d=\"M80,0h787\" style=\"stroke: rgb(255, 255, 255); stroke-opacity: 1; stroke-width: 1px;\"/><path class=\"ygrid crisp\" transform=\"translate(0,278.66999999999996)\" d=\"M80,0h787\" style=\"stroke: rgb(255, 255, 255); stroke-opacity: 1; stroke-width: 1px;\"/><path class=\"ygrid crisp\" transform=\"translate(0,198.23000000000002)\" d=\"M80,0h787\" style=\"stroke: rgb(255, 255, 255); stroke-opacity: 1; stroke-width: 1px;\"/><path class=\"ygrid crisp\" transform=\"translate(0,117.78)\" d=\"M80,0h787\" style=\"stroke: rgb(255, 255, 255); stroke-opacity: 1; stroke-width: 1px;\"/></g></g><g class=\"zerolinelayer\"><path class=\"yzl zl crisp\" transform=\"translate(0,520)\" d=\"M80,0h787\" style=\"stroke: rgb(255, 255, 255); stroke-opacity: 1; stroke-width: 2px;\"/></g><path class=\"xlines-below\"/><path class=\"ylines-below\"/><g class=\"overlines-below\"/><g class=\"xaxislayer-below\"/><g class=\"yaxislayer-below\"/><g class=\"overaxes-below\"/><g class=\"plot\" transform=\"translate(80,100)\" clip-path=\"url(#clipd182c0xyplot)\"><g class=\"barlayer mlayer\"><g class=\"trace bars\" shape-rendering=\"crispEdges\" style=\"opacity: 1;\"><g class=\"points\"><g class=\"point\"><path d=\"M0,420V307.38H52.47V420Z\" style=\"vector-effect: non-scaling-stroke; opacity: 0.5; stroke-width: 0px; fill: rgb(99, 110, 250); fill-opacity: 1;\"/></g><g class=\"point\"><path d=\"M52.47,420V278.42H104.93V420Z\" style=\"vector-effect: non-scaling-stroke; opacity: 0.5; stroke-width: 0px; fill: rgb(99, 110, 250); fill-opacity: 1;\"/></g><g class=\"point\"><path d=\"M104.93,420V384.6H157.4V420Z\" style=\"vector-effect: non-scaling-stroke; opacity: 0.5; stroke-width: 0px; fill: rgb(99, 110, 250); fill-opacity: 1;\"/></g><g class=\"point\"><path d=\"M157.4,420V207.63H209.87V420Z\" style=\"vector-effect: non-scaling-stroke; opacity: 0.5; stroke-width: 0px; fill: rgb(99, 110, 250); fill-opacity: 1;\"/></g><g class=\"point\"><path d=\"M209.87,420V292.9H262.33V420Z\" style=\"vector-effect: non-scaling-stroke; opacity: 0.5; stroke-width: 0px; fill: rgb(99, 110, 250); fill-opacity: 1;\"/></g><g class=\"point\"><path d=\"M262.33,420V215.67H314.8V420Z\" style=\"vector-effect: non-scaling-stroke; opacity: 0.5; stroke-width: 0px; fill: rgb(99, 110, 250); fill-opacity: 1;\"/></g><g class=\"point\"><path d=\"M314.8,420V120.75H367.27V420Z\" style=\"vector-effect: non-scaling-stroke; opacity: 0.5; stroke-width: 0px; fill: rgb(99, 110, 250); fill-opacity: 1;\"/></g><g class=\"point\"><path d=\"M367.27,420V148.1H419.73V420Z\" style=\"vector-effect: non-scaling-stroke; opacity: 0.5; stroke-width: 0px; fill: rgb(99, 110, 250); fill-opacity: 1;\"/></g><g class=\"point\"><path d=\"M419.73,420V267.16H472.2V420Z\" style=\"vector-effect: non-scaling-stroke; opacity: 0.5; stroke-width: 0px; fill: rgb(99, 110, 250); fill-opacity: 1;\"/></g><g class=\"point\"><path d=\"M472.2,420V394.26H524.67V420Z\" style=\"vector-effect: non-scaling-stroke; opacity: 0.5; stroke-width: 0px; fill: rgb(99, 110, 250); fill-opacity: 1;\"/></g><g class=\"point\"><path d=\"M524.67,420V276.81H577.13V420Z\" style=\"vector-effect: non-scaling-stroke; opacity: 0.5; stroke-width: 0px; fill: rgb(99, 110, 250); fill-opacity: 1;\"/></g><g class=\"point\"><path d=\"M577.13,420V251.07H629.6V420Z\" style=\"vector-effect: non-scaling-stroke; opacity: 0.5; stroke-width: 0px; fill: rgb(99, 110, 250); fill-opacity: 1;\"/></g><g class=\"point\"><path d=\"M629.6,420V226.94H682.07V420Z\" style=\"vector-effect: non-scaling-stroke; opacity: 0.5; stroke-width: 0px; fill: rgb(99, 110, 250); fill-opacity: 1;\"/></g><g class=\"point\"><path d=\"M682.07,420V212.46H734.53V420Z\" style=\"vector-effect: non-scaling-stroke; opacity: 0.5; stroke-width: 0px; fill: rgb(99, 110, 250); fill-opacity: 1;\"/></g><g class=\"point\"><path d=\"M734.53,420V138.45H787V420Z\" style=\"vector-effect: non-scaling-stroke; opacity: 0.5; stroke-width: 0px; fill: rgb(99, 110, 250); fill-opacity: 1;\"/></g></g></g><g class=\"trace bars\" shape-rendering=\"crispEdges\" style=\"opacity: 1;\"><g class=\"points\"><g class=\"point\"><path d=\"M0,420V138.45H52.47V420Z\" style=\"vector-effect: non-scaling-stroke; opacity: 0.5; stroke-width: 0px; fill: rgb(239, 85, 59); fill-opacity: 1;\"/></g><g class=\"point\"><path d=\"M52.47,420V286.46H104.93V420Z\" style=\"vector-effect: non-scaling-stroke; opacity: 0.5; stroke-width: 0px; fill: rgb(239, 85, 59); fill-opacity: 1;\"/></g><g class=\"point\"><path d=\"M104.93,420V334.73H157.4V420Z\" style=\"vector-effect: non-scaling-stroke; opacity: 0.5; stroke-width: 0px; fill: rgb(239, 85, 59); fill-opacity: 1;\"/></g><g class=\"point\"><path d=\"M157.4,420V243.02H209.87V420Z\" style=\"vector-effect: non-scaling-stroke; opacity: 0.5; stroke-width: 0px; fill: rgb(239, 85, 59); fill-opacity: 1;\"/></g><g class=\"point\"><path d=\"M209.87,420V323.47H262.33V420Z\" style=\"vector-effect: non-scaling-stroke; opacity: 0.5; stroke-width: 0px; fill: rgb(239, 85, 59); fill-opacity: 1;\"/></g><g class=\"point\"><path d=\"M262.33,420V119.14H314.8V420Z\" style=\"vector-effect: non-scaling-stroke; opacity: 0.5; stroke-width: 0px; fill: rgb(239, 85, 59); fill-opacity: 1;\"/></g><g class=\"point\"><path d=\"M314.8,420V21H367.27V420Z\" style=\"vector-effect: non-scaling-stroke; opacity: 0.5; stroke-width: 0px; fill: rgb(239, 85, 59); fill-opacity: 1;\"/></g></g></g></g></g><g class=\"overplot\"/><path class=\"xlines-above crisp\" d=\"M0,0\" style=\"fill: none;\"/><path class=\"ylines-above crisp\" d=\"M0,0\" style=\"fill: none;\"/><g class=\"overlines-above\"/><g class=\"xaxislayer-above\"><g class=\"xtick\"><text text-anchor=\"middle\" x=\"0\" y=\"533\" transform=\"translate(158.7,0)\" style=\"font-family: 'Open Sans', verdana, arial, sans-serif; font-size: 12px; fill: rgb(42, 63, 95); fill-opacity: 1; white-space: pre; opacity: 1;\"><tspan class=\"line\" dy=\"0em\" x=\"0\" y=\"533\">Dec 8</tspan><tspan class=\"line\" dy=\"1.3em\" x=\"0\" y=\"533\">2020</tspan></text></g><g class=\"xtick\"><text text-anchor=\"middle\" x=\"0\" y=\"533\" style=\"font-family: 'Open Sans', verdana, arial, sans-serif; font-size: 12px; fill: rgb(42, 63, 95); fill-opacity: 1; white-space: pre; opacity: 1;\" transform=\"translate(263.63,0)\">Dec 10</text></g><g class=\"xtick\"><text text-anchor=\"middle\" x=\"0\" y=\"533\" style=\"font-family: 'Open Sans', verdana, arial, sans-serif; font-size: 12px; fill: rgb(42, 63, 95); fill-opacity: 1; white-space: pre; opacity: 1;\" transform=\"translate(368.57,0)\">Dec 12</text></g><g class=\"xtick\"><text text-anchor=\"middle\" x=\"0\" y=\"533\" style=\"font-family: 'Open Sans', verdana, arial, sans-serif; font-size: 12px; fill: rgb(42, 63, 95); fill-opacity: 1; white-space: pre; opacity: 1;\" transform=\"translate(473.5,0)\">Dec 14</text></g><g class=\"xtick\"><text text-anchor=\"middle\" x=\"0\" y=\"533\" style=\"font-family: 'Open Sans', verdana, arial, sans-serif; font-size: 12px; fill: rgb(42, 63, 95); fill-opacity: 1; white-space: pre; opacity: 1;\" transform=\"translate(578.4300000000001,0)\">Dec 16</text></g><g class=\"xtick\"><text text-anchor=\"middle\" x=\"0\" y=\"533\" style=\"font-family: 'Open Sans', verdana, arial, sans-serif; font-size: 12px; fill: rgb(42, 63, 95); fill-opacity: 1; white-space: pre; opacity: 1;\" transform=\"translate(683.37,0)\">Dec 18</text></g><g class=\"xtick\"><text text-anchor=\"middle\" x=\"0\" y=\"533\" style=\"font-family: 'Open Sans', verdana, arial, sans-serif; font-size: 12px; fill: rgb(42, 63, 95); fill-opacity: 1; white-space: pre; opacity: 1;\" transform=\"translate(788.3,0)\">Dec 20</text></g></g><g class=\"yaxislayer-above\"><g class=\"ytick\"><text text-anchor=\"end\" x=\"79\" y=\"4.199999999999999\" transform=\"translate(0,520)\" style=\"font-family: 'Open Sans', verdana, arial, sans-serif; font-size: 12px; fill: rgb(42, 63, 95); fill-opacity: 1; white-space: pre; opacity: 1;\">0</text></g><g class=\"ytick\"><text text-anchor=\"end\" x=\"79\" y=\"4.199999999999999\" style=\"font-family: 'Open Sans', verdana, arial, sans-serif; font-size: 12px; fill: rgb(42, 63, 95); fill-opacity: 1; white-space: pre; opacity: 1;\" transform=\"translate(0,439.56)\">50</text></g><g class=\"ytick\"><text text-anchor=\"end\" x=\"79\" y=\"4.199999999999999\" style=\"font-family: 'Open Sans', verdana, arial, sans-serif; font-size: 12px; fill: rgb(42, 63, 95); fill-opacity: 1; white-space: pre; opacity: 1;\" transform=\"translate(0,359.11)\">100</text></g><g class=\"ytick\"><text text-anchor=\"end\" x=\"79\" y=\"4.199999999999999\" style=\"font-family: 'Open Sans', verdana, arial, sans-serif; font-size: 12px; fill: rgb(42, 63, 95); fill-opacity: 1; white-space: pre; opacity: 1;\" transform=\"translate(0,278.66999999999996)\">150</text></g><g class=\"ytick\"><text text-anchor=\"end\" x=\"79\" y=\"4.199999999999999\" style=\"font-family: 'Open Sans', verdana, arial, sans-serif; font-size: 12px; fill: rgb(42, 63, 95); fill-opacity: 1; white-space: pre; opacity: 1;\" transform=\"translate(0,198.23000000000002)\">200</text></g><g class=\"ytick\"><text text-anchor=\"end\" x=\"79\" y=\"4.199999999999999\" style=\"font-family: 'Open Sans', verdana, arial, sans-serif; font-size: 12px; fill: rgb(42, 63, 95); fill-opacity: 1; white-space: pre; opacity: 1;\" transform=\"translate(0,117.78)\">250</text></g></g><g class=\"overaxes-above\"/></g></g><g class=\"polarlayer\"/><g class=\"smithlayer\"/><g class=\"ternarylayer\"/><g class=\"geolayer\"/><g class=\"funnelarealayer\"/><g class=\"pielayer\"/><g class=\"iciclelayer\"/><g class=\"treemaplayer\"/><g class=\"sunburstlayer\"/><g class=\"glimages\"/><defs id=\"topdefs-d182c0\"><g class=\"clips\"/><clipPath id=\"legendd182c0\"><rect width=\"55\" height=\"67\" x=\"0\" y=\"0\"/></clipPath></defs><g class=\"layer-above\"><g class=\"imagelayer\"/><g class=\"shapelayer\"/></g><g class=\"infolayer\"><g class=\"legend\" pointer-events=\"all\" transform=\"translate(882.74,100)\"><rect class=\"bg\" shape-rendering=\"crispEdges\" width=\"55\" height=\"67\" x=\"0\" y=\"0\" style=\"stroke: rgb(68, 68, 68); stroke-opacity: 1; fill: rgb(255, 255, 255); fill-opacity: 1; stroke-width: 0px;\"/><g class=\"scrollbox\" transform=\"\" clip-path=\"url(#legendd182c0)\"><text class=\"legendtitletext\" text-anchor=\"start\" x=\"2\" y=\"18.2\" style=\"font-family: 'Open Sans', verdana, arial, sans-serif; font-size: 14px; fill: rgb(42, 63, 95); fill-opacity: 1; white-space: pre;\">group</text><g class=\"groups\" transform=\"\"><g class=\"traces\" transform=\"translate(0,32.7)\" style=\"opacity: 1;\"><text class=\"legendtext\" text-anchor=\"start\" x=\"40\" y=\"4.680000000000001\" style=\"font-family: 'Open Sans', verdana, arial, sans-serif; font-size: 12px; fill: rgb(42, 63, 95); fill-opacity: 1; white-space: pre;\">B</text><g class=\"layers\" style=\"opacity: 1;\"><g class=\"legendfill\"/><g class=\"legendlines\"/><g class=\"legendsymbols\"><g class=\"legendpoints\"><path class=\"legendundefined\" d=\"M6,6H-6V-6H6Z\" transform=\"translate(20,0)\" style=\"stroke-width: 0px; fill: rgb(99, 110, 250); fill-opacity: 1;\"/></g></g></g><rect class=\"legendtoggle\" x=\"0\" y=\"-9.5\" width=\"50\" height=\"19\" style=\"fill: rgb(0, 0, 0); fill-opacity: 0;\"/></g></g><g class=\"groups\" transform=\"\"><g class=\"traces\" transform=\"translate(0,51.7)\" style=\"opacity: 1;\"><text class=\"legendtext\" text-anchor=\"start\" x=\"40\" y=\"4.680000000000001\" style=\"font-family: 'Open Sans', verdana, arial, sans-serif; font-size: 12px; fill: rgb(42, 63, 95); fill-opacity: 1; white-space: pre;\">A</text><g class=\"layers\" style=\"opacity: 1;\"><g class=\"legendfill\"/><g class=\"legendlines\"/><g class=\"legendsymbols\"><g class=\"legendpoints\"><path class=\"legendundefined\" d=\"M6,6H-6V-6H6Z\" transform=\"translate(20,0)\" style=\"stroke-width: 0px; fill: rgb(239, 85, 59); fill-opacity: 1;\"/></g></g></g><rect class=\"legendtoggle\" x=\"0\" y=\"-9.5\" width=\"50\" height=\"19\" style=\"fill: rgb(0, 0, 0); fill-opacity: 0;\"/></g></g></g><rect class=\"scrollbar\" rx=\"20\" ry=\"3\" width=\"0\" height=\"0\" x=\"0\" y=\"0\" style=\"fill: rgb(128, 139, 164); fill-opacity: 1;\"/></g><g class=\"g-gtitle\"><text class=\"gtitle\" x=\"47.5\" y=\"50\" text-anchor=\"start\" dy=\"0em\" style=\"font-family: 'Open Sans', verdana, arial, sans-serif; font-size: 17px; fill: rgb(42, 63, 95); opacity: 1; font-weight: normal; white-space: pre;\">Регистрация пользователей без событий по дням</text></g><g class=\"g-xtitle\"><text class=\"xtitle\" x=\"473.5\" y=\"576.409375\" text-anchor=\"middle\" style=\"font-family: 'Open Sans', verdana, arial, sans-serif; font-size: 14px; fill: rgb(42, 63, 95); opacity: 1; font-weight: normal; white-space: pre;\">Дата</text></g><g class=\"g-ytitle\"><text class=\"ytitle\" transform=\"rotate(-90,31.309375000000003,310)\" x=\"31.309375000000003\" y=\"310\" text-anchor=\"middle\" style=\"font-family: 'Open Sans', verdana, arial, sans-serif; font-size: 14px; fill: rgb(42, 63, 95); opacity: 1; font-weight: normal; white-space: pre;\">Количество регистраций, шт.</text></g></g></svg>"
      ]
     },
     "metadata": {},
     "output_type": "display_data"
    }
   ],
   "source": [
    "#Попробуем проанализировать аномальный скачок 14 декабря в контрольной группе.\n",
    "unactive_users = actions_clean.pivot_table(index='user_id',\n",
    "                                           aggfunc={'event_dt': 'count'}).reset_index()\n",
    "unactive_users_id = unactive_users.query('event_dt == 0').user_id.to_list()\n",
    "fig = px.histogram(actions_clean.query('user_id == @unactive_users_id'),\n",
    "                   x='first_date', color='group', barmode='overlay',\n",
    "                   title='Регистрация пользователей без событий по дням')\n",
    "fig.update_layout(xaxis_title='Дата', yaxis_title='Количество регистраций, шт.')\n",
    "fig.show()"
   ]
  },
  {
   "cell_type": "markdown",
   "id": "c128a56a",
   "metadata": {},
   "source": [
    "По этой гистограмме можем увидеть, что 14 декабря в группе А произошел аномальный скачок, когда количество действий выросло в 3,8 раз, а затем было планомерное увеличение действий по мере набора аудитории теста. После дополнительного анализа причины стало очевидно, что этот скачок связан с тем, что до 14 декабря зарегистрированные пользователи не могли залогиниться, пока этот баг не исправили. Затем, с 22 декабря началось планомерное снижение действий в обоих группах, связанное, по всей видимости, с тем, что был закончен набор новых пользователей и продолжался уход старых. В тестовой группе В распределение более равномерное, но с кратно меньшей активностью пользоваетелей.  \n",
    "Посмотрим на конверсию в воронке событий."
   ]
  },
  {
   "cell_type": "markdown",
   "id": "d5b6afd5",
   "metadata": {},
   "source": [
    "## Конверсия в воронке событий."
   ]
  },
  {
   "cell_type": "code",
   "execution_count": 18,
   "id": "a7466011",
   "metadata": {},
   "outputs": [
    {
     "data": {
      "text/html": [
       "<div>\n",
       "<style scoped>\n",
       "    .dataframe tbody tr th:only-of-type {\n",
       "        vertical-align: middle;\n",
       "    }\n",
       "\n",
       "    .dataframe tbody tr th {\n",
       "        vertical-align: top;\n",
       "    }\n",
       "\n",
       "    .dataframe thead th {\n",
       "        text-align: right;\n",
       "    }\n",
       "</style>\n",
       "<table border=\"1\" class=\"dataframe\">\n",
       "  <thead>\n",
       "    <tr style=\"text-align: right;\">\n",
       "      <th>group</th>\n",
       "      <th>event_name</th>\n",
       "      <th>A</th>\n",
       "      <th>B</th>\n",
       "    </tr>\n",
       "  </thead>\n",
       "  <tbody>\n",
       "    <tr>\n",
       "      <th>0</th>\n",
       "      <td>login</td>\n",
       "      <td>2279</td>\n",
       "      <td>770</td>\n",
       "    </tr>\n",
       "    <tr>\n",
       "      <th>1</th>\n",
       "      <td>product_page</td>\n",
       "      <td>1476</td>\n",
       "      <td>429</td>\n",
       "    </tr>\n",
       "    <tr>\n",
       "      <th>2</th>\n",
       "      <td>product_cart</td>\n",
       "      <td>686</td>\n",
       "      <td>214</td>\n",
       "    </tr>\n",
       "    <tr>\n",
       "      <th>3</th>\n",
       "      <td>purchase</td>\n",
       "      <td>734</td>\n",
       "      <td>219</td>\n",
       "    </tr>\n",
       "  </tbody>\n",
       "</table>\n",
       "</div>"
      ],
      "text/plain": [
       "group    event_name     A    B\n",
       "0             login  2279  770\n",
       "1      product_page  1476  429\n",
       "2      product_cart   686  214\n",
       "3          purchase   734  219"
      ]
     },
     "execution_count": 18,
     "metadata": {},
     "output_type": "execute_result"
    }
   ],
   "source": [
    "group_actions = (actions_clean.pivot_table(\n",
    "                                           index='event_name', \n",
    "                                           columns='group', \n",
    "                                           values='user_id',\n",
    "                                           aggfunc='nunique')\n",
    "                              .reindex(['login', 'product_page',\n",
    "                                        'product_cart', 'purchase'])\n",
    "                              .reset_index())\n",
    "group_actions"
   ]
  },
  {
   "cell_type": "code",
   "execution_count": 19,
   "id": "e9ecad36",
   "metadata": {},
   "outputs": [
    {
     "data": {
      "text/html": [
       "<div>\n",
       "<style scoped>\n",
       "    .dataframe tbody tr th:only-of-type {\n",
       "        vertical-align: middle;\n",
       "    }\n",
       "\n",
       "    .dataframe tbody tr th {\n",
       "        vertical-align: top;\n",
       "    }\n",
       "\n",
       "    .dataframe thead th {\n",
       "        text-align: right;\n",
       "    }\n",
       "</style>\n",
       "<table border=\"1\" class=\"dataframe\">\n",
       "  <thead>\n",
       "    <tr style=\"text-align: right;\">\n",
       "      <th>group</th>\n",
       "      <th>A</th>\n",
       "      <th>B</th>\n",
       "    </tr>\n",
       "  </thead>\n",
       "  <tbody>\n",
       "    <tr>\n",
       "      <th>user_id</th>\n",
       "      <td>3195</td>\n",
       "      <td>2373</td>\n",
       "    </tr>\n",
       "  </tbody>\n",
       "</table>\n",
       "</div>"
      ],
      "text/plain": [
       "group       A     B\n",
       "user_id  3195  2373"
      ]
     },
     "execution_count": 19,
     "metadata": {},
     "output_type": "execute_result"
    }
   ],
   "source": [
    "#Посчитаем общее количество пользователей в каждой группе.\n",
    "amount_users = (actions_clean.pivot_table(\n",
    "                                          columns='group', \n",
    "                                          values='user_id',\n",
    "                                          aggfunc='nunique'))\n",
    "amount_users"
   ]
  },
  {
   "cell_type": "code",
   "execution_count": 20,
   "id": "e070d64a",
   "metadata": {},
   "outputs": [
    {
     "data": {
      "text/html": [
       "<div>\n",
       "<style scoped>\n",
       "    .dataframe tbody tr th:only-of-type {\n",
       "        vertical-align: middle;\n",
       "    }\n",
       "\n",
       "    .dataframe tbody tr th {\n",
       "        vertical-align: top;\n",
       "    }\n",
       "\n",
       "    .dataframe thead th {\n",
       "        text-align: right;\n",
       "    }\n",
       "</style>\n",
       "<table border=\"1\" class=\"dataframe\">\n",
       "  <thead>\n",
       "    <tr style=\"text-align: right;\">\n",
       "      <th>group</th>\n",
       "      <th>A</th>\n",
       "      <th>B</th>\n",
       "    </tr>\n",
       "  </thead>\n",
       "  <tbody>\n",
       "    <tr>\n",
       "      <th>Всего пользователей</th>\n",
       "      <td>3195</td>\n",
       "      <td>2373</td>\n",
       "    </tr>\n",
       "    <tr>\n",
       "      <th>Залогинились</th>\n",
       "      <td>2279</td>\n",
       "      <td>770</td>\n",
       "    </tr>\n",
       "    <tr>\n",
       "      <th>Открыли каталог</th>\n",
       "      <td>1476</td>\n",
       "      <td>429</td>\n",
       "    </tr>\n",
       "    <tr>\n",
       "      <th>Начали оформлять заказ</th>\n",
       "      <td>686</td>\n",
       "      <td>214</td>\n",
       "    </tr>\n",
       "    <tr>\n",
       "      <th>Оплатили товар</th>\n",
       "      <td>734</td>\n",
       "      <td>219</td>\n",
       "    </tr>\n",
       "  </tbody>\n",
       "</table>\n",
       "</div>"
      ],
      "text/plain": [
       "group                      A     B\n",
       "Всего пользователей     3195  2373\n",
       "Залогинились            2279   770\n",
       "Открыли каталог         1476   429\n",
       "Начали оформлять заказ   686   214\n",
       "Оплатили товар           734   219"
      ]
     },
     "execution_count": 20,
     "metadata": {},
     "output_type": "execute_result"
    }
   ],
   "source": [
    "#Объединим наши ДФ.\n",
    "final_df = (pd.concat([amount_users, group_actions], axis=0).set_index('event_name')\n",
    "              .set_axis(['Всего пользователей', 'Залогинились',\n",
    "                      'Открыли каталог', 'Начали оформлять заказ',\n",
    "                      'Оплатили товар'], axis=0))\n",
    "final_df"
   ]
  },
  {
   "cell_type": "markdown",
   "id": "9d146d77",
   "metadata": {},
   "source": [
    "Посмотрим на разницу конверсии на каждом этапе между контрольными группами, построив воронку событий."
   ]
  },
  {
   "cell_type": "code",
   "execution_count": 21,
   "id": "8dcb2a3f",
   "metadata": {},
   "outputs": [
    {
     "data": {
      "image/svg+xml": [
       "<svg class=\"main-svg\" xmlns=\"http://www.w3.org/2000/svg\" xmlns:xlink=\"http://www.w3.org/1999/xlink\" width=\"950\" height=\"600\" style=\"\" viewBox=\"0 0 950 600\"><rect x=\"0\" y=\"0\" width=\"950\" height=\"600\" style=\"fill: rgb(255, 255, 255); fill-opacity: 1;\"/><defs id=\"defs-59ec5d\"><g class=\"clips\"><clipPath id=\"clip59ec5dxyplot\" class=\"plotclip\"><rect width=\"700\" height=\"420\"/></clipPath><clipPath class=\"axesclip\" id=\"clip59ec5dx\"><rect x=\"169\" y=\"0\" width=\"700\" height=\"600\"/></clipPath><clipPath class=\"axesclip\" id=\"clip59ec5dy\"><rect x=\"0\" y=\"100\" width=\"950\" height=\"420\"/></clipPath><clipPath class=\"axesclip\" id=\"clip59ec5dxy\"><rect x=\"169\" y=\"100\" width=\"700\" height=\"420\"/></clipPath></g><g class=\"gradients\"/><g class=\"patterns\"/></defs><g class=\"bglayer\"><rect class=\"bg\" x=\"169\" y=\"100\" width=\"700\" height=\"420\" style=\"fill: rgb(229, 236, 246); fill-opacity: 1; stroke-width: 0;\"/></g><g class=\"layer-below\"><g class=\"imagelayer\"/><g class=\"shapelayer\"/></g><g class=\"cartesianlayer\"><g class=\"subplot xy\"><g class=\"layer-subplot\"><g class=\"shapelayer\"/><g class=\"imagelayer\"/></g><g class=\"minor-gridlayer\"><g class=\"x\"/><g class=\"y\"/></g><g class=\"gridlayer\"><g class=\"x\"/><g class=\"y\"/></g><g class=\"zerolinelayer\"/><path class=\"xlines-below\"/><path class=\"ylines-below\"/><g class=\"overlines-below\"/><g class=\"xaxislayer-below\"/><g class=\"yaxislayer-below\"/><g class=\"overaxes-below\"/><g class=\"plot\" transform=\"translate(169,100)\" clip-path=\"url(#clip59ec5dxyplot)\"><g class=\"funnellayer mlayer\"><g class=\"trace bars\" style=\"opacity: 1;\"><g class=\"regions\"><g class=\"region\"><path d=\"M35,75.6L177.51,92.4H435.37L396.5,75.6Z\" style=\"stroke-width: 0; fill: rgb(99, 110, 250); fill-opacity: 0.5;\"/></g><g class=\"region\"><path d=\"M177.51,159.6L242.23,176.4H409.23L435.37,159.6Z\" style=\"stroke-width: 0; fill: rgb(99, 110, 250); fill-opacity: 0.5;\"/></g><g class=\"region\"><path d=\"M242.23,243.6L299.08,260.4H376.7L409.23,243.6Z\" style=\"stroke-width: 0; fill: rgb(99, 110, 250); fill-opacity: 0.5;\"/></g><g class=\"region\"><path d=\"M299.08,327.6L296.09,344.4H379.14L376.7,327.6Z\" style=\"stroke-width: 0; fill: rgb(99, 110, 250); fill-opacity: 0.5;\"/></g><g class=\"region\"><path d=\"M0,0Z\" style=\"stroke-width: 0; fill: rgb(99, 110, 250); fill-opacity: 0.5;\"/></g></g><g class=\"points\"><g class=\"point\"><path d=\"M35,8.4V75.6H396.5V8.4Z\" style=\"vector-effect: non-scaling-stroke; fill: rgb(99, 110, 250); fill-opacity: 1; stroke: rgb(68, 68, 68); stroke-opacity: 1; stroke-width: 0px; opacity: 1;\"/><text class=\"bartext bartext-inside\" text-anchor=\"middle\" data-notex=\"1\" x=\"0\" y=\"0\" style=\"font-family: 'Open Sans', verdana, arial, sans-serif; font-size: 12px; fill: rgb(255, 255, 255); fill-opacity: 1; white-space: pre;\" transform=\"translate(215.375,30.8984375)\"><tspan class=\"line\" dy=\"0em\" x=\"0\" y=\"0\">3195</tspan><tspan class=\"line\" dy=\"1.3em\" x=\"0\" y=\"0\">100% of initial</tspan><tspan class=\"line\" dy=\"2.6em\" x=\"0\" y=\"0\">100% of previous</tspan></text></g><g class=\"point\"><path d=\"M177.51,92.4V159.6H435.37V92.4Z\" style=\"vector-effect: non-scaling-stroke; fill: rgb(99, 110, 250); fill-opacity: 1; stroke: rgb(68, 68, 68); stroke-opacity: 1; stroke-width: 0px; opacity: 1;\"/><text class=\"bartext bartext-inside\" text-anchor=\"middle\" data-notex=\"1\" x=\"0\" y=\"0\" style=\"font-family: 'Open Sans', verdana, arial, sans-serif; font-size: 12px; fill: rgb(255, 255, 255); fill-opacity: 1; white-space: pre;\" transform=\"translate(306.065,114.8984375)\"><tspan class=\"line\" dy=\"0em\" x=\"0\" y=\"0\">2279</tspan><tspan class=\"line\" dy=\"1.3em\" x=\"0\" y=\"0\">71% of initial</tspan><tspan class=\"line\" dy=\"2.6em\" x=\"0\" y=\"0\">71% of previous</tspan></text></g><g class=\"point\"><path d=\"M242.23,176.4V243.6H409.23V176.4Z\" style=\"vector-effect: non-scaling-stroke; fill: rgb(99, 110, 250); fill-opacity: 1; stroke: rgb(68, 68, 68); stroke-opacity: 1; stroke-width: 0px; opacity: 1;\"/><text class=\"bartext bartext-inside\" text-anchor=\"middle\" data-notex=\"1\" x=\"0\" y=\"0\" style=\"font-family: 'Open Sans', verdana, arial, sans-serif; font-size: 12px; fill: rgb(255, 255, 255); fill-opacity: 1; white-space: pre;\" transform=\"translate(325.355,198.8984375)\"><tspan class=\"line\" dy=\"0em\" x=\"0\" y=\"0\">1476</tspan><tspan class=\"line\" dy=\"1.3em\" x=\"0\" y=\"0\">46% of initial</tspan><tspan class=\"line\" dy=\"2.6em\" x=\"0\" y=\"0\">65% of previous</tspan></text></g><g class=\"point\"><path d=\"M299.08,260.4V327.6H376.7V260.4Z\" style=\"vector-effect: non-scaling-stroke; fill: rgb(99, 110, 250); fill-opacity: 1; stroke: rgb(68, 68, 68); stroke-opacity: 1; stroke-width: 0px; opacity: 1;\"/><text class=\"bartext bartext-inside\" text-anchor=\"middle\" data-notex=\"1\" x=\"0\" y=\"0\" style=\"font-family: 'Open Sans', verdana, arial, sans-serif; font-size: 12px; fill: rgb(255, 255, 255); fill-opacity: 1; white-space: pre;\" transform=\"translate(337.62184399375974,286.06146489859594)scale(0.7150826833073324)\"><tspan class=\"line\" dy=\"0em\" x=\"0\" y=\"0\">686</tspan><tspan class=\"line\" dy=\"1.3em\" x=\"0\" y=\"0\">21% of initial</tspan><tspan class=\"line\" dy=\"2.6em\" x=\"0\" y=\"0\">46% of previous</tspan></text></g><g class=\"point\"><path d=\"M296.09,344.4V411.6H379.14V344.4Z\" style=\"vector-effect: non-scaling-stroke; fill: rgb(99, 110, 250); fill-opacity: 1; stroke: rgb(68, 68, 68); stroke-opacity: 1; stroke-width: 0px; opacity: 1;\"/><text class=\"bartext bartext-inside\" text-anchor=\"middle\" data-notex=\"1\" x=\"0\" y=\"0\" style=\"font-family: 'Open Sans', verdana, arial, sans-serif; font-size: 12px; fill: rgb(255, 255, 255); fill-opacity: 1; white-space: pre;\" transform=\"translate(337.34692229631776,370.0637829805741)scale(0.714873876485938)\"><tspan class=\"line\" dy=\"0em\" x=\"0\" y=\"0\">734</tspan><tspan class=\"line\" dy=\"1.3em\" x=\"0\" y=\"0\">23% of initial</tspan><tspan class=\"line\" dy=\"2.6em\" x=\"0\" y=\"0\">107% of previous</tspan></text></g></g></g><g class=\"trace bars\" style=\"opacity: 1;\"><g class=\"regions\"><g class=\"region\"><path d=\"M396.5,75.6L435.37,92.4H522.49L665,75.6Z\" style=\"stroke-width: 0; fill: rgb(239, 85, 59); fill-opacity: 0.5;\"/></g><g class=\"region\"><path d=\"M435.37,159.6L409.23,176.4H457.77L522.49,159.6Z\" style=\"stroke-width: 0; fill: rgb(239, 85, 59); fill-opacity: 0.5;\"/></g><g class=\"region\"><path d=\"M409.23,243.6L376.7,260.4H400.92L457.77,243.6Z\" style=\"stroke-width: 0; fill: rgb(239, 85, 59); fill-opacity: 0.5;\"/></g><g class=\"region\"><path d=\"M376.7,327.6L379.14,344.4H403.91L400.92,327.6Z\" style=\"stroke-width: 0; fill: rgb(239, 85, 59); fill-opacity: 0.5;\"/></g><g class=\"region\"><path d=\"M0,0Z\" style=\"stroke-width: 0; fill: rgb(239, 85, 59); fill-opacity: 0.5;\"/></g></g><g class=\"points\"><g class=\"point\"><path d=\"M396.5,8.4V75.6H665V8.4Z\" style=\"vector-effect: non-scaling-stroke; fill: rgb(239, 85, 59); fill-opacity: 1; stroke: rgb(68, 68, 68); stroke-opacity: 1; stroke-width: 0px; opacity: 1;\"/><text class=\"bartext bartext-inside\" text-anchor=\"middle\" data-notex=\"1\" x=\"0\" y=\"0\" style=\"font-family: 'Open Sans', verdana, arial, sans-serif; font-size: 12px; fill: rgb(68, 68, 68); fill-opacity: 1; white-space: pre;\" transform=\"translate(530.375,30.8984375)\"><tspan class=\"line\" dy=\"0em\" x=\"0\" y=\"0\">2373</tspan><tspan class=\"line\" dy=\"1.3em\" x=\"0\" y=\"0\">100% of initial</tspan><tspan class=\"line\" dy=\"2.6em\" x=\"0\" y=\"0\">100% of previous</tspan></text></g><g class=\"point\"><path d=\"M435.37,92.4V159.6H522.49V92.4Z\" style=\"vector-effect: non-scaling-stroke; fill: rgb(239, 85, 59); fill-opacity: 1; stroke: rgb(68, 68, 68); stroke-opacity: 1; stroke-width: 0px; opacity: 1;\"/><text class=\"bartext bartext-outside\" text-anchor=\"middle\" data-notex=\"1\" x=\"0\" y=\"0\" style=\"font-family: 'Open Sans', verdana, arial, sans-serif; font-size: 12px; fill: rgb(42, 63, 95); fill-opacity: 1; white-space: pre;\" transform=\"translate(575.193125,114.8984375)\"><tspan class=\"line\" dy=\"0em\" x=\"0\" y=\"0\">770</tspan><tspan class=\"line\" dy=\"1.3em\" x=\"0\" y=\"0\">32% of initial</tspan><tspan class=\"line\" dy=\"2.6em\" x=\"0\" y=\"0\">32% of previous</tspan></text></g><g class=\"point\"><path d=\"M409.23,176.4V243.6H457.77V176.4Z\" style=\"vector-effect: non-scaling-stroke; fill: rgb(239, 85, 59); fill-opacity: 1; stroke: rgb(68, 68, 68); stroke-opacity: 1; stroke-width: 0px; opacity: 1;\"/><text class=\"bartext bartext-outside\" text-anchor=\"middle\" data-notex=\"1\" x=\"0\" y=\"0\" style=\"font-family: 'Open Sans', verdana, arial, sans-serif; font-size: 12px; fill: rgb(42, 63, 95); fill-opacity: 1; white-space: pre;\" transform=\"translate(510.473125,198.8984375)\"><tspan class=\"line\" dy=\"0em\" x=\"0\" y=\"0\">429</tspan><tspan class=\"line\" dy=\"1.3em\" x=\"0\" y=\"0\">18% of initial</tspan><tspan class=\"line\" dy=\"2.6em\" x=\"0\" y=\"0\">56% of previous</tspan></text></g><g class=\"point\"><path d=\"M376.7,260.4V327.6H400.92V260.4Z\" style=\"vector-effect: non-scaling-stroke; fill: rgb(239, 85, 59); fill-opacity: 1; stroke: rgb(68, 68, 68); stroke-opacity: 1; stroke-width: 0px; opacity: 1;\"/><text class=\"bartext bartext-outside\" text-anchor=\"middle\" data-notex=\"1\" x=\"0\" y=\"0\" style=\"font-family: 'Open Sans', verdana, arial, sans-serif; font-size: 12px; fill: rgb(42, 63, 95); fill-opacity: 1; white-space: pre;\" transform=\"translate(453.623125,282.8984375)\"><tspan class=\"line\" dy=\"0em\" x=\"0\" y=\"0\">214</tspan><tspan class=\"line\" dy=\"1.3em\" x=\"0\" y=\"0\">9% of initial</tspan><tspan class=\"line\" dy=\"2.6em\" x=\"0\" y=\"0\">50% of previous</tspan></text></g><g class=\"point\"><path d=\"M379.14,344.4V411.6H403.91V344.4Z\" style=\"vector-effect: non-scaling-stroke; fill: rgb(239, 85, 59); fill-opacity: 1; stroke: rgb(68, 68, 68); stroke-opacity: 1; stroke-width: 0px; opacity: 1;\"/><text class=\"bartext bartext-outside\" text-anchor=\"middle\" data-notex=\"1\" x=\"0\" y=\"0\" style=\"font-family: 'Open Sans', verdana, arial, sans-serif; font-size: 12px; fill: rgb(42, 63, 95); fill-opacity: 1; white-space: pre;\" transform=\"translate(460.425625,366.8984375)\"><tspan class=\"line\" dy=\"0em\" x=\"0\" y=\"0\">219</tspan><tspan class=\"line\" dy=\"1.3em\" x=\"0\" y=\"0\">9% of initial</tspan><tspan class=\"line\" dy=\"2.6em\" x=\"0\" y=\"0\">102% of previous</tspan></text></g></g></g></g></g><g class=\"overplot\"/><path class=\"xlines-above crisp\" d=\"M0,0\" style=\"fill: none;\"/><path class=\"ylines-above crisp\" d=\"M0,0\" style=\"fill: none;\"/><g class=\"overlines-above\"/><g class=\"xaxislayer-above\"/><g class=\"yaxislayer-above\"><g class=\"ytick\"><text text-anchor=\"end\" x=\"168\" y=\"4.199999999999999\" transform=\"translate(0,478)\" style=\"font-family: 'Open Sans', verdana, arial, sans-serif; font-size: 12px; fill: rgb(42, 63, 95); fill-opacity: 1; white-space: pre; opacity: 1;\">Оплатили товар</text></g><g class=\"ytick\"><text text-anchor=\"end\" x=\"168\" y=\"4.199999999999999\" transform=\"translate(0,394)\" style=\"font-family: 'Open Sans', verdana, arial, sans-serif; font-size: 12px; fill: rgb(42, 63, 95); fill-opacity: 1; white-space: pre; opacity: 1;\">Начали оформлять заказ</text></g><g class=\"ytick\"><text text-anchor=\"end\" x=\"168\" y=\"4.199999999999999\" transform=\"translate(0,310)\" style=\"font-family: 'Open Sans', verdana, arial, sans-serif; font-size: 12px; fill: rgb(42, 63, 95); fill-opacity: 1; white-space: pre; opacity: 1;\">Открыли каталог</text></g><g class=\"ytick\"><text text-anchor=\"end\" x=\"168\" y=\"4.199999999999999\" transform=\"translate(0,226)\" style=\"font-family: 'Open Sans', verdana, arial, sans-serif; font-size: 12px; fill: rgb(42, 63, 95); fill-opacity: 1; white-space: pre; opacity: 1;\">Залогинились</text></g><g class=\"ytick\"><text text-anchor=\"end\" x=\"168\" y=\"4.199999999999999\" transform=\"translate(0,142)\" style=\"font-family: 'Open Sans', verdana, arial, sans-serif; font-size: 12px; fill: rgb(42, 63, 95); fill-opacity: 1; white-space: pre; opacity: 1;\">Всего пользователей</text></g></g><g class=\"overaxes-above\"/></g></g><g class=\"polarlayer\"/><g class=\"smithlayer\"/><g class=\"ternarylayer\"/><g class=\"geolayer\"/><g class=\"funnelarealayer\"/><g class=\"pielayer\"/><g class=\"iciclelayer\"/><g class=\"treemaplayer\"/><g class=\"sunburstlayer\"/><g class=\"glimages\"/><defs id=\"topdefs-59ec5d\"><g class=\"clips\"/><clipPath id=\"legend59ec5d\"><rect width=\"55\" height=\"48\" x=\"0\" y=\"0\"/></clipPath></defs><g class=\"layer-above\"><g class=\"imagelayer\"/><g class=\"shapelayer\"/></g><g class=\"infolayer\"><g class=\"legend\" pointer-events=\"all\" transform=\"translate(883,100)\"><rect class=\"bg\" shape-rendering=\"crispEdges\" width=\"55\" height=\"48\" x=\"0\" y=\"0\" style=\"stroke: rgb(68, 68, 68); stroke-opacity: 1; fill: rgb(255, 255, 255); fill-opacity: 1; stroke-width: 0px;\"/><g class=\"scrollbox\" transform=\"\" clip-path=\"url(#legend59ec5d)\"><g class=\"groups\"><g class=\"traces\" transform=\"translate(0,14.5)\" style=\"opacity: 1;\"><text class=\"legendtext\" text-anchor=\"start\" x=\"40\" y=\"4.680000000000001\" style=\"font-family: 'Open Sans', verdana, arial, sans-serif; font-size: 12px; fill: rgb(42, 63, 95); fill-opacity: 1; white-space: pre;\">A</text><g class=\"layers\" style=\"opacity: 1;\"><g class=\"legendfill\"/><g class=\"legendlines\"/><g class=\"legendsymbols\"><g class=\"legendpoints\"><path class=\"legendfunnel\" d=\"M6,6H-6V-6H6Z\" transform=\"translate(20,0)\" style=\"stroke-width: 0px; fill: rgb(99, 110, 250); fill-opacity: 1;\"/></g></g></g><rect class=\"legendtoggle\" x=\"0\" y=\"-9.5\" width=\"50\" height=\"19\" style=\"fill: rgb(0, 0, 0); fill-opacity: 0;\"/></g><g class=\"traces\" transform=\"translate(0,33.5)\" style=\"opacity: 1;\"><text class=\"legendtext\" text-anchor=\"start\" x=\"40\" y=\"4.680000000000001\" style=\"font-family: 'Open Sans', verdana, arial, sans-serif; font-size: 12px; fill: rgb(42, 63, 95); fill-opacity: 1; white-space: pre;\">B</text><g class=\"layers\" style=\"opacity: 1;\"><g class=\"legendfill\"/><g class=\"legendlines\"/><g class=\"legendsymbols\"><g class=\"legendpoints\"><path class=\"legendfunnel\" d=\"M6,6H-6V-6H6Z\" transform=\"translate(20,0)\" style=\"stroke-width: 0px; fill: rgb(239, 85, 59); fill-opacity: 1;\"/></g></g></g><rect class=\"legendtoggle\" x=\"0\" y=\"-9.5\" width=\"50\" height=\"19\" style=\"fill: rgb(0, 0, 0); fill-opacity: 0;\"/></g></g></g><rect class=\"scrollbar\" rx=\"20\" ry=\"3\" width=\"0\" height=\"0\" x=\"0\" y=\"0\" style=\"fill: rgb(128, 139, 164); fill-opacity: 1;\"/></g><g class=\"g-gtitle\"><text class=\"gtitle\" x=\"47.5\" y=\"50\" text-anchor=\"start\" dy=\"0em\" style=\"font-family: 'Open Sans', verdana, arial, sans-serif; font-size: 17px; fill: rgb(42, 63, 95); opacity: 1; font-weight: normal; white-space: pre;\">Воронка событий с разбиением по группам</text></g><g class=\"g-ytitle\"/></g></svg>"
      ]
     },
     "metadata": {},
     "output_type": "display_data"
    }
   ],
   "source": [
    "fig = go.Figure()\n",
    "\n",
    "for i in ('A', 'B'):\n",
    "    fig.add_trace(go.Funnel(\n",
    "        name = i,\n",
    "        y=final_df.index.tolist(),\n",
    "        x=final_df[i].tolist(),\n",
    "        textinfo = 'value+percent previous+percent initial'\n",
    "    )\n",
    ")\n",
    "fig.update_layout(title='Воронка событий с разбиением по группам')\n",
    "fig.show() "
   ]
  },
  {
   "cell_type": "markdown",
   "id": "0dff18e7",
   "metadata": {},
   "source": [
    "Видно, что в группе B конверсия значительно хуже (9% против 23% в контрольной группе). Основной провал происходит еще на этапе ввода логина (конверсия всего 32% против 71% в контрольной группе), на что теоретически не должен был влиять наш тест. Также можно заметить, что событий с оплатой больше чем с оформлением, что говорит нам о том, что не все шаги к покупке обязательны для посещения."
   ]
  },
  {
   "cell_type": "markdown",
   "id": "1547c8f2",
   "metadata": {},
   "source": [
    "## Вывод."
   ]
  },
  {
   "cell_type": "markdown",
   "id": "482b5789",
   "metadata": {},
   "source": [
    "<div style=\"border:solid green 2px; padding: 20px\">\n",
    "Проведя исследовательский анализ данных, можно сделать следующие выводы:\n",
    "    \n",
    "Распределения в группах крайне неравномерные, а именно **в контрольной группе А больше, чем в тестовой группе B:**\n",
    "- **действий в 3.8 раза** (15851 против 4183)\n",
    "- **пользователей в 1.4 раз** (3195 против 2373)\n",
    "- **действий на пользователя в 2.8 раз** (4.96 против 1.76)\n",
    "  \n",
    "По этой гистограмме можем увидеть, что **14 декабря в группе А произошел аномальный скачок**, когда количество действий выросло в 3,8 раз, а затем было планомерное увеличение действий по мере набора аудитории теста. После дополнительного анализа причины стало очевидно, что этот скачок связан с тем, что до 14 декабря зарегистрированные пользователи не могли залогиниться, пока этот баг не исправили. Затем, **с 22 декабря началось планомерное снижение действий в обоих группах**, связанное, по всей видимости, с тем, что был закончен набор новых пользователей и продолжался уход старых. **В тестовой группе В распределение более равномерное, но с кратно меньшей активностью пользоваетелей.** \n",
    "    \n",
    "По воронке событий определили, что **в группе B конверсия значительно хуже (9% против 23% в контрольной группе). Основной провал происходит еще на этапе ввода логина (конверсия всего 32% против 71% в контрольной группе)**, на что теоретически не должен был влиять наш тест. Также можно заметить, что событий с оплатой больше чем с оформлением, что говорит нам о том, что не все шаги к покупке обязательны для посещения.\n",
    "Все это в очередной раз указывает на то, что **A/B-тест проведен некорректно и с учетом этого с отрицательным эффектом от нововведения.**"
   ]
  },
  {
   "cell_type": "markdown",
   "id": "180afdbb",
   "metadata": {},
   "source": [
    "# Оценка результатов A/B-тестирования."
   ]
  },
  {
   "cell_type": "markdown",
   "id": "e1c65d68",
   "metadata": {},
   "source": [
    "Проверим, имеется ли у нас статистически значимая разница между группами. Для этого сформулируем нулевую и альтернативную гипотезу."
   ]
  },
  {
   "cell_type": "markdown",
   "id": "51ac13b7",
   "metadata": {},
   "source": [
    "**Нулевая H0:** доли оплативших товар пользователей в контрольной группе А и в тестовой группе B равны  \n",
    "**Альтернативная H1:** доли оплативших товар пользователей в контрольной группе А и в тестовой группе B не равны"
   ]
  },
  {
   "cell_type": "code",
   "execution_count": 22,
   "id": "296988d6",
   "metadata": {},
   "outputs": [],
   "source": [
    "#Напишем функцию для расчета статистической разницы между группами.\n",
    "def difference(column_group1, column_group2, row, alpha):\n",
    "    \"\"\"\n",
    "    Функция для проверки статистической гипотезы о равенстве долей\n",
    "    \n",
    "    column_group1 - выбор первого города\n",
    "    column_group2 - выбор второго города\n",
    "    row - выбор этапа события\n",
    "    alpha - заданный критический уровень статистической значимости\n",
    "    \"\"\" \n",
    "    events = final_df.index.tolist()\n",
    "    \n",
    "    alpha = alpha # критический уровень статистической значимости\n",
    "\n",
    "    successes = np.array([final_df.iat[row, column_group1], final_df.iat[row, column_group2]])\n",
    "    trials = np.array([final_df.iat[0, column_group1], final_df.iat[0, column_group2]])\n",
    "\n",
    "    # пропорция успехов в первой группе:\n",
    "    p1 = successes[0]/trials[0]\n",
    "\n",
    "    # пропорция успехов во второй группе:\n",
    "    p2 = successes[1]/trials[1]\n",
    "\n",
    "    # пропорция успехов в комбинированном датасете:\n",
    "    p_combined = (successes[0] + successes[1]) / (trials[0] + trials[1])\n",
    "\n",
    "    # разница пропорций в датасетах\n",
    "    difference = p1 - p2 \n",
    "    \n",
    "    # считаем статистику в ст.отклонениях стандартного нормального распределения\n",
    "    z_value = difference / mth.sqrt(p_combined * (1 - p_combined) * (1/trials[0] + 1/trials[1]))\n",
    "\n",
    "    # задаем стандартное нормальное распределение (среднее 0, ст.отклонение 1)\n",
    "    distr = st.norm(0, 1)  \n",
    "    \n",
    "    # считаем статистику в ст.отклонениях стандартного нормального распределения\n",
    "    z_value = difference / mth.sqrt(\n",
    "        p_combined * (1 - p_combined) * (1 / trials[0] + 1 / trials[1])\n",
    "    )\n",
    "\n",
    "    # задаем стандартное нормальное распределение (среднее 0, ст.отклонение 1)\n",
    "    distr = st.norm(0, 1)\n",
    "\n",
    "    p_value = (1 - distr.cdf(abs(z_value))) * 2\n",
    "\n",
    "    print('p-значение: ', p_value)\n",
    "\n",
    "    if p_value < alpha:\n",
    "        print(f'Отвергаем нулевую гипотезу: на этапе \"{events[row]}\" между долями есть значимая разница')\n",
    "    else:\n",
    "        print(\n",
    "            f'Не получилось отвергнуть нулевую гипотезу, на этапе \"{events[row]}\" нет оснований считать доли разными'\n",
    "        ) "
   ]
  },
  {
   "cell_type": "code",
   "execution_count": 23,
   "id": "37e7878d",
   "metadata": {},
   "outputs": [
    {
     "name": "stdout",
     "output_type": "stream",
     "text": [
      "p-значение:  0.0\n",
      "Отвергаем нулевую гипотезу: на этапе \"Залогинились\" между долями есть значимая разница\n",
      "p-значение:  0.0\n",
      "Отвергаем нулевую гипотезу: на этапе \"Открыли каталог\" между долями есть значимая разница\n",
      "p-значение:  0.0\n",
      "Отвергаем нулевую гипотезу: на этапе \"Начали оформлять заказ\" между долями есть значимая разница\n",
      "p-значение:  0.0\n",
      "Отвергаем нулевую гипотезу: на этапе \"Оплатили товар\" между долями есть значимая разница\n"
     ]
    }
   ],
   "source": [
    "#Используем цикл для проверки разницы на каждом этапе между контрольными группами.\n",
    "for i in range(1, 5):\n",
    "    difference (0, 1, i, .05)"
   ]
  },
  {
   "cell_type": "markdown",
   "id": "9c054bf3",
   "metadata": {},
   "source": [
    "## Вывод."
   ]
  },
  {
   "cell_type": "markdown",
   "id": "2e2f8950",
   "metadata": {},
   "source": [
    "<div style=\"border:solid green 2px; padding: 20px\">\n",
    "Проведя статистическую проверку z-критерием подтвердились предыдущие описанные нами выводы - **на всех этапах воронки между долями контрольной и тестовой группы есть значимая разница, A/B-тест проведен некорректно и с учетом этого имеется отрицательный эффект от нововведения.**"
   ]
  },
  {
   "cell_type": "markdown",
   "id": "1f38a3c1",
   "metadata": {},
   "source": [
    "# Выводы."
   ]
  },
  {
   "cell_type": "markdown",
   "id": "1696646f",
   "metadata": {},
   "source": [
    "<div style=\"border:solid green 2px; padding: 20px\">\n",
    "Проведя исследование и анализ поведения пользователей нашего мобильного приложения, можно сделать следующие выводы:\n",
    "\n",
    "- ДФ в идеальном состоянии - дубликаты, аномальные значения не наблюдаются, типы данных верные. Для удобства только заменены типы данных дат на соответствующие. Пропуски есть только в ДФ с событиями в комментариях, но их природа объясняется наличием суммы покупки только на соответствующем этапе.\n",
    "    \n",
    "- у нас **соблюдаются установленные ТЗ сроки набора пользователей в тест, но нарушаются срок проведения теста** (заканчивается 2020-12-30 вместо 2021-01-04) **и процесс набора юзеров** (13,3% новых пользователей из региона EU вместо 15% и 6701 вместо 6000 всего)\n",
    "- у нас **имеется два пересечения маркетинговых событий с тестом**. При этом, событие новогодней лотереи проводилось только в странах СНГ, а значит к нашему тесту отношения не имеет. Но **влияние могло оказать событие \"Рождество и НГ промо\"**, проводимое и в Европе, в том числе\n",
    "- у нас **нет пересечений по группам, но разделение по группам выполнено в соотношении 57:43, а также имеется пересечение пользователей между двумя тестами, в том числе в двух экспериментальных группах и в контрольной нашего теста и экспериментальной второго теста**\n",
    "- **после всех фильтраций пользователей** у нас получилось почти предполагаемое **количество пользователей - 5568 вместо 6000**\n",
    "    \n",
    "**Данные нарушения чистоты эксперимента могут дать впоследствии недостаточно достоверные результаты.**\n",
    "    \n",
    " Распределения в группах крайне неравномерные, а именно **в контрольной группе А больше, чем в тестовой группе B:**\n",
    "- **действий в 3.8 раза** (15851 против 4183)\n",
    "- **пользователей в 1.4 раз** (3195 против 2373)\n",
    "- **действий на пользователя в 2.8 раз** (4.96 против 1.76)\n",
    "\n",
    "- по распределению событий по дням определили, что **14 декабря в группе А произошел аномальный скачок**, когда количество действий выросло в 3,8 раз, а затем было планомерное увеличение действий по мере набора аудитории теста. После дополнительного анализа причины стало очевидно, что этот скачок связан с тем, что до 14 декабря зарегистрированные пользователи не могли залогиниться, пока этот баг не исправили. Затем, **с 22 декабря началось планомерное снижение действий в обоих группах**, связанное, по всей видимости, с тем, что был закончен набор новых пользователей и продолжался уход старых. **В тестовой группе В распределение более равномерное, но с кратно меньшей активностью пользователей.** \n",
    "- по воронке событий определили, что **в группе B конверсия значительно хуже (9% против 23% в контрольной группе). Основной провал происходит еще на этапе ввода логина (конверсия всего 32% против 71% в контрольной группе)**, на что теоретически не должен был влиять наш тест. Также можно заметить, что событий с оплатой больше чем с оформлением, что говорит нам о том, что не все шаги к покупке обязательны для посещения. \n",
    "    \n",
    "- проведя статистическую проверку z-критерием подтвердились предыдущие описанные нами выводы - **на всех этапах воронки между долями контрольной и тестовой группы есть значимая разница**\n",
    "\n",
    "**Описанные выше проблемы говорят о том, что A/B-тест проведен некорректно и с учетом этого получен отрицательный эффект от нововведения (9% конверсия в покупку в тестовой группе против 23% в контрольной группе), а значит мы не можем сделать достоверного заключение о значимости полученных результатов и негативного эффекта от вносимого изменения.**  \n",
    "При последующих запусках A/B-тестов рекомендуется сначала их откалибровать A/A-тестом или же запускать A/A/B-тест."
   ]
  }
 ],
 "metadata": {
  "ExecuteTimeLog": [
   {
    "duration": 928,
    "start_time": "2022-06-21T09:18:22.826Z"
   },
   {
    "duration": 1688,
    "start_time": "2022-06-21T09:18:23.756Z"
   },
   {
    "duration": 6,
    "start_time": "2022-06-21T09:18:25.446Z"
   },
   {
    "duration": 741,
    "start_time": "2022-06-21T09:18:25.454Z"
   },
   {
    "duration": 117,
    "start_time": "2022-06-21T09:18:26.196Z"
   },
   {
    "duration": 59,
    "start_time": "2022-06-21T09:18:26.315Z"
   },
   {
    "duration": 55,
    "start_time": "2022-06-21T09:18:26.376Z"
   },
   {
    "duration": 11,
    "start_time": "2022-06-21T09:18:26.433Z"
   },
   {
    "duration": 63,
    "start_time": "2022-06-21T09:18:26.446Z"
   },
   {
    "duration": 28,
    "start_time": "2022-06-21T09:18:26.513Z"
   },
   {
    "duration": 46,
    "start_time": "2022-06-21T09:18:26.543Z"
   },
   {
    "duration": 70,
    "start_time": "2022-06-21T09:18:26.592Z"
   },
   {
    "duration": 162,
    "start_time": "2022-06-21T09:18:26.664Z"
   },
   {
    "duration": 21,
    "start_time": "2022-06-21T09:18:26.828Z"
   },
   {
    "duration": 858,
    "start_time": "2022-06-21T09:18:26.851Z"
   },
   {
    "duration": 36,
    "start_time": "2022-06-21T09:18:27.710Z"
   },
   {
    "duration": 14,
    "start_time": "2022-06-21T09:18:27.748Z"
   },
   {
    "duration": 7,
    "start_time": "2022-06-21T09:18:27.764Z"
   },
   {
    "duration": 15,
    "start_time": "2022-06-21T09:18:27.772Z"
   },
   {
    "duration": 38,
    "start_time": "2022-06-21T09:18:27.789Z"
   },
   {
    "duration": 15,
    "start_time": "2022-06-21T09:18:27.829Z"
   },
   {
    "duration": 904,
    "start_time": "2022-06-22T16:44:38.448Z"
   },
   {
    "duration": 2069,
    "start_time": "2022-06-22T16:44:39.354Z"
   },
   {
    "duration": 5,
    "start_time": "2022-06-22T16:44:41.425Z"
   },
   {
    "duration": 715,
    "start_time": "2022-06-22T16:44:41.468Z"
   },
   {
    "duration": 109,
    "start_time": "2022-06-22T16:44:42.185Z"
   },
   {
    "duration": 51,
    "start_time": "2022-06-22T16:44:42.296Z"
   },
   {
    "duration": 55,
    "start_time": "2022-06-22T16:44:42.349Z"
   },
   {
    "duration": 12,
    "start_time": "2022-06-22T16:44:42.406Z"
   },
   {
    "duration": 49,
    "start_time": "2022-06-22T16:44:42.419Z"
   },
   {
    "duration": 12,
    "start_time": "2022-06-22T16:44:42.472Z"
   },
   {
    "duration": 13,
    "start_time": "2022-06-22T16:44:42.485Z"
   },
   {
    "duration": 20,
    "start_time": "2022-06-22T16:44:42.500Z"
   },
   {
    "duration": 70,
    "start_time": "2022-06-22T16:44:42.522Z"
   },
   {
    "duration": 154,
    "start_time": "2022-06-22T16:44:42.594Z"
   },
   {
    "duration": 31,
    "start_time": "2022-06-22T16:44:42.749Z"
   },
   {
    "duration": 965,
    "start_time": "2022-06-22T16:44:42.781Z"
   },
   {
    "duration": 39,
    "start_time": "2022-06-22T16:44:43.748Z"
   },
   {
    "duration": 27,
    "start_time": "2022-06-22T16:44:43.788Z"
   },
   {
    "duration": 58,
    "start_time": "2022-06-22T16:44:43.816Z"
   },
   {
    "duration": 9,
    "start_time": "2022-06-22T16:44:43.875Z"
   },
   {
    "duration": 12,
    "start_time": "2022-06-22T16:44:43.885Z"
   },
   {
    "duration": 7,
    "start_time": "2022-06-22T16:44:43.899Z"
   },
   {
    "duration": 19,
    "start_time": "2022-06-22T16:44:43.908Z"
   }
  ],
  "kernelspec": {
   "display_name": "Python 3 (ipykernel)",
   "language": "python",
   "name": "python3"
  },
  "language_info": {
   "codemirror_mode": {
    "name": "ipython",
    "version": 3
   },
   "file_extension": ".py",
   "mimetype": "text/x-python",
   "name": "python",
   "nbconvert_exporter": "python",
   "pygments_lexer": "ipython3",
   "version": "3.9.7"
  },
  "toc": {
   "base_numbering": 1,
   "nav_menu": {},
   "number_sections": true,
   "sideBar": true,
   "skip_h1_title": false,
   "title_cell": "Содержание",
   "title_sidebar": "Содержание",
   "toc_cell": false,
   "toc_position": {
    "height": "calc(100% - 180px)",
    "left": "10px",
    "top": "150px",
    "width": "384px"
   },
   "toc_section_display": true,
   "toc_window_display": true
  }
 },
 "nbformat": 4,
 "nbformat_minor": 5
}
