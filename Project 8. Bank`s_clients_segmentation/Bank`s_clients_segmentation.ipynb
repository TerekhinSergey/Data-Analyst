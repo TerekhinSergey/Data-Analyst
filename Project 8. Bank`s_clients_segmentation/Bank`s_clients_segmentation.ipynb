{
 "cells": [
  {
   "cell_type": "markdown",
   "id": "74d8c7a7",
   "metadata": {},
   "source": [
    "## Сегментирование клиентов банка, склонных к оттоку\n",
    "\n",
    "**Презентация** [ссылка для просмотра](https://drive.google.com/file/d/1AmYJgXn5s3X2bTRyOlIHj3ciMnk2c_ov/view?usp=sharing)  \n",
    "**Дашборд** [ссылка для просмотра](https://public.tableau.com/app/profile/sergey7413/viz/Diplom_dashbord/sheet3)\n",
    "  \n",
    "Мы работаем аналитиком в банке  «Метанпромбанк».\n",
    "В нашем банке возникла серьезная проблема — отток клиентов. Для дальнейшей борьбы с оттоком, маркетинговый отдел «Метанпромбанка» хочет узнать, какие сегменты клиентов наиболее склонны к оттоку из нашего банка. Наша задача — провести анализ имеющихся данных более 10 000 клиентов и подготовить план действий по удержанию клиентов.\n",
    "\n",
    "## Цель проекта.\n",
    "\n",
    "Провести анализ данных клиентской базы банка, сегментировать пользователей и предложить меры по снижению их оттока.\n",
    "\n",
    "## Задачи проекта.\n",
    "\n",
    "Во время исследования необходимо решить следующие задачи:\n",
    "\n",
    "- Изучить исходные данные и провести их предобработку.\n",
    "- Провести исследовательский анализ данных (EDA).\n",
    "- Произвести кластеризацию и классификацию клиентов.\n",
    "- Произвести сегментацию пользователей.\n",
    "- Проверить статистические гипотезы.\n",
    "- Сформулировать выводы и разработать рекомендации по повышению качества работы с клиентами.\n",
    "\n",
    "## Описание данных.  \n",
    "\n",
    "<div style=\"border:solid black 1px; padding: 20px\">     \n",
    "Имеется датафрейм со следующими данными:  \n",
    "\n",
    "Структура bank_dataset.csv, среза клиентов на определенный момент времени:\n",
    "\n",
    "• `userid` — идентификатор пользователя;  \n",
    "• `score` — баллы кредитного скоринга;  \n",
    "• `City` — город;  \n",
    "• `Gender` — пол;  \n",
    "• `Age` — возраст;  \n",
    "• `Objects` — количество объектов в собственности;  \n",
    "• `Balance` — баланс на счёте;  \n",
    "• `Products` — количество продуктов, которыми пользуется клиент;  \n",
    "• `CreditCard` — есть ли кредитная карта;  \n",
    "• `Loyalty` — активный клиент;  \n",
    "• `estimated_salary` — предполагаемая заработная плата клиента;  \n",
    "• `Churn` — факт оттока."
   ]
  },
  {
   "cell_type": "markdown",
   "id": "98c69b5b",
   "metadata": {},
   "source": [
    "# Импортируем библиотеки и изучим данные"
   ]
  },
  {
   "cell_type": "code",
   "execution_count": 1,
   "id": "b155c11a",
   "metadata": {},
   "outputs": [],
   "source": [
    "import warnings\n",
    "warnings.filterwarnings('ignore') #убираем вывод предупреждений\n",
    "\n",
    "import pandas as pd\n",
    "pd.set_option(\"display.precision\", 2)\n",
    "pd.options.display.max_colwidth = 100\n",
    "import seaborn as sns\n",
    "import matplotlib.pyplot as plt\n",
    "from scipy import stats as st\n",
    "import numpy as np\n",
    "import math as mth\n",
    "from sklearn.preprocessing import StandardScaler\n",
    "from sklearn.model_selection import train_test_split\n",
    "from sklearn.linear_model import LogisticRegression\n",
    "from sklearn.ensemble import RandomForestClassifier, GradientBoostingClassifier\n",
    "from sklearn.tree import DecisionTreeClassifier\n",
    "from sklearn.cluster import KMeans\n",
    "from sklearn.metrics import accuracy_score, precision_score, recall_score, f1_score, roc_auc_score\n",
    "from scipy.cluster.hierarchy import dendrogram, linkage"
   ]
  },
  {
   "cell_type": "code",
   "execution_count": 2,
   "id": "e76a58a2",
   "metadata": {},
   "outputs": [],
   "source": [
    "path = 'C:\\\\Users\\\\Sergey\\\\Documents\\\\Python Scripts\\\\Диплом\\\\'\n",
    "try:\n",
    "    df = pd.read_csv(path + 'bank_dataset.csv')\n",
    "except:\n",
    "    print('Loading Error')"
   ]
  },
  {
   "cell_type": "code",
   "execution_count": 3,
   "id": "f0f06bc4",
   "metadata": {},
   "outputs": [],
   "source": [
    "NORM = '\\033[0m'  # все атрибуты по умолчанию\n",
    "BOLD = '\\033[1m'  # жирный шрифт (интенсивный цвет)\n",
    "\n",
    "#Напишем функцию для вывода основной информации о ДФ.\n",
    "df_list = [df]\n",
    "def full_info(df_list):\n",
    "    for df in df_list:\n",
    "        if len(df.index) > 10:\n",
    "            print(BOLD+'\\n Случайная выборка 10 строк датафрейма:')\n",
    "            display (df.sample(n=10, random_state=10))\n",
    "        else:\n",
    "            print(BOLD+'\\n Первые 10 строк датафрейма:')\n",
    "            display (df.head(10))\n",
    "        print(BOLD+'\\n Типы данных и общая информация: \\n'+NORM)\n",
    "        display(df.info())\n",
    "        print(BOLD+' Наличие дубликатов: '+NORM, df.duplicated().sum())\n",
    "        print(BOLD+'\\n Наличие пропусков: \\n'+NORM)\n",
    "        display(df.isna().sum())\n",
    "        print(BOLD+'\\n Статистики количественных переменных :')\n",
    "        display(df.describe())\n",
    "    return"
   ]
  },
  {
   "cell_type": "code",
   "execution_count": 4,
   "id": "aca0d55f",
   "metadata": {},
   "outputs": [
    {
     "name": "stdout",
     "output_type": "stream",
     "text": [
      "\u001b[1m\n",
      " Случайная выборка 10 строк датафрейма:\n"
     ]
    },
    {
     "data": {
      "text/html": [
       "<div>\n",
       "<style scoped>\n",
       "    .dataframe tbody tr th:only-of-type {\n",
       "        vertical-align: middle;\n",
       "    }\n",
       "\n",
       "    .dataframe tbody tr th {\n",
       "        vertical-align: top;\n",
       "    }\n",
       "\n",
       "    .dataframe thead th {\n",
       "        text-align: right;\n",
       "    }\n",
       "</style>\n",
       "<table border=\"1\" class=\"dataframe\">\n",
       "  <thead>\n",
       "    <tr style=\"text-align: right;\">\n",
       "      <th></th>\n",
       "      <th>userid</th>\n",
       "      <th>score</th>\n",
       "      <th>City</th>\n",
       "      <th>Gender</th>\n",
       "      <th>Age</th>\n",
       "      <th>Objects</th>\n",
       "      <th>Balance</th>\n",
       "      <th>Products</th>\n",
       "      <th>CreditCard</th>\n",
       "      <th>Loyalty</th>\n",
       "      <th>estimated_salary</th>\n",
       "      <th>Churn</th>\n",
       "    </tr>\n",
       "  </thead>\n",
       "  <tbody>\n",
       "    <tr>\n",
       "      <th>937</th>\n",
       "      <td>15704836</td>\n",
       "      <td>850</td>\n",
       "      <td>Ростов Великий</td>\n",
       "      <td>Ж</td>\n",
       "      <td>44</td>\n",
       "      <td>5</td>\n",
       "      <td>128605.32</td>\n",
       "      <td>1</td>\n",
       "      <td>0</td>\n",
       "      <td>1</td>\n",
       "      <td>171096.20</td>\n",
       "      <td>0</td>\n",
       "    </tr>\n",
       "    <tr>\n",
       "      <th>9355</th>\n",
       "      <td>15664606</td>\n",
       "      <td>739</td>\n",
       "      <td>Рыбинск</td>\n",
       "      <td>Ж</td>\n",
       "      <td>40</td>\n",
       "      <td>8</td>\n",
       "      <td>NaN</td>\n",
       "      <td>1</td>\n",
       "      <td>1</td>\n",
       "      <td>0</td>\n",
       "      <td>167030.51</td>\n",
       "      <td>0</td>\n",
       "    </tr>\n",
       "    <tr>\n",
       "      <th>2293</th>\n",
       "      <td>15844001</td>\n",
       "      <td>689</td>\n",
       "      <td>Рыбинск</td>\n",
       "      <td>Ж</td>\n",
       "      <td>45</td>\n",
       "      <td>0</td>\n",
       "      <td>57784.22</td>\n",
       "      <td>1</td>\n",
       "      <td>1</td>\n",
       "      <td>0</td>\n",
       "      <td>197804.00</td>\n",
       "      <td>1</td>\n",
       "    </tr>\n",
       "    <tr>\n",
       "      <th>192</th>\n",
       "      <td>15799586</td>\n",
       "      <td>479</td>\n",
       "      <td>Ярославль</td>\n",
       "      <td>М</td>\n",
       "      <td>40</td>\n",
       "      <td>1</td>\n",
       "      <td>NaN</td>\n",
       "      <td>2</td>\n",
       "      <td>0</td>\n",
       "      <td>0</td>\n",
       "      <td>114996.43</td>\n",
       "      <td>0</td>\n",
       "    </tr>\n",
       "    <tr>\n",
       "      <th>8675</th>\n",
       "      <td>15682001</td>\n",
       "      <td>714</td>\n",
       "      <td>Ярославль</td>\n",
       "      <td>М</td>\n",
       "      <td>54</td>\n",
       "      <td>7</td>\n",
       "      <td>126113.28</td>\n",
       "      <td>1</td>\n",
       "      <td>1</td>\n",
       "      <td>0</td>\n",
       "      <td>112777.38</td>\n",
       "      <td>0</td>\n",
       "    </tr>\n",
       "    <tr>\n",
       "      <th>53</th>\n",
       "      <td>15745034</td>\n",
       "      <td>655</td>\n",
       "      <td>Ростов Великий</td>\n",
       "      <td>М</td>\n",
       "      <td>41</td>\n",
       "      <td>8</td>\n",
       "      <td>125561.97</td>\n",
       "      <td>1</td>\n",
       "      <td>0</td>\n",
       "      <td>0</td>\n",
       "      <td>164040.94</td>\n",
       "      <td>1</td>\n",
       "    </tr>\n",
       "    <tr>\n",
       "      <th>9596</th>\n",
       "      <td>15797820</td>\n",
       "      <td>531</td>\n",
       "      <td>Ярославль</td>\n",
       "      <td>М</td>\n",
       "      <td>37</td>\n",
       "      <td>7</td>\n",
       "      <td>121854.45</td>\n",
       "      <td>1</td>\n",
       "      <td>1</td>\n",
       "      <td>0</td>\n",
       "      <td>147521.35</td>\n",
       "      <td>0</td>\n",
       "    </tr>\n",
       "    <tr>\n",
       "      <th>265</th>\n",
       "      <td>15855899</td>\n",
       "      <td>531</td>\n",
       "      <td>Рыбинск</td>\n",
       "      <td>Ж</td>\n",
       "      <td>36</td>\n",
       "      <td>9</td>\n",
       "      <td>99240.51</td>\n",
       "      <td>1</td>\n",
       "      <td>1</td>\n",
       "      <td>0</td>\n",
       "      <td>123137.01</td>\n",
       "      <td>0</td>\n",
       "    </tr>\n",
       "    <tr>\n",
       "      <th>984</th>\n",
       "      <td>15747506</td>\n",
       "      <td>773</td>\n",
       "      <td>Ярославль</td>\n",
       "      <td>М</td>\n",
       "      <td>25</td>\n",
       "      <td>1</td>\n",
       "      <td>124532.78</td>\n",
       "      <td>2</td>\n",
       "      <td>0</td>\n",
       "      <td>1</td>\n",
       "      <td>11723.57</td>\n",
       "      <td>0</td>\n",
       "    </tr>\n",
       "    <tr>\n",
       "      <th>9793</th>\n",
       "      <td>15815099</td>\n",
       "      <td>772</td>\n",
       "      <td>Ростов Великий</td>\n",
       "      <td>Ж</td>\n",
       "      <td>42</td>\n",
       "      <td>0</td>\n",
       "      <td>101979.16</td>\n",
       "      <td>1</td>\n",
       "      <td>1</td>\n",
       "      <td>0</td>\n",
       "      <td>90928.48</td>\n",
       "      <td>0</td>\n",
       "    </tr>\n",
       "  </tbody>\n",
       "</table>\n",
       "</div>"
      ],
      "text/plain": [
       "        userid  score            City Gender  Age  Objects    Balance  \\\n",
       "937   15704836    850  Ростов Великий      Ж   44        5  128605.32   \n",
       "9355  15664606    739         Рыбинск      Ж   40        8        NaN   \n",
       "2293  15844001    689         Рыбинск      Ж   45        0   57784.22   \n",
       "192   15799586    479       Ярославль      М   40        1        NaN   \n",
       "8675  15682001    714       Ярославль      М   54        7  126113.28   \n",
       "53    15745034    655  Ростов Великий      М   41        8  125561.97   \n",
       "9596  15797820    531       Ярославль      М   37        7  121854.45   \n",
       "265   15855899    531         Рыбинск      Ж   36        9   99240.51   \n",
       "984   15747506    773       Ярославль      М   25        1  124532.78   \n",
       "9793  15815099    772  Ростов Великий      Ж   42        0  101979.16   \n",
       "\n",
       "      Products  CreditCard  Loyalty  estimated_salary  Churn  \n",
       "937          1           0        1         171096.20      0  \n",
       "9355         1           1        0         167030.51      0  \n",
       "2293         1           1        0         197804.00      1  \n",
       "192          2           0        0         114996.43      0  \n",
       "8675         1           1        0         112777.38      0  \n",
       "53           1           0        0         164040.94      1  \n",
       "9596         1           1        0         147521.35      0  \n",
       "265          1           1        0         123137.01      0  \n",
       "984          2           0        1          11723.57      0  \n",
       "9793         1           1        0          90928.48      0  "
      ]
     },
     "metadata": {},
     "output_type": "display_data"
    },
    {
     "name": "stdout",
     "output_type": "stream",
     "text": [
      "\u001b[1m\n",
      " Типы данных и общая информация: \n",
      "\u001b[0m\n",
      "<class 'pandas.core.frame.DataFrame'>\n",
      "RangeIndex: 10000 entries, 0 to 9999\n",
      "Data columns (total 12 columns):\n",
      " #   Column            Non-Null Count  Dtype  \n",
      "---  ------            --------------  -----  \n",
      " 0   userid            10000 non-null  int64  \n",
      " 1   score             10000 non-null  int64  \n",
      " 2   City              10000 non-null  object \n",
      " 3   Gender            10000 non-null  object \n",
      " 4   Age               10000 non-null  int64  \n",
      " 5   Objects           10000 non-null  int64  \n",
      " 6   Balance           6383 non-null   float64\n",
      " 7   Products          10000 non-null  int64  \n",
      " 8   CreditCard        10000 non-null  int64  \n",
      " 9   Loyalty           10000 non-null  int64  \n",
      " 10  estimated_salary  10000 non-null  float64\n",
      " 11  Churn             10000 non-null  int64  \n",
      "dtypes: float64(2), int64(8), object(2)\n",
      "memory usage: 937.6+ KB\n"
     ]
    },
    {
     "data": {
      "text/plain": [
       "None"
      ]
     },
     "metadata": {},
     "output_type": "display_data"
    },
    {
     "name": "stdout",
     "output_type": "stream",
     "text": [
      "\u001b[1m Наличие дубликатов: \u001b[0m 0\n",
      "\u001b[1m\n",
      " Наличие пропусков: \n",
      "\u001b[0m\n"
     ]
    },
    {
     "data": {
      "text/plain": [
       "userid                 0\n",
       "score                  0\n",
       "City                   0\n",
       "Gender                 0\n",
       "Age                    0\n",
       "Objects                0\n",
       "Balance             3617\n",
       "Products               0\n",
       "CreditCard             0\n",
       "Loyalty                0\n",
       "estimated_salary       0\n",
       "Churn                  0\n",
       "dtype: int64"
      ]
     },
     "metadata": {},
     "output_type": "display_data"
    },
    {
     "name": "stdout",
     "output_type": "stream",
     "text": [
      "\u001b[1m\n",
      " Статистики количественных переменных :\n"
     ]
    },
    {
     "data": {
      "text/html": [
       "<div>\n",
       "<style scoped>\n",
       "    .dataframe tbody tr th:only-of-type {\n",
       "        vertical-align: middle;\n",
       "    }\n",
       "\n",
       "    .dataframe tbody tr th {\n",
       "        vertical-align: top;\n",
       "    }\n",
       "\n",
       "    .dataframe thead th {\n",
       "        text-align: right;\n",
       "    }\n",
       "</style>\n",
       "<table border=\"1\" class=\"dataframe\">\n",
       "  <thead>\n",
       "    <tr style=\"text-align: right;\">\n",
       "      <th></th>\n",
       "      <th>userid</th>\n",
       "      <th>score</th>\n",
       "      <th>Age</th>\n",
       "      <th>Objects</th>\n",
       "      <th>Balance</th>\n",
       "      <th>Products</th>\n",
       "      <th>CreditCard</th>\n",
       "      <th>Loyalty</th>\n",
       "      <th>estimated_salary</th>\n",
       "      <th>Churn</th>\n",
       "    </tr>\n",
       "  </thead>\n",
       "  <tbody>\n",
       "    <tr>\n",
       "      <th>count</th>\n",
       "      <td>1.00e+04</td>\n",
       "      <td>10000.00</td>\n",
       "      <td>10000.00</td>\n",
       "      <td>10000.00</td>\n",
       "      <td>6383.00</td>\n",
       "      <td>10000.00</td>\n",
       "      <td>10000.00</td>\n",
       "      <td>10000.00</td>\n",
       "      <td>10000.00</td>\n",
       "      <td>10000.0</td>\n",
       "    </tr>\n",
       "    <tr>\n",
       "      <th>mean</th>\n",
       "      <td>1.57e+07</td>\n",
       "      <td>650.53</td>\n",
       "      <td>38.92</td>\n",
       "      <td>5.01</td>\n",
       "      <td>119827.49</td>\n",
       "      <td>1.53</td>\n",
       "      <td>0.71</td>\n",
       "      <td>0.52</td>\n",
       "      <td>100090.24</td>\n",
       "      <td>0.2</td>\n",
       "    </tr>\n",
       "    <tr>\n",
       "      <th>std</th>\n",
       "      <td>7.19e+04</td>\n",
       "      <td>96.65</td>\n",
       "      <td>10.49</td>\n",
       "      <td>2.89</td>\n",
       "      <td>30095.06</td>\n",
       "      <td>0.58</td>\n",
       "      <td>0.46</td>\n",
       "      <td>0.50</td>\n",
       "      <td>57510.49</td>\n",
       "      <td>0.4</td>\n",
       "    </tr>\n",
       "    <tr>\n",
       "      <th>min</th>\n",
       "      <td>1.56e+07</td>\n",
       "      <td>350.00</td>\n",
       "      <td>18.00</td>\n",
       "      <td>0.00</td>\n",
       "      <td>3768.69</td>\n",
       "      <td>1.00</td>\n",
       "      <td>0.00</td>\n",
       "      <td>0.00</td>\n",
       "      <td>11.58</td>\n",
       "      <td>0.0</td>\n",
       "    </tr>\n",
       "    <tr>\n",
       "      <th>25%</th>\n",
       "      <td>1.57e+07</td>\n",
       "      <td>584.00</td>\n",
       "      <td>32.00</td>\n",
       "      <td>3.00</td>\n",
       "      <td>100181.98</td>\n",
       "      <td>1.00</td>\n",
       "      <td>0.00</td>\n",
       "      <td>0.00</td>\n",
       "      <td>51002.11</td>\n",
       "      <td>0.0</td>\n",
       "    </tr>\n",
       "    <tr>\n",
       "      <th>50%</th>\n",
       "      <td>1.57e+07</td>\n",
       "      <td>652.00</td>\n",
       "      <td>37.00</td>\n",
       "      <td>5.00</td>\n",
       "      <td>119839.69</td>\n",
       "      <td>1.00</td>\n",
       "      <td>1.00</td>\n",
       "      <td>1.00</td>\n",
       "      <td>100193.91</td>\n",
       "      <td>0.0</td>\n",
       "    </tr>\n",
       "    <tr>\n",
       "      <th>75%</th>\n",
       "      <td>1.58e+07</td>\n",
       "      <td>718.00</td>\n",
       "      <td>44.00</td>\n",
       "      <td>7.00</td>\n",
       "      <td>139512.29</td>\n",
       "      <td>2.00</td>\n",
       "      <td>1.00</td>\n",
       "      <td>1.00</td>\n",
       "      <td>149388.25</td>\n",
       "      <td>0.0</td>\n",
       "    </tr>\n",
       "    <tr>\n",
       "      <th>max</th>\n",
       "      <td>1.59e+07</td>\n",
       "      <td>850.00</td>\n",
       "      <td>92.00</td>\n",
       "      <td>10.00</td>\n",
       "      <td>250898.09</td>\n",
       "      <td>4.00</td>\n",
       "      <td>1.00</td>\n",
       "      <td>1.00</td>\n",
       "      <td>199992.48</td>\n",
       "      <td>1.0</td>\n",
       "    </tr>\n",
       "  </tbody>\n",
       "</table>\n",
       "</div>"
      ],
      "text/plain": [
       "         userid     score       Age   Objects    Balance  Products  \\\n",
       "count  1.00e+04  10000.00  10000.00  10000.00    6383.00  10000.00   \n",
       "mean   1.57e+07    650.53     38.92      5.01  119827.49      1.53   \n",
       "std    7.19e+04     96.65     10.49      2.89   30095.06      0.58   \n",
       "min    1.56e+07    350.00     18.00      0.00    3768.69      1.00   \n",
       "25%    1.57e+07    584.00     32.00      3.00  100181.98      1.00   \n",
       "50%    1.57e+07    652.00     37.00      5.00  119839.69      1.00   \n",
       "75%    1.58e+07    718.00     44.00      7.00  139512.29      2.00   \n",
       "max    1.59e+07    850.00     92.00     10.00  250898.09      4.00   \n",
       "\n",
       "       CreditCard   Loyalty  estimated_salary    Churn  \n",
       "count    10000.00  10000.00          10000.00  10000.0  \n",
       "mean         0.71      0.52         100090.24      0.2  \n",
       "std          0.46      0.50          57510.49      0.4  \n",
       "min          0.00      0.00             11.58      0.0  \n",
       "25%          0.00      0.00          51002.11      0.0  \n",
       "50%          1.00      1.00         100193.91      0.0  \n",
       "75%          1.00      1.00         149388.25      0.0  \n",
       "max          1.00      1.00         199992.48      1.0  "
      ]
     },
     "metadata": {},
     "output_type": "display_data"
    }
   ],
   "source": [
    "full_info(df_list)"
   ]
  },
  {
   "cell_type": "code",
   "execution_count": 5,
   "id": "37624a28",
   "metadata": {},
   "outputs": [
    {
     "name": "stdout",
     "output_type": "stream",
     "text": [
      "userid\n"
     ]
    },
    {
     "data": {
      "image/png": "[encoded data removed]",
      "text/plain": [
       "<Figure size 432x288 with 1 Axes>"
      ]
     },
     "metadata": {
      "needs_background": "light"
     },
     "output_type": "display_data"
    },
    {
     "name": "stdout",
     "output_type": "stream",
     "text": [
      "score\n"
     ]
    },
    {
     "data": {
      "image/png": "[encoded data removed]",
      "text/plain": [
       "<Figure size 432x288 with 1 Axes>"
      ]
     },
     "metadata": {
      "needs_background": "light"
     },
     "output_type": "display_data"
    },
    {
     "name": "stdout",
     "output_type": "stream",
     "text": [
      "City\n"
     ]
    },
    {
     "data": {
      "image/png": "[encoded data removed]",
      "text/plain": [
       "<Figure size 432x288 with 1 Axes>"
      ]
     },
     "metadata": {
      "needs_background": "light"
     },
     "output_type": "display_data"
    },
    {
     "name": "stdout",
     "output_type": "stream",
     "text": [
      "Gender\n"
     ]
    },
    {
     "data": {
      "image/png": "[encoded data removed]",
      "text/plain": [
       "<Figure size 432x288 with 1 Axes>"
      ]
     },
     "metadata": {
      "needs_background": "light"
     },
     "output_type": "display_data"
    },
    {
     "name": "stdout",
     "output_type": "stream",
     "text": [
      "Age\n"
     ]
    },
    {
     "data": {
      "image/png": "[encoded data removed]",
      "text/plain": [
       "<Figure size 432x288 with 1 Axes>"
      ]
     },
     "metadata": {
      "needs_background": "light"
     },
     "output_type": "display_data"
    },
    {
     "name": "stdout",
     "output_type": "stream",
     "text": [
      "Objects\n"
     ]
    },
    {
     "data": {
      "image/png": "[encoded data removed]",
      "text/plain": [
       "<Figure size 432x288 with 1 Axes>"
      ]
     },
     "metadata": {
      "needs_background": "light"
     },
     "output_type": "display_data"
    },
    {
     "name": "stdout",
     "output_type": "stream",
     "text": [
      "Balance\n"
     ]
    },
    {
     "data": {
      "image/png": "[encoded data removed]",
      "text/plain": [
       "<Figure size 432x288 with 1 Axes>"
      ]
     },
     "metadata": {
      "needs_background": "light"
     },
     "output_type": "display_data"
    },
    {
     "name": "stdout",
     "output_type": "stream",
     "text": [
      "Products\n"
     ]
    },
    {
     "data": {
      "image/png": "[encoded data removed]",
      "text/plain": [
       "<Figure size 432x288 with 1 Axes>"
      ]
     },
     "metadata": {
      "needs_background": "light"
     },
     "output_type": "display_data"
    },
    {
     "name": "stdout",
     "output_type": "stream",
     "text": [
      "CreditCard\n"
     ]
    },
    {
     "data": {
      "image/png": "[encoded data removed]",
      "text/plain": [
       "<Figure size 432x288 with 1 Axes>"
      ]
     },
     "metadata": {
      "needs_background": "light"
     },
     "output_type": "display_data"
    },
    {
     "name": "stdout",
     "output_type": "stream",
     "text": [
      "Loyalty\n"
     ]
    },
    {
     "data": {
      "image/png": "[encoded data removed]",
      "text/plain": [
       "<Figure size 432x288 with 1 Axes>"
      ]
     },
     "metadata": {
      "needs_background": "light"
     },
     "output_type": "display_data"
    },
    {
     "name": "stdout",
     "output_type": "stream",
     "text": [
      "estimated_salary\n"
     ]
    },
    {
     "data": {
      "image/png": "[encoded data removed]",
      "text/plain": [
       "<Figure size 432x288 with 1 Axes>"
      ]
     },
     "metadata": {
      "needs_background": "light"
     },
     "output_type": "display_data"
    },
    {
     "name": "stdout",
     "output_type": "stream",
     "text": [
      "Churn\n"
     ]
    },
    {
     "data": {
      "image/png": "[encoded data removed]",
      "text/plain": [
       "<Figure size 432x288 with 1 Axes>"
      ]
     },
     "metadata": {
      "needs_background": "light"
     },
     "output_type": "display_data"
    }
   ],
   "source": [
    "for i in df.columns:\n",
    "    print(i)\n",
    "    df[i].hist()\n",
    "    plt.show()"
   ]
  },
  {
   "cell_type": "markdown",
   "id": "1336c6bd",
   "metadata": {},
   "source": [
    "## Вывод"
   ]
  },
  {
   "cell_type": "markdown",
   "id": "cca7939e",
   "metadata": {},
   "source": [
    "<div style=\"border:solid green 2px; padding: 20px\">\n",
    "Данные изучены и готовы для дальнейшего исследования, т.к. ДФ в идеальном состоянии - дубликаты отсутствуют, типы данных верные. Учитывая квартили и логически анализируя жизненный опыт, можно сказать, что аномальных значений в ДФ не наблюдается, все они выглядят правдоподобно и естественно. Для удобства необходимо только заменить названия столбцов и обработать пропуска в столбце с балансом.\n",
    "    \n",
    "Если сравнить средние значения с медианами с учетом стандартного отклонения и посмотреть на гистограммы, можно увидеть, что клиенты по баллам кредитного скоринга, полу, возрасту, объектам в собственности, балансу на счете, активности и предполагаемой ЗП распределены равномерно. При этом, в Ярославле живет в два раза больше клиентов, чем в Рыбинске и Ростове Великом, почти по 50% у клиентов с 1-2 продуктами и по несколько процентов с 3-4 продуктами, кредитка есть у 70% клиентов, а отток составляет 20%."
   ]
  },
  {
   "cell_type": "markdown",
   "id": "64595aa6",
   "metadata": {},
   "source": [
    "# Предобработка данных"
   ]
  },
  {
   "cell_type": "markdown",
   "id": "ed144361",
   "metadata": {},
   "source": [
    "## Приведение названий столбцов к единой стилистике"
   ]
  },
  {
   "cell_type": "code",
   "execution_count": 6,
   "id": "3e04bf8d",
   "metadata": {},
   "outputs": [
    {
     "data": {
      "text/plain": [
       "Index(['user_id', 'score', 'city', 'gender', 'age', 'objects', 'balance',\n",
       "       'products', 'credit_card', 'loyalty', 'estimated_salary', 'churn'],\n",
       "      dtype='object')"
      ]
     },
     "execution_count": 6,
     "metadata": {},
     "output_type": "execute_result"
    }
   ],
   "source": [
    "df.columns = df.columns.str.lower()\n",
    "df = df.rename(columns = {'userid': 'user_id', 'creditcard': 'credit_card'})\n",
    "df.columns"
   ]
  },
  {
   "cell_type": "markdown",
   "id": "3f7cf990",
   "metadata": {},
   "source": [
    "В связи с тем, что нас не интересует юнит-экономика, уберем неинформативный для нас столбец с номером юзера."
   ]
  },
  {
   "cell_type": "code",
   "execution_count": 7,
   "id": "ca4dfd9f",
   "metadata": {},
   "outputs": [],
   "source": [
    "df = df.drop('user_id', axis=1)"
   ]
  },
  {
   "cell_type": "markdown",
   "id": "216fd4d8",
   "metadata": {},
   "source": [
    "## Обработка пропусков"
   ]
  },
  {
   "cell_type": "code",
   "execution_count": 8,
   "id": "ec9a4b6a",
   "metadata": {},
   "outputs": [
    {
     "name": "stdout",
     "output_type": "stream",
     "text": [
      "score\n"
     ]
    },
    {
     "data": {
      "image/png": "[encoded data removed]",
      "text/plain": [
       "<Figure size 432x288 with 1 Axes>"
      ]
     },
     "metadata": {
      "needs_background": "light"
     },
     "output_type": "display_data"
    },
    {
     "name": "stdout",
     "output_type": "stream",
     "text": [
      "city\n"
     ]
    },
    {
     "data": {
      "image/png": "[encoded data removed]",
      "text/plain": [
       "<Figure size 432x288 with 1 Axes>"
      ]
     },
     "metadata": {
      "needs_background": "light"
     },
     "output_type": "display_data"
    },
    {
     "name": "stdout",
     "output_type": "stream",
     "text": [
      "gender\n"
     ]
    },
    {
     "data": {
      "image/png": "[encoded data removed]",
      "text/plain": [
       "<Figure size 432x288 with 1 Axes>"
      ]
     },
     "metadata": {
      "needs_background": "light"
     },
     "output_type": "display_data"
    },
    {
     "name": "stdout",
     "output_type": "stream",
     "text": [
      "age\n"
     ]
    },
    {
     "data": {
      "image/png": "[encoded data removed]",
      "text/plain": [
       "<Figure size 432x288 with 1 Axes>"
      ]
     },
     "metadata": {
      "needs_background": "light"
     },
     "output_type": "display_data"
    },
    {
     "name": "stdout",
     "output_type": "stream",
     "text": [
      "objects\n"
     ]
    },
    {
     "data": {
      "image/png": "[encoded data removed]",
      "text/plain": [
       "<Figure size 432x288 with 1 Axes>"
      ]
     },
     "metadata": {
      "needs_background": "light"
     },
     "output_type": "display_data"
    },
    {
     "name": "stdout",
     "output_type": "stream",
     "text": [
      "balance\n"
     ]
    },
    {
     "data": {
      "image/png": "[encoded data removed]",
      "text/plain": [
       "<Figure size 432x288 with 1 Axes>"
      ]
     },
     "metadata": {
      "needs_background": "light"
     },
     "output_type": "display_data"
    },
    {
     "name": "stdout",
     "output_type": "stream",
     "text": [
      "products\n"
     ]
    },
    {
     "data": {
      "image/png": "[encoded data removed]",
      "text/plain": [
       "<Figure size 432x288 with 1 Axes>"
      ]
     },
     "metadata": {
      "needs_background": "light"
     },
     "output_type": "display_data"
    },
    {
     "name": "stdout",
     "output_type": "stream",
     "text": [
      "credit_card\n"
     ]
    },
    {
     "data": {
      "image/png": "[encoded data removed]",
      "text/plain": [
       "<Figure size 432x288 with 1 Axes>"
      ]
     },
     "metadata": {
      "needs_background": "light"
     },
     "output_type": "display_data"
    },
    {
     "name": "stdout",
     "output_type": "stream",
     "text": [
      "loyalty\n"
     ]
    },
    {
     "data": {
      "image/png": "[encoded data removed]",
      "text/plain": [
       "<Figure size 432x288 with 1 Axes>"
      ]
     },
     "metadata": {
      "needs_background": "light"
     },
     "output_type": "display_data"
    },
    {
     "name": "stdout",
     "output_type": "stream",
     "text": [
      "estimated_salary\n"
     ]
    },
    {
     "data": {
      "image/png": "[encoded data removed]",
      "text/plain": [
       "<Figure size 432x288 with 1 Axes>"
      ]
     },
     "metadata": {
      "needs_background": "light"
     },
     "output_type": "display_data"
    },
    {
     "name": "stdout",
     "output_type": "stream",
     "text": [
      "churn\n"
     ]
    },
    {
     "data": {
      "image/png": "[encoded data removed]",
      "text/plain": [
       "<Figure size 432x288 with 1 Axes>"
      ]
     },
     "metadata": {
      "needs_background": "light"
     },
     "output_type": "display_data"
    }
   ],
   "source": [
    "#Посмотрим на распределения пропусков.\n",
    "for i in df.columns:\n",
    "    print(i)\n",
    "    df[df.balance.isna()][i].hist()\n",
    "    plt.show()"
   ]
  },
  {
   "cell_type": "markdown",
   "id": "c1946130",
   "metadata": {},
   "source": [
    "Видим, что пропуски в балансе составляют половина клиентов Ярославля и Рыбинска, четверть клиентов с 1 продуктом и половина с двумя. В остальном изменений не наблюдается.\n",
    "Возможно, пропуски в балансе вызваны какой-то программной ошибкой базы данных в этих городах или, что вероятнее, ошибкой при выгрузке данных. Посмотрим на значения баланса, исходя из выявленных закономерностей."
   ]
  },
  {
   "cell_type": "code",
   "execution_count": 9,
   "id": "f8066748",
   "metadata": {},
   "outputs": [
    {
     "data": {
      "text/html": [
       "<div>\n",
       "<style scoped>\n",
       "    .dataframe tbody tr th:only-of-type {\n",
       "        vertical-align: middle;\n",
       "    }\n",
       "\n",
       "    .dataframe tbody tr th {\n",
       "        vertical-align: top;\n",
       "    }\n",
       "\n",
       "    .dataframe thead th {\n",
       "        text-align: right;\n",
       "    }\n",
       "</style>\n",
       "<table border=\"1\" class=\"dataframe\">\n",
       "  <thead>\n",
       "    <tr style=\"text-align: right;\">\n",
       "      <th></th>\n",
       "      <th></th>\n",
       "      <th>score</th>\n",
       "      <th>age</th>\n",
       "      <th>objects</th>\n",
       "      <th>balance</th>\n",
       "      <th>credit_card</th>\n",
       "      <th>loyalty</th>\n",
       "      <th>estimated_salary</th>\n",
       "      <th>churn</th>\n",
       "    </tr>\n",
       "    <tr>\n",
       "      <th>city</th>\n",
       "      <th>products</th>\n",
       "      <th></th>\n",
       "      <th></th>\n",
       "      <th></th>\n",
       "      <th></th>\n",
       "      <th></th>\n",
       "      <th></th>\n",
       "      <th></th>\n",
       "      <th></th>\n",
       "    </tr>\n",
       "  </thead>\n",
       "  <tbody>\n",
       "    <tr>\n",
       "      <th rowspan=\"4\" valign=\"top\">Ростов Великий</th>\n",
       "      <th>1</th>\n",
       "      <td>649.0</td>\n",
       "      <td>39.0</td>\n",
       "      <td>5.0</td>\n",
       "      <td>119961.48</td>\n",
       "      <td>1.0</td>\n",
       "      <td>0.0</td>\n",
       "      <td>101178.85</td>\n",
       "      <td>0.0</td>\n",
       "    </tr>\n",
       "    <tr>\n",
       "      <th>2</th>\n",
       "      <td>653.5</td>\n",
       "      <td>37.0</td>\n",
       "      <td>5.0</td>\n",
       "      <td>119453.25</td>\n",
       "      <td>1.0</td>\n",
       "      <td>1.0</td>\n",
       "      <td>102768.95</td>\n",
       "      <td>0.0</td>\n",
       "    </tr>\n",
       "    <tr>\n",
       "      <th>3</th>\n",
       "      <td>650.0</td>\n",
       "      <td>42.0</td>\n",
       "      <td>5.0</td>\n",
       "      <td>121012.65</td>\n",
       "      <td>1.0</td>\n",
       "      <td>0.0</td>\n",
       "      <td>104805.83</td>\n",
       "      <td>1.0</td>\n",
       "    </tr>\n",
       "    <tr>\n",
       "      <th>4</th>\n",
       "      <td>636.0</td>\n",
       "      <td>44.0</td>\n",
       "      <td>4.0</td>\n",
       "      <td>118426.09</td>\n",
       "      <td>1.0</td>\n",
       "      <td>0.0</td>\n",
       "      <td>111578.61</td>\n",
       "      <td>1.0</td>\n",
       "    </tr>\n",
       "    <tr>\n",
       "      <th rowspan=\"4\" valign=\"top\">Рыбинск</th>\n",
       "      <th>1</th>\n",
       "      <td>650.0</td>\n",
       "      <td>38.0</td>\n",
       "      <td>5.0</td>\n",
       "      <td>118905.73</td>\n",
       "      <td>1.0</td>\n",
       "      <td>1.0</td>\n",
       "      <td>100183.05</td>\n",
       "      <td>0.0</td>\n",
       "    </tr>\n",
       "    <tr>\n",
       "      <th>2</th>\n",
       "      <td>652.0</td>\n",
       "      <td>36.0</td>\n",
       "      <td>5.0</td>\n",
       "      <td>120416.96</td>\n",
       "      <td>1.0</td>\n",
       "      <td>1.0</td>\n",
       "      <td>100365.51</td>\n",
       "      <td>0.0</td>\n",
       "    </tr>\n",
       "    <tr>\n",
       "      <th>3</th>\n",
       "      <td>653.0</td>\n",
       "      <td>41.0</td>\n",
       "      <td>4.5</td>\n",
       "      <td>131355.30</td>\n",
       "      <td>1.0</td>\n",
       "      <td>0.0</td>\n",
       "      <td>97279.27</td>\n",
       "      <td>1.0</td>\n",
       "    </tr>\n",
       "    <tr>\n",
       "      <th>4</th>\n",
       "      <td>671.0</td>\n",
       "      <td>50.0</td>\n",
       "      <td>5.0</td>\n",
       "      <td>121345.88</td>\n",
       "      <td>1.0</td>\n",
       "      <td>0.0</td>\n",
       "      <td>83866.35</td>\n",
       "      <td>1.0</td>\n",
       "    </tr>\n",
       "    <tr>\n",
       "      <th rowspan=\"4\" valign=\"top\">Ярославль</th>\n",
       "      <th>1</th>\n",
       "      <td>653.0</td>\n",
       "      <td>37.0</td>\n",
       "      <td>5.0</td>\n",
       "      <td>120351.98</td>\n",
       "      <td>1.0</td>\n",
       "      <td>1.0</td>\n",
       "      <td>97350.40</td>\n",
       "      <td>0.0</td>\n",
       "    </tr>\n",
       "    <tr>\n",
       "      <th>2</th>\n",
       "      <td>653.0</td>\n",
       "      <td>36.0</td>\n",
       "      <td>5.0</td>\n",
       "      <td>120157.89</td>\n",
       "      <td>1.0</td>\n",
       "      <td>1.0</td>\n",
       "      <td>100408.31</td>\n",
       "      <td>0.0</td>\n",
       "    </tr>\n",
       "    <tr>\n",
       "      <th>3</th>\n",
       "      <td>643.5</td>\n",
       "      <td>43.0</td>\n",
       "      <td>5.0</td>\n",
       "      <td>108546.16</td>\n",
       "      <td>1.0</td>\n",
       "      <td>0.0</td>\n",
       "      <td>101626.54</td>\n",
       "      <td>1.0</td>\n",
       "    </tr>\n",
       "    <tr>\n",
       "      <th>4</th>\n",
       "      <td>644.0</td>\n",
       "      <td>46.0</td>\n",
       "      <td>7.0</td>\n",
       "      <td>128548.49</td>\n",
       "      <td>1.0</td>\n",
       "      <td>1.0</td>\n",
       "      <td>128521.16</td>\n",
       "      <td>1.0</td>\n",
       "    </tr>\n",
       "  </tbody>\n",
       "</table>\n",
       "</div>"
      ],
      "text/plain": [
       "                         score   age  objects    balance  credit_card  \\\n",
       "city           products                                                 \n",
       "Ростов Великий 1         649.0  39.0      5.0  119961.48          1.0   \n",
       "               2         653.5  37.0      5.0  119453.25          1.0   \n",
       "               3         650.0  42.0      5.0  121012.65          1.0   \n",
       "               4         636.0  44.0      4.0  118426.09          1.0   \n",
       "Рыбинск        1         650.0  38.0      5.0  118905.73          1.0   \n",
       "               2         652.0  36.0      5.0  120416.96          1.0   \n",
       "               3         653.0  41.0      4.5  131355.30          1.0   \n",
       "               4         671.0  50.0      5.0  121345.88          1.0   \n",
       "Ярославль      1         653.0  37.0      5.0  120351.98          1.0   \n",
       "               2         653.0  36.0      5.0  120157.89          1.0   \n",
       "               3         643.5  43.0      5.0  108546.16          1.0   \n",
       "               4         644.0  46.0      7.0  128548.49          1.0   \n",
       "\n",
       "                         loyalty  estimated_salary  churn  \n",
       "city           products                                    \n",
       "Ростов Великий 1             0.0         101178.85    0.0  \n",
       "               2             1.0         102768.95    0.0  \n",
       "               3             0.0         104805.83    1.0  \n",
       "               4             0.0         111578.61    1.0  \n",
       "Рыбинск        1             1.0         100183.05    0.0  \n",
       "               2             1.0         100365.51    0.0  \n",
       "               3             0.0          97279.27    1.0  \n",
       "               4             0.0          83866.35    1.0  \n",
       "Ярославль      1             1.0          97350.40    0.0  \n",
       "               2             1.0         100408.31    0.0  \n",
       "               3             0.0         101626.54    1.0  \n",
       "               4             1.0         128521.16    1.0  "
      ]
     },
     "execution_count": 9,
     "metadata": {},
     "output_type": "execute_result"
    }
   ],
   "source": [
    "df.groupby(['city', 'products']).median()"
   ]
  },
  {
   "cell_type": "markdown",
   "id": "0b7c883d",
   "metadata": {},
   "source": [
    "Очевидно, что при таком заполнении баланса будет сильный перекос в сторону значения 110-130к, равно как и заполнение любым другим конкретным значением, поэтому оставим этот столбец без изменений."
   ]
  },
  {
   "cell_type": "markdown",
   "id": "2e9159ab",
   "metadata": {},
   "source": [
    "## Вывод"
   ]
  },
  {
   "cell_type": "markdown",
   "id": "2ef4748d",
   "metadata": {},
   "source": [
    "<div style=\"border:solid green 2px; padding: 20px\">\n",
    "Названия столбцов приведены к общей стилистике, пропуски оставлены без изменений во избежание внесения аномально большого количества определенных значений и изменения корреляции."
   ]
  },
  {
   "cell_type": "markdown",
   "id": "c0c42103",
   "metadata": {},
   "source": [
    "# Исследовательский анализ данных (EDA)"
   ]
  },
  {
   "cell_type": "markdown",
   "id": "0101a754",
   "metadata": {},
   "source": [
    "## Оценка средних значений признаков в двух группах"
   ]
  },
  {
   "cell_type": "code",
   "execution_count": 10,
   "id": "d4aeb318",
   "metadata": {},
   "outputs": [
    {
     "data": {
      "text/html": [
       "<div>\n",
       "<style scoped>\n",
       "    .dataframe tbody tr th:only-of-type {\n",
       "        vertical-align: middle;\n",
       "    }\n",
       "\n",
       "    .dataframe tbody tr th {\n",
       "        vertical-align: top;\n",
       "    }\n",
       "\n",
       "    .dataframe thead th {\n",
       "        text-align: right;\n",
       "    }\n",
       "</style>\n",
       "<table border=\"1\" class=\"dataframe\">\n",
       "  <thead>\n",
       "    <tr style=\"text-align: right;\">\n",
       "      <th></th>\n",
       "      <th>age</th>\n",
       "      <th>balance</th>\n",
       "      <th>credit_card</th>\n",
       "      <th>estimated_salary</th>\n",
       "      <th>loyalty</th>\n",
       "      <th>objects</th>\n",
       "      <th>products</th>\n",
       "      <th>score</th>\n",
       "    </tr>\n",
       "    <tr>\n",
       "      <th>churn</th>\n",
       "      <th></th>\n",
       "      <th></th>\n",
       "      <th></th>\n",
       "      <th></th>\n",
       "      <th></th>\n",
       "      <th></th>\n",
       "      <th></th>\n",
       "      <th></th>\n",
       "    </tr>\n",
       "  </thead>\n",
       "  <tbody>\n",
       "    <tr>\n",
       "      <th>0</th>\n",
       "      <td>37.41</td>\n",
       "      <td>119535.86</td>\n",
       "      <td>0.71</td>\n",
       "      <td>99738.39</td>\n",
       "      <td>0.55</td>\n",
       "      <td>5.03</td>\n",
       "      <td>1.54</td>\n",
       "      <td>651.85</td>\n",
       "    </tr>\n",
       "    <tr>\n",
       "      <th>1</th>\n",
       "      <td>44.84</td>\n",
       "      <td>120746.97</td>\n",
       "      <td>0.70</td>\n",
       "      <td>101465.68</td>\n",
       "      <td>0.36</td>\n",
       "      <td>4.93</td>\n",
       "      <td>1.48</td>\n",
       "      <td>645.35</td>\n",
       "    </tr>\n",
       "  </tbody>\n",
       "</table>\n",
       "</div>"
      ],
      "text/plain": [
       "         age    balance  credit_card  estimated_salary  loyalty  objects  \\\n",
       "churn                                                                      \n",
       "0      37.41  119535.86         0.71          99738.39     0.55     5.03   \n",
       "1      44.84  120746.97         0.70         101465.68     0.36     4.93   \n",
       "\n",
       "       products   score  \n",
       "churn                    \n",
       "0          1.54  651.85  \n",
       "1          1.48  645.35  "
      ]
     },
     "execution_count": 10,
     "metadata": {},
     "output_type": "execute_result"
    }
   ],
   "source": [
    "df.pivot_table(index='churn', aggfunc='mean')"
   ]
  },
  {
   "cell_type": "markdown",
   "id": "8a55dc55",
   "metadata": {},
   "source": [
    "По средним значениям уже видно, что клиенты, склонные к оттоку, старше на 7 лет и из них активных в полтора раза меньше, чем активных из неушедших."
   ]
  },
  {
   "cell_type": "markdown",
   "id": "cdc24c74",
   "metadata": {},
   "source": [
    "## Визуализация значений двух групп гистограммами и распределением признаков"
   ]
  },
  {
   "cell_type": "code",
   "execution_count": 11,
   "id": "ab6257c7",
   "metadata": {
    "scrolled": true
   },
   "outputs": [
    {
     "data": {
      "image/png": "[encoded data removed]",
      "text/plain": [
       "<Figure size 720x360 with 1 Axes>"
      ]
     },
     "metadata": {
      "needs_background": "light"
     },
     "output_type": "display_data"
    },
    {
     "data": {
      "image/png": "[encoded data removed]",
      "text/plain": [
       "<Figure size 720x360 with 1 Axes>"
      ]
     },
     "metadata": {
      "needs_background": "light"
     },
     "output_type": "display_data"
    },
    {
     "data": {
      "image/png": "[encoded data removed]",
      "text/plain": [
       "<Figure size 720x360 with 1 Axes>"
      ]
     },
     "metadata": {
      "needs_background": "light"
     },
     "output_type": "display_data"
    },
    {
     "data": {
      "image/png": "[encoded data removed]",
      "text/plain": [
       "<Figure size 720x360 with 1 Axes>"
      ]
     },
     "metadata": {
      "needs_background": "light"
     },
     "output_type": "display_data"
    },
    {
     "data": {
      "image/png": "[encoded data removed]",
      "text/plain": [
       "<Figure size 720x360 with 1 Axes>"
      ]
     },
     "metadata": {
      "needs_background": "light"
     },
     "output_type": "display_data"
    },
    {
     "data": {
      "image/png": "[encoded data removed]",
      "text/plain": [
       "<Figure size 720x360 with 1 Axes>"
      ]
     },
     "metadata": {
      "needs_background": "light"
     },
     "output_type": "display_data"
    },
    {
     "data": {
      "image/png": "[encoded data removed]",
      "text/plain": [
       "<Figure size 720x360 with 1 Axes>"
      ]
     },
     "metadata": {
      "needs_background": "light"
     },
     "output_type": "display_data"
    },
    {
     "data": {
      "image/png": "[encoded data removed]",
      "text/plain": [
       "<Figure size 720x360 with 1 Axes>"
      ]
     },
     "metadata": {
      "needs_background": "light"
     },
     "output_type": "display_data"
    },
    {
     "data": {
      "image/png": "[encoded data removed]",
      "text/plain": [
       "<Figure size 720x360 with 1 Axes>"
      ]
     },
     "metadata": {
      "needs_background": "light"
     },
     "output_type": "display_data"
    },
    {
     "data": {
      "image/png": "[encoded data removed]",
      "text/plain": [
       "<Figure size 720x360 with 1 Axes>"
      ]
     },
     "metadata": {
      "needs_background": "light"
     },
     "output_type": "display_data"
    }
   ],
   "source": [
    "for i, col in enumerate(df.drop('churn', axis = 1).columns):\n",
    "    plt.figure(figsize=(10, 5))\n",
    "    plt.hist(x=[df.query('churn == 0')[col], df.query('churn == 1')[col]],\n",
    "             stacked=False, bins = 10, density=True)\n",
    "    plt.legend(['Оставшиеся клиенты', 'Ушедшие клиенты'])\n",
    "    plt.title('Гистограмма для признака {}'.format(col), fontsize=15)\n",
    "    plt.yticks(size = 13)\n",
    "    plt.xticks(size = 13)\n",
    "    plt.show()"
   ]
  },
  {
   "cell_type": "markdown",
   "id": "b70cedea",
   "metadata": {},
   "source": [
    "По данным гистограммам можно увидеть, что по кредитному скорингу, количеству объектов, балансу, наличию кредитки и предполагаемой зарплаты в процентном соотношении оставшиеся и ушедшие клиенты распределены поровну.\n",
    "При этом, явно выделяется Ростов Великий, клиенты в котором уходят значительно чаще, чем в двух других городах. Как уже было отмечено ранее, более возрастные клиенты (от 40 до 60) уходят значительно чаще. В разрезе продуктов значительно чаще уходят обладатели 3-4 продуктов, а так же значительный отток у владельцев одного продукта. При этом, наиболее постоянны владельцы двух продуктов. По активности вполне предсказуемо, что более активные клиенты менее склонны к оттоку. Так же имеется незначительно больший отток клиентов женского пола."
   ]
  },
  {
   "cell_type": "markdown",
   "id": "ac96ec54",
   "metadata": {},
   "source": [
    "## Определение корреляции между признаками и оттоком и визуализация матрицы"
   ]
  },
  {
   "cell_type": "code",
   "execution_count": 12,
   "id": "165758cc",
   "metadata": {},
   "outputs": [
    {
     "data": {
      "text/html": [
       "<div>\n",
       "<style scoped>\n",
       "    .dataframe tbody tr th:only-of-type {\n",
       "        vertical-align: middle;\n",
       "    }\n",
       "\n",
       "    .dataframe tbody tr th {\n",
       "        vertical-align: top;\n",
       "    }\n",
       "\n",
       "    .dataframe thead th {\n",
       "        text-align: right;\n",
       "    }\n",
       "</style>\n",
       "<table border=\"1\" class=\"dataframe\">\n",
       "  <thead>\n",
       "    <tr style=\"text-align: right;\">\n",
       "      <th></th>\n",
       "      <th>score</th>\n",
       "      <th>age</th>\n",
       "      <th>objects</th>\n",
       "      <th>balance</th>\n",
       "      <th>products</th>\n",
       "      <th>credit_card</th>\n",
       "      <th>loyalty</th>\n",
       "      <th>estimated_salary</th>\n",
       "      <th>churn</th>\n",
       "      <th>city_Ростов Великий</th>\n",
       "      <th>city_Рыбинск</th>\n",
       "      <th>city_Ярославль</th>\n",
       "      <th>gender_Ж</th>\n",
       "      <th>gender_М</th>\n",
       "    </tr>\n",
       "  </thead>\n",
       "  <tbody>\n",
       "    <tr>\n",
       "      <th>0</th>\n",
       "      <td>619</td>\n",
       "      <td>42</td>\n",
       "      <td>2</td>\n",
       "      <td>NaN</td>\n",
       "      <td>1</td>\n",
       "      <td>1</td>\n",
       "      <td>1</td>\n",
       "      <td>101348.88</td>\n",
       "      <td>1</td>\n",
       "      <td>0</td>\n",
       "      <td>0</td>\n",
       "      <td>1</td>\n",
       "      <td>1</td>\n",
       "      <td>0</td>\n",
       "    </tr>\n",
       "    <tr>\n",
       "      <th>1</th>\n",
       "      <td>608</td>\n",
       "      <td>41</td>\n",
       "      <td>1</td>\n",
       "      <td>83807.86</td>\n",
       "      <td>1</td>\n",
       "      <td>0</td>\n",
       "      <td>1</td>\n",
       "      <td>112542.58</td>\n",
       "      <td>0</td>\n",
       "      <td>0</td>\n",
       "      <td>1</td>\n",
       "      <td>0</td>\n",
       "      <td>1</td>\n",
       "      <td>0</td>\n",
       "    </tr>\n",
       "    <tr>\n",
       "      <th>2</th>\n",
       "      <td>502</td>\n",
       "      <td>42</td>\n",
       "      <td>8</td>\n",
       "      <td>159660.80</td>\n",
       "      <td>3</td>\n",
       "      <td>1</td>\n",
       "      <td>0</td>\n",
       "      <td>113931.57</td>\n",
       "      <td>1</td>\n",
       "      <td>0</td>\n",
       "      <td>0</td>\n",
       "      <td>1</td>\n",
       "      <td>1</td>\n",
       "      <td>0</td>\n",
       "    </tr>\n",
       "    <tr>\n",
       "      <th>3</th>\n",
       "      <td>699</td>\n",
       "      <td>39</td>\n",
       "      <td>1</td>\n",
       "      <td>NaN</td>\n",
       "      <td>2</td>\n",
       "      <td>0</td>\n",
       "      <td>0</td>\n",
       "      <td>93826.63</td>\n",
       "      <td>0</td>\n",
       "      <td>0</td>\n",
       "      <td>0</td>\n",
       "      <td>1</td>\n",
       "      <td>1</td>\n",
       "      <td>0</td>\n",
       "    </tr>\n",
       "    <tr>\n",
       "      <th>4</th>\n",
       "      <td>850</td>\n",
       "      <td>43</td>\n",
       "      <td>2</td>\n",
       "      <td>125510.82</td>\n",
       "      <td>1</td>\n",
       "      <td>1</td>\n",
       "      <td>1</td>\n",
       "      <td>79084.10</td>\n",
       "      <td>0</td>\n",
       "      <td>0</td>\n",
       "      <td>1</td>\n",
       "      <td>0</td>\n",
       "      <td>1</td>\n",
       "      <td>0</td>\n",
       "    </tr>\n",
       "    <tr>\n",
       "      <th>...</th>\n",
       "      <td>...</td>\n",
       "      <td>...</td>\n",
       "      <td>...</td>\n",
       "      <td>...</td>\n",
       "      <td>...</td>\n",
       "      <td>...</td>\n",
       "      <td>...</td>\n",
       "      <td>...</td>\n",
       "      <td>...</td>\n",
       "      <td>...</td>\n",
       "      <td>...</td>\n",
       "      <td>...</td>\n",
       "      <td>...</td>\n",
       "      <td>...</td>\n",
       "    </tr>\n",
       "    <tr>\n",
       "      <th>9995</th>\n",
       "      <td>771</td>\n",
       "      <td>39</td>\n",
       "      <td>5</td>\n",
       "      <td>NaN</td>\n",
       "      <td>2</td>\n",
       "      <td>1</td>\n",
       "      <td>0</td>\n",
       "      <td>96270.64</td>\n",
       "      <td>0</td>\n",
       "      <td>0</td>\n",
       "      <td>0</td>\n",
       "      <td>1</td>\n",
       "      <td>0</td>\n",
       "      <td>1</td>\n",
       "    </tr>\n",
       "    <tr>\n",
       "      <th>9996</th>\n",
       "      <td>516</td>\n",
       "      <td>35</td>\n",
       "      <td>10</td>\n",
       "      <td>57369.61</td>\n",
       "      <td>1</td>\n",
       "      <td>1</td>\n",
       "      <td>1</td>\n",
       "      <td>101699.77</td>\n",
       "      <td>0</td>\n",
       "      <td>0</td>\n",
       "      <td>0</td>\n",
       "      <td>1</td>\n",
       "      <td>0</td>\n",
       "      <td>1</td>\n",
       "    </tr>\n",
       "    <tr>\n",
       "      <th>9997</th>\n",
       "      <td>709</td>\n",
       "      <td>36</td>\n",
       "      <td>7</td>\n",
       "      <td>NaN</td>\n",
       "      <td>1</td>\n",
       "      <td>0</td>\n",
       "      <td>1</td>\n",
       "      <td>42085.58</td>\n",
       "      <td>1</td>\n",
       "      <td>0</td>\n",
       "      <td>0</td>\n",
       "      <td>1</td>\n",
       "      <td>1</td>\n",
       "      <td>0</td>\n",
       "    </tr>\n",
       "    <tr>\n",
       "      <th>9998</th>\n",
       "      <td>772</td>\n",
       "      <td>42</td>\n",
       "      <td>3</td>\n",
       "      <td>75075.31</td>\n",
       "      <td>2</td>\n",
       "      <td>1</td>\n",
       "      <td>0</td>\n",
       "      <td>92888.52</td>\n",
       "      <td>1</td>\n",
       "      <td>1</td>\n",
       "      <td>0</td>\n",
       "      <td>0</td>\n",
       "      <td>0</td>\n",
       "      <td>1</td>\n",
       "    </tr>\n",
       "    <tr>\n",
       "      <th>9999</th>\n",
       "      <td>792</td>\n",
       "      <td>28</td>\n",
       "      <td>4</td>\n",
       "      <td>130142.79</td>\n",
       "      <td>1</td>\n",
       "      <td>1</td>\n",
       "      <td>0</td>\n",
       "      <td>38190.78</td>\n",
       "      <td>0</td>\n",
       "      <td>0</td>\n",
       "      <td>0</td>\n",
       "      <td>1</td>\n",
       "      <td>1</td>\n",
       "      <td>0</td>\n",
       "    </tr>\n",
       "  </tbody>\n",
       "</table>\n",
       "<p>10000 rows × 14 columns</p>\n",
       "</div>"
      ],
      "text/plain": [
       "      score  age  objects    balance  products  credit_card  loyalty  \\\n",
       "0       619   42        2        NaN         1            1        1   \n",
       "1       608   41        1   83807.86         1            0        1   \n",
       "2       502   42        8  159660.80         3            1        0   \n",
       "3       699   39        1        NaN         2            0        0   \n",
       "4       850   43        2  125510.82         1            1        1   \n",
       "...     ...  ...      ...        ...       ...          ...      ...   \n",
       "9995    771   39        5        NaN         2            1        0   \n",
       "9996    516   35       10   57369.61         1            1        1   \n",
       "9997    709   36        7        NaN         1            0        1   \n",
       "9998    772   42        3   75075.31         2            1        0   \n",
       "9999    792   28        4  130142.79         1            1        0   \n",
       "\n",
       "      estimated_salary  churn  city_Ростов Великий  city_Рыбинск  \\\n",
       "0            101348.88      1                    0             0   \n",
       "1            112542.58      0                    0             1   \n",
       "2            113931.57      1                    0             0   \n",
       "3             93826.63      0                    0             0   \n",
       "4             79084.10      0                    0             1   \n",
       "...                ...    ...                  ...           ...   \n",
       "9995          96270.64      0                    0             0   \n",
       "9996         101699.77      0                    0             0   \n",
       "9997          42085.58      1                    0             0   \n",
       "9998          92888.52      1                    1             0   \n",
       "9999          38190.78      0                    0             0   \n",
       "\n",
       "      city_Ярославль  gender_Ж  gender_М  \n",
       "0                  1         1         0  \n",
       "1                  0         1         0  \n",
       "2                  1         1         0  \n",
       "3                  1         1         0  \n",
       "4                  0         1         0  \n",
       "...              ...       ...       ...  \n",
       "9995               1         0         1  \n",
       "9996               1         0         1  \n",
       "9997               1         1         0  \n",
       "9998               0         0         1  \n",
       "9999               1         1         0  \n",
       "\n",
       "[10000 rows x 14 columns]"
      ]
     },
     "execution_count": 12,
     "metadata": {},
     "output_type": "execute_result"
    }
   ],
   "source": [
    "df_ml = pd.get_dummies(df)\n",
    "df_ml"
   ]
  },
  {
   "cell_type": "code",
   "execution_count": 13,
   "id": "4746de7b",
   "metadata": {},
   "outputs": [
    {
     "data": {
      "image/png": "[encoded data removed]",
      "text/plain": [
       "<Figure size 720x720 with 2 Axes>"
      ]
     },
     "metadata": {
      "needs_background": "light"
     },
     "output_type": "display_data"
    }
   ],
   "source": [
    "#вычисляем матрицу корреляций\n",
    "cm = round(df_ml.corr(), 2)\n",
    "\n",
    "#нарисуем тепловую карту с подписями для матрицы корреляций\n",
    "plt.figure(figsize=(10, 10))\n",
    "sns.heatmap(cm, annot=True)\n",
    "plt.show()"
   ]
  },
  {
   "cell_type": "markdown",
   "id": "917ab275",
   "metadata": {},
   "source": [
    "Как и было замечено ранее - имеется небольшая корреляция оттока с Ростовом Великим и женским полом, а также значительная с возрастом и незначительная обратная корреляция с Ярославлем и мужским полом, а также с активностью"
   ]
  },
  {
   "cell_type": "markdown",
   "id": "93ae36f7",
   "metadata": {},
   "source": [
    "## Вывод"
   ]
  },
  {
   "cell_type": "markdown",
   "id": "9f1e0232",
   "metadata": {},
   "source": [
    "<div style=\"border:solid green 2px; padding: 20px\">\n",
    "    \n",
    "По средним значениям, гистограммам и матрице корреляции можно сделать следующие выводы:  \n",
    "- **по кредитному скорингу, количеству объектов, балансу, наличию кредитки и предполагаемой зарплаты в процентном соотношении оставшиеся и ушедшие клиенты распределены поровну**  \n",
    "- явно выделяется **Ростов Великий, клиенты в котором уходят значительно чаще,** чем в двух других городах  \n",
    "- **более возрастные клиенты (от 40 до 60) уходят значительно чаще**  \n",
    "- значительно **чаще уходят обладатели 3-4 продуктов**, а так же значительный отток у владельцев одного продукта,а наиболее постоянны владельцы двух продуктов  \n",
    "- по активности вполне предсказуемо, что **более активные клиенты менее склонны к оттоку**  \n",
    "- имеется незначительно больший отток клиентов женского пола"
   ]
  },
  {
   "cell_type": "markdown",
   "id": "17bc6133",
   "metadata": {},
   "source": [
    "# Классификация и кластеризация пользователей"
   ]
  },
  {
   "cell_type": "markdown",
   "id": "39b97e5b",
   "metadata": {},
   "source": [
    "## Проведение классификации различными моделями"
   ]
  },
  {
   "cell_type": "markdown",
   "id": "3fd0974a",
   "metadata": {},
   "source": [
    "В связи с тем, что нам важнее не упустить склонного к оттоку клиента, чем обозначить таковым лояльного, при выборе лучшей модели приоритет следует отдать метрике *Recall*.  \n",
    "\n",
    "В связи с тем, что в наших данных нет временной структуры и наши наблюдения не складываются в последовательный временной ряд,  используем метод случайного разбиения на обучающую и валидационную выборку."
   ]
  },
  {
   "cell_type": "markdown",
   "id": "f4ca432d",
   "metadata": {},
   "source": [
    "Т.к. баланс не имеет корреляции с оттоком, для возможности корректной работы моделей удалим его из нашего ДФ."
   ]
  },
  {
   "cell_type": "code",
   "execution_count": 14,
   "id": "301d3edc",
   "metadata": {},
   "outputs": [],
   "source": [
    "df_ml = df_ml.drop('balance', axis=1)"
   ]
  },
  {
   "cell_type": "code",
   "execution_count": 15,
   "id": "0b4d1364",
   "metadata": {},
   "outputs": [
    {
     "name": "stdout",
     "output_type": "stream",
     "text": [
      "(8000, 12)\n",
      "(2000, 12)\n",
      "(8000,)\n",
      "(2000,)\n"
     ]
    }
   ],
   "source": [
    "#Разделим наши данные на признаки (матрица X) и целевую переменную (y).\n",
    "X = df_ml.drop(columns=['churn'])\n",
    "y = df_ml.churn\n",
    "\n",
    "#Разделяем модель на обучающую и валидационную выборку.\n",
    "X_train, X_test, y_train, y_test = train_test_split(X, y, test_size=0.2, random_state=0, stratify=y)\n",
    "\n",
    "#Проверяем корректность разбиения на выборки.\n",
    "sample = [X_train, X_test, y_train, y_test]\n",
    "for i in sample:\n",
    "    print(i.shape)"
   ]
  },
  {
   "cell_type": "code",
   "execution_count": 16,
   "id": "6859d9bc",
   "metadata": {},
   "outputs": [],
   "source": [
    "#Стандартизируем данные.\n",
    "sc = StandardScaler()\n",
    "X_train_st = sc.fit_transform(X_train)\n",
    "X_test_st = sc.transform(X_test)"
   ]
  },
  {
   "cell_type": "markdown",
   "id": "90d9c479",
   "metadata": {},
   "source": [
    "Для прогнозирования обучим модели логистической регрессии, случайного леса, дерева принятия решений и градиентного бустинга на train-выборке. Затем сделаем предсказания всеми моделями на валидационной выборке и посмотрим на метрики каждой."
   ]
  },
  {
   "cell_type": "code",
   "execution_count": 17,
   "id": "ecf8e00c",
   "metadata": {},
   "outputs": [],
   "source": [
    "#Зададим список моделей\n",
    "models = [LogisticRegression, RandomForestClassifier, DecisionTreeClassifier, GradientBoostingClassifier]\n",
    "\n",
    "#Напишем функцию, которая принимает на вход модель и данные и выводит метрики\n",
    "def make_prediction(m, X_train_st, y_train, X_test_st, y_test):\n",
    "    model = m(random_state=0)\n",
    "    model.fit(X_train_st, y_train)\n",
    "    y_pred = model.predict(X_test_st)\n",
    "    probabilities = model.predict_proba(X_test_st)[:, 1]\n",
    "    print(\n",
    "        'Accuracy:{:.2f} Precision:{:.2f} Recall:{:.2f} F1:{:.2f} ROC_AUC:{:.2f}'.format(\n",
    "            accuracy_score(y_test, y_pred),\n",
    "            precision_score(y_test, y_pred),\n",
    "            recall_score(y_test, y_pred),\n",
    "            f1_score(y_test, y_pred),\n",
    "            roc_auc_score(y_test, probabilities)\n",
    "        )\n",
    "    )"
   ]
  },
  {
   "cell_type": "code",
   "execution_count": 18,
   "id": "0e82776e",
   "metadata": {},
   "outputs": [
    {
     "name": "stdout",
     "output_type": "stream",
     "text": [
      "LogisticRegression()\n",
      "Accuracy:0.81 Precision:0.59 Recall:0.23 F1:0.33 ROC_AUC:0.76\n",
      "RandomForestClassifier()\n",
      "Accuracy:0.85 Precision:0.73 Recall:0.44 F1:0.55 ROC_AUC:0.82\n",
      "DecisionTreeClassifier()\n",
      "Accuracy:0.78 Precision:0.46 Recall:0.47 F1:0.46 ROC_AUC:0.66\n",
      "GradientBoostingClassifier()\n",
      "Accuracy:0.85 Precision:0.75 Recall:0.42 F1:0.54 ROC_AUC:0.84\n"
     ]
    }
   ],
   "source": [
    "#Используем цикл, который выводит метрики по списку моделей\n",
    "for i in models:\n",
    "    print(i())\n",
    "    make_prediction(i, X_train_st, y_train, X_test_st, y_test)"
   ]
  },
  {
   "cell_type": "markdown",
   "id": "efce6339",
   "metadata": {},
   "source": [
    "В связи с тем, что нам важнее не упустить склонного к оттоку клиента, чем обозначить таковым лояльного, попробуем посмотреть на наши модели со сниженным порогом вероятности отнесения к этой склонности и посмотрим на новые метрики."
   ]
  },
  {
   "cell_type": "code",
   "execution_count": 19,
   "id": "4c124ba8",
   "metadata": {},
   "outputs": [],
   "source": [
    "#Напишем функцию, которая принимает на вход модель и данные и выводит метрики\n",
    "def make_prediction2(m, X_train_st, y_train, X_test_st, y_test):\n",
    "    model = m(random_state=0)\n",
    "    model.fit(X_train_st, y_train)\n",
    "    y_pred = model.predict(X_test_st)\n",
    "    probabilities = model.predict_proba(X_test_st)[:, 1]\n",
    "    #Зададим порог\n",
    "    threshold = 0.35\n",
    "    #На основании вероятностей и соотношения классов рассчитаем predict\n",
    "    custom_predictions = [0 if i < threshold else 1 for i in probabilities]\n",
    "    print(\n",
    "        'Accuracy:{:.2f} Precision:{:.2f} Recall:{:.2f} F1:{:.2f} ROC_AUC:{:.2f}'.format(\n",
    "            accuracy_score(y_test, custom_predictions),\n",
    "            precision_score(y_test, custom_predictions),\n",
    "            recall_score(y_test, custom_predictions),\n",
    "            f1_score(y_test, custom_predictions),\n",
    "            roc_auc_score(y_test, probabilities)\n",
    "        )\n",
    "    )"
   ]
  },
  {
   "cell_type": "code",
   "execution_count": 20,
   "id": "96c4a5f7",
   "metadata": {},
   "outputs": [
    {
     "name": "stdout",
     "output_type": "stream",
     "text": [
      "LogisticRegression()\n",
      "Accuracy:0.78 Precision:0.43 Recall:0.26 F1:0.32 ROC_AUC:0.66\n",
      "RandomForestClassifier()\n",
      "Accuracy:0.82 Precision:0.57 Recall:0.56 F1:0.56 ROC_AUC:0.82\n",
      "DecisionTreeClassifier()\n",
      "Accuracy:0.78 Precision:0.45 Recall:0.47 F1:0.46 ROC_AUC:0.66\n",
      "GradientBoostingClassifier()\n",
      "Accuracy:0.85 Precision:0.66 Recall:0.54 F1:0.60 ROC_AUC:0.84\n"
     ]
    }
   ],
   "source": [
    "#Используем цикл, который выводит метрики по списку моделей\n",
    "for i in models:\n",
    "    print(i())\n",
    "    make_prediction2(i, X_train, y_train, X_test, y_test)"
   ]
  },
  {
   "cell_type": "markdown",
   "id": "332e2191",
   "metadata": {},
   "source": [
    "Видно, что лучше всех себя показала модель градиентного бустинга. Посмотрим на веса признаков в нем."
   ]
  },
  {
   "cell_type": "markdown",
   "id": "3838a986",
   "metadata": {},
   "source": [
    "## Определение наиболее важных признаков"
   ]
  },
  {
   "cell_type": "code",
   "execution_count": 21,
   "id": "ea9c6c78",
   "metadata": {},
   "outputs": [],
   "source": [
    "final_model = GradientBoostingClassifier(random_state=0)\n",
    "final_model.fit(X_train_st, y_train)\n",
    "importances = final_model.feature_importances_"
   ]
  },
  {
   "cell_type": "code",
   "execution_count": 22,
   "id": "86a79216",
   "metadata": {},
   "outputs": [
    {
     "data": {
      "text/html": [
       "<div>\n",
       "<style scoped>\n",
       "    .dataframe tbody tr th:only-of-type {\n",
       "        vertical-align: middle;\n",
       "    }\n",
       "\n",
       "    .dataframe tbody tr th {\n",
       "        vertical-align: top;\n",
       "    }\n",
       "\n",
       "    .dataframe thead th {\n",
       "        text-align: right;\n",
       "    }\n",
       "</style>\n",
       "<table border=\"1\" class=\"dataframe\">\n",
       "  <thead>\n",
       "    <tr style=\"text-align: right;\">\n",
       "      <th></th>\n",
       "      <th>importances</th>\n",
       "      <th>name</th>\n",
       "    </tr>\n",
       "  </thead>\n",
       "  <tbody>\n",
       "    <tr>\n",
       "      <th>1</th>\n",
       "      <td>4.35e-01</td>\n",
       "      <td>age</td>\n",
       "    </tr>\n",
       "    <tr>\n",
       "      <th>3</th>\n",
       "      <td>3.22e-01</td>\n",
       "      <td>products</td>\n",
       "    </tr>\n",
       "    <tr>\n",
       "      <th>5</th>\n",
       "      <td>1.16e-01</td>\n",
       "      <td>loyalty</td>\n",
       "    </tr>\n",
       "    <tr>\n",
       "      <th>7</th>\n",
       "      <td>5.09e-02</td>\n",
       "      <td>city_Ростов Великий</td>\n",
       "    </tr>\n",
       "    <tr>\n",
       "      <th>6</th>\n",
       "      <td>2.63e-02</td>\n",
       "      <td>estimated_salary</td>\n",
       "    </tr>\n",
       "    <tr>\n",
       "      <th>0</th>\n",
       "      <td>2.44e-02</td>\n",
       "      <td>score</td>\n",
       "    </tr>\n",
       "    <tr>\n",
       "      <th>10</th>\n",
       "      <td>1.20e-02</td>\n",
       "      <td>gender_Ж</td>\n",
       "    </tr>\n",
       "    <tr>\n",
       "      <th>2</th>\n",
       "      <td>6.62e-03</td>\n",
       "      <td>objects</td>\n",
       "    </tr>\n",
       "    <tr>\n",
       "      <th>11</th>\n",
       "      <td>5.29e-03</td>\n",
       "      <td>gender_М</td>\n",
       "    </tr>\n",
       "    <tr>\n",
       "      <th>9</th>\n",
       "      <td>1.16e-03</td>\n",
       "      <td>city_Ярославль</td>\n",
       "    </tr>\n",
       "    <tr>\n",
       "      <th>8</th>\n",
       "      <td>5.75e-04</td>\n",
       "      <td>city_Рыбинск</td>\n",
       "    </tr>\n",
       "    <tr>\n",
       "      <th>4</th>\n",
       "      <td>8.30e-05</td>\n",
       "      <td>credit_card</td>\n",
       "    </tr>\n",
       "  </tbody>\n",
       "</table>\n",
       "</div>"
      ],
      "text/plain": [
       "    importances                 name\n",
       "1      4.35e-01                  age\n",
       "3      3.22e-01             products\n",
       "5      1.16e-01              loyalty\n",
       "7      5.09e-02  city_Ростов Великий\n",
       "6      2.63e-02     estimated_salary\n",
       "0      2.44e-02                score\n",
       "10     1.20e-02             gender_Ж\n",
       "2      6.62e-03              objects\n",
       "11     5.29e-03             gender_М\n",
       "9      1.16e-03       city_Ярославль\n",
       "8      5.75e-04         city_Рыбинск\n",
       "4      8.30e-05          credit_card"
      ]
     },
     "execution_count": 22,
     "metadata": {},
     "output_type": "execute_result"
    }
   ],
   "source": [
    "df_imp = pd.DataFrame(data = final_model.feature_importances_,  \n",
    "                  columns =['importances']) \n",
    "df_imp['name'] = df_ml.drop('churn', axis=1).columns.tolist()\n",
    "df_imp.sort_values(by='importances', ascending=False)"
   ]
  },
  {
   "cell_type": "markdown",
   "id": "c2d6ff83",
   "metadata": {},
   "source": [
    "Классификация подтвердила найденные ранее инсайты - на отток больше всего влияет возраст, активность, проживание в городе Ростов Великий и количество продуктов."
   ]
  },
  {
   "cell_type": "markdown",
   "id": "3e06541d",
   "metadata": {},
   "source": [
    "## Определение количества кластеров по дендрограмме"
   ]
  },
  {
   "cell_type": "code",
   "execution_count": 23,
   "id": "8a5b09de",
   "metadata": {},
   "outputs": [],
   "source": [
    "#Cтандартизируем данные, исключив ненужные данные.\n",
    "sc = StandardScaler()\n",
    "x_sc = sc.fit_transform(df_ml.drop(columns=['churn']))\n",
    "\n",
    "#Передадим получившуюся стандартизированную таблицу в качестве параметра функции linkage().\n",
    "linked = linkage(x_sc, method = 'ward') "
   ]
  },
  {
   "cell_type": "code",
   "execution_count": 24,
   "id": "2f38c1d2",
   "metadata": {},
   "outputs": [
    {
     "data": {
      "image/png": "[encoded data removed]",
      "text/plain": [
       "<Figure size 1080x720 with 1 Axes>"
      ]
     },
     "metadata": {
      "needs_background": "light"
     },
     "output_type": "display_data"
    }
   ],
   "source": [
    "#Визуализируем как дендрограмму сохраненную в переменной linked таблицу «связок» между объектами \n",
    "plt.figure(figsize=(15, 10))  \n",
    "dendrogram(linked, orientation='top', no_labels=True)\n",
    "plt.title('Hierarchial clustering for chain of fitness centres')\n",
    "plt.show() "
   ]
  },
  {
   "cell_type": "markdown",
   "id": "c1dc9065",
   "metadata": {},
   "source": [
    "Видно, что по дендрограмме можно разбить всех пользователей на 4 кластера.\n",
    "По полученной информации обучим модель кластеризации на основании алгоритма K-Means и спрогнозируем кластеры клиентов."
   ]
  },
  {
   "cell_type": "markdown",
   "id": "e6c6f699",
   "metadata": {},
   "source": [
    "## Проведение кластеризации"
   ]
  },
  {
   "cell_type": "code",
   "execution_count": 25,
   "id": "7063f55b",
   "metadata": {},
   "outputs": [],
   "source": [
    "#Задаём модель k_means с числом кластеров 5 и фиксируем значение random_state\n",
    "km = KMeans(n_clusters=4, random_state=0)\n",
    "#Прогнозируем кластеры для наблюдений (алгоритм присваивает им номера от 0 до 4)\n",
    "labels = km.fit_predict(x_sc)"
   ]
  },
  {
   "cell_type": "code",
   "execution_count": 26,
   "id": "adc405eb",
   "metadata": {},
   "outputs": [
    {
     "data": {
      "text/html": [
       "<div>\n",
       "<style scoped>\n",
       "    .dataframe tbody tr th:only-of-type {\n",
       "        vertical-align: middle;\n",
       "    }\n",
       "\n",
       "    .dataframe tbody tr th {\n",
       "        vertical-align: top;\n",
       "    }\n",
       "\n",
       "    .dataframe thead th {\n",
       "        text-align: right;\n",
       "    }\n",
       "</style>\n",
       "<table border=\"1\" class=\"dataframe\">\n",
       "  <thead>\n",
       "    <tr style=\"text-align: right;\">\n",
       "      <th></th>\n",
       "      <th>cluster_clients</th>\n",
       "      <th>churn</th>\n",
       "    </tr>\n",
       "  </thead>\n",
       "  <tbody>\n",
       "    <tr>\n",
       "      <th>0</th>\n",
       "      <td>0</td>\n",
       "      <td>2509</td>\n",
       "    </tr>\n",
       "    <tr>\n",
       "      <th>1</th>\n",
       "      <td>1</td>\n",
       "      <td>2261</td>\n",
       "    </tr>\n",
       "    <tr>\n",
       "      <th>2</th>\n",
       "      <td>2</td>\n",
       "      <td>2753</td>\n",
       "    </tr>\n",
       "    <tr>\n",
       "      <th>3</th>\n",
       "      <td>3</td>\n",
       "      <td>2477</td>\n",
       "    </tr>\n",
       "  </tbody>\n",
       "</table>\n",
       "</div>"
      ],
      "text/plain": [
       "   cluster_clients  churn\n",
       "0                0   2509\n",
       "1                1   2261\n",
       "2                2   2753\n",
       "3                3   2477"
      ]
     },
     "metadata": {},
     "output_type": "display_data"
    },
    {
     "data": {
      "text/html": [
       "<div>\n",
       "<style scoped>\n",
       "    .dataframe tbody tr th:only-of-type {\n",
       "        vertical-align: middle;\n",
       "    }\n",
       "\n",
       "    .dataframe tbody tr th {\n",
       "        vertical-align: top;\n",
       "    }\n",
       "\n",
       "    .dataframe thead th {\n",
       "        text-align: right;\n",
       "    }\n",
       "</style>\n",
       "<table border=\"1\" class=\"dataframe\">\n",
       "  <thead>\n",
       "    <tr style=\"text-align: right;\">\n",
       "      <th>cluster_clients</th>\n",
       "      <th>0</th>\n",
       "      <th>1</th>\n",
       "      <th>2</th>\n",
       "      <th>3</th>\n",
       "    </tr>\n",
       "  </thead>\n",
       "  <tbody>\n",
       "    <tr>\n",
       "      <th>score</th>\n",
       "      <td>651.45</td>\n",
       "      <td>649.19</td>\n",
       "      <td>650.06</td>\n",
       "      <td>651.33</td>\n",
       "    </tr>\n",
       "    <tr>\n",
       "      <th>age</th>\n",
       "      <td>39.77</td>\n",
       "      <td>38.77</td>\n",
       "      <td>38.30</td>\n",
       "      <td>38.89</td>\n",
       "    </tr>\n",
       "    <tr>\n",
       "      <th>objects</th>\n",
       "      <td>5.01</td>\n",
       "      <td>4.95</td>\n",
       "      <td>5.05</td>\n",
       "      <td>5.03</td>\n",
       "    </tr>\n",
       "    <tr>\n",
       "      <th>products</th>\n",
       "      <td>1.52</td>\n",
       "      <td>1.55</td>\n",
       "      <td>1.52</td>\n",
       "      <td>1.54</td>\n",
       "    </tr>\n",
       "    <tr>\n",
       "      <th>credit_card</th>\n",
       "      <td>0.71</td>\n",
       "      <td>0.70</td>\n",
       "      <td>0.71</td>\n",
       "      <td>0.69</td>\n",
       "    </tr>\n",
       "    <tr>\n",
       "      <th>loyalty</th>\n",
       "      <td>0.50</td>\n",
       "      <td>0.51</td>\n",
       "      <td>0.52</td>\n",
       "      <td>0.53</td>\n",
       "    </tr>\n",
       "    <tr>\n",
       "      <th>estimated_salary</th>\n",
       "      <td>101113.44</td>\n",
       "      <td>99564.25</td>\n",
       "      <td>100174.25</td>\n",
       "      <td>99440.57</td>\n",
       "    </tr>\n",
       "    <tr>\n",
       "      <th>churn</th>\n",
       "      <td>0.32</td>\n",
       "      <td>0.20</td>\n",
       "      <td>0.13</td>\n",
       "      <td>0.17</td>\n",
       "    </tr>\n",
       "    <tr>\n",
       "      <th>city_Ростов Великий</th>\n",
       "      <td>1.00</td>\n",
       "      <td>0.00</td>\n",
       "      <td>0.00</td>\n",
       "      <td>0.00</td>\n",
       "    </tr>\n",
       "    <tr>\n",
       "      <th>city_Рыбинск</th>\n",
       "      <td>0.00</td>\n",
       "      <td>0.00</td>\n",
       "      <td>0.00</td>\n",
       "      <td>1.00</td>\n",
       "    </tr>\n",
       "    <tr>\n",
       "      <th>city_Ярославль</th>\n",
       "      <td>0.00</td>\n",
       "      <td>1.00</td>\n",
       "      <td>1.00</td>\n",
       "      <td>0.00</td>\n",
       "    </tr>\n",
       "    <tr>\n",
       "      <th>gender_Ж</th>\n",
       "      <td>0.48</td>\n",
       "      <td>1.00</td>\n",
       "      <td>0.00</td>\n",
       "      <td>0.44</td>\n",
       "    </tr>\n",
       "    <tr>\n",
       "      <th>gender_М</th>\n",
       "      <td>0.52</td>\n",
       "      <td>0.00</td>\n",
       "      <td>1.00</td>\n",
       "      <td>0.56</td>\n",
       "    </tr>\n",
       "  </tbody>\n",
       "</table>\n",
       "</div>"
      ],
      "text/plain": [
       "cluster_clients              0         1          2         3\n",
       "score                   651.45    649.19     650.06    651.33\n",
       "age                      39.77     38.77      38.30     38.89\n",
       "objects                   5.01      4.95       5.05      5.03\n",
       "products                  1.52      1.55       1.52      1.54\n",
       "credit_card               0.71      0.70       0.71      0.69\n",
       "loyalty                   0.50      0.51       0.52      0.53\n",
       "estimated_salary     101113.44  99564.25  100174.25  99440.57\n",
       "churn                     0.32      0.20       0.13      0.17\n",
       "city_Ростов Великий       1.00      0.00       0.00      0.00\n",
       "city_Рыбинск              0.00      0.00       0.00      1.00\n",
       "city_Ярославль            0.00      1.00       1.00      0.00\n",
       "gender_Ж                  0.48      1.00       0.00      0.44\n",
       "gender_М                  0.52      0.00       1.00      0.56"
      ]
     },
     "execution_count": 26,
     "metadata": {},
     "output_type": "execute_result"
    }
   ],
   "source": [
    "#Сохраняем метки кластера в поле нашего датасета\n",
    "df_ml['cluster_clients'] = labels\n",
    "\n",
    "# выводим статистику по средним значениям наших признаков по кластеру и количество клиентов в них\n",
    "display(df_ml.groupby(['cluster_clients'])['churn'].count().reset_index())\n",
    "df_ml.groupby(['cluster_clients']).mean().T"
   ]
  },
  {
   "cell_type": "markdown",
   "id": "8c237658",
   "metadata": {},
   "source": [
    "Видим, что с помощью МО образуется кластер клиентов с наибольшим оттоком по уже известным нам основным признакам - самым высоким средним возрастом и проживающим в Ростове Великом."
   ]
  },
  {
   "cell_type": "markdown",
   "id": "d446af49",
   "metadata": {},
   "source": [
    "## Вывод"
   ]
  },
  {
   "cell_type": "markdown",
   "id": "c81b6218",
   "metadata": {},
   "source": [
    "<div style=\"border:solid green 2px; padding: 20px\">\n",
    "    \n",
    "Применив методы МО, можно сделать следующие выводы:  \n",
    "- лучше всех себя показала **модель градиентного бустинга**\n",
    "- по этой модели **на отток больше всего влияет возраст, активность, проживание в городе Ростов Великий и количество продуктов**\n",
    "- используя дендрограмму, мы **определили 4 кластера клиентов**\n",
    "- с помощью алгоритма K-Means мы разбили всех клиентов на 4 кластера, где образуется **кластер клиентов с наибольшим оттоком** по уже известным нам основным признакам - **самым высоким средним возрастом и проживающим в Ростове Великом**"
   ]
  },
  {
   "cell_type": "markdown",
   "id": "34d3ca17",
   "metadata": {},
   "source": [
    "# Сегментирование клиентов"
   ]
  },
  {
   "cell_type": "markdown",
   "id": "7a3aa5a3",
   "metadata": {},
   "source": [
    "## Выделение сегментов на основании ранее полученных результатов МО"
   ]
  },
  {
   "cell_type": "markdown",
   "id": "e26aa76e",
   "metadata": {},
   "source": [
    "Попробуем выделить сегменты, наиболее склонные к оттоку."
   ]
  },
  {
   "cell_type": "code",
   "execution_count": 27,
   "id": "ad65c681",
   "metadata": {},
   "outputs": [],
   "source": [
    "#Напишем функцию для выделения категорий клиентов по количеству продуктов, возрасту и проживанию в городах.\n",
    "def groups(row):\n",
    "    \"\"\"\n",
    "    Функция для сегментирования клиентов по возрасту (старше или моложе 40), \n",
    "    проживанию в Ростове Великом или другом городе и количеству продуктов (1-2 или 3-4)\n",
    "    \n",
    "    row - строка датафрейма\n",
    "    \"\"\"    \n",
    "    if (row['age'] > 40).all() and (row['city_Ростов Великий'] == 1).all() and (row['products'] != [1, 2]).all():\n",
    "        return 'Взрослый клиент с большим количеством продуктов из Ростова Великого'\n",
    "    elif (row['age'] > 40).all() and (row['city_Ростов Великий'] != 1).all() and (row['products'] != [1, 2]).all():\n",
    "        return 'Взрослый клиент с большим количеством продуктов не из Ростова Великого'\n",
    "    elif (row['age'] > 40).all() and (row['city_Ростов Великий'] == 1).all() and (row['products'] != [3, 4]).all():\n",
    "        return 'Взрослый клиент с небольшим количеством продуктов из Ростова Великого'\n",
    "    elif (row['age'] > 40).all() and (row['city_Ростов Великий'] != 1).all() and (row['products'] != [3, 4]).all():\n",
    "        return 'Взрослый клиент с небольшим количеством продуктов не из Ростова Великого'\n",
    "    elif (row['age'] < 40).all() and (row['city_Ростов Великий'] != 1).all() and (row['products'] != [1, 2]).all():\n",
    "        return 'Молодой клиент с большим количеством продуктов не из Ростова Великого'\n",
    "    elif (row['age'] < 40).all() and (row['city_Ростов Великий'] != 1).all() and (row['products'] != [3, 4]).all():\n",
    "        return 'Молодой клиент с небольшим количеством продуктов не из Ростова Великого'\n",
    "    elif (row['age'] < 40).all() and (row['city_Ростов Великий'] == 1).all() and (row['products'] != [1, 2]).all():\n",
    "        return 'Молодой клиент с большим количеством продуктов из Ростова Великого'\n",
    "    elif (row['age'] < 40).all() and (row['city_Ростов Великий'] == 1).all() and (row['products'] != [3, 4]).all():\n",
    "        return 'Молодой клиент с небольшим количеством продуктов из Ростова Великого'    "
   ]
  },
  {
   "cell_type": "code",
   "execution_count": 28,
   "id": "de1ed633",
   "metadata": {
    "scrolled": true
   },
   "outputs": [
    {
     "data": {
      "text/html": [
       "<div>\n",
       "<style scoped>\n",
       "    .dataframe tbody tr th:only-of-type {\n",
       "        vertical-align: middle;\n",
       "    }\n",
       "\n",
       "    .dataframe tbody tr th {\n",
       "        vertical-align: top;\n",
       "    }\n",
       "\n",
       "    .dataframe thead th {\n",
       "        text-align: right;\n",
       "    }\n",
       "</style>\n",
       "<table border=\"1\" class=\"dataframe\">\n",
       "  <thead>\n",
       "    <tr style=\"text-align: right;\">\n",
       "      <th></th>\n",
       "      <th>score</th>\n",
       "      <th>age</th>\n",
       "      <th>objects</th>\n",
       "      <th>products</th>\n",
       "      <th>credit_card</th>\n",
       "      <th>loyalty</th>\n",
       "      <th>estimated_salary</th>\n",
       "      <th>churn</th>\n",
       "      <th>city_Ростов Великий</th>\n",
       "      <th>city_Рыбинск</th>\n",
       "      <th>city_Ярославль</th>\n",
       "      <th>gender_Ж</th>\n",
       "      <th>gender_М</th>\n",
       "      <th>cluster_clients</th>\n",
       "      <th>groups</th>\n",
       "    </tr>\n",
       "  </thead>\n",
       "  <tbody>\n",
       "    <tr>\n",
       "      <th>0</th>\n",
       "      <td>619</td>\n",
       "      <td>42</td>\n",
       "      <td>2</td>\n",
       "      <td>1</td>\n",
       "      <td>1</td>\n",
       "      <td>1</td>\n",
       "      <td>101348.88</td>\n",
       "      <td>1</td>\n",
       "      <td>0</td>\n",
       "      <td>0</td>\n",
       "      <td>1</td>\n",
       "      <td>1</td>\n",
       "      <td>0</td>\n",
       "      <td>1</td>\n",
       "      <td>Взрослый клиент с небольшим количеством продуктов не из Ростова Великого</td>\n",
       "    </tr>\n",
       "    <tr>\n",
       "      <th>1</th>\n",
       "      <td>608</td>\n",
       "      <td>41</td>\n",
       "      <td>1</td>\n",
       "      <td>1</td>\n",
       "      <td>0</td>\n",
       "      <td>1</td>\n",
       "      <td>112542.58</td>\n",
       "      <td>0</td>\n",
       "      <td>0</td>\n",
       "      <td>1</td>\n",
       "      <td>0</td>\n",
       "      <td>1</td>\n",
       "      <td>0</td>\n",
       "      <td>3</td>\n",
       "      <td>Взрослый клиент с небольшим количеством продуктов не из Ростова Великого</td>\n",
       "    </tr>\n",
       "    <tr>\n",
       "      <th>2</th>\n",
       "      <td>502</td>\n",
       "      <td>42</td>\n",
       "      <td>8</td>\n",
       "      <td>3</td>\n",
       "      <td>1</td>\n",
       "      <td>0</td>\n",
       "      <td>113931.57</td>\n",
       "      <td>1</td>\n",
       "      <td>0</td>\n",
       "      <td>0</td>\n",
       "      <td>1</td>\n",
       "      <td>1</td>\n",
       "      <td>0</td>\n",
       "      <td>1</td>\n",
       "      <td>Взрослый клиент с большим количеством продуктов не из Ростова Великого</td>\n",
       "    </tr>\n",
       "    <tr>\n",
       "      <th>3</th>\n",
       "      <td>699</td>\n",
       "      <td>39</td>\n",
       "      <td>1</td>\n",
       "      <td>2</td>\n",
       "      <td>0</td>\n",
       "      <td>0</td>\n",
       "      <td>93826.63</td>\n",
       "      <td>0</td>\n",
       "      <td>0</td>\n",
       "      <td>0</td>\n",
       "      <td>1</td>\n",
       "      <td>1</td>\n",
       "      <td>0</td>\n",
       "      <td>1</td>\n",
       "      <td>Молодой клиент с небольшим количеством продуктов не из Ростова Великого</td>\n",
       "    </tr>\n",
       "    <tr>\n",
       "      <th>4</th>\n",
       "      <td>850</td>\n",
       "      <td>43</td>\n",
       "      <td>2</td>\n",
       "      <td>1</td>\n",
       "      <td>1</td>\n",
       "      <td>1</td>\n",
       "      <td>79084.10</td>\n",
       "      <td>0</td>\n",
       "      <td>0</td>\n",
       "      <td>1</td>\n",
       "      <td>0</td>\n",
       "      <td>1</td>\n",
       "      <td>0</td>\n",
       "      <td>3</td>\n",
       "      <td>Взрослый клиент с небольшим количеством продуктов не из Ростова Великого</td>\n",
       "    </tr>\n",
       "    <tr>\n",
       "      <th>...</th>\n",
       "      <td>...</td>\n",
       "      <td>...</td>\n",
       "      <td>...</td>\n",
       "      <td>...</td>\n",
       "      <td>...</td>\n",
       "      <td>...</td>\n",
       "      <td>...</td>\n",
       "      <td>...</td>\n",
       "      <td>...</td>\n",
       "      <td>...</td>\n",
       "      <td>...</td>\n",
       "      <td>...</td>\n",
       "      <td>...</td>\n",
       "      <td>...</td>\n",
       "      <td>...</td>\n",
       "    </tr>\n",
       "    <tr>\n",
       "      <th>9995</th>\n",
       "      <td>771</td>\n",
       "      <td>39</td>\n",
       "      <td>5</td>\n",
       "      <td>2</td>\n",
       "      <td>1</td>\n",
       "      <td>0</td>\n",
       "      <td>96270.64</td>\n",
       "      <td>0</td>\n",
       "      <td>0</td>\n",
       "      <td>0</td>\n",
       "      <td>1</td>\n",
       "      <td>0</td>\n",
       "      <td>1</td>\n",
       "      <td>2</td>\n",
       "      <td>Молодой клиент с небольшим количеством продуктов не из Ростова Великого</td>\n",
       "    </tr>\n",
       "    <tr>\n",
       "      <th>9996</th>\n",
       "      <td>516</td>\n",
       "      <td>35</td>\n",
       "      <td>10</td>\n",
       "      <td>1</td>\n",
       "      <td>1</td>\n",
       "      <td>1</td>\n",
       "      <td>101699.77</td>\n",
       "      <td>0</td>\n",
       "      <td>0</td>\n",
       "      <td>0</td>\n",
       "      <td>1</td>\n",
       "      <td>0</td>\n",
       "      <td>1</td>\n",
       "      <td>2</td>\n",
       "      <td>Молодой клиент с небольшим количеством продуктов не из Ростова Великого</td>\n",
       "    </tr>\n",
       "    <tr>\n",
       "      <th>9997</th>\n",
       "      <td>709</td>\n",
       "      <td>36</td>\n",
       "      <td>7</td>\n",
       "      <td>1</td>\n",
       "      <td>0</td>\n",
       "      <td>1</td>\n",
       "      <td>42085.58</td>\n",
       "      <td>1</td>\n",
       "      <td>0</td>\n",
       "      <td>0</td>\n",
       "      <td>1</td>\n",
       "      <td>1</td>\n",
       "      <td>0</td>\n",
       "      <td>1</td>\n",
       "      <td>Молодой клиент с небольшим количеством продуктов не из Ростова Великого</td>\n",
       "    </tr>\n",
       "    <tr>\n",
       "      <th>9998</th>\n",
       "      <td>772</td>\n",
       "      <td>42</td>\n",
       "      <td>3</td>\n",
       "      <td>2</td>\n",
       "      <td>1</td>\n",
       "      <td>0</td>\n",
       "      <td>92888.52</td>\n",
       "      <td>1</td>\n",
       "      <td>1</td>\n",
       "      <td>0</td>\n",
       "      <td>0</td>\n",
       "      <td>0</td>\n",
       "      <td>1</td>\n",
       "      <td>0</td>\n",
       "      <td>Взрослый клиент с небольшим количеством продуктов из Ростова Великого</td>\n",
       "    </tr>\n",
       "    <tr>\n",
       "      <th>9999</th>\n",
       "      <td>792</td>\n",
       "      <td>28</td>\n",
       "      <td>4</td>\n",
       "      <td>1</td>\n",
       "      <td>1</td>\n",
       "      <td>0</td>\n",
       "      <td>38190.78</td>\n",
       "      <td>0</td>\n",
       "      <td>0</td>\n",
       "      <td>0</td>\n",
       "      <td>1</td>\n",
       "      <td>1</td>\n",
       "      <td>0</td>\n",
       "      <td>1</td>\n",
       "      <td>Молодой клиент с небольшим количеством продуктов не из Ростова Великого</td>\n",
       "    </tr>\n",
       "  </tbody>\n",
       "</table>\n",
       "<p>10000 rows × 15 columns</p>\n",
       "</div>"
      ],
      "text/plain": [
       "      score  age  objects  products  credit_card  loyalty  estimated_salary  \\\n",
       "0       619   42        2         1            1        1         101348.88   \n",
       "1       608   41        1         1            0        1         112542.58   \n",
       "2       502   42        8         3            1        0         113931.57   \n",
       "3       699   39        1         2            0        0          93826.63   \n",
       "4       850   43        2         1            1        1          79084.10   \n",
       "...     ...  ...      ...       ...          ...      ...               ...   \n",
       "9995    771   39        5         2            1        0          96270.64   \n",
       "9996    516   35       10         1            1        1         101699.77   \n",
       "9997    709   36        7         1            0        1          42085.58   \n",
       "9998    772   42        3         2            1        0          92888.52   \n",
       "9999    792   28        4         1            1        0          38190.78   \n",
       "\n",
       "      churn  city_Ростов Великий  city_Рыбинск  city_Ярославль  gender_Ж  \\\n",
       "0         1                    0             0               1         1   \n",
       "1         0                    0             1               0         1   \n",
       "2         1                    0             0               1         1   \n",
       "3         0                    0             0               1         1   \n",
       "4         0                    0             1               0         1   \n",
       "...     ...                  ...           ...             ...       ...   \n",
       "9995      0                    0             0               1         0   \n",
       "9996      0                    0             0               1         0   \n",
       "9997      1                    0             0               1         1   \n",
       "9998      1                    1             0               0         0   \n",
       "9999      0                    0             0               1         1   \n",
       "\n",
       "      gender_М  cluster_clients  \\\n",
       "0            0                1   \n",
       "1            0                3   \n",
       "2            0                1   \n",
       "3            0                1   \n",
       "4            0                3   \n",
       "...        ...              ...   \n",
       "9995         1                2   \n",
       "9996         1                2   \n",
       "9997         0                1   \n",
       "9998         1                0   \n",
       "9999         0                1   \n",
       "\n",
       "                                                                        groups  \n",
       "0     Взрослый клиент с небольшим количеством продуктов не из Ростова Великого  \n",
       "1     Взрослый клиент с небольшим количеством продуктов не из Ростова Великого  \n",
       "2       Взрослый клиент с большим количеством продуктов не из Ростова Великого  \n",
       "3      Молодой клиент с небольшим количеством продуктов не из Ростова Великого  \n",
       "4     Взрослый клиент с небольшим количеством продуктов не из Ростова Великого  \n",
       "...                                                                        ...  \n",
       "9995   Молодой клиент с небольшим количеством продуктов не из Ростова Великого  \n",
       "9996   Молодой клиент с небольшим количеством продуктов не из Ростова Великого  \n",
       "9997   Молодой клиент с небольшим количеством продуктов не из Ростова Великого  \n",
       "9998     Взрослый клиент с небольшим количеством продуктов из Ростова Великого  \n",
       "9999   Молодой клиент с небольшим количеством продуктов не из Ростова Великого  \n",
       "\n",
       "[10000 rows x 15 columns]"
      ]
     },
     "execution_count": 28,
     "metadata": {},
     "output_type": "execute_result"
    }
   ],
   "source": [
    "#Применяем нашу функцию и смотрим на результат.\n",
    "df_ml['groups'] = df_ml.apply(groups, axis=1)\n",
    "df_ml"
   ]
  },
  {
   "cell_type": "code",
   "execution_count": 29,
   "id": "34ee28e2",
   "metadata": {},
   "outputs": [
    {
     "data": {
      "text/html": [
       "<style type=\"text/css\">\n",
       "</style>\n",
       "<table id=\"T_802ba_\">\n",
       "  <thead>\n",
       "    <tr>\n",
       "      <th class=\"blank level0\" >&nbsp;</th>\n",
       "      <th class=\"col_heading level0 col0\" colspan=\"2\">churn</th>\n",
       "    </tr>\n",
       "    <tr>\n",
       "      <th class=\"blank level1\" >&nbsp;</th>\n",
       "      <th class=\"col_heading level1 col0\" >count</th>\n",
       "      <th class=\"col_heading level1 col1\" >mean</th>\n",
       "    </tr>\n",
       "    <tr>\n",
       "      <th class=\"index_name level0\" >groups</th>\n",
       "      <th class=\"blank col0\" >&nbsp;</th>\n",
       "      <th class=\"blank col1\" >&nbsp;</th>\n",
       "    </tr>\n",
       "  </thead>\n",
       "  <tbody>\n",
       "    <tr>\n",
       "      <th id=\"T_802ba_level0_row0\" class=\"row_heading level0 row0\" >Взрослый клиент с большим количеством продуктов из Ростова Великого</th>\n",
       "      <td id=\"T_802ba_row0_col0\" class=\"data row0 col0\" >74.00</td>\n",
       "      <td id=\"T_802ba_row0_col1\" class=\"data row0 col1\" >95.95%</td>\n",
       "    </tr>\n",
       "    <tr>\n",
       "      <th id=\"T_802ba_level0_row1\" class=\"row_heading level0 row1\" >Взрослый клиент с большим количеством продуктов не из Ростова Великого</th>\n",
       "      <td id=\"T_802ba_row1_col0\" class=\"data row1 col0\" >128.00</td>\n",
       "      <td id=\"T_802ba_row1_col1\" class=\"data row1 col1\" >92.97%</td>\n",
       "    </tr>\n",
       "    <tr>\n",
       "      <th id=\"T_802ba_level0_row2\" class=\"row_heading level0 row2\" >Молодой клиент с большим количеством продуктов из Ростова Великого</th>\n",
       "      <td id=\"T_802ba_row2_col0\" class=\"data row2 col0\" >39.00</td>\n",
       "      <td id=\"T_802ba_row2_col1\" class=\"data row2 col1\" >82.05%</td>\n",
       "    </tr>\n",
       "    <tr>\n",
       "      <th id=\"T_802ba_level0_row3\" class=\"row_heading level0 row3\" >Молодой клиент с большим количеством продуктов не из Ростова Великого</th>\n",
       "      <td id=\"T_802ba_row3_col0\" class=\"data row3 col0\" >72.00</td>\n",
       "      <td id=\"T_802ba_row3_col1\" class=\"data row3 col1\" >66.67%</td>\n",
       "    </tr>\n",
       "    <tr>\n",
       "      <th id=\"T_802ba_level0_row4\" class=\"row_heading level0 row4\" >Взрослый клиент с небольшим количеством продуктов из Ростова Великого</th>\n",
       "      <td id=\"T_802ba_row4_col0\" class=\"data row4 col0\" >960.00</td>\n",
       "      <td id=\"T_802ba_row4_col1\" class=\"data row4 col1\" >49.27%</td>\n",
       "    </tr>\n",
       "    <tr>\n",
       "      <th id=\"T_802ba_level0_row5\" class=\"row_heading level0 row5\" >Взрослый клиент с небольшим количеством продуктов не из Ростова Великого</th>\n",
       "      <td id=\"T_802ba_row5_col0\" class=\"data row5 col0\" >2419.00</td>\n",
       "      <td id=\"T_802ba_row5_col1\" class=\"data row5 col1\" >28.44%</td>\n",
       "    </tr>\n",
       "    <tr>\n",
       "      <th id=\"T_802ba_level0_row6\" class=\"row_heading level0 row6\" >Молодой клиент с небольшим количеством продуктов из Ростова Великого</th>\n",
       "      <td id=\"T_802ba_row6_col0\" class=\"data row6 col0\" >1330.00</td>\n",
       "      <td id=\"T_802ba_row6_col1\" class=\"data row6 col1\" >15.26%</td>\n",
       "    </tr>\n",
       "    <tr>\n",
       "      <th id=\"T_802ba_level0_row7\" class=\"row_heading level0 row7\" >Молодой клиент с небольшим количеством продуктов не из Ростова Великого</th>\n",
       "      <td id=\"T_802ba_row7_col0\" class=\"data row7 col0\" >4546.00</td>\n",
       "      <td id=\"T_802ba_row7_col1\" class=\"data row7 col1\" >6.91%</td>\n",
       "    </tr>\n",
       "  </tbody>\n",
       "</table>\n"
      ],
      "text/plain": [
       "<pandas.io.formats.style.Styler at 0x1a53ee44c40>"
      ]
     },
     "execution_count": 29,
     "metadata": {},
     "output_type": "execute_result"
    }
   ],
   "source": [
    "(df_ml.pivot_table(index='groups', aggfunc={'churn': ['count', 'mean']})\n",
    " .sort_values(by=('churn', 'mean'), ascending=False)).style.format({('churn', 'mean'): '{:.2%}'})"
   ]
  },
  {
   "cell_type": "markdown",
   "id": "4d7ae4a3",
   "metadata": {},
   "source": [
    "Если не рассматривать небольшие группы (менее 1% от всей клиентуры), то интерес представляют две с оттоком, выше 20% по всей клиентуре:\n",
    "- взрослый клиент (старше 40) с небольшим количеством продуктов (1-2) из Ростова Великого (960 человек с оттоком 49%)\n",
    "- взрослый клиент (старше 40) с небольшим количеством продуктов (1-2) не из Ростова Великого (2419 человек с оттоком 28%)"
   ]
  },
  {
   "cell_type": "markdown",
   "id": "703b138b",
   "metadata": {},
   "source": [
    "## Вывод"
   ]
  },
  {
   "cell_type": "markdown",
   "id": "8774a404",
   "metadata": {},
   "source": [
    "<div style=\"border:solid green 2px; padding: 20px\">\n",
    "    \n",
    "Используя полученные ранее инсайты, мы разделили всех клиентов на 8 групп и получили две критические:  \n",
    "- **взрослый клиент (старше 40) с небольшим количеством продуктов (1-2) из Ростова Великого (960 человек с оттоком 49%)**\n",
    "- **взрослый клиент (старше 40) с небольшим количеством продуктов (1-2) не из Ростова Великого (2419 человек с оттоком 28%)**"
   ]
  },
  {
   "cell_type": "markdown",
   "id": "382c24d3",
   "metadata": {},
   "source": [
    "# Проверка статистических гипотез"
   ]
  },
  {
   "cell_type": "markdown",
   "id": "11d47162",
   "metadata": {},
   "source": [
    "## Доход ушедших и оставшихся клиентов различается"
   ]
  },
  {
   "cell_type": "code",
   "execution_count": 30,
   "id": "947de8a0",
   "metadata": {},
   "outputs": [
    {
     "data": {
      "text/html": [
       "<div>\n",
       "<style scoped>\n",
       "    .dataframe tbody tr th:only-of-type {\n",
       "        vertical-align: middle;\n",
       "    }\n",
       "\n",
       "    .dataframe tbody tr th {\n",
       "        vertical-align: top;\n",
       "    }\n",
       "\n",
       "    .dataframe thead th {\n",
       "        text-align: right;\n",
       "    }\n",
       "</style>\n",
       "<table border=\"1\" class=\"dataframe\">\n",
       "  <thead>\n",
       "    <tr style=\"text-align: right;\">\n",
       "      <th></th>\n",
       "      <th>estimated_salary</th>\n",
       "    </tr>\n",
       "    <tr>\n",
       "      <th>churn</th>\n",
       "      <th></th>\n",
       "    </tr>\n",
       "  </thead>\n",
       "  <tbody>\n",
       "    <tr>\n",
       "      <th>0</th>\n",
       "      <td>99738.39</td>\n",
       "    </tr>\n",
       "    <tr>\n",
       "      <th>1</th>\n",
       "      <td>101465.68</td>\n",
       "    </tr>\n",
       "  </tbody>\n",
       "</table>\n",
       "</div>"
      ],
      "text/plain": [
       "       estimated_salary\n",
       "churn                  \n",
       "0              99738.39\n",
       "1             101465.68"
      ]
     },
     "execution_count": 30,
     "metadata": {},
     "output_type": "execute_result"
    }
   ],
   "source": [
    "#Для начала посчитаем среднее нашей выборки.\n",
    "df.pivot_table(index='churn', aggfunc={'estimated_salary': 'mean'})"
   ]
  },
  {
   "cell_type": "markdown",
   "id": "8d74d991",
   "metadata": {},
   "source": [
    "В связи с тем, что распределение предполагаемой зарплаты не является нормальным, то для проверки этой гипотезы используем *непараметрический тест Уилкоксона-Манна-Уитни.* Этот непараметрические метод, не зависит от распределения данных и устойчив к выбросам."
   ]
  },
  {
   "cell_type": "markdown",
   "id": "d96a2bcb",
   "metadata": {},
   "source": [
    "Для этого сформируем нулевую и альтернативную гипотезу.  \n",
    "**Нулевая H0:** вероятность того, что доход ушедших клиентов превышает доход оставшихся клиентов, равна 50%  \n",
    "**Альтернативная H1:** вероятность того, что доход ушедших клиентов превышает доход оставшихся клиентов, не равна 50%"
   ]
  },
  {
   "cell_type": "code",
   "execution_count": 31,
   "id": "23451787",
   "metadata": {},
   "outputs": [],
   "source": [
    "#Разделим на две выборки с ушедшими и оставшимися клиентами. \n",
    "churn = df.query('churn == 1')\n",
    "remain = df.query('churn == 0')"
   ]
  },
  {
   "cell_type": "code",
   "execution_count": 32,
   "id": "9fefc47c",
   "metadata": {},
   "outputs": [
    {
     "name": "stdout",
     "output_type": "stream",
     "text": [
      "P-value составляет: 0.22705\n",
      "Не получилось отвергнуть нулевую гипотезу\n",
      "Относительная разница дохода составляет: 0.017\n"
     ]
    }
   ],
   "source": [
    "#Посчитаем статистическую значимость различия конверсии с помощью теста Манна-Уитни. \n",
    "#Выведем p-value для сравнения дохода между группами.\n",
    "\n",
    "alpha = .05 # критический уровень статистической значимости\n",
    "\n",
    "p_val1 = st.mannwhitneyu(churn.estimated_salary, remain.estimated_salary)[1]\n",
    "\n",
    "print(f'P-value составляет: {\"{0:.5f}\".format(p_val1)}')\n",
    "\n",
    "if p_val1 < alpha:\n",
    "    print(\"Отвергаем нулевую гипотезу\")\n",
    "else:\n",
    "    print(\"Не получилось отвергнуть нулевую гипотезу\") \n",
    "\n",
    "#Вычислим и выведем относительное различие в конверсии между группами\n",
    "print('Относительная разница дохода составляет:',\n",
    "      \"{0:.3f}\".format(churn.estimated_salary.mean() / remain.estimated_salary.mean() - 1))"
   ]
  },
  {
   "cell_type": "markdown",
   "id": "80083a0a",
   "metadata": {},
   "source": [
    "P-value составляет 22% и значительно выше 5%, что означает, что отвергнуть нулевую гипотезу не получилось - по данным между доходом ушедших и оставшихся клиентов нет статистически значимого различия.  "
   ]
  },
  {
   "cell_type": "markdown",
   "id": "bb28133a",
   "metadata": {},
   "source": [
    "Полученное значение p-value говорит о том, что вероятность получить такое или большее различие случайно на 23%. Это явно слишком большая вероятность, чтобы делать вывод о значимом различии дохода между ушедшими и оставшимися клиентами.  \n",
    "Мы не использовали дополнительный параметр equal_var = False, потому что у нас достаточно большие выборки, к тому же в обеих измерена одна и та же переменная — нет оснований полагать, что разброс будет сильно отличаться."
   ]
  },
  {
   "cell_type": "markdown",
   "id": "a5bda594",
   "metadata": {},
   "source": [
    "## Баланс ушедших и оставшихся клиентов не различается"
   ]
  },
  {
   "cell_type": "code",
   "execution_count": 33,
   "id": "e0e7c925",
   "metadata": {},
   "outputs": [
    {
     "data": {
      "text/html": [
       "<div>\n",
       "<style scoped>\n",
       "    .dataframe tbody tr th:only-of-type {\n",
       "        vertical-align: middle;\n",
       "    }\n",
       "\n",
       "    .dataframe tbody tr th {\n",
       "        vertical-align: top;\n",
       "    }\n",
       "\n",
       "    .dataframe thead th {\n",
       "        text-align: right;\n",
       "    }\n",
       "</style>\n",
       "<table border=\"1\" class=\"dataframe\">\n",
       "  <thead>\n",
       "    <tr style=\"text-align: right;\">\n",
       "      <th></th>\n",
       "      <th>balance</th>\n",
       "    </tr>\n",
       "    <tr>\n",
       "      <th>churn</th>\n",
       "      <th></th>\n",
       "    </tr>\n",
       "  </thead>\n",
       "  <tbody>\n",
       "    <tr>\n",
       "      <th>0</th>\n",
       "      <td>119535.86</td>\n",
       "    </tr>\n",
       "    <tr>\n",
       "      <th>1</th>\n",
       "      <td>120746.97</td>\n",
       "    </tr>\n",
       "  </tbody>\n",
       "</table>\n",
       "</div>"
      ],
      "text/plain": [
       "         balance\n",
       "churn           \n",
       "0      119535.86\n",
       "1      120746.97"
      ]
     },
     "execution_count": 33,
     "metadata": {},
     "output_type": "execute_result"
    }
   ],
   "source": [
    "#Для начала посчитаем среднее нашей выборки.\n",
    "df.pivot_table(index='churn', aggfunc={'balance': 'mean'})"
   ]
  },
  {
   "cell_type": "markdown",
   "id": "1bf6e552",
   "metadata": {},
   "source": [
    "Для выбора метода определения статистической значимости этих показателей проведем проверку распределений на нормальность. Для этого воспользуемся критерием Шапиро-Уилка."
   ]
  },
  {
   "cell_type": "code",
   "execution_count": 34,
   "id": "95c096a6",
   "metadata": {},
   "outputs": [],
   "source": [
    "#Напишем для этого функцию, определяющую p-value и проверяющую гипотезу о нормальном распределении.\n",
    "def norm_test(df):\n",
    "    alpha = .01 # критический уровень статистической значимости\n",
    "    results = st.shapiro(df)\n",
    "    p_value = results[1] # второе значение в массиве результатов (с индексом 1) - p-value\n",
    "    print('p-значение: ', p_value)\n",
    "    if (p_value < alpha):\n",
    "        print(\"Отвергаем нулевую гипотезу: распределение не нормально\")\n",
    "    else:\n",
    "        print(\"Не получилось отвергнуть нулевую гипотезу, распределение нормально\")"
   ]
  },
  {
   "cell_type": "code",
   "execution_count": 35,
   "id": "511515be",
   "metadata": {},
   "outputs": [
    {
     "name": "stdout",
     "output_type": "stream",
     "text": [
      "p-значение:  0.02963724359869957\n",
      "Не получилось отвергнуть нулевую гипотезу, распределение нормально\n"
     ]
    }
   ],
   "source": [
    "#Сделаем проверку баланса на нормальность.\n",
    "norm_test(df.balance.dropna())"
   ]
  },
  {
   "cell_type": "markdown",
   "id": "d3e9c6e6",
   "metadata": {},
   "source": [
    "Наши данные распределены нормально, значит мы можем использовать *t-критерий Стьюдента.* Для его использования необходимо устранить выбросы, но они у нас и так отсутствуют, а также удалить пропуска, поэтому приступим к проверке."
   ]
  },
  {
   "cell_type": "markdown",
   "id": "87a676d0",
   "metadata": {},
   "source": [
    "Для проверки этой гипотезы сформируем нулевую и альтернативную гипотезу.  \n",
    "**Нулевая H0:** средний баланс выборки ушедших клиентов равен среднему балансу выборки оставшихся   \n",
    "**Альтернативная H1:** средний баланс выборки ушедших клиентов не равен среднему балансу выборки оставшихся"
   ]
  },
  {
   "cell_type": "code",
   "execution_count": 36,
   "id": "b20b6b83",
   "metadata": {},
   "outputs": [
    {
     "name": "stdout",
     "output_type": "stream",
     "text": [
      "p-значение:  0.16924734893322796\n",
      "Не получилось отвергнуть нулевую гипотезу\n"
     ]
    }
   ],
   "source": [
    "alpha = .05 # критический уровень статистической значимости\n",
    "# если p-value окажется меньше него - отвегнем гипотезу\n",
    "\n",
    "results = st.ttest_ind(churn.balance.dropna(), remain.balance.dropna())\n",
    "\n",
    "print('p-значение: ', results.pvalue)\n",
    "\n",
    "if results.pvalue < alpha:\n",
    "    print(\"Отвергаем нулевую гипотезу\")\n",
    "else:\n",
    "    print(\"Не получилось отвергнуть нулевую гипотезу\") "
   ]
  },
  {
   "cell_type": "markdown",
   "id": "17b9d279",
   "metadata": {},
   "source": [
    "Полученное значение p-value говорит о том, что вероятность получить такое или большее различие случайно на 17%. Это явно слишком большая вероятность, чтобы делать вывод о значимом различии дохода между ушедшими и оставшимися клиентами.  \n",
    "Мы не использовали дополнительный параметр equal_var = False, потому что у нас достаточно большие выборки, к тому же в обеих измерена одна и та же переменная — нет оснований полагать, что разброс будет сильно отличаться."
   ]
  },
  {
   "cell_type": "markdown",
   "id": "4cc9e0c1",
   "metadata": {},
   "source": [
    "## Доли ушедших клиентов в разных городах различаются  "
   ]
  },
  {
   "cell_type": "markdown",
   "id": "c353c065",
   "metadata": {},
   "source": [
    "Для проверки этой гипотезы будем использовать *z-критерий Фишера.*"
   ]
  },
  {
   "cell_type": "markdown",
   "id": "956c1fa6",
   "metadata": {},
   "source": [
    "**Нулевая H0:** доли ушедших клиентов в городе 1 и в городе 2 равны  \n",
    "**Альтернативная H1:** доли ушедших клиентов в городе 1 и в городе 2 не равны  "
   ]
  },
  {
   "cell_type": "code",
   "execution_count": 37,
   "id": "be74010e",
   "metadata": {},
   "outputs": [
    {
     "data": {
      "text/html": [
       "<div>\n",
       "<style scoped>\n",
       "    .dataframe tbody tr th:only-of-type {\n",
       "        vertical-align: middle;\n",
       "    }\n",
       "\n",
       "    .dataframe tbody tr th {\n",
       "        vertical-align: top;\n",
       "    }\n",
       "\n",
       "    .dataframe thead th {\n",
       "        text-align: right;\n",
       "    }\n",
       "</style>\n",
       "<table border=\"1\" class=\"dataframe\">\n",
       "  <thead>\n",
       "    <tr style=\"text-align: right;\">\n",
       "      <th>city</th>\n",
       "      <th>Ростов Великий</th>\n",
       "      <th>Рыбинск</th>\n",
       "      <th>Ярославль</th>\n",
       "    </tr>\n",
       "    <tr>\n",
       "      <th>churn</th>\n",
       "      <th></th>\n",
       "      <th></th>\n",
       "      <th></th>\n",
       "    </tr>\n",
       "  </thead>\n",
       "  <tbody>\n",
       "    <tr>\n",
       "      <th>0</th>\n",
       "      <td>63243</td>\n",
       "      <td>78100</td>\n",
       "      <td>156540</td>\n",
       "    </tr>\n",
       "    <tr>\n",
       "      <th>1</th>\n",
       "      <td>36544</td>\n",
       "      <td>18233</td>\n",
       "      <td>36558</td>\n",
       "    </tr>\n",
       "    <tr>\n",
       "      <th>Total</th>\n",
       "      <td>99787</td>\n",
       "      <td>96333</td>\n",
       "      <td>193098</td>\n",
       "    </tr>\n",
       "  </tbody>\n",
       "</table>\n",
       "</div>"
      ],
      "text/plain": [
       "city   Ростов Великий  Рыбинск  Ярославль\n",
       "churn                                    \n",
       "0               63243    78100     156540\n",
       "1               36544    18233      36558\n",
       "Total           99787    96333     193098"
      ]
     },
     "execution_count": 37,
     "metadata": {},
     "output_type": "execute_result"
    }
   ],
   "source": [
    "df2 = df.pivot_table(index='churn', columns='city', aggfunc='sum').age\n",
    "df2.loc['Total']= df2.sum()\n",
    "df2"
   ]
  },
  {
   "cell_type": "code",
   "execution_count": 38,
   "id": "24e7614a",
   "metadata": {},
   "outputs": [],
   "source": [
    "#Напишем функцию для расчета статистической разницы между группами.\n",
    "def difference(column_group1, column_group2, alpha):\n",
    "    \"\"\"\n",
    "    Функция для проверки статистической гипотезы о равенстве долей\n",
    "    \n",
    "    column_group1 - выбор первого города\n",
    "    column_group2 - выбор второго города\n",
    "    alpha - заданный критический уровень статистической значимости\n",
    "    \"\"\"  \n",
    "    events = df.index.tolist()\n",
    "    \n",
    "    alpha = alpha # критический уровень статистической значимости\n",
    "\n",
    "    successes = np.array([df2.iat[1,column_group1], df2.iat[1,column_group2]])\n",
    "    trials = np.array([df2.iat[2,column_group1], df2.iat[2,column_group2]])\n",
    "\n",
    "    # пропорция успехов в первой группе:\n",
    "    p1 = successes[0]/trials[0]\n",
    "\n",
    "    # пропорция успехов во второй группе:\n",
    "    p2 = successes[1]/trials[1]\n",
    "\n",
    "    # пропорция успехов в комбинированном датасете:\n",
    "    p_combined = (successes[0] + successes[1]) / (trials[0] + trials[1])\n",
    "\n",
    "    # разница пропорций в датасетах\n",
    "    difference = p1 - p2 \n",
    "    \n",
    "    # считаем статистику в ст.отклонениях стандартного нормального распределения\n",
    "    z_value = difference / mth.sqrt(p_combined * (1 - p_combined) * (1/trials[0] + 1/trials[1]))\n",
    "\n",
    "    # задаем стандартное нормальное распределение (среднее 0, ст.отклонение 1)\n",
    "    distr = st.norm(0, 1)  \n",
    "    \n",
    "    # считаем статистику в ст.отклонениях стандартного нормального распределения\n",
    "    z_value = difference / mth.sqrt(\n",
    "        p_combined * (1 - p_combined) * (1 / trials[0] + 1 / trials[1])\n",
    "    )\n",
    "\n",
    "    # задаем стандартное нормальное распределение (среднее 0, ст.отклонение 1)\n",
    "    distr = st.norm(0, 1)\n",
    "\n",
    "    p_value = (1 - distr.cdf(abs(z_value))) * 2\n",
    "\n",
    "    print('p-значение: ', p_value)\n",
    "\n",
    "    if p_value < alpha:\n",
    "        print(f'Отвергаем нулевую гипотезу:между долями ушедших клиентов в городе \"{df2.columns.tolist()[column_group1]}\" и в городе \"{df2.columns.tolist()[column_group2]}\" есть значимая разница'\n",
    "        )\n",
    "    else:\n",
    "        print(f'Не получилось отвергнуть нулевую гипотезу, нет оснований считать доли ушедших клиентов в городе\" {df2.columns.tolist()[column_group1]}\" и в городе \"{df2.columns.tolist()[column_group2]}\" разными'\n",
    "        ) "
   ]
  },
  {
   "cell_type": "code",
   "execution_count": 39,
   "id": "cd2ecf9b",
   "metadata": {},
   "outputs": [
    {
     "name": "stdout",
     "output_type": "stream",
     "text": [
      "p-значение:  0.0\n",
      "Отвергаем нулевую гипотезу:между долями ушедших клиентов в городе \"Ростов Великий\" и в городе \"Ярославль\" есть значимая разница\n",
      "p-значение:  0.0\n",
      "Отвергаем нулевую гипотезу:между долями ушедших клиентов в городе \"Ростов Великий\" и в городе \"Рыбинск\" есть значимая разница\n",
      "p-значение:  0.972637015488188\n",
      "Не получилось отвергнуть нулевую гипотезу, нет оснований считать доли ушедших клиентов в городе\" Рыбинск\" и в городе \"Ярославль\" разными\n"
     ]
    }
   ],
   "source": [
    "difference(0, 2, .05)\n",
    "difference (0, 1, .05)\n",
    "difference (1, 2, .05)"
   ]
  },
  {
   "cell_type": "markdown",
   "id": "e9f36735",
   "metadata": {},
   "source": [
    "## Вывод"
   ]
  },
  {
   "cell_type": "markdown",
   "id": "6a792e54",
   "metadata": {},
   "source": [
    "<div style=\"border:solid green 2px; padding: 20px\">\n",
    "    \n",
    "Используя различные статистические критерии и выдвинув несколько гипотез, мы получили следующие результаты:    \n",
    "- вероятность получить такое или большее **различие дохода между ушедшими и оставшимися клиентами случайно на 17%**. Это явно слишком большая вероятность, чтобы делать вывод о статистически значимом различии \n",
    "- **между средним балансом выборки ушедших и средним балансом выборки оставшихся клиентов нет статистически значимого различия**  \n",
    "-**между долями ушедших клиентов в городе \"Ростов Великий\" и в городах \"Ярославль\" и \"Рыбинск\" есть значимая разница, но нет оснований считать доли ушедших клиентов в городе \"Рыбинск\" и в городе \"Ярославль\" разными**"
   ]
  },
  {
   "cell_type": "markdown",
   "id": "a1586eda",
   "metadata": {},
   "source": [
    "# Общий вывод и рекомендации"
   ]
  },
  {
   "cell_type": "markdown",
   "id": "7d0ced56",
   "metadata": {},
   "source": [
    "<div style=\"border:solid green 2px; padding: 20px\">\n",
    "Проведя исследование клиентов банка, можно сделать следующие выводы:\n",
    "    \n",
    "- ДФ в идеальном состоянии - дубликаты отсутствуют, типы данных верные. Учитывая квартили и логически анализируя жизненный опыт, можно сказать, что аномальных значений в ДФ не наблюдается, все они выглядят правдоподобно и естественно.\n",
    "- если сравнить средние значения с медианами с учетом стандартного отклонения и посмотреть на гистограммы, можно увидеть, что клиенты по баллам кредитного скоринга, полу, возрасту, объектам в собственности, балансу на счете, активности и предполагаемой ЗП распределены равномерно. При этом, в Ярославле живет в два раза больше клиентов, чем в Рыбинске и Ростове Великом, почти по 50% у клиентов с 1-2 продуктами и по несколько процентов с 3-4 продуктами, кредитка есть у 70% клиентов, а отток составляет 20%.\n",
    "    \n",
    "    \n",
    "- пропуски в балансе оставлены без изменений во избежание внесения аномально большого количества определенных значений и изменения корреляции.\n",
    "    \n",
    "    \n",
    "- **по кредитному скорингу, количеству объектов, балансу, наличию кредитки и предполагаемой зарплаты в процентном соотношении оставшиеся и ушедшие клиенты распределены поровну**  \n",
    "- явно выделяется **Ростов Великий, клиенты в котором уходят значительно чаще,** чем в двух других городах  \n",
    "- **более возрастные клиенты (от 40 до 60) уходят значительно чаще**  \n",
    "- значительно **чаще уходят обладатели 3-4 продуктов**, а так же значительный отток у владельцев одного продукта,а наиболее постоянны владельцы двух продуктов  \n",
    "- по активности вполне предсказуемо, что **более активные клиенты менее склонны к оттоку**  \n",
    "- имеется незначительно больший отток клиентов женского пола\n",
    "    \n",
    "\n",
    "- лучше всех себя показала **модель градиентного бустинга**\n",
    "- по этой модели **на отток больше всего влияет возраст, активность, проживание в городе Ростов Великий и количество продуктов**\n",
    "- используя дендрограмму, мы **определили 4 кластера клиентов**\n",
    "- с помощью алгоритма K-Means мы разбили всех клиентов на 4 кластера, где образуется **кластер клиентов с наибольшим оттоком** по уже известным нам основным признакам - **самым высоким средним возрастом и проживающим в Ростове Великом**\n",
    "    \n",
    "    \n",
    "- используя полученные ранее инсайты, мы разделили всех клиентов на 8 групп и получили две критические:    \n",
    " - **взрослый клиент (старше 40) с небольшим количеством продуктов (1-2) из Ростова Великого (960 человек с оттоком 49%)**\n",
    " - **взрослый клиент (старше 40) с небольшим количеством продуктов (1-2) не из Ростова Великого (2419 человек с оттоком 28%)**\n",
    "    \n",
    "        \n",
    "- вероятность получить такое или большее **различие дохода между ушедшими и оставшимися клиентами случайно на 17%**. Это явно слишком большая вероятность, чтобы делать вывод о статистически значимом различии  \n",
    "- **между средним балансом выборки ушедших и средним балансом выборки оставшихся клиентов нет статистически значимого различия**  \n",
    "-**между долями ушедших клиентов в городе \"Ростов Великий\" и в городах \"Ярославль\" и \"Рыбинск\" есть значимая разница, но нет оснований считать доли ушедших клиентов в городе \"Рыбинск\" и в городе \"Ярославль\" разными**\n",
    "    \n",
    "**Рекомендации по удержанию клиентов, склонных к оттоку из нашего банка:**     \n",
    "\n",
    "- **произвести проверку работы персонала в филиалах Ростова Великого по качеству обслуживания клиентов**\n",
    "- **произвести настройку интерфейса банковского приложения или десктопной версии в сторону его упрощения (или внести возможность выбора более простого интерфейса) для клиентов старшего поколения**\n",
    "- **предоставлять персональных менеджеров возрастным клиентам для помощи с ориентацией в инфраструктуре банка**\n",
    "- **ввести/расширить/упростить/доработать пенсионные программы банка**"
   ]
  }
 ],
 "metadata": {
  "ExecuteTimeLog": [
   {
    "duration": 1691,
    "start_time": "2022-06-18T10:36:52.279Z"
   },
   {
    "duration": 8,
    "start_time": "2022-06-18T10:37:11.943Z"
   },
   {
    "duration": 88,
    "start_time": "2022-06-18T10:37:12.121Z"
   },
   {
    "duration": 5,
    "start_time": "2022-06-18T10:37:19.894Z"
   },
   {
    "duration": 95,
    "start_time": "2022-06-18T10:37:21.531Z"
   },
   {
    "duration": 5,
    "start_time": "2022-06-18T14:54:38.419Z"
   },
   {
    "duration": 198,
    "start_time": "2022-06-18T14:54:38.545Z"
   },
   {
    "duration": 6,
    "start_time": "2022-06-18T14:54:39.023Z"
   },
   {
    "duration": 73,
    "start_time": "2022-06-18T14:54:39.536Z"
   },
   {
    "duration": 65,
    "start_time": "2022-06-18T14:55:14.259Z"
   },
   {
    "duration": 30,
    "start_time": "2022-06-18T14:56:26.868Z"
   },
   {
    "duration": 33,
    "start_time": "2022-06-18T15:00:33.771Z"
   },
   {
    "duration": 41,
    "start_time": "2022-06-18T15:24:55.414Z"
   },
   {
    "duration": 46,
    "start_time": "2022-06-18T15:25:18.084Z"
   }
  ],
  "kernelspec": {
   "display_name": "Python 3 (ipykernel)",
   "language": "python",
   "name": "python3"
  },
  "language_info": {
   "codemirror_mode": {
    "name": "ipython",
    "version": 3
   },
   "file_extension": ".py",
   "mimetype": "text/x-python",
   "name": "python",
   "nbconvert_exporter": "python",
   "pygments_lexer": "ipython3",
   "version": "3.9.7"
  },
  "toc": {
   "base_numbering": 1,
   "nav_menu": {},
   "number_sections": true,
   "sideBar": true,
   "skip_h1_title": false,
   "title_cell": "Содержание",
   "title_sidebar": "Содержание",
   "toc_cell": false,
   "toc_position": {
    "height": "calc(100% - 180px)",
    "left": "10px",
    "top": "150px",
    "width": "384px"
   },
   "toc_section_display": true,
   "toc_window_display": true
  }
 },
 "nbformat": 4,
 "nbformat_minor": 5
}
